{
 "cells": [
  {
   "cell_type": "markdown",
   "metadata": {},
   "source": [
    "#特殊方法名稱"
   ]
  },
  {
   "cell_type": "markdown",
   "metadata": {},
   "source": [
    "####Python中定義類別時，有些\\_\\_name\\_\\_的特殊函式名稱，是用定義運算子或特定操作的行為。"
   ]
  },
  {
   "cell_type": "code",
   "execution_count": 15,
   "metadata": {
    "collapsed": true
   },
   "outputs": [],
   "source": [
    "class Rational:\n",
    "    def __init__(self, n, d):  # 物件建立之後所要建立的初始化動作\n",
    "        self.numer = n\n",
    "        self.denom = d\n",
    "    \n",
    "    def __str__(self):   # 定義物件的字串描述\n",
    "        return str(self.numer) + '\\n' + str(self.denom)\n",
    "    \n",
    "    def __add__(self, that):  # 定義 + 運算\n",
    "        return Rational(self.numer * that.denom + that.numer * self.denom, \n",
    "                        self.denom * that.denom)\n",
    "    \n",
    "    def __sub__(self, that):  # 定義 - 運算\n",
    "        return Rational(self.numer * that.denom - that.numer * self.denom,\n",
    "                        self.denom * that.denom)\n",
    "                           \n",
    "    def __mul__(self, that):  # 定義 * 運算\n",
    "        return Rational(self.numer * that.numer, \n",
    "                        self.denom * that.denom)\n",
    "        \n",
    "    def __truediv__(self, that):   # 定義 / 運算\n",
    "        return Rational(self.numer * that.denom,\n",
    "                        self.denom * that.denom)\n",
    "\n",
    "    def __eq__(self, that):   # 定義 == 運算\n",
    "        return self.numer * that.denom == that.numer * self.denom"
   ]
  },
  {
   "cell_type": "code",
   "execution_count": 16,
   "metadata": {
    "collapsed": true
   },
   "outputs": [],
   "source": [
    "x = Rational(1, 2)\n",
    "y = Rational(2, 3)\n",
    "z = Rational(2, 3)"
   ]
  },
  {
   "cell_type": "code",
   "execution_count": 17,
   "metadata": {
    "collapsed": false
   },
   "outputs": [
    {
     "name": "stdout",
     "output_type": "stream",
     "text": [
      "1\n",
      "2\n"
     ]
    }
   ],
   "source": [
    "print (x)"
   ]
  },
  {
   "cell_type": "code",
   "execution_count": 18,
   "metadata": {
    "collapsed": false
   },
   "outputs": [
    {
     "name": "stdout",
     "output_type": "stream",
     "text": [
      "2\n",
      "3\n"
     ]
    }
   ],
   "source": [
    "print (y)"
   ]
  },
  {
   "cell_type": "code",
   "execution_count": 19,
   "metadata": {
    "collapsed": false
   },
   "outputs": [
    {
     "name": "stdout",
     "output_type": "stream",
     "text": [
      "2\n",
      "3\n"
     ]
    }
   ],
   "source": [
    "print (z)"
   ]
  },
  {
   "cell_type": "code",
   "execution_count": 20,
   "metadata": {
    "collapsed": false
   },
   "outputs": [
    {
     "name": "stdout",
     "output_type": "stream",
     "text": [
      "7\n",
      "6\n"
     ]
    }
   ],
   "source": [
    "print (x+y)"
   ]
  },
  {
   "cell_type": "code",
   "execution_count": 21,
   "metadata": {
    "collapsed": false
   },
   "outputs": [
    {
     "name": "stdout",
     "output_type": "stream",
     "text": [
      "-1\n",
      "6\n"
     ]
    }
   ],
   "source": [
    "print (x-y)"
   ]
  },
  {
   "cell_type": "code",
   "execution_count": 22,
   "metadata": {
    "collapsed": false
   },
   "outputs": [
    {
     "name": "stdout",
     "output_type": "stream",
     "text": [
      "2\n",
      "6\n"
     ]
    }
   ],
   "source": [
    "print (x*y)"
   ]
  },
  {
   "cell_type": "code",
   "execution_count": 14,
   "metadata": {
    "collapsed": false
   },
   "outputs": [
    {
     "ename": "TypeError",
     "evalue": "unsupported operand type(s) for /: 'instance' and 'instance'",
     "output_type": "error",
     "traceback": [
      "\u001b[1;31m---------------------------------------------------------------------------\u001b[0m",
      "\u001b[1;31mTypeError\u001b[0m                                 Traceback (most recent call last)",
      "\u001b[1;32m<ipython-input-14-589dc706404b>\u001b[0m in \u001b[0;36m<module>\u001b[1;34m()\u001b[0m\n\u001b[1;32m----> 1\u001b[1;33m \u001b[1;32mprint\u001b[0m \u001b[1;33m(\u001b[0m\u001b[0mx\u001b[0m\u001b[1;33m/\u001b[0m\u001b[0my\u001b[0m\u001b[1;33m)\u001b[0m\u001b[1;33m\u001b[0m\u001b[0m\n\u001b[0m",
      "\u001b[1;31mTypeError\u001b[0m: unsupported operand type(s) for /: 'instance' and 'instance'"
     ]
    }
   ],
   "source": [
    "print (x/y)"
   ]
  },
  {
   "cell_type": "code",
   "execution_count": 23,
   "metadata": {
    "collapsed": false
   },
   "outputs": [
    {
     "name": "stdout",
     "output_type": "stream",
     "text": [
      "False\n"
     ]
    }
   ],
   "source": [
    "print(x == y)"
   ]
  },
  {
   "cell_type": "code",
   "execution_count": 24,
   "metadata": {
    "collapsed": false
   },
   "outputs": [
    {
     "name": "stdout",
     "output_type": "stream",
     "text": [
      "True\n"
     ]
    }
   ],
   "source": [
    "print(y == z)"
   ]
  },
  {
   "cell_type": "markdown",
   "metadata": {},
   "source": [
    "####\\_\\_str\\_\\_()用來定義傳回物件描述字串，通常用來描述的字串是對使用者友善的說明文字，如果對物件使用str()，所呼叫的就是\\_\\_str\\_\\_()。"
   ]
  },
  {
   "cell_type": "code",
   "execution_count": 27,
   "metadata": {
    "collapsed": false
   },
   "outputs": [
    {
     "data": {
      "text/plain": [
       "'<__main__.Rational instance at 0x01864710>'"
      ]
     },
     "execution_count": 27,
     "metadata": {},
     "output_type": "execute_result"
    }
   ],
   "source": [
    "repr(x)"
   ]
  },
  {
   "cell_type": "markdown",
   "metadata": {},
   "source": [
    "####傳回產生實例的類別名稱之類的，則可以定義\\_\\_repr\\_\\_()，如果對物件使用repr()，則所呼叫的就是\\_\\_repr\\_\\_()。"
   ]
  },
  {
   "cell_type": "markdown",
   "metadata": {},
   "source": [
    "####在設計程式的過程中，經常有的需求之一，就是希望逐一取得某物件內部的所有資料（或物件）。"
   ]
  },
  {
   "cell_type": "markdown",
   "metadata": {},
   "source": [
    "####串列(List)是有序結構並有索引特性，而集合(Set)則為無序不重複的特性"
   ]
  },
  {
   "cell_type": "markdown",
   "metadata": {},
   "source": [
    "####在Python中，你可以讓物件實作\\_\\_iter\\_\\_()方法，這個方法可以傳回一個迭代器（Iterator），一個具有\\_\\_next\\_\\_()方法的物件。"
   ]
  },
  {
   "cell_type": "markdown",
   "metadata": {},
   "source": [
    "####迭代器走訪物件內容收集物件後傳回，每次呼叫迭代器物件的\\_\\_next\\_\\_()方法，必須傳回群集的下一個元素，如果沒有下一個元素了，則丟出StopIteration物件。"
   ]
  },
  {
   "cell_type": "code",
   "execution_count": 1,
   "metadata": {
    "collapsed": true
   },
   "outputs": [],
   "source": [
    "class Some:\n",
    "    \n",
    "    class Iterator:\n",
    "        \n",
    "        def __init__(self, length):\n",
    "            self.length = length\n",
    "            self.number = -1\n",
    "            \n",
    "        def __next__(self):\n",
    "            self.number = self.number + 1\n",
    "            if self.number == self.length:\n",
    "                raise StopIteration\n",
    "            return self.number\n",
    "    \n",
    "    def __init__(self, length):\n",
    "        self.length = length\n",
    "\n",
    "    def __iter__(self):\n",
    "        return Some.Iterator(self.length)\n",
    "    "
   ]
  },
  {
   "cell_type": "code",
   "execution_count": 2,
   "metadata": {
    "collapsed": false
   },
   "outputs": [
    {
     "name": "stdout",
     "output_type": "stream",
     "text": [
      "3\n"
     ]
    }
   ],
   "source": [
    "s = Some(3)\n",
    "it = iter(s)\n",
    "print it.length"
   ]
  },
  {
   "cell_type": "code",
   "execution_count": 3,
   "metadata": {
    "collapsed": false
   },
   "outputs": [
    {
     "data": {
      "text/plain": [
       "['__doc__', '__init__', '__module__', '__next__', 'length', 'number']"
      ]
     },
     "execution_count": 3,
     "metadata": {},
     "output_type": "execute_result"
    }
   ],
   "source": [
    "dir(it)"
   ]
  },
  {
   "cell_type": "code",
   "execution_count": 43,
   "metadata": {
    "collapsed": false
   },
   "outputs": [
    {
     "data": {
      "text/plain": [
       "['Iterator', '__doc__', '__init__', '__iter__', '__module__', 'length']"
      ]
     },
     "execution_count": 43,
     "metadata": {},
     "output_type": "execute_result"
    }
   ],
   "source": [
    "dir(s)"
   ]
  },
  {
   "cell_type": "markdown",
   "metadata": {},
   "source": [
    "#建構、初始與消滅"
   ]
  },
  {
   "cell_type": "markdown",
   "metadata": {},
   "source": [
    "####要決定如何建構物件，必須定義\\_\\_new\\_\\_()方法，這個方法的第一個參數總是傳入類別本身，之後可接任意參數作為建構物件之用。"
   ]
  },
  {
   "cell_type": "markdown",
   "metadata": {},
   "source": [
    "####\\_\\_new\\_\\_() 方法可以傳回物件，如果傳回的物件是第一個參數的類別實例，則會執行\\_\\_init\\_\\_()方法，而\\_\\_init\\_\\_()方法的第一個參 數綁定所傳回的物件。如果沒有傳回第一個參數的類別實例（傳回別的實例或None），則不會執行\\_\\_init\\_\\_()方法"
   ]
  },
  {
   "cell_type": "markdown",
   "metadata": {},
   "source": [
    "####\\_\\_init\\_\\_()方法是定義物件建立後初始化的流程，也就是執行到\\_\\_init\\_\\_()方法時，物件實際上已建構完成，傳入\\_\\_init\\_\\_()的引數，並不是作為建構物件之用，而是作為初始物件之用。"
   ]
  },
  {
   "cell_type": "code",
   "execution_count": 8,
   "metadata": {
    "collapsed": false
   },
   "outputs": [],
   "source": [
    "class Some:\n",
    "...     def __new__(clz, isClzInstance):\n",
    "...         print('__new__')\n",
    "...         if isClzInstance:\n",
    "...             return object.__new__(clz)\n",
    "...         else:\n",
    "...             return None\n",
    "...     def __init__(self, isClzInstance):\n",
    "...         print('__init__')\n",
    "...         print(isClzInstance)"
   ]
  },
  {
   "cell_type": "code",
   "execution_count": 9,
   "metadata": {
    "collapsed": false
   },
   "outputs": [
    {
     "name": "stdout",
     "output_type": "stream",
     "text": [
      "__init__\n",
      "True\n"
     ]
    },
    {
     "data": {
      "text/plain": [
       "<__main__.Some instance at 0x0186CA80>"
      ]
     },
     "execution_count": 9,
     "metadata": {},
     "output_type": "execute_result"
    }
   ],
   "source": [
    "Some(True)"
   ]
  },
  {
   "cell_type": "code",
   "execution_count": 10,
   "metadata": {
    "collapsed": false
   },
   "outputs": [
    {
     "name": "stdout",
     "output_type": "stream",
     "text": [
      "__init__\n",
      "False\n"
     ]
    },
    {
     "data": {
      "text/plain": [
       "<__main__.Some instance at 0x0187E210>"
      ]
     },
     "execution_count": 10,
     "metadata": {},
     "output_type": "execute_result"
    }
   ],
   "source": [
    "Some(False)"
   ]
  },
  {
   "cell_type": "markdown",
   "metadata": {},
   "source": [
    "####\\_\\_new\\_\\_()與\\_\\_init\\_\\_()通常會具有相同個數的參數。"
   ]
  },
  {
   "cell_type": "code",
   "execution_count": 11,
   "metadata": {
    "collapsed": true
   },
   "outputs": [],
   "source": [
    "class Singleton:\n",
    "    __single = None\n",
    "    \n",
    "    def __new__(clz):\n",
    "        if not Singleton.__single:\n",
    "            Singleton.__single = object.__new__(clz)\n",
    "        return Singleton.__single\n",
    "        \n",
    "    def doSomething(self):\n",
    "        print(\"do something...XD\")\n",
    "        "
   ]
  },
  {
   "cell_type": "code",
   "execution_count": 12,
   "metadata": {
    "collapsed": false
   },
   "outputs": [
    {
     "name": "stdout",
     "output_type": "stream",
     "text": [
      "do something...XD\n"
     ]
    }
   ],
   "source": [
    "singleton1 = Singleton()\n",
    "singleton1.doSomething()"
   ]
  },
  {
   "cell_type": "code",
   "execution_count": 13,
   "metadata": {
    "collapsed": false
   },
   "outputs": [
    {
     "name": "stdout",
     "output_type": "stream",
     "text": [
      "do something...XD\n"
     ]
    }
   ],
   "source": [
    "singleton2 = Singleton()\n",
    "singleton2.doSomething()"
   ]
  },
  {
   "cell_type": "code",
   "execution_count": 14,
   "metadata": {
    "collapsed": false
   },
   "outputs": [
    {
     "name": "stdout",
     "output_type": "stream",
     "text": [
      "False\n"
     ]
    }
   ],
   "source": [
    "print(singleton1 is singleton2)"
   ]
  },
  {
   "cell_type": "markdown",
   "metadata": {},
   "source": [
    "#繼承"
   ]
  },
  {
   "cell_type": "markdown",
   "metadata": {
    "collapsed": true
   },
   "source": [
    "####在Python中，所有類別都繼承自object類別。"
   ]
  },
  {
   "cell_type": "markdown",
   "metadata": {},
   "source": [
    "class Account(object):"
   ]
  },
  {
   "cell_type": "code",
   "execution_count": 5,
   "metadata": {
    "collapsed": true
   },
   "outputs": [],
   "source": [
    "class Account:\n",
    "    def __init__(self, id, name):\n",
    "        self.id = id\n",
    "        self.name = name\n",
    "        self.balance = 0\n",
    "        \n",
    "    def deposit(self, amount):\n",
    "        self.balance += amount\n",
    "    \n",
    "    def withdraw(self, amount):\n",
    "        if amount >= self.balance:\n",
    "            self.balance -= amount\n",
    "        else:\n",
    "            raise ValueError('餘額不足')\n",
    "\n",
    "    def __str__(self):\n",
    "        return ('Id:\\t\\t' + self.id +\n",
    "               '\\nName:\\t\\t' + self.name +\n",
    "               '\\nBalance:\\t' + str(self.balance))"
   ]
  },
  {
   "cell_type": "code",
   "execution_count": 5,
   "metadata": {
    "collapsed": true
   },
   "outputs": [],
   "source": [
    "acct = Account('shifunhuang', 10000)"
   ]
  },
  {
   "cell_type": "code",
   "execution_count": 7,
   "metadata": {
    "collapsed": false
   },
   "outputs": [
    {
     "name": "stdout",
     "output_type": "stream",
     "text": [
      "None\n"
     ]
    }
   ],
   "source": [
    "print acct.deposit(1000)"
   ]
  },
  {
   "cell_type": "markdown",
   "metadata": {},
   "source": [
    "####Python中繼承的語法，是在類別名稱旁使用括號表明要繼承的父類別。"
   ]
  },
  {
   "cell_type": "code",
   "execution_count": 6,
   "metadata": {
    "collapsed": true
   },
   "outputs": [],
   "source": [
    "class CheckingAccount(Account): #父類別Account\n",
    "    \n",
    "    def __init__(self, id, name):\n",
    "        super(CheckingAccount, self).__init__(id, name) # 呼叫父類別__init__()\n",
    "        self.overdraftlimit = 30000\n",
    "\n",
    "    def withdraw(self, amount):\n",
    "        if amount <= self.balance + self.overdraftlimit:\n",
    "            self.balance -= amount\n",
    "        else:\n",
    "            raise ValueError('超出信用')\n",
    "\n",
    "    def __str__(self):\n",
    "        return (super(CheckingAccount, self).__str__() + \n",
    "                '\\nOverdraft limit\\t' + str(self.overdraftlimit));\n",
    "    "
   ]
  },
  {
   "cell_type": "code",
   "execution_count": null,
   "metadata": {
    "collapsed": true
   },
   "outputs": [],
   "source": [
    "acct = CheckingAccount('E1234', 'Justin Lin')"
   ]
  },
  {
   "cell_type": "code",
   "execution_count": 114,
   "metadata": {
    "collapsed": false
   },
   "outputs": [
    {
     "data": {
      "text/plain": [
       "['__doc__',\n",
       " '__init__',\n",
       " '__module__',\n",
       " '__str__',\n",
       " 'balance',\n",
       " 'id',\n",
       " 'name',\n",
       " 'overdraftlimit',\n",
       " 'withdraw']"
      ]
     },
     "execution_count": 114,
     "metadata": {},
     "output_type": "execute_result"
    }
   ],
   "source": [
    "dir(acct)"
   ]
  },
  {
   "cell_type": "markdown",
   "metadata": {},
   "source": [
    "####在子類別中，需要呼叫父類別的某個方法，則可以使用super()指定類別名稱與物件，這會將目前實例綁定至所指定父類別方法的第一個引數。"
   ]
  },
  {
   "cell_type": "markdown",
   "metadata": {},
   "source": [
    "####上例中，你重新定義了withdraw()與__str__()方法，在操作實例方法時，是從子類別開始尋找是否有定義，否則就搜尋父類別中是否有定義方法。"
   ]
  },
  {
   "cell_type": "markdown",
   "metadata": {},
   "source": [
    "#多重繼承"
   ]
  },
  {
   "cell_type": "markdown",
   "metadata": {},
   "source": [
    "####要注意搜尋的順序，是從子類別開始，接著是同一階層父類別由左至右搜尋，再至更上層同一階層父類別由左至右搜尋，直到達到頂層為止。"
   ]
  },
  {
   "cell_type": "code",
   "execution_count": 20,
   "metadata": {
    "collapsed": true
   },
   "outputs": [],
   "source": [
    "class A(object):\n",
    "    def method1(self):\n",
    "        print('A.method1')\n",
    "        \n",
    "    def method2(self):\n",
    "        print('A.method2')\n",
    "        \n",
    "class B(A):\n",
    "    def method3(self):\n",
    "        print('B.method3')\n",
    "        \n",
    "class C(A):\n",
    "    def method2(self):\n",
    "        print('C.method2')\n",
    "        \n",
    "    def method3(self):\n",
    "        print('C.method3')\n",
    "        \n",
    "class D(B, C):\n",
    "    def method4(self):\n",
    "        print('C.method4')"
   ]
  },
  {
   "cell_type": "code",
   "execution_count": 14,
   "metadata": {
    "collapsed": true
   },
   "outputs": [],
   "source": [
    "d = D()"
   ]
  },
  {
   "cell_type": "code",
   "execution_count": 15,
   "metadata": {
    "collapsed": false
   },
   "outputs": [
    {
     "name": "stdout",
     "output_type": "stream",
     "text": [
      "A.method1\n"
     ]
    }
   ],
   "source": [
    "d.method1() # 以 D->B->C->A 順序找到，A.method1"
   ]
  },
  {
   "cell_type": "code",
   "execution_count": 16,
   "metadata": {
    "collapsed": false
   },
   "outputs": [
    {
     "name": "stdout",
     "output_type": "stream",
     "text": [
      "C.method2\n"
     ]
    }
   ],
   "source": [
    "d.method2() # 以 D->B->C 順序找到，C.method2"
   ]
  },
  {
   "cell_type": "code",
   "execution_count": 17,
   "metadata": {
    "collapsed": false
   },
   "outputs": [
    {
     "name": "stdout",
     "output_type": "stream",
     "text": [
      "B.method3\n"
     ]
    }
   ],
   "source": [
    "d.method3() # 以 D->B 順序找到，B.method3"
   ]
  },
  {
   "cell_type": "code",
   "execution_count": 18,
   "metadata": {
    "collapsed": false
   },
   "outputs": [
    {
     "name": "stdout",
     "output_type": "stream",
     "text": [
      "C.method4\n"
     ]
    }
   ],
   "source": [
    "d.method4() # 在 D 找到，C.method4"
   ]
  },
  {
   "cell_type": "code",
   "execution_count": 19,
   "metadata": {
    "collapsed": false
   },
   "outputs": [
    {
     "data": {
      "text/plain": [
       "['__class__',\n",
       " '__delattr__',\n",
       " '__dict__',\n",
       " '__doc__',\n",
       " '__format__',\n",
       " '__getattribute__',\n",
       " '__hash__',\n",
       " '__init__',\n",
       " '__module__',\n",
       " '__new__',\n",
       " '__reduce__',\n",
       " '__reduce_ex__',\n",
       " '__repr__',\n",
       " '__setattr__',\n",
       " '__sizeof__',\n",
       " '__str__',\n",
       " '__subclasshook__',\n",
       " '__weakref__',\n",
       " 'method1',\n",
       " 'method2',\n",
       " 'method3',\n",
       " 'method4']"
      ]
     },
     "execution_count": 19,
     "metadata": {},
     "output_type": "execute_result"
    }
   ],
   "source": [
    "dir(d)"
   ]
  },
  {
   "cell_type": "markdown",
   "metadata": {},
   "source": [
    "####Python中，類別有個__bases__特性，記錄著所繼承的父類別"
   ]
  },
  {
   "cell_type": "code",
   "execution_count": 30,
   "metadata": {
    "collapsed": false
   },
   "outputs": [
    {
     "data": {
      "text/plain": [
       "__main__.B"
      ]
     },
     "execution_count": 30,
     "metadata": {},
     "output_type": "execute_result"
    }
   ],
   "source": [
    "D.__base__"
   ]
  },
  {
   "cell_type": "code",
   "execution_count": 31,
   "metadata": {
    "collapsed": false
   },
   "outputs": [
    {
     "data": {
      "text/plain": [
       "__main__.A"
      ]
     },
     "execution_count": 31,
     "metadata": {},
     "output_type": "execute_result"
    }
   ],
   "source": [
    "C.__base__"
   ]
  },
  {
   "cell_type": "code",
   "execution_count": 33,
   "metadata": {
    "collapsed": false
   },
   "outputs": [
    {
     "data": {
      "text/plain": [
       "__main__.A"
      ]
     },
     "execution_count": 33,
     "metadata": {},
     "output_type": "execute_result"
    }
   ],
   "source": [
    "B.__base__"
   ]
  },
  {
   "cell_type": "code",
   "execution_count": 34,
   "metadata": {
    "collapsed": false
   },
   "outputs": [
    {
     "data": {
      "text/plain": [
       "object"
      ]
     },
     "execution_count": 34,
     "metadata": {},
     "output_type": "execute_result"
    }
   ],
   "source": [
    "A.__base__"
   ]
  },
  {
   "cell_type": "markdown",
   "metadata": {},
   "source": [
    "#抽象類別"
   ]
  },
  {
   "cell_type": "markdown",
   "metadata": {},
   "source": [
    "####如果一個類別定義時不完整，有些狀態或行為必須留待子類別來具體實現，則它是個抽象類別（Abstract Class）。"
   ]
  },
  {
   "cell_type": "code",
   "execution_count": 22,
   "metadata": {
    "collapsed": true
   },
   "outputs": [],
   "source": [
    "class Account:\n",
    "    \n",
    "    def withdraw(self, amount):\n",
    "        if amount >= self.balance:\n",
    "            self.balance -= amount\n",
    "        else:\n",
    "            raise ValueError('餘額不足')\n",
    "\n",
    "    def __str__(self):\n",
    "        return ('Id:\\t\\t' + self.id +\n",
    "               '\\nName:\\t\\t' + self.name +\n",
    "               '\\nBalance:\\t' + str(self.balance))\n",
    "    "
   ]
  },
  {
   "cell_type": "markdown",
   "metadata": {},
   "source": [
    "####self.id、self.name、self.balance 沒有定義"
   ]
  },
  {
   "cell_type": "code",
   "execution_count": 23,
   "metadata": {
    "collapsed": false
   },
   "outputs": [
    {
     "ename": "AttributeError",
     "evalue": "Account instance has no attribute 'id'",
     "output_type": "error",
     "traceback": [
      "\u001b[1;31m---------------------------------------------------------------------------\u001b[0m",
      "\u001b[1;31mAttributeError\u001b[0m                            Traceback (most recent call last)",
      "\u001b[1;32m<ipython-input-23-def4e47059bd>\u001b[0m in \u001b[0;36m<module>\u001b[1;34m()\u001b[0m\n\u001b[0;32m      1\u001b[0m \u001b[0macct\u001b[0m \u001b[1;33m=\u001b[0m \u001b[0mAccount\u001b[0m\u001b[1;33m(\u001b[0m\u001b[1;33m)\u001b[0m\u001b[1;33m\u001b[0m\u001b[0m\n\u001b[1;32m----> 2\u001b[1;33m \u001b[1;32mprint\u001b[0m \u001b[0macct\u001b[0m\u001b[1;33m\u001b[0m\u001b[0m\n\u001b[0m",
      "\u001b[1;32m<ipython-input-22-5fc1403fdf7a>\u001b[0m in \u001b[0;36m__str__\u001b[1;34m(self)\u001b[0m\n\u001b[0;32m     10\u001b[0m         return ('Id:\\t\\t' + self.id +\n\u001b[0;32m     11\u001b[0m                \u001b[1;34m'\\nName:\\t\\t'\u001b[0m \u001b[1;33m+\u001b[0m \u001b[0mself\u001b[0m\u001b[1;33m.\u001b[0m\u001b[0mname\u001b[0m \u001b[1;33m+\u001b[0m\u001b[1;33m\u001b[0m\u001b[0m\n\u001b[1;32m---> 12\u001b[1;33m                '\\nBalance:\\t' + str(self.balance))\n\u001b[0m\u001b[0;32m     13\u001b[0m \u001b[1;33m\u001b[0m\u001b[0m\n",
      "\u001b[1;31mAttributeError\u001b[0m: Account instance has no attribute 'id'"
     ]
    }
   ],
   "source": [
    "acct = Account()\n",
    "print acct"
   ]
  },
  {
   "cell_type": "markdown",
   "metadata": {},
   "source": [
    "####繼承這個類別來實作未完成的定義"
   ]
  },
  {
   "cell_type": "code",
   "execution_count": 28,
   "metadata": {
    "collapsed": true
   },
   "outputs": [],
   "source": [
    "class CheckingAccount(Account):\n",
    "    def __init__(self, id, name):\n",
    "        #super(CheckingAccount, self).__init__(id, name) # 呼叫父類別__init__()\n",
    "        self.id = id\n",
    "        self.name = name\n",
    "        self.balance = 10000\n",
    "        self.overdraftlimit = 30000\n",
    "\n",
    "    def withdraw(self, amount):\n",
    "        if amount <= self.balance + self.overdraftlimit:\n",
    "            self.balance -= amount\n",
    "        else:\n",
    "            raise ValueError('超出信用')\n",
    "\n",
    "    def __str__(self):\n",
    "        return (super(CheckingAccount, self).__str__() + \n",
    "                '\\nOverdraft limit\\t' + str(self.overdraftlimit));"
   ]
  },
  {
   "cell_type": "code",
   "execution_count": 29,
   "metadata": {
    "collapsed": false
   },
   "outputs": [
    {
     "name": "stdout",
     "output_type": "stream",
     "text": [
      "E1223\n",
      "Justin Lin\n",
      "30000\n",
      "None\n"
     ]
    }
   ],
   "source": [
    "acct = CheckingAccount('E1223', 'Justin Lin')\n",
    "print acct.id\n",
    "print acct.name\n",
    "print acct.overdraftlimit\n",
    "print acct.withdraw(1000)"
   ]
  },
  {
   "cell_type": "code",
   "execution_count": 30,
   "metadata": {
    "collapsed": false
   },
   "outputs": [
    {
     "data": {
      "text/plain": [
       "['__doc__',\n",
       " '__init__',\n",
       " '__module__',\n",
       " '__str__',\n",
       " 'balance',\n",
       " 'id',\n",
       " 'name',\n",
       " 'overdraftlimit',\n",
       " 'withdraw']"
      ]
     },
     "execution_count": 30,
     "metadata": {},
     "output_type": "execute_result"
    }
   ],
   "source": [
    "dir(acct)"
   ]
  },
  {
   "cell_type": "markdown",
   "metadata": {},
   "source": [
    "#物件相等性"
   ]
  },
  {
   "cell_type": "markdown",
   "metadata": {},
   "source": [
    "####如果定義類別時沒有定義\\_\\_eq\\_\\_()方法，則預設使用==比較兩個實例時，會得到與使用is比較相同的結果。"
   ]
  },
  {
   "cell_type": "code",
   "execution_count": 31,
   "metadata": {
    "collapsed": true
   },
   "outputs": [],
   "source": [
    "class Some:\n",
    "    pass"
   ]
  },
  {
   "cell_type": "code",
   "execution_count": 32,
   "metadata": {
    "collapsed": false
   },
   "outputs": [
    {
     "data": {
      "text/plain": [
       "False"
      ]
     },
     "execution_count": 32,
     "metadata": {},
     "output_type": "execute_result"
    }
   ],
   "source": [
    "s1 = Some()\n",
    "s2 = Some()\n",
    "s1 == s2"
   ]
  },
  {
   "cell_type": "code",
   "execution_count": 33,
   "metadata": {
    "collapsed": false
   },
   "outputs": [
    {
     "data": {
      "text/plain": [
       "True"
      ]
     },
     "execution_count": 33,
     "metadata": {},
     "output_type": "execute_result"
    }
   ],
   "source": [
    "s3 = s1\n",
    "s1 == s3"
   ]
  },
  {
   "cell_type": "markdown",
   "metadata": {},
   "source": [
    "####定義\\_\\_eq\\_\\_()方法，來定義使用==運算時的實質比較結果。"
   ]
  },
  {
   "cell_type": "code",
   "execution_count": 34,
   "metadata": {
    "collapsed": true
   },
   "outputs": [],
   "source": [
    "class Point:\n",
    "    \n",
    "    def __init__(self, x, y):\n",
    "        self.x = x\n",
    "        self.y = y\n",
    "        \n",
    "    def __eq__(self, that):\n",
    "        if not isinstance(that, Point):\n",
    "            return False\n",
    "        return self.x == that.x and self.y == that.y\n",
    "    "
   ]
  },
  {
   "cell_type": "code",
   "execution_count": 35,
   "metadata": {
    "collapsed": true
   },
   "outputs": [],
   "source": [
    "p1 = Point(1, 1)\n",
    "p2 = Point(1, 1)"
   ]
  },
  {
   "cell_type": "code",
   "execution_count": 36,
   "metadata": {
    "collapsed": false
   },
   "outputs": [
    {
     "data": {
      "text/plain": [
       "True"
      ]
     },
     "execution_count": 36,
     "metadata": {},
     "output_type": "execute_result"
    }
   ],
   "source": [
    "p1 == p2"
   ]
  },
  {
   "cell_type": "code",
   "execution_count": 37,
   "metadata": {
    "collapsed": false
   },
   "outputs": [
    {
     "data": {
      "text/plain": [
       "False"
      ]
     },
     "execution_count": 37,
     "metadata": {},
     "output_type": "execute_result"
    }
   ],
   "source": [
    "p1 is p2 #default method"
   ]
  },
  {
   "cell_type": "markdown",
   "metadata": {},
   "source": [
    "####實作\\_\\_eq\\_\\_()時要遵守的約定（取自java.lang.Object的 equals() 說明）："
   ]
  },
  {
   "cell_type": "markdown",
   "metadata": {},
   "source": [
    "####反身性 （Reflexive）：x == x的結果要是True。"
   ]
  },
  {
   "cell_type": "markdown",
   "metadata": {},
   "source": [
    "####對稱性 （Symmetric）：x == y與y == x的結果必須相同。"
   ]
  },
  {
   "cell_type": "markdown",
   "metadata": {},
   "source": [
    "####傳遞性 （Transitive）：x == y、y == z的結果都是True，則x == z的結果也必須是True。"
   ]
  },
  {
   "cell_type": "markdown",
   "metadata": {},
   "source": [
    "####一致性（Consistent）：同一個執行期間，對x == y的多次呼叫，結果必須相同。"
   ]
  },
  {
   "cell_type": "markdown",
   "metadata": {},
   "source": [
    "####對任何非None的x，x == None必須傳回False。"
   ]
  },
  {
   "cell_type": "code",
   "execution_count": 38,
   "metadata": {
    "collapsed": true
   },
   "outputs": [],
   "source": [
    "### 定義3D的點\n",
    "class Point(object):\n",
    "    \n",
    "    def __init__(self, px, py):\n",
    "        self.x = px \n",
    "        self.y = py\n",
    "        \n",
    "    def __eq__(self, that):\n",
    "        if not isinstance(that, Point):\n",
    "            return False\n",
    "        return self.x == that.x and self.y == that.y\n",
    "\n",
    "class Point3D(Point):\n",
    "    def __init__(self, dx, dy, dz): \n",
    "        super(Point3D, self).__init__(dx, dy)\n",
    "        #self.x = dx\n",
    "        #self.y = dy\n",
    "        self.z = dz \n",
    "        \n",
    "    def __eq__(self, that):        \n",
    "        \n",
    "        if not isinstance(that, Point3D):\n",
    "            return False\n",
    "        return super(Point3D, self).__eq__(that) and self.z == that.z"
   ]
  },
  {
   "cell_type": "code",
   "execution_count": 39,
   "metadata": {
    "collapsed": false
   },
   "outputs": [
    {
     "name": "stdout",
     "output_type": "stream",
     "text": [
      "False\n"
     ]
    }
   ],
   "source": [
    "p1 = Point(1,1)\n",
    "p2 = Point3D(1,1,1)\n",
    "print p1 == p2"
   ]
  },
  {
   "cell_type": "code",
   "execution_count": 40,
   "metadata": {
    "collapsed": true
   },
   "outputs": [],
   "source": [
    "class Foo(object):\n",
    "    \n",
    "    def __init__(self, frob, frotz): \n",
    "        self.frobnicate = frob \n",
    "        self.frotz = frotz \n",
    "\n",
    "class Bar(Foo): \n",
    "    \n",
    "    def __init__(self, frob, frizzle): \n",
    "        super(Bar,self).__init__(frob,2015)\n",
    "        self.frazzle = frizzle \n",
    "        "
   ]
  },
  {
   "cell_type": "code",
   "execution_count": 41,
   "metadata": {
    "collapsed": false
   },
   "outputs": [],
   "source": [
    "new = Bar(\"hello\",\"world\") "
   ]
  },
  {
   "cell_type": "code",
   "execution_count": 42,
   "metadata": {
    "collapsed": false
   },
   "outputs": [
    {
     "name": "stdout",
     "output_type": "stream",
     "text": [
      "hello\n",
      "world\n",
      "2015\n"
     ]
    }
   ],
   "source": [
    "print new.frobnicate \n",
    "print new.frazzle \n",
    "print new.frotz "
   ]
  },
  {
   "cell_type": "markdown",
   "metadata": {
    "collapsed": true
   },
   "source": [
    "#匯入模組"
   ]
  },
  {
   "cell_type": "markdown",
   "metadata": {},
   "source": [
    "####sys.path陣列中的字串元素由幾個來源所組成："
   ]
  },
  {
   "cell_type": "markdown",
   "metadata": {},
   "source": [
    "####1.執行檔案（模組）的所在目錄、2.PYTHONPATH環境變數的內容、3.標準程式庫搜尋目錄、4..pth檔案中所列出的目錄。"
   ]
  },
  {
   "cell_type": "code",
   "execution_count": 43,
   "metadata": {
    "collapsed": false
   },
   "outputs": [
    {
     "name": "stdout",
     "output_type": "stream",
     "text": [
      "<module 'sys' (built-in)>\n"
     ]
    }
   ],
   "source": [
    "import sys\n",
    "print sys"
   ]
  },
  {
   "cell_type": "code",
   "execution_count": 44,
   "metadata": {
    "collapsed": false,
    "scrolled": true
   },
   "outputs": [
    {
     "name": "stdout",
     "output_type": "stream",
     "text": [
      "\n",
      "D:\\Anaconda\\python27.zip\n",
      "D:\\Anaconda\\DLLs\n",
      "D:\\Anaconda\\lib\n",
      "D:\\Anaconda\\lib\\plat-win\n",
      "D:\\Anaconda\\lib\\lib-tk\n",
      "D:\\Anaconda\n",
      "D:\\Anaconda\\lib\\site-packages\n",
      "D:\\Anaconda\\lib\\site-packages\\Sphinx-1.3.1-py2.7.egg\n",
      "D:\\Anaconda\\lib\\site-packages\\cryptography-0.9.1-py2.7-win32.egg\n",
      "D:\\Anaconda\\lib\\site-packages\\win32\n",
      "D:\\Anaconda\\lib\\site-packages\\win32\\lib\n",
      "D:\\Anaconda\\lib\\site-packages\\Pythonwin\n",
      "D:\\Anaconda\\lib\\site-packages\\setuptools-18.4-py2.7.egg\n",
      "D:\\Anaconda\\lib\\site-packages\\IPython\\extensions\n"
     ]
    }
   ],
   "source": [
    "for sp in sys.path:\n",
    "    print sp"
   ]
  },
  {
   "cell_type": "code",
   "execution_count": 45,
   "metadata": {
    "collapsed": false,
    "scrolled": true
   },
   "outputs": [
    {
     "data": {
      "text/plain": [
       "['__add__',\n",
       " '__class__',\n",
       " '__contains__',\n",
       " '__delattr__',\n",
       " '__delitem__',\n",
       " '__delslice__',\n",
       " '__doc__',\n",
       " '__eq__',\n",
       " '__format__',\n",
       " '__ge__',\n",
       " '__getattribute__',\n",
       " '__getitem__',\n",
       " '__getslice__',\n",
       " '__gt__',\n",
       " '__hash__',\n",
       " '__iadd__',\n",
       " '__imul__',\n",
       " '__init__',\n",
       " '__iter__',\n",
       " '__le__',\n",
       " '__len__',\n",
       " '__lt__',\n",
       " '__mul__',\n",
       " '__ne__',\n",
       " '__new__',\n",
       " '__reduce__',\n",
       " '__reduce_ex__',\n",
       " '__repr__',\n",
       " '__reversed__',\n",
       " '__rmul__',\n",
       " '__setattr__',\n",
       " '__setitem__',\n",
       " '__setslice__',\n",
       " '__sizeof__',\n",
       " '__str__',\n",
       " '__subclasshook__',\n",
       " 'append',\n",
       " 'count',\n",
       " 'extend',\n",
       " 'index',\n",
       " 'insert',\n",
       " 'pop',\n",
       " 'remove',\n",
       " 'reverse',\n",
       " 'sort']"
      ]
     },
     "execution_count": 45,
     "metadata": {},
     "output_type": "execute_result"
    }
   ],
   "source": [
    "dir(sys.path)"
   ]
  },
  {
   "cell_type": "markdown",
   "metadata": {},
   "source": [
    "####要知道現在到底匯入了多少模組，則可以使用sys.modules得知"
   ]
  },
  {
   "cell_type": "code",
   "execution_count": 46,
   "metadata": {
    "collapsed": false
   },
   "outputs": [
    {
     "name": "stdout",
     "output_type": "stream",
     "text": [
      "IPython.config.re\n",
      "IPython.core.error\n",
      "logging.atexit\n",
      "zmq.sugar.weakref\n",
      "IPython.kernel.connect\n",
      "ctypes.os\n",
      "zmq.devices.time\n",
      "runpy\n",
      "gc\n",
      "IPython.utils.pprint\n",
      "pyreadline.modes.basemode\n",
      "logging.weakref\n",
      "pprint\n",
      "IPython.kernel.inprocess.zmq\n",
      "IPython.kernel.blocking.client\n",
      "IPython.kernel.comm.uuid\n",
      "zmq\n",
      "IPython.terminal.sys\n",
      "string\n",
      "IPython.config.sys\n",
      "IPython.utils.logging\n",
      "IPython.config.json\n",
      "encodings.utf_8\n",
      "IPython.kernel.zmq.serialize\n",
      "IPython.html.IPython\n",
      "zmq.sugar.context\n",
      "IPython.terminal.embed\n",
      "subprocess\n",
      "zmq.devices.threading\n",
      "zmq.backend.cython.utils\n",
      "pyreadline.rlmain\n",
      "IPython.utils.pickleshare\n",
      "IPython.utils.errno\n",
      "IPython.core.debugger\n",
      "IPython.kernel.inprocess.manager\n",
      "IPython.core.displayhook\n",
      "pyreadline.console\n",
      "IPython.lib.IPython\n",
      "IPython.core.magics.auto\n",
      "shlex\n",
      "IPython.config\n",
      "IPython.core.ultratb\n",
      "multiprocessing\n",
      "dis\n",
      "IPython.kernel.IPython\n",
      "logging.threading\n",
      "IPython.core.splitinput\n",
      "IPython.lib.types\n",
      "IPython.terminal.ipapp\n",
      "IPython.core.excolors\n",
      "IPython.utils.tempfile\n",
      "IPython.extensions.textwrap\n",
      "IPython.core.inspect\n",
      "IPython.utils.version\n",
      "IPython.lib.getpass\n",
      "abc\n",
      "IPython.core.displaypub\n",
      "zmq.utils.sys\n",
      "bdb\n",
      "IPython.kernel.client\n",
      "IPython.core.mimetypes\n",
      "IPython.external.path.hashlib\n",
      "ntpath\n",
      "UserDict\n",
      "zmq.sugar.warnings\n",
      "zmq.devices.monitoredqueue\n",
      "_codecs_tw\n",
      "IPython.utils.jsonutil\n",
      "IPython.utils.openpy\n",
      "IPython.core.alias\n",
      "inspect\n",
      "IPython.core.datetime\n",
      "_ctypes\n",
      "IPython.kernel.zmq.cPickle\n",
      "exceptions\n",
      "json.scanner\n",
      "IPython.utils.zmq\n",
      "codecs\n",
      "IPython.core.shadowns\n",
      "importlib\n",
      "IPython.external.simplegeneric.types\n",
      "IPython.core.magics.extension\n",
      "IPython.utils.shutil\n",
      "StringIO\n",
      "weakref\n",
      "IPython.utils.datetime\n",
      "IPython.kernel.zmq\n",
      "IPython.core.display\n",
      "IPython.utils.eventful\n",
      "IPython.terminal\n",
      "base64\n",
      "_sre\n",
      "IPython.core.magics.ast\n",
      "IPython.core.json\n",
      "sqlite3.dbapi2\n",
      "IPython\n",
      "logging.re\n",
      "IPython.core.subprocess\n",
      "IPython.external.path.os\n",
      "_heapq\n",
      "IPython.core.display_trap\n",
      "zmq.sugar.constants\n",
      "zmq.backend.cython.time\n",
      "binascii\n",
      "IPython.kernel.subprocess\n",
      "zmq.backend.cython._poll\n",
      "IPython.core.logger\n",
      "IPython.config.collections\n",
      "tokenize\n",
      "IPython.kernel.kernelspec\n",
      "cPickle\n",
      "IPython.external.path.win32security\n",
      "IPython.utils.encoding\n",
      "IPython.core.ast\n",
      "IPython.core.keyword\n",
      "IPython.lib.os\n",
      "IPython.core.magics.itertools\n",
      "zmq.backend.cython.cPickle\n",
      "IPython.core.getipython\n",
      "IPython.core.magics.cProfile\n",
      "IPython.core.magics.display\n",
      "IPython.core.page\n",
      "_ast\n",
      "IPython.utils.process\n",
      "IPython.utils.ctypes\n",
      "zmq.sugar.tracker\n",
      "zmq.backend.cython.codecs\n",
      "encodings.aliases\n",
      "IPython.external.path.functools\n",
      "fnmatch\n",
      "sre_parse\n",
      "tornado.concurrent\n",
      "logging.cStringIO\n",
      "numbers\n",
      "IPython.utils.shlex\n",
      "IPython.core.magics.signal\n",
      "IPython.kernel.zmq.heartbeat\n",
      "IPython.html.nbextensions\n",
      "IPython.utils.platform\n",
      "strop\n",
      "IPython.kernel.manager\n",
      "IPython.core.history\n",
      "IPython.external.decorator\n",
      "IPython.utils.ipstruct\n",
      "IPython.kernel.channelsabc\n",
      "zmq.utils.sixcerpt\n",
      "pyreadline.console.event\n",
      "IPython.extensions.__future__\n",
      "IPython.config.application\n",
      "zipfile\n",
      "htmlentitydefs\n",
      "zmq.backend.cython.threading\n",
      "IPython.external.path.fnmatch\n",
      "codeop\n",
      "tornado.platform.interface\n",
      "IPython.core.magics.osm\n",
      "os.path\n",
      "IPython.core.magics.time\n",
      "IPython.utils.socket\n",
      "argparse\n",
      "IPython.kernel.io\n",
      "IPython.utils.distutils\n",
      "_weakrefset\n",
      "zmq.backend.select\n",
      "IPython.kernel.zmq.ipkernel\n",
      "IPython.kernel.channels\n",
      "functools\n",
      "sysconfig\n",
      "json.encoder\n",
      "IPython.kernel.inprocess.client\n",
      "pyreadline.lineeditor.wordmatcher\n",
      "zmq.devices\n",
      "sqlite3.collections\n",
      "IPython.external.path.__future__\n",
      "uuid\n",
      "tempfile\n",
      "IPython.kernel.zmq.thread\n",
      "IPython.config.configurable\n",
      "imp\n",
      "multiprocessing.os\n",
      "IPython.utils.tempdir\n",
      "IPython.core.magics.pstats\n",
      "multiprocessing.itertools\n",
      "IPython.kernel.zmq.IPython\n",
      "IPython.core.magics.logging\n",
      "zmq.zmq\n",
      "IPython.utils.pickleutil\n",
      "IPython.lib.deepreload\n",
      "IPython.core.traceback\n",
      "IPython.html.sys\n",
      "IPython.core.__main__\n",
      "IPython.extensions\n",
      "IPython.config.IPython\n",
      "zmq.eventloop.__future__\n",
      "zmq.devices.proxydevice\n",
      "decorator\n",
      "IPython.core.zipimport\n",
      "IPython.core.magics.execution\n",
      "IPython.terminal.interactiveshell\n",
      "zmq.backend.cython.context\n",
      "IPython.core.warnings\n",
      "IPython.utils.imp\n",
      "logging.handlers\n",
      "token\n",
      "IPython.kernel.json\n",
      "IPython.testing.sys\n",
      "IPython.core.pylabtools\n",
      "IPython.utils.warnings\n",
      "IPython.core.magics.gc\n",
      "pyreadline.console.console\n",
      "cStringIO\n",
      "cmd\n",
      "IPython.kernel.zmq.signal\n",
      "IPython.core.io\n",
      "IPython.core.magics.namespace\n",
      "pyreadline.logger\n",
      "IPython.kernel.inprocess.Queue\n",
      "zmq.os\n",
      "zmq.sugar.frame\n",
      "zmq.backend.zmq\n",
      "multiprocessing.process\n",
      "encodings\n",
      "IPython.kernel.zmq.kernelapp\n",
      "IPython.core.magics.history\n",
      "IPython.core.__future__\n",
      "sqlite3._sqlite3\n",
      "zmq.backend.cython.struct\n",
      "IPython.kernel.zmq.atexit\n",
      "IPython.core.interactiveshell\n",
      "IPython.utils.base64\n",
      "zmq.sugar.poll\n",
      "IPython.core.operator\n",
      "IPython.core.crashhandler\n",
      "IPython.utils\n",
      "_subprocess\n",
      "re\n",
      "IPython.kernel.zmq.sys\n",
      "IPython.core.magics.IPython\n",
      "IPython.utils.capture\n",
      "pyreadline.keysyms.winconstants\n",
      "sqlite3.time\n",
      "math\n",
      "IPython.core.IPython\n",
      "IPython.kernel.comm.sys\n",
      "IPython.core.importlib\n",
      "ast\n",
      "IPython.lib.sys\n",
      "IPython.kernel.launcher\n",
      "zmq.utils.constant_names\n",
      "IPython.external.path.codecs\n",
      "pyreadline\n",
      "ctypes.struct\n",
      "IPython.core.errno\n",
      "_locale\n",
      "IPython.core.logging\n",
      "logging\n",
      "IPython.kernel.zmq.uuid\n",
      "thread\n",
      "traceback\n",
      "IPython.utils.tokenutil\n",
      "IPython.core.builtin_trap\n",
      "zmq.backend.platform\n",
      "IPython.utils.coloransi\n",
      "multiprocessing.util\n",
      "IPython.core.completerlib\n",
      "_collections\n",
      "IPython.html.os\n",
      "zmq.sugar.sys\n",
      "multiprocessing.sys\n",
      "pyreadline.keysyms.common\n",
      "array\n",
      "IPython.kernel.blocking.channels\n",
      "IPython.utils.locale\n",
      "IPython.core.magics.pdb\n",
      "ctypes.sys\n",
      "IPython.core.magics.config\n",
      "posixpath\n",
      "ctypes.util\n",
      "IPython.external.simplegeneric\n",
      "zmq.sugar.atexit\n",
      "IPython.utils._sysinfo\n",
      "zmq.eventloop.ioloop\n",
      "IPython.lib.imp\n",
      "types\n",
      "zmq.backend.cython._device\n",
      "IPython.utils.textwrap\n",
      "IPython.core.linecache\n",
      "json._json\n",
      "_codecs\n",
      "zmq.backend.cython.zmq\n",
      "json.sys\n",
      "encodings.ascii\n",
      "IPython.utils.os\n",
      "IPython.extensions.inspect\n",
      "IPython.core.magics.code\n",
      "copy\n",
      "hashlib\n",
      "zmq.error\n",
      "keyword\n",
      "IPython.extensions.IPython\n",
      "IPython.core.hashlib\n",
      "IPython.config.logging\n",
      "IPython.utils.codeutil\n",
      "IPython.kernel.blocking.IPython\n",
      "IPython.lib.msvcrt\n",
      "IPython.utils.generics\n",
      "IPython.kernel.zmq.zmq\n",
      "sre_compile\n",
      "_hashlib\n",
      "IPython.utils.ulinecache\n",
      "IPython.external.path.errno\n",
      "IPython.core.sqlite3\n",
      "getpass\n",
      "logging.collections\n",
      "IPython.core.threading\n",
      "zmq.eventloop.zmq\n",
      "__main__\n",
      "multiprocessing.atexit\n",
      "calendar\n",
      "IPython.utils.log\n",
      "IPython.kernel.zmq.iostream\n",
      "IPython.utils.terminal\n",
      "encodings.codecs\n",
      "IPython.utils.__builtin__\n",
      "IPython.terminal.os\n",
      "zmq.utils.jsonapi\n",
      "IPython.kernel.zmq.io\n",
      "IPython.kernel.blocking.Queue\n",
      "IPython.kernel.zmq.os\n",
      "IPython.core.completer\n",
      "IPython.kernel.zmq.warnings\n",
      "_ssl\n",
      "IPython.external.path.glob\n",
      "IPython.utils.sys\n",
      "warnings\n",
      "tornado\n",
      "IPython.lib.clipboard\n",
      "glob\n",
      "IPython.utils.inspect\n",
      "zmq.backend.cython.sys\n",
      "IPython.core.socket\n",
      "encodings._codecs_tw\n",
      "IPython.external.path._path\n",
      "zmq.backend.cython.random\n",
      "IPython.kernel.zmq.getpass\n",
      "IPython.kernel.managerabc\n",
      "multiprocessing._multiprocessing\n",
      "IPython.html.zipfile\n",
      "IPython.html\n",
      "zmq.backend.cython.error\n",
      "IPython.utils.wildcard\n",
      "IPython.core.extensions\n",
      "_io\n",
      "linecache\n",
      "IPython.utils.contextlib\n",
      "IPython.kernel.inprocess.socket\n",
      "IPython.core.compilerop\n",
      "IPython.config.argparse\n",
      "pyreadline.release\n",
      "hmac\n",
      "IPython.utils.stat\n",
      "IPython.external.decorator.decorator\n",
      "_multiprocessing\n",
      "tarfile\n",
      "IPython.terminal.__future__\n",
      "random\n",
      "pyreadline.console.ansi\n",
      "win32security\n",
      "datetime\n",
      "IPython.extensions.storemagic\n",
      "logging.os\n",
      "ctypes._endian\n",
      "encodings.encodings\n",
      "IPython.kernel.zmq.hashlib\n",
      "IPython.external.path.re\n",
      "logging.stat\n",
      "distutils\n",
      "IPython.core.magic\n",
      "IPython.kernel.zmq._subprocess\n",
      "IPython.utils.dir2\n",
      "_json\n",
      "IPython.lib.contextlib\n",
      "logging.thread\n",
      "cProfile\n",
      "IPython.utils.copy_reg\n",
      "IPython.lib.re\n",
      "IPython.kernel.zmq.errno\n",
      "json.struct\n",
      "IPython.utils.copy\n",
      "IPython.kernel.zmq.datetime\n",
      "repr\n",
      "ssl\n",
      "IPython.core.payload\n",
      "distutils.re\n",
      "_lsprof\n",
      "IPython.utils._tokenize_py2\n",
      "IPython.utils.hashlib\n",
      "IPython.kernel.shutil\n",
      "zmq.sugar\n",
      "IPython.kernel.os\n",
      "IPython.html.urlparse\n",
      "IPython.kernel.inprocess.blocking\n",
      "IPython.utils.IPython\n",
      "pydoc\n",
      "threading\n",
      "zmq.ctypes\n",
      "IPython.core.prefilter\n",
      "IPython.lib.datetime\n",
      "ctypes.wintypes\n",
      "IPython.core.events\n",
      "IPython.core.textwrap\n",
      "pyreadline.unicode_helper\n",
      "locale\n",
      "atexit\n",
      "IPython.external\n",
      "IPython.utils.struct\n",
      "IPython.core.autocall\n",
      "IPython.core.sys\n",
      "zmq.backend.cython.message\n",
      "IPython.core.magics.__future__\n",
      "timeit\n",
      "zmq.devices.basedevice\n",
      "IPython.kernel.comm\n",
      "tornado.log\n",
      "urllib\n",
      "IPython.core.os\n",
      "IPython.core.atexit\n",
      "pyreadline.keysyms.keysyms\n",
      "pyreadline.lineeditor\n",
      "zmq.sys\n",
      "IPython.utils.path\n",
      "IPython.lib.io\n",
      "zmq.utils\n",
      "Queue\n",
      "ctypes\n",
      "IPython.lib.collections\n",
      "IPython.core.magics.re\n",
      "IPython.utils._process_common\n",
      "IPython.lib.distutils\n",
      "IPython.kernel.zmq.datapub\n",
      "IPython.external.path.shutil\n",
      "IPython.utils.collections\n",
      "itertools\n",
      "opcode\n",
      "pstats\n",
      "pyreadline.lineeditor.lineobj\n",
      "pdb\n",
      "IPython.core.magics.subprocess\n",
      "IPython.extensions.os\n",
      "IPython.core.magics.atexit\n",
      "IPython.kernel.comm.IPython\n",
      "zmq.errno\n",
      "IPython.kernel.zmq.logging\n",
      "IPython.testing\n",
      "sqlite3.datetime\n",
      "zmq.sugar.socket\n",
      "IPython.html.shutil\n",
      "logging.errno\n",
      "zmq.eventloop.zmqstream\n",
      "IPython.external.path\n",
      "IPython.core.hooks\n",
      "IPython.display\n",
      "pkgutil\n",
      "IPython.core.tokenize\n",
      "platform\n",
      "IPython.lib.__future__\n",
      "zmq.devices.zmq\n",
      "zmq.backend.cython\n",
      "logging.struct\n",
      "sre_constants\n",
      "zmq.backend.os\n",
      "json\n",
      "pyreadline.clipboard\n",
      "IPython.lib.backgroundjobs\n",
      "IPython.config.__future__\n",
      "IPython.kernel.zmq.time\n",
      "json.re\n",
      "zmq.utils.itertools\n",
      "zmq.eventloop\n",
      "IPython.kernel.zmq.platform\n",
      "IPython.config.ast\n",
      "pyreadline.error\n",
      "IPython.IPython\n",
      "nturl2path\n",
      "logging.cPickle\n",
      "IPython.kernel\n",
      "multiprocessing.multiprocessing\n",
      "IPython.core.bdb\n",
      "pyreadline.sys\n",
      "storemagic\n",
      "zlib\n",
      "IPython.external.path.warnings\n",
      "pyreadline.clipboard.win32_clipboard\n",
      "json.decoder\n",
      "copy_reg\n",
      "tornado.platform.auto\n",
      "IPython.utils.linecache\n",
      "site\n",
      "IPython.external.path.operator\n",
      "IPython.core.shutil\n",
      "zmq.devices.monitoredqueuedevice\n",
      "io\n",
      "shutil\n",
      "IPython.utils.random\n",
      "zmq.sugar.zmq\n",
      "zmq.backend.sys\n",
      "IPython.lib.warnings\n",
      "IPython.utils.decorators\n",
      "IPython.testing.skipdoctest\n",
      "IPython.core.magics.timeit\n",
      "IPython.core.magics.script\n",
      "sqlite3\n",
      "encodings._multibytecodec\n",
      "IPython.utils.localinterfaces\n",
      "IPython.kernel.clientabc\n",
      "IPython.core.macro\n",
      "IPython.kernel.sys\n",
      "IPython.kernel.zmq.__future__\n",
      "IPython.core.magics.pprint\n",
      "IPython.utils.data\n",
      "json.json\n",
      "IPython.core.types\n",
      "sys\n",
      "IPython.kernel.comm.comm\n",
      "IPython.terminal.IPython\n",
      "multiprocessing.subprocess\n",
      "importlib.sys\n",
      "multiprocessing.weakref\n",
      "IPython.core.magics.StringIO\n",
      "IPython.core.usage\n",
      "IPython.kernel.multikernelmanager\n",
      "IPython.kernel.adapter\n",
      "_weakref\n",
      "IPython.core.inputtransformer\n",
      "urlparse\n",
      "encodings.cp950\n",
      "IPython.lib.threading\n",
      "IPython.kernel.zmq.kernelbase\n",
      "IPython.core.application\n",
      "IPython.core\n",
      "IPython.core.magics.io\n",
      "IPython.core.pprint\n",
      "IPython.core.StringIO\n",
      "logging.logging\n",
      "heapq\n",
      "IPython.utils.math\n",
      "IPython.core.time\n",
      "zmq.glob\n",
      "IPython.kernel.comm.manager\n",
      "IPython.kernel.zmq.displayhook\n",
      "zmq.backend.cython.socket\n",
      "IPython.core.oinspect\n",
      "zmq.sugar.attrsettr\n",
      "tornado.escape\n",
      "msvcrt\n",
      "zmq.backend.cython.constants\n",
      "struct\n",
      "IPython.utils.strdispatch\n",
      "IPython.core.inputsplitter\n",
      "IPython.utils.tokenize2\n",
      "IPython.html.uuid\n",
      "IPython.utils.traitlets\n",
      "_abcoll\n",
      "collections\n",
      "IPython.html.tarfile\n",
      "IPython.lib.inputhook\n",
      "logging.socket\n",
      "IPython.core.pydoc\n",
      "distutils.types\n",
      "IPython.extensions.sys\n",
      "pyreadline.py3k_compat\n",
      "IPython.utils.warn\n",
      "zipimport\n",
      "IPython.core.struct\n",
      "zmq.sugar.errno\n",
      "textwrap\n",
      "IPython.lib.subprocess\n",
      "IPython.core.codeop\n",
      "IPython.kernel.inprocess\n",
      "tornado.util\n",
      "IPython.core.magics.bdb\n",
      "zmq.backend.cython._version\n",
      "IPython.lib.random\n",
      "IPython.utils.frame\n",
      "signal\n",
      "IPython.core.payloadpage\n",
      "IPython.terminal.warnings\n",
      "IPython.utils.zmqrelated\n",
      "IPython.core.magics\n",
      "IPython.kernel.zmq.session\n",
      "IPython.core.getopt\n",
      "IPython.kernel.inprocess.channels\n",
      "IPython.config.os\n",
      "IPython.lib.display\n",
      "stat\n",
      "_winreg\n",
      "zmq.backend.cython.copy\n",
      "IPython.utils.token\n",
      "IPython.utils.module_paths\n",
      "logging.traceback\n",
      "pyreadline.modes.vi\n",
      "IPython.core.magic_arguments\n",
      "tornado.stack_context\n",
      "IPython.utils.re\n",
      "pyreadline.modes.notemacs\n",
      "IPython.utils.sysinfo\n",
      "IPython.kernel.comm.zmq\n",
      "IPython.core.argparse\n",
      "IPython.utils.io\n",
      "select\n",
      "IPython.html.urllib\n",
      "ctypes._ctypes\n",
      "zmq.sugar.cPickle\n",
      "IPython.utils.subprocess\n",
      "IPython.kernel.zmq.parentpoller\n",
      "IPython.utils.syspathcontext\n",
      "IPython.core.itertools\n",
      "IPython.lib\n",
      "zmq.sugar.random\n",
      "IPython.utils.PyColorize\n",
      "pyreadline.keysyms\n",
      "tornado.platform.common\n",
      "logging.sys\n",
      "IPython.lib.ctypes\n",
      "IPython.utils._process_win32\n",
      "_functools\n",
      "IPython.kernel.zmq.random\n",
      "socket\n",
      "IPython.kernel.zmq.socket\n",
      "zmq.sugar.version\n",
      "IPython.core.magics.basic\n",
      "IPython.utils.contexts\n",
      "IPython.core.imp\n",
      "zmq.eventloop.sys\n",
      "IPython.core.pdb\n",
      "os\n",
      "marshal\n",
      "pyreadline.modes\n",
      "distutils.version\n",
      "__future__\n",
      "IPython.kernel.abc\n",
      "_sqlite3\n",
      "distutils.string\n",
      "_multibytecodec\n",
      "IPython.external.simplegeneric._simplegeneric\n",
      "pyreadline.lineeditor.history\n",
      "__builtin__\n",
      "IPython.kernel.blocking\n",
      "operator\n",
      "IPython.core.msvcrt\n",
      "IPython.core.shellapp\n",
      "IPython.external.path.sys\n",
      "zmq.eventloop.tornado\n",
      "IPython.core.re\n",
      "errno\n",
      "_socket\n",
      "IPython.utils.rlineimpl\n",
      "IPython.core.magics.json\n",
      "IPython.core.glob\n",
      "IPython.core.abc\n",
      "IPython.kernel.zmq.ctypes\n",
      "_warnings\n",
      "IPython.core.magics.sys\n",
      "IPython.core.latex_symbols\n",
      "zmq.eventloop.cPickle\n",
      "IPython.utils.text\n",
      "encodings.__builtin__\n",
      "IPython.utils.__future__\n",
      "tornado.platform\n",
      "IPython.core.profiledir\n",
      "IPython.utils.cPickle\n",
      "ctypes.imp\n",
      "zmq.backend\n",
      "IPython.utils.types\n",
      "IPython.core.magics.inspect\n",
      "_struct\n",
      "IPython.core.magics.pylab\n",
      "IPython.kernel.zmq.traceback\n",
      "IPython.core.functools\n",
      "logging.time\n",
      "IPython.kernel.zmq.threading\n",
      "IPython.kernel.zmq.zmqshell\n",
      "logging.warnings\n",
      "IPython.terminal.bdb\n",
      "pyreadline.modes.emacs\n",
      "multiprocessing.signal\n",
      "logging.codecs\n",
      "_random\n",
      "zmq.utils.zmq\n",
      "contextlib\n",
      "IPython.utils.time\n",
      "IPython.core.magics.os\n",
      "IPython.lib.hashlib\n",
      "IPython.utils.glob\n",
      "zmq.utils.strtypes\n",
      "IPython.core.string\n",
      "IPython.utils.importstring\n",
      "IPython.core.release\n",
      "IPython.lib.pretty\n",
      "_strptime\n",
      "gettext\n",
      "IPython.external.path.tempfile\n",
      "IPython.utils.string\n",
      "IPython.utils.timing\n",
      "getopt\n",
      "nt\n",
      "zmq.sugar.time\n",
      "zmq.eventloop.Queue\n",
      "genericpath\n",
      "mimetypes\n",
      "IPython.core.magics.errno\n",
      "IPython.kernel.inprocess.abc\n",
      "IPython.core.prompts\n",
      "IPython.core.formatters\n",
      "IPython.lib.security\n",
      "tornado.speedups\n",
      "time\n",
      "multiprocessing.threading\n",
      "zmq.sugar.threading\n",
      "IPython.config.loader\n",
      "zmq.devices.multiprocessing\n",
      "ctypes.ctypes\n",
      "IPython.utils.functools\n",
      "readline\n",
      "zmq.utils.interop\n",
      "IPython.kernel.zmq.hmac\n",
      "IPython.kernel.zmq.pprint\n",
      "IPython.kernel.comm.threading\n",
      "tornado.platform.windows\n",
      "IPython.html.__future__\n",
      "encodings.mbcs\n",
      "IPython.core.magics.deprecated\n",
      "IPython.utils.signatures\n",
      "IPython.core.tempfile\n",
      "IPython.config.copy\n",
      "IPython.kernel.inprocess.IPython\n",
      "IPython.utils.py3compat\n",
      "tornado.ioloop\n"
     ]
    }
   ],
   "source": [
    "import sys\n",
    "for key in sys.modules.keys():\n",
    "    print key"
   ]
  },
  {
   "cell_type": "markdown",
   "metadata": {},
   "source": [
    "####如果你想要改變被匯入模組在當前模組中的變數名稱，則可以使用import as"
   ]
  },
  {
   "cell_type": "code",
   "execution_count": 47,
   "metadata": {
    "collapsed": true
   },
   "outputs": [],
   "source": [
    "import sys as system"
   ]
  },
  {
   "cell_type": "markdown",
   "metadata": {},
   "source": [
    "####可以使用from import語句建立與被匯入模組中相同的變數名稱。"
   ]
  },
  {
   "cell_type": "code",
   "execution_count": 48,
   "metadata": {
    "collapsed": false,
    "scrolled": true
   },
   "outputs": [
    {
     "data": {
      "text/plain": [
       "['__displayhook__',\n",
       " '__doc__',\n",
       " '__excepthook__',\n",
       " '__name__',\n",
       " '__package__',\n",
       " '__stderr__',\n",
       " '__stdin__',\n",
       " '__stdout__',\n",
       " '_clear_type_cache',\n",
       " '_current_frames',\n",
       " '_getframe',\n",
       " '_mercurial',\n",
       " 'api_version',\n",
       " 'argv',\n",
       " 'builtin_module_names',\n",
       " 'byteorder',\n",
       " 'call_tracing',\n",
       " 'callstats',\n",
       " 'copyright',\n",
       " 'displayhook',\n",
       " 'dllhandle',\n",
       " 'dont_write_bytecode',\n",
       " 'exc_clear',\n",
       " 'exc_info',\n",
       " 'exc_type',\n",
       " 'excepthook',\n",
       " 'exec_prefix',\n",
       " 'executable',\n",
       " 'exit',\n",
       " 'exitfunc',\n",
       " 'flags',\n",
       " 'float_info',\n",
       " 'float_repr_style',\n",
       " 'getcheckinterval',\n",
       " 'getdefaultencoding',\n",
       " 'getfilesystemencoding',\n",
       " 'getprofile',\n",
       " 'getrecursionlimit',\n",
       " 'getrefcount',\n",
       " 'getsizeof',\n",
       " 'gettrace',\n",
       " 'getwindowsversion',\n",
       " 'hexversion',\n",
       " 'last_traceback',\n",
       " 'last_type',\n",
       " 'last_value',\n",
       " 'long_info',\n",
       " 'maxint',\n",
       " 'maxsize',\n",
       " 'maxunicode',\n",
       " 'meta_path',\n",
       " 'modules',\n",
       " 'path',\n",
       " 'path_hooks',\n",
       " 'path_importer_cache',\n",
       " 'platform',\n",
       " 'prefix',\n",
       " 'ps1',\n",
       " 'ps2',\n",
       " 'ps3',\n",
       " 'py3kwarning',\n",
       " 'setcheckinterval',\n",
       " 'setprofile',\n",
       " 'setrecursionlimit',\n",
       " 'settrace',\n",
       " 'stderr',\n",
       " 'stdin',\n",
       " 'stdout',\n",
       " 'subversion',\n",
       " 'version',\n",
       " 'version_info',\n",
       " 'warnoptions',\n",
       " 'winver']"
      ]
     },
     "execution_count": 48,
     "metadata": {},
     "output_type": "execute_result"
    }
   ],
   "source": [
    "dir(sys)"
   ]
  },
  {
   "cell_type": "code",
   "execution_count": 49,
   "metadata": {
    "collapsed": true
   },
   "outputs": [],
   "source": [
    "from sys import version"
   ]
  },
  {
   "cell_type": "markdown",
   "metadata": {},
   "source": [
    "####使用from import語句時，若最後是*結尾，則會將被匯入模組中所有變數"
   ]
  },
  {
   "cell_type": "code",
   "execution_count": 50,
   "metadata": {
    "collapsed": false
   },
   "outputs": [
    {
     "name": "stdout",
     "output_type": "stream",
     "text": [
      "2.7.10 |Anaconda 2.3.0 (32-bit)| (default, May 28 2015, 17:02:00) [MSC v.1500 32 bit (Intel)]\n"
     ]
    }
   ],
   "source": [
    "print version"
   ]
  },
  {
   "cell_type": "markdown",
   "metadata": {},
   "source": [
    "#再看 try、raise"
   ]
  },
  {
   "cell_type": "markdown",
   "metadata": {},
   "source": [
    "####進階的例外追蹤需求中，可以使用sys.exc_info()方法取得一個Tuple物件，該Tuple物件中包括了例外的類型、例外訊息以及traceback物件"
   ]
  },
  {
   "cell_type": "code",
   "execution_count": 52,
   "metadata": {
    "collapsed": false
   },
   "outputs": [
    {
     "name": "stdout",
     "output_type": "stream",
     "text": [
      "<type 'exceptions.TypeError'>\n",
      "exceptions must be old-style classes or derived from BaseException, not str\n",
      "<traceback object at 0x01889530>\n"
     ]
    }
   ],
   "source": [
    "try:\n",
    "    \n",
    "    raise 'error'\n",
    "    \n",
    "except:\n",
    "    a,b,c = sys.exc_info()\n",
    "    print a\n",
    "    print b\n",
    "    print c"
   ]
  },
  {
   "cell_type": "markdown",
   "metadata": {},
   "source": [
    "####trackback物件代表了呼叫堆疊中每一個層次的追蹤，可以使用tb_next取得更深一層的呼叫堆疊。"
   ]
  },
  {
   "cell_type": "markdown",
   "metadata": {},
   "source": [
    "####tb_frame代表了該層追蹤的所有物件資訊"
   ]
  },
  {
   "cell_type": "markdown",
   "metadata": {},
   "source": [
    "####f_code可以取得該層的程式碼資訊"
   ]
  },
  {
   "cell_type": "markdown",
   "metadata": {},
   "source": [
    "####co_name可取得函式或模組名稱，而co_filename則表示該程式碼所在的檔案。"
   ]
  },
  {
   "cell_type": "code",
   "execution_count": 53,
   "metadata": {
    "collapsed": false
   },
   "outputs": [
    {
     "name": "stdout",
     "output_type": "stream",
     "text": [
      "1,..........\n",
      "2,<type 'exceptions.EOFError'>\n",
      "3,\n",
      "('4,function or module?', '<module>')\n",
      "('5,file?', '<ipython-input-53-ce7ab784b483>')\n",
      "1,..........\n",
      "2,<type 'exceptions.EOFError'>\n",
      "3,\n",
      "('4,function or module?', 'test')\n",
      "('5,file?', '<ipython-input-53-ce7ab784b483>')\n"
     ]
    }
   ],
   "source": [
    "import sys\n",
    "\n",
    "def test():\n",
    "    raise EOFError\n",
    "\n",
    "try:\n",
    "    test()\n",
    "    \n",
    "except:\n",
    "    \n",
    "    type, message, traceback = sys.exc_info()\n",
    "    \n",
    "    while traceback:\n",
    "        print('1,' + '..........')\n",
    "        print('2,' + str(type))\n",
    "        print('3,' + str(message))\n",
    "        print('4,' + 'function or module?', traceback.tb_frame.f_code.co_name)\n",
    "        print('5,' + 'file?', traceback.tb_frame.f_code.co_filename)\n",
    "        traceback = traceback.tb_next\n",
    "        "
   ]
  },
  {
   "cell_type": "code",
   "execution_count": 54,
   "metadata": {
    "collapsed": false
   },
   "outputs": [
    {
     "name": "stdout",
     "output_type": "stream",
     "text": [
      "('XD',)\n"
     ]
    },
    {
     "ename": "IndexError",
     "evalue": "Orz",
     "output_type": "error",
     "traceback": [
      "\u001b[1;31m---------------------------------------------------------------------------\u001b[0m",
      "\u001b[1;31mIndexError\u001b[0m                                Traceback (most recent call last)",
      "\u001b[1;32m<ipython-input-54-87e445333458>\u001b[0m in \u001b[0;36m<module>\u001b[1;34m()\u001b[0m\n\u001b[0;32m      4\u001b[0m \u001b[1;32mexcept\u001b[0m \u001b[0mEOFError\u001b[0m \u001b[1;32mas\u001b[0m \u001b[0me\u001b[0m\u001b[1;33m:\u001b[0m\u001b[1;33m\u001b[0m\u001b[0m\n\u001b[0;32m      5\u001b[0m      \u001b[1;32mprint\u001b[0m\u001b[1;33m(\u001b[0m\u001b[0me\u001b[0m\u001b[1;33m.\u001b[0m\u001b[0margs\u001b[0m\u001b[1;33m)\u001b[0m\u001b[1;33m\u001b[0m\u001b[0m\n\u001b[1;32m----> 6\u001b[1;33m      \u001b[1;32mraise\u001b[0m \u001b[0mIndexError\u001b[0m\u001b[1;33m(\u001b[0m\u001b[1;34m'Orz'\u001b[0m\u001b[1;33m)\u001b[0m\u001b[1;33m\u001b[0m\u001b[0m\n\u001b[0m\u001b[0;32m      7\u001b[0m \u001b[1;33m\u001b[0m\u001b[0m\n",
      "\u001b[1;31mIndexError\u001b[0m: Orz"
     ]
    }
   ],
   "source": [
    "try:\n",
    "    raise EOFError('XD')\n",
    "    \n",
    "except EOFError as e:\n",
    "     print(e.args)\n",
    "     raise IndexError('Orz')\n",
    "    "
   ]
  },
  {
   "cell_type": "markdown",
   "metadata": {},
   "source": [
    "#使用 assert"
   ]
  },
  {
   "cell_type": "markdown",
   "metadata": {},
   "source": [
    "####所謂斷言（Assertion），指的是程式進行到某個時間點，斷定其必然是某種狀態，具體而言，也就是斷定該時間點上，某變數必然是某值，或某物件必具擁有何種特性值。"
   ]
  },
  {
   "cell_type": "markdown",
   "metadata": {},
   "source": [
    "####斷言會在最佳化時被省略，也就是最後編譯出來的程式碼，不會包括assert陳述句"
   ]
  },
  {
   "cell_type": "code",
   "execution_count": 55,
   "metadata": {
    "collapsed": true
   },
   "outputs": [],
   "source": [
    "class Account:\n",
    "    \n",
    "    def __init__(self, number, name):\n",
    "        self.number = number\n",
    "        self.name = name\n",
    "        self.balance = 0\n",
    "        \n",
    "    def deposit(self, amount):\n",
    "        assert amount > 0, 'Must be POSITIVE'\n",
    "        self.balance += amount\n",
    "        \n",
    "    def withdraw(self, amount):\n",
    "        assert amount > 0, 'Must be POSITIVE'\n",
    "        if amount <= self.balance:\n",
    "            self.balance -= amount\n",
    "        else:\n",
    "            raise RuntimeError('balance not enough')\n",
    "            "
   ]
  },
  {
   "cell_type": "code",
   "execution_count": 56,
   "metadata": {
    "collapsed": false
   },
   "outputs": [
    {
     "ename": "AssertionError",
     "evalue": "Must be POSITIVE",
     "output_type": "error",
     "traceback": [
      "\u001b[1;31m---------------------------------------------------------------------------\u001b[0m",
      "\u001b[1;31mAssertionError\u001b[0m                            Traceback (most recent call last)",
      "\u001b[1;32m<ipython-input-56-a49f56a952ce>\u001b[0m in \u001b[0;36m<module>\u001b[1;34m()\u001b[0m\n\u001b[0;32m      1\u001b[0m \u001b[0ma\u001b[0m \u001b[1;33m=\u001b[0m \u001b[0mAccount\u001b[0m\u001b[1;33m(\u001b[0m\u001b[1;34m'E122'\u001b[0m\u001b[1;33m,\u001b[0m \u001b[1;34m'Justin'\u001b[0m\u001b[1;33m)\u001b[0m\u001b[1;33m\u001b[0m\u001b[0m\n\u001b[1;32m----> 2\u001b[1;33m \u001b[0ma\u001b[0m\u001b[1;33m.\u001b[0m\u001b[0mdeposit\u001b[0m\u001b[1;33m(\u001b[0m\u001b[1;33m-\u001b[0m\u001b[1;36m10\u001b[0m\u001b[1;33m)\u001b[0m\u001b[1;33m\u001b[0m\u001b[0m\n\u001b[0m",
      "\u001b[1;32m<ipython-input-55-d53231e1c52d>\u001b[0m in \u001b[0;36mdeposit\u001b[1;34m(self, amount)\u001b[0m\n\u001b[0;32m      7\u001b[0m \u001b[1;33m\u001b[0m\u001b[0m\n\u001b[0;32m      8\u001b[0m     \u001b[1;32mdef\u001b[0m \u001b[0mdeposit\u001b[0m\u001b[1;33m(\u001b[0m\u001b[0mself\u001b[0m\u001b[1;33m,\u001b[0m \u001b[0mamount\u001b[0m\u001b[1;33m)\u001b[0m\u001b[1;33m:\u001b[0m\u001b[1;33m\u001b[0m\u001b[0m\n\u001b[1;32m----> 9\u001b[1;33m         \u001b[1;32massert\u001b[0m \u001b[0mamount\u001b[0m \u001b[1;33m>\u001b[0m \u001b[1;36m0\u001b[0m\u001b[1;33m,\u001b[0m \u001b[1;34m'Must be POSITIVE'\u001b[0m\u001b[1;33m\u001b[0m\u001b[0m\n\u001b[0m\u001b[0;32m     10\u001b[0m         \u001b[0mself\u001b[0m\u001b[1;33m.\u001b[0m\u001b[0mbalance\u001b[0m \u001b[1;33m+=\u001b[0m \u001b[0mamount\u001b[0m\u001b[1;33m\u001b[0m\u001b[0m\n\u001b[0;32m     11\u001b[0m \u001b[1;33m\u001b[0m\u001b[0m\n",
      "\u001b[1;31mAssertionError\u001b[0m: Must be POSITIVE"
     ]
    }
   ],
   "source": [
    "a = Account('E122', 'Justin')\n",
    "a.deposit(-10) "
   ]
  },
  {
   "cell_type": "code",
   "execution_count": 57,
   "metadata": {
    "collapsed": false
   },
   "outputs": [
    {
     "name": "stdout",
     "output_type": "stream",
     "text": [
      "True\n"
     ]
    }
   ],
   "source": [
    "print(__debug__)"
   ]
  },
  {
   "cell_type": "markdown",
   "metadata": {},
   "source": [
    "#使用 with as"
   ]
  },
  {
   "cell_type": "markdown",
   "metadata": {},
   "source": [
    "####為了要處理檔案讀取過程中發生的例外，並且最後確定檔案一定會關閉，你可以使用try..except...finally語句"
   ]
  },
  {
   "cell_type": "markdown",
   "metadata": {},
   "source": [
    "####with之後的運算式傳回的物件，可以使用as指定給變數來參考"
   ]
  },
  {
   "cell_type": "markdown",
   "metadata": {},
   "source": [
    "####file所參考到的物件，最後會被自動關閉，即使在with as的區塊中發生了例外，最後一定會關閉file所參考的物件。"
   ]
  },
  {
   "cell_type": "code",
   "execution_count": 59,
   "metadata": {
    "collapsed": false
   },
   "outputs": [
    {
     "name": "stdout",
     "output_type": "stream",
     "text": [
      "shfunhuang1\n",
      "\n",
      "shfunhuang2\n",
      "\n",
      "shfunhuang3\n",
      "\n",
      "shfunhuang4\n",
      "\n",
      "shfunhuang5\n"
     ]
    }
   ],
   "source": [
    "file = open('test.txt', 'r')\n",
    "try:\n",
    "    for line in file:\n",
    "        print(line)\n",
    "        \n",
    "except:\n",
    "    print('read error')\n",
    "    \n",
    "finally:\n",
    "    file.close()"
   ]
  },
  {
   "cell_type": "code",
   "execution_count": 60,
   "metadata": {
    "collapsed": false
   },
   "outputs": [
    {
     "name": "stdout",
     "output_type": "stream",
     "text": [
      "shfunhuang1\n",
      "\n",
      "shfunhuang2\n",
      "\n",
      "shfunhuang3\n",
      "\n",
      "shfunhuang4\n",
      "\n",
      "shfunhuang5\n"
     ]
    }
   ],
   "source": [
    "with open('test.txt', 'r') as file:\n",
    "    \n",
    "    for line in file:\n",
    "        print(line)\n",
    "        "
   ]
  },
  {
   "cell_type": "markdown",
   "metadata": {},
   "source": [
    "#自訂例外"
   ]
  },
  {
   "cell_type": "markdown",
   "metadata": {},
   "source": [
    "####目前你所看到的例外類別，都是Python預先定義的類別，它們都位於builtins模組之中。"
   ]
  },
  {
   "cell_type": "code",
   "execution_count": 61,
   "metadata": {
    "collapsed": false
   },
   "outputs": [
    {
     "ename": "ImportError",
     "evalue": "No module named builtins",
     "output_type": "error",
     "traceback": [
      "\u001b[1;31m---------------------------------------------------------------------------\u001b[0m",
      "\u001b[1;31mImportError\u001b[0m                               Traceback (most recent call last)",
      "\u001b[1;32m<ipython-input-61-0605882c1724>\u001b[0m in \u001b[0;36m<module>\u001b[1;34m()\u001b[0m\n\u001b[1;32m----> 1\u001b[1;33m \u001b[1;32mimport\u001b[0m \u001b[0mbuiltins\u001b[0m\u001b[1;33m\u001b[0m\u001b[0m\n\u001b[0m\u001b[0;32m      2\u001b[0m \u001b[0mdir\u001b[0m\u001b[1;33m(\u001b[0m\u001b[0mbuiltins\u001b[0m\u001b[1;33m)\u001b[0m\u001b[1;33m\u001b[0m\u001b[0m\n",
      "\u001b[1;31mImportError\u001b[0m: No module named builtins"
     ]
    }
   ],
   "source": [
    "import builtins\n",
    "dir(builtins)"
   ]
  },
  {
   "cell_type": "markdown",
   "metadata": {},
   "source": [
    "Python3中，所有的例外類別，其頂層父類別都是 BaseException 類別，然而直接繼承 BaseException 的有 SystemExit、KeyboardInterrupt、GeneratorExit 與 Exception，前三者是有關於系統終止、鍵盤中斷以及產生器關閉的事件，在Python中，並非所有的例外都是錯誤，有些例外其實是事件通知的方式，像是 KeyboardInterrupt、GeneratorExit 與 Exception。\n",
    "\n",
    "如果你要自訂例外，並不是繼承 BaseException，而是繼承 BaseException 的子類別 Exception，非系統終止的事件都是繼承這個類別。"
   ]
  },
  {
   "cell_type": "code",
   "execution_count": null,
   "metadata": {
    "collapsed": true
   },
   "outputs": [],
   "source": []
  }
 ],
 "metadata": {
  "kernelspec": {
   "display_name": "Python 2",
   "language": "python",
   "name": "python2"
  },
  "language_info": {
   "codemirror_mode": {
    "name": "ipython",
    "version": 2
   },
   "file_extension": ".py",
   "mimetype": "text/x-python",
   "name": "python",
   "nbconvert_exporter": "python",
   "pygments_lexer": "ipython2",
   "version": "2.7.10"
  }
 },
 "nbformat": 4,
 "nbformat_minor": 0
}
