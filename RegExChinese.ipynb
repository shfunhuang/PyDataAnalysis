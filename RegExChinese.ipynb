{
 "metadata": {
  "name": "",
  "signature": "sha256:cd5f3419aeaa8945e06e6c51d6eb2e4b75d19e72104277c9dc3bb7586cf6ed2c"
 },
 "nbformat": 3,
 "nbformat_minor": 0,
 "worksheets": [
  {
   "cells": [
    {
     "cell_type": "code",
     "collapsed": false,
     "input": [
      "import re\n",
      "cleanCom1 = r'\\\"()\"'\n",
      "text = \"\u3010\u795e\u9b3c\u5947\u822a\u3011\u5f37\u5c3c\u6234\u666e(Johnny Depp)\u3001\u3010\u9999\u8349\u5929\u7a7a\u3011\u6f58\u59ae\u6d1b\u666e\u514b\u9b6f\u8332(Penelope Cruz)\u3001\u96f7\u674e\u6b50\u5854(Ray Liotta)\u3001\u3010\u5fc3\u9748\u6295\u624b\u3011\u857e\u79cb\u845b\u8389\u8299(Rachel Griffiths);\"\n",
      "print text\n",
      "text = re.sub(r'[\\x80-\\xff]{3,}', '', text) #\u6e05\u9664\u6240\u6709\u4e2d\u6587\u5b57 & \u7279\u6b8a\u7b26\u865f\n",
      "print text"
     ],
     "language": "python",
     "metadata": {},
     "outputs": [
      {
       "output_type": "stream",
       "stream": "stdout",
       "text": [
        "\u3010\u795e\u9b3c\u5947\u822a\u3011\u5f37\u5c3c\u6234\u666e(Johnny Depp)\u3001\u3010\u9999\u8349\u5929\u7a7a\u3011\u6f58\u59ae\u6d1b\u666e\u514b\u9b6f\u8332(Penelope Cruz)\u3001\u96f7\u674e\u6b50\u5854(Ray Liotta)\u3001\u3010\u5fc3\u9748\u6295\u624b\u3011\u857e\u79cb\u845b\u8389\u8299(Rachel Griffiths);\n",
        "(Johnny Depp)(Penelope Cruz)(Ray Liotta)(Rachel Griffiths);\n"
       ]
      }
     ],
     "prompt_number": 10
    },
    {
     "cell_type": "code",
     "collapsed": false,
     "input": [
      "m = re.match(r\"(?P<first_name>\\w+) (?P<last_name>\\w+)\", \"Shfun Huang\")\n",
      "print m.group('first_name'), m.group('last_name')"
     ],
     "language": "python",
     "metadata": {},
     "outputs": [
      {
       "output_type": "stream",
       "stream": "stdout",
       "text": [
        "Shfun Huang\n"
       ]
      }
     ],
     "prompt_number": 3
    },
    {
     "cell_type": "code",
     "collapsed": false,
     "input": [],
     "language": "python",
     "metadata": {},
     "outputs": []
    }
   ],
   "metadata": {}
  }
 ]
}