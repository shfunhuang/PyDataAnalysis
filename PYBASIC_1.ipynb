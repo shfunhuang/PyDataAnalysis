{
 "metadata": {
  "name": "",
  "signature": "sha256:ec37aa7df8c6f3a51a38cdd84e4d722d0e010718a860bf30f8704ab6f62ce451"
 },
 "nbformat": 3,
 "nbformat_minor": 0,
 "worksheets": [
  {
   "cells": [
    {
     "cell_type": "code",
     "collapsed": false,
     "input": [
      "# declare dictionary \n",
      "dic = {'a':100, 'b':\"yes\", 'c':0.98} \n",
      "print dic "
     ],
     "language": "python",
     "metadata": {},
     "outputs": [
      {
       "output_type": "stream",
       "stream": "stdout",
       "text": [
        "{'a': 100, 'c': 0.98, 'b': 'yes'}\n"
       ]
      }
     ],
     "prompt_number": 1
    },
    {
     "cell_type": "code",
     "collapsed": false,
     "input": [
      "# get keys in dictionary \n",
      "print dic.keys() "
     ],
     "language": "python",
     "metadata": {},
     "outputs": [
      {
       "output_type": "stream",
       "stream": "stdout",
       "text": [
        "['a', 'c', 'b']\n"
       ]
      }
     ],
     "prompt_number": 2
    },
    {
     "cell_type": "code",
     "collapsed": false,
     "input": [
      "# get values in dictionary \n",
      "print dic.values()"
     ],
     "language": "python",
     "metadata": {},
     "outputs": [
      {
       "output_type": "stream",
       "stream": "stdout",
       "text": [
        "[100, 0.98, 'yes']\n"
       ]
      }
     ],
     "prompt_number": 3
    },
    {
     "cell_type": "code",
     "collapsed": false,
     "input": [
      "# get value of given key \n",
      "print dic['a'] "
     ],
     "language": "python",
     "metadata": {},
     "outputs": [
      {
       "output_type": "stream",
       "stream": "stdout",
       "text": [
        "100\n"
       ]
      }
     ],
     "prompt_number": 4
    },
    {
     "cell_type": "code",
     "collapsed": false,
     "input": [
      "# get value of given key \n",
      "print dic.get('a')"
     ],
     "language": "python",
     "metadata": {},
     "outputs": [
      {
       "output_type": "stream",
       "stream": "stdout",
       "text": [
        "100\n"
       ]
      }
     ],
     "prompt_number": 5
    },
    {
     "cell_type": "code",
     "collapsed": false,
     "input": [
      "# update entry into dictionary \n",
      "dic['d'] = 'new' \n",
      "print dic "
     ],
     "language": "python",
     "metadata": {},
     "outputs": [
      {
       "output_type": "stream",
       "stream": "stdout",
       "text": [
        "{'a': 100, 'c': 0.98, 'b': 'yes', 'd': 'new'}\n"
       ]
      }
     ],
     "prompt_number": 6
    },
    {
     "cell_type": "code",
     "collapsed": false,
     "input": [
      "# update entry into dictionary \n",
      "dic.update({'e':123}) \n",
      "print dic"
     ],
     "language": "python",
     "metadata": {},
     "outputs": [
      {
       "output_type": "stream",
       "stream": "stdout",
       "text": [
        "{'a': 100, 'c': 0.98, 'b': 'yes', 'e': 123, 'd': 'new'}\n"
       ]
      }
     ],
     "prompt_number": 7
    },
    {
     "cell_type": "code",
     "collapsed": false,
     "input": [
      "# iter the dictionary \n",
      "for rec in dic: \n",
      "    print rec, dic[rec]"
     ],
     "language": "python",
     "metadata": {},
     "outputs": [
      {
       "output_type": "stream",
       "stream": "stdout",
       "text": [
        "a 100\n",
        "c 0.98\n",
        "b yes\n",
        "e 123\n",
        "d new\n"
       ]
      }
     ],
     "prompt_number": 8
    },
    {
     "cell_type": "code",
     "collapsed": false,
     "input": [
      "print dic.keys()"
     ],
     "language": "python",
     "metadata": {},
     "outputs": [
      {
       "output_type": "stream",
       "stream": "stdout",
       "text": [
        "['a', 'c', 'b', 'e', 'd']\n"
       ]
      }
     ],
     "prompt_number": 9
    },
    {
     "cell_type": "code",
     "collapsed": false,
     "input": [
      "del dic['d']\n",
      "print dic"
     ],
     "language": "python",
     "metadata": {},
     "outputs": [
      {
       "output_type": "stream",
       "stream": "stdout",
       "text": [
        "{'a': 100, 'c': 0.98, 'b': 'yes', 'e': 123}\n"
       ]
      }
     ],
     "prompt_number": 10
    },
    {
     "cell_type": "code",
     "collapsed": false,
     "input": [
      "# \u4f7f\u7528repr \u627e\u51faformatting\n",
      "a = r'\\t\\t string \\n\\t' \n",
      "print a \n",
      "print repr(a)"
     ],
     "language": "python",
     "metadata": {},
     "outputs": [
      {
       "output_type": "stream",
       "stream": "stdout",
       "text": [
        "\\t\\t string \\n\\t\n",
        "'\\\\t\\\\t string \\\\n\\\\t'\n"
       ]
      }
     ],
     "prompt_number": 11
    },
    {
     "cell_type": "code",
     "collapsed": false,
     "input": [
      "# \u5c07\u8cc7\u6599\u4f9d\u5206\u9694\u7b26\u865f\u5207\u6210\u9663\u5217\n",
      "a = '123,555,111,99' \n",
      "print a.split(',') \n",
      "print a.split(',', 1) \n",
      "print a.split(',', 2) "
     ],
     "language": "python",
     "metadata": {},
     "outputs": [
      {
       "output_type": "stream",
       "stream": "stdout",
       "text": [
        "['123', '555', '111', '99']\n",
        "['123', '555,111,99']\n",
        "['123', '555', '111,99']\n"
       ]
      }
     ],
     "prompt_number": 13
    },
    {
     "cell_type": "code",
     "collapsed": false,
     "input": [
      "c = \"What is real? How do you define real?\"\n",
      "print(c)\n",
      "print(c.split(\" \", 2))"
     ],
     "language": "python",
     "metadata": {},
     "outputs": [
      {
       "output_type": "stream",
       "stream": "stdout",
       "text": [
        "What is real? How do you define real?\n",
        "['What', 'is', 'real? How do you define real?']\n"
       ]
      }
     ],
     "prompt_number": 14
    },
    {
     "cell_type": "code",
     "collapsed": false,
     "input": [
      "# \u5c07\u9663\u5217\u55ae\u5143\u4f9d\u5206\u9694\u7b26\u865f\u5408\u6210\u5b57\u4e32\n",
      "a = '123,555,111,99' \n",
      "ary = a.split(',') \n",
      "#print ary\n",
      "print '??'.join(ary)"
     ],
     "language": "python",
     "metadata": {},
     "outputs": [
      {
       "output_type": "stream",
       "stream": "stdout",
       "text": [
        "123??555??111??99\n"
       ]
      }
     ],
     "prompt_number": 18
    },
    {
     "cell_type": "code",
     "collapsed": false,
     "input": [
      "# \u5982\u4f55\u66ff\u63db\u8df3\u812b\u5b57\u5143 by HTMLParser\n",
      "import HTMLParser \n",
      "h = HTMLParser.HTMLParser() \n",
      "a = '&lt;qoo&gt; 123,555,111,99' \n",
      "print h.unescape(a)"
     ],
     "language": "python",
     "metadata": {},
     "outputs": [
      {
       "output_type": "stream",
       "stream": "stdout",
       "text": [
        "<qoo> 123,555,111,99\n"
       ]
      }
     ],
     "prompt_number": 20
    },
    {
     "cell_type": "code",
     "collapsed": false,
     "input": [
      "# \u5982\u4f55\u66ff\u63db\u8df3\u812b\u5b57\u5143 by replace\n",
      "a = '&lt;qoo&gt; 123,555,111,99' \n",
      "print a.replace('&lt;', '<').replace('&gt;', '>')"
     ],
     "language": "python",
     "metadata": {},
     "outputs": [
      {
       "output_type": "stream",
       "stream": "stdout",
       "text": [
        "<qoo> 123,555,111,99\n"
       ]
      }
     ],
     "prompt_number": 21
    },
    {
     "cell_type": "code",
     "collapsed": false,
     "input": [
      "# \u6642\u9593\u8ddf\u5b57\u4e32\u8f49\u63db\n",
      "from datetime import date,datetime \n",
      "# Times -> String\n",
      "currenttime = datetime.now() \n",
      "#print currenttime\n",
      "print currenttime.strftime(\"%Y-%m-%d %H:%M:%S\")"
     ],
     "language": "python",
     "metadata": {},
     "outputs": [
      {
       "output_type": "stream",
       "stream": "stdout",
       "text": [
        "2015-04-20 23:36:58\n"
       ]
      }
     ],
     "prompt_number": 22
    },
    {
     "cell_type": "code",
     "collapsed": false,
     "input": [
      "# String -> Times\n",
      "a = '2014-05-03 14:00:00' \n",
      "print datetime.strptime(a, \"%Y-%m-%d %H:%M:%S\")"
     ],
     "language": "python",
     "metadata": {},
     "outputs": [
      {
       "output_type": "stream",
       "stream": "stdout",
       "text": [
        "2014-05-03 14:00:00\n"
       ]
      }
     ],
     "prompt_number": 23
    },
    {
     "cell_type": "code",
     "collapsed": false,
     "input": [
      "# \u53d6\u5f97\u5e74\u5206\n",
      "response_date = '102/12/10 10:30' \n",
      "getyear = response_date.split('/', 1) \n",
      "print \"year:\" + getyear[0]"
     ],
     "language": "python",
     "metadata": {},
     "outputs": [
      {
       "output_type": "stream",
       "stream": "stdout",
       "text": [
        "year:102\n"
       ]
      }
     ],
     "prompt_number": 24
    },
    {
     "cell_type": "code",
     "collapsed": false,
     "input": [
      "# \u8f49\u63db\u6210\u897f\u5143\u5e74\n",
      "bctime= str(int(getyear[0]) + 1911) + \"/\" + ''.join(getyear[1:]) \n",
      "print bctime"
     ],
     "language": "python",
     "metadata": {},
     "outputs": [
      {
       "output_type": "stream",
       "stream": "stdout",
       "text": [
        "2013/12/10 10:30\n"
       ]
      }
     ],
     "prompt_number": 25
    },
    {
     "cell_type": "code",
     "collapsed": false,
     "input": [
      "# \u8f49\u63db\u6210\u6642\u9593\u683c\u5f0f\n",
      "response_date = '102/12/10 10:30' \n",
      "getyear = response_date.split('/', 1) \n",
      "bctime= str(int(getyear[0]) + 1911) + \"/\" + ''.join(getyear[1:]) \n",
      "print bctime\n",
      "print datetime.strptime(bctime, \"%Y/%m/%d %H:%M\")"
     ],
     "language": "python",
     "metadata": {},
     "outputs": [
      {
       "output_type": "stream",
       "stream": "stdout",
       "text": [
        "2013/12/10 10:30\n",
        "2013-12-10 10:30:00\n"
       ]
      }
     ],
     "prompt_number": 26
    },
    {
     "cell_type": "code",
     "collapsed": false,
     "input": [
      "# Strip \u7bc4\u4f8b\n",
      "# Remove Space\n",
      "s = \" \\t string1 test1 \\t \\n\\n\\r\" ' \\t string2 test2 \\t \\n\\n\\r' \n",
      "print s"
     ],
     "language": "python",
     "metadata": {},
     "outputs": [
      {
       "output_type": "stream",
       "stream": "stdout",
       "text": [
        " \t string1 test1 \t \n",
        "\n",
        "\r",
        " \t string2 test2 \t \n",
        "\n",
        "\r\n"
       ]
      }
     ],
     "prompt_number": 31
    },
    {
     "cell_type": "code",
     "collapsed": false,
     "input": [
      "print s.strip()\n",
      "print \"========== ==========\"\n",
      "print s.rstrip()\n",
      "print \"========== ==========\"\n",
      "print s.lstrip()"
     ],
     "language": "python",
     "metadata": {},
     "outputs": [
      {
       "output_type": "stream",
       "stream": "stdout",
       "text": [
        "string1 test1 \t \n",
        "\n",
        "\r",
        " \t string2 test2\n",
        "========== ==========\n",
        " \t string1 test1 \t \n",
        "\n",
        "\r",
        " \t string2 test2\n",
        "========== ==========\n",
        "string1 test1 \t \n",
        "\n",
        "\r",
        " \t string2 test2 \t \n",
        "\n",
        "\r\n"
       ]
      }
     ],
     "prompt_number": 36
    },
    {
     "cell_type": "code",
     "collapsed": false,
     "input": [
      "# \u8655\u7406\u91d1\u984d\u554f\u984c\n",
      "import re \n",
      "m = re.match( r\"\\$?-?([0-9,]+)\", '352,111\u5143') \n",
      "print m.group().split(',')\n",
      "print 'yaya'.join(m.group(1).split(','))"
     ],
     "language": "python",
     "metadata": {},
     "outputs": [
      {
       "output_type": "stream",
       "stream": "stdout",
       "text": [
        "['352', '111']\n",
        "352yaya111\n"
       ]
      }
     ],
     "prompt_number": 37
    },
    {
     "cell_type": "code",
     "collapsed": false,
     "input": [
      "str1 = '$123,456,789'\n",
      "m = re.match('\\$([0-9,]+)', str1)\n",
      "print m.group()\n",
      "print m.group(1).split(',')\n",
      "print ''.join(m.group(1).split(','))"
     ],
     "language": "python",
     "metadata": {},
     "outputs": [
      {
       "output_type": "stream",
       "stream": "stdout",
       "text": [
        "$123,456,789\n",
        "['123', '456', '789']\n",
        "123456789\n"
       ]
      }
     ],
     "prompt_number": 38
    },
    {
     "cell_type": "code",
     "collapsed": false,
     "input": [],
     "language": "python",
     "metadata": {},
     "outputs": []
    }
   ],
   "metadata": {}
  }
 ]
}