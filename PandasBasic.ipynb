{
 "metadata": {
  "name": "",
  "signature": "sha256:4fafe0c2f8c32387a89ad788fa2f649fbcfc404fc5c59d63c830c58a484f214a"
 },
 "nbformat": 3,
 "nbformat_minor": 0,
 "worksheets": [
  {
   "cells": [
    {
     "cell_type": "code",
     "collapsed": false,
     "input": [
      "from pandas import Series, DataFrame\n",
      "import pandas as pd\n",
      "import numpy as np"
     ],
     "language": "python",
     "metadata": {},
     "outputs": [],
     "prompt_number": 15
    },
    {
     "cell_type": "code",
     "collapsed": false,
     "input": [
      "### Series\n",
      "obj = Series([4,7,-5,3])\n",
      "print obj"
     ],
     "language": "python",
     "metadata": {},
     "outputs": [
      {
       "output_type": "stream",
       "stream": "stdout",
       "text": [
        "0    4\n",
        "1    7\n",
        "2   -5\n",
        "3    3\n",
        "dtype: int64\n"
       ]
      }
     ],
     "prompt_number": 4
    },
    {
     "cell_type": "code",
     "collapsed": false,
     "input": [
      "obj.values"
     ],
     "language": "python",
     "metadata": {},
     "outputs": [
      {
       "metadata": {},
       "output_type": "pyout",
       "prompt_number": 6,
       "text": [
        "array([ 4,  7, -5,  3], dtype=int64)"
       ]
      }
     ],
     "prompt_number": 6
    },
    {
     "cell_type": "code",
     "collapsed": false,
     "input": [
      "obj.index"
     ],
     "language": "python",
     "metadata": {},
     "outputs": [
      {
       "metadata": {},
       "output_type": "pyout",
       "prompt_number": 7,
       "text": [
        "Int64Index([0, 1, 2, 3], dtype='int64')"
       ]
      }
     ],
     "prompt_number": 7
    },
    {
     "cell_type": "code",
     "collapsed": false,
     "input": [
      "obj2 = Series([4,7,-5,3], index=['a', 'c', 'b', 'd'])\n",
      "print obj2"
     ],
     "language": "python",
     "metadata": {},
     "outputs": [
      {
       "output_type": "stream",
       "stream": "stdout",
       "text": [
        "a    4\n",
        "c    7\n",
        "b   -5\n",
        "d    3\n",
        "dtype: int64\n"
       ]
      }
     ],
     "prompt_number": 10
    },
    {
     "cell_type": "code",
     "collapsed": false,
     "input": [
      "obj2.index"
     ],
     "language": "python",
     "metadata": {},
     "outputs": [
      {
       "metadata": {},
       "output_type": "pyout",
       "prompt_number": 11,
       "text": [
        "Index([u'a', u'c', u'b', u'd'], dtype='object')"
       ]
      }
     ],
     "prompt_number": 11
    },
    {
     "cell_type": "code",
     "collapsed": false,
     "input": [
      "obj2['a']"
     ],
     "language": "python",
     "metadata": {},
     "outputs": [
      {
       "metadata": {},
       "output_type": "pyout",
       "prompt_number": 12,
       "text": [
        "4"
       ]
      }
     ],
     "prompt_number": 12
    },
    {
     "cell_type": "code",
     "collapsed": false,
     "input": [
      "obj2[['c','b','d']]"
     ],
     "language": "python",
     "metadata": {},
     "outputs": [
      {
       "metadata": {},
       "output_type": "pyout",
       "prompt_number": 13,
       "text": [
        "c    7\n",
        "b   -5\n",
        "d    3\n",
        "dtype: int64"
       ]
      }
     ],
     "prompt_number": 13
    },
    {
     "cell_type": "code",
     "collapsed": false,
     "input": [
      "obj2[obj2 > 2]"
     ],
     "language": "python",
     "metadata": {},
     "outputs": [
      {
       "metadata": {},
       "output_type": "pyout",
       "prompt_number": 14,
       "text": [
        "a    4\n",
        "c    7\n",
        "d    3\n",
        "dtype: int64"
       ]
      }
     ],
     "prompt_number": 14
    },
    {
     "cell_type": "code",
     "collapsed": false,
     "input": [
      "obj2 * 2"
     ],
     "language": "python",
     "metadata": {},
     "outputs": [
      {
       "metadata": {},
       "output_type": "pyout",
       "prompt_number": 15,
       "text": [
        "a     8\n",
        "c    14\n",
        "b   -10\n",
        "d     6\n",
        "dtype: int64"
       ]
      }
     ],
     "prompt_number": 15
    },
    {
     "cell_type": "code",
     "collapsed": false,
     "input": [
      "np.exp(obj2)"
     ],
     "language": "python",
     "metadata": {},
     "outputs": [
      {
       "metadata": {},
       "output_type": "pyout",
       "prompt_number": 21,
       "text": [
        "a      54.598150\n",
        "c    1096.633158\n",
        "b       0.006738\n",
        "d      20.085537\n",
        "dtype: float64"
       ]
      }
     ],
     "prompt_number": 21
    },
    {
     "cell_type": "code",
     "collapsed": false,
     "input": [
      "'b' in obj2"
     ],
     "language": "python",
     "metadata": {},
     "outputs": [
      {
       "metadata": {},
       "output_type": "pyout",
       "prompt_number": 24,
       "text": [
        "True"
       ]
      }
     ],
     "prompt_number": 24
    },
    {
     "cell_type": "code",
     "collapsed": false,
     "input": [
      "'e' in obj2"
     ],
     "language": "python",
     "metadata": {},
     "outputs": [
      {
       "metadata": {},
       "output_type": "pyout",
       "prompt_number": 25,
       "text": [
        "False"
       ]
      }
     ],
     "prompt_number": 25
    },
    {
     "cell_type": "code",
     "collapsed": false,
     "input": [
      "sdata = {'Ohio':35000, \n",
      "         'Texas':71000,\n",
      "         'Oregon':16000,\n",
      "         'Utah':5000}\n",
      "obj3 = Series(sdata)\n",
      "print obj3"
     ],
     "language": "python",
     "metadata": {},
     "outputs": [
      {
       "output_type": "stream",
       "stream": "stdout",
       "text": [
        "Ohio      35000\n",
        "Oregon    16000\n",
        "Texas     71000\n",
        "Utah       5000\n",
        "dtype: int64\n"
       ]
      }
     ],
     "prompt_number": 26
    },
    {
     "cell_type": "code",
     "collapsed": false,
     "input": [
      "states = ['California', 'Ohio', 'Oregon', 'Texas']\n",
      "obj4 = Series(sdata, index=states)\n",
      "print obj4"
     ],
     "language": "python",
     "metadata": {},
     "outputs": [
      {
       "output_type": "stream",
       "stream": "stdout",
       "text": [
        "California      NaN\n",
        "Ohio          35000\n",
        "Oregon        16000\n",
        "Texas         71000\n",
        "dtype: float64\n"
       ]
      }
     ],
     "prompt_number": 27
    },
    {
     "cell_type": "code",
     "collapsed": false,
     "input": [
      "pd.isnull(obj4)"
     ],
     "language": "python",
     "metadata": {},
     "outputs": [
      {
       "metadata": {},
       "output_type": "pyout",
       "prompt_number": 29,
       "text": [
        "California     True\n",
        "Ohio          False\n",
        "Oregon        False\n",
        "Texas         False\n",
        "dtype: bool"
       ]
      }
     ],
     "prompt_number": 29
    },
    {
     "cell_type": "code",
     "collapsed": false,
     "input": [
      "pd.notnull(obj4)"
     ],
     "language": "python",
     "metadata": {},
     "outputs": [
      {
       "metadata": {},
       "output_type": "pyout",
       "prompt_number": 31,
       "text": [
        "California    False\n",
        "Ohio           True\n",
        "Oregon         True\n",
        "Texas          True\n",
        "dtype: bool"
       ]
      }
     ],
     "prompt_number": 31
    },
    {
     "cell_type": "code",
     "collapsed": false,
     "input": [
      "obj3 + obj4"
     ],
     "language": "python",
     "metadata": {},
     "outputs": [
      {
       "metadata": {},
       "output_type": "pyout",
       "prompt_number": 32,
       "text": [
        "California       NaN\n",
        "Ohio           70000\n",
        "Oregon         32000\n",
        "Texas         142000\n",
        "Utah             NaN\n",
        "dtype: float64"
       ]
      }
     ],
     "prompt_number": 32
    },
    {
     "cell_type": "code",
     "collapsed": false,
     "input": [
      "obj5= obj3+obj4\n",
      "obj5.index.name = 'state'\n",
      "print obj5"
     ],
     "language": "python",
     "metadata": {},
     "outputs": [
      {
       "output_type": "stream",
       "stream": "stdout",
       "text": [
        "state\n",
        "California       NaN\n",
        "Ohio           70000\n",
        "Oregon         32000\n",
        "Texas         142000\n",
        "Utah             NaN\n",
        "dtype: float64\n"
       ]
      }
     ],
     "prompt_number": 33
    },
    {
     "cell_type": "code",
     "collapsed": false,
     "input": [
      "### DataFrame\n",
      "data = {'states':['Ohio', 'Ohio', 'Ohio', 'Nevada', 'Nevada'],\n",
      "        'years':[2000,2001,2002,2001,2002],\n",
      "        'pop':[1.5,1.7,3.6,2.4,2.9]}\n",
      "frame = DataFrame(data)\n",
      "print frame"
     ],
     "language": "python",
     "metadata": {},
     "outputs": [
      {
       "output_type": "stream",
       "stream": "stdout",
       "text": [
        "   pop  states  years\n",
        "0  1.5    Ohio   2000\n",
        "1  1.7    Ohio   2001\n",
        "2  3.6    Ohio   2002\n",
        "3  2.4  Nevada   2001\n",
        "4  2.9  Nevada   2002\n"
       ]
      }
     ],
     "prompt_number": 45
    },
    {
     "cell_type": "code",
     "collapsed": false,
     "input": [
      "DataFrame(data, columns=['years', 'states', 'pop'])"
     ],
     "language": "python",
     "metadata": {},
     "outputs": [
      {
       "html": [
        "<div style=\"max-height:1000px;max-width:1500px;overflow:auto;\">\n",
        "<table border=\"1\" class=\"dataframe\">\n",
        "  <thead>\n",
        "    <tr style=\"text-align: right;\">\n",
        "      <th></th>\n",
        "      <th>years</th>\n",
        "      <th>states</th>\n",
        "      <th>pop</th>\n",
        "    </tr>\n",
        "  </thead>\n",
        "  <tbody>\n",
        "    <tr>\n",
        "      <th>0</th>\n",
        "      <td> 2000</td>\n",
        "      <td>   Ohio</td>\n",
        "      <td> 1.5</td>\n",
        "    </tr>\n",
        "    <tr>\n",
        "      <th>1</th>\n",
        "      <td> 2001</td>\n",
        "      <td>   Ohio</td>\n",
        "      <td> 1.7</td>\n",
        "    </tr>\n",
        "    <tr>\n",
        "      <th>2</th>\n",
        "      <td> 2002</td>\n",
        "      <td>   Ohio</td>\n",
        "      <td> 3.6</td>\n",
        "    </tr>\n",
        "    <tr>\n",
        "      <th>3</th>\n",
        "      <td> 2001</td>\n",
        "      <td> Nevada</td>\n",
        "      <td> 2.4</td>\n",
        "    </tr>\n",
        "    <tr>\n",
        "      <th>4</th>\n",
        "      <td> 2002</td>\n",
        "      <td> Nevada</td>\n",
        "      <td> 2.9</td>\n",
        "    </tr>\n",
        "  </tbody>\n",
        "</table>\n",
        "</div>"
       ],
       "metadata": {},
       "output_type": "pyout",
       "prompt_number": 46,
       "text": [
        "   years  states  pop\n",
        "0   2000    Ohio  1.5\n",
        "1   2001    Ohio  1.7\n",
        "2   2002    Ohio  3.6\n",
        "3   2001  Nevada  2.4\n",
        "4   2002  Nevada  2.9"
       ]
      }
     ],
     "prompt_number": 46
    },
    {
     "cell_type": "code",
     "collapsed": false,
     "input": [
      "frame2 = DataFrame(data, columns=['years', 'states', 'pop', 'debt'], index=['one', 'two', 'three', 'four', 'five'])\n",
      "frame2"
     ],
     "language": "python",
     "metadata": {},
     "outputs": [
      {
       "html": [
        "<div style=\"max-height:1000px;max-width:1500px;overflow:auto;\">\n",
        "<table border=\"1\" class=\"dataframe\">\n",
        "  <thead>\n",
        "    <tr style=\"text-align: right;\">\n",
        "      <th></th>\n",
        "      <th>years</th>\n",
        "      <th>states</th>\n",
        "      <th>pop</th>\n",
        "      <th>debt</th>\n",
        "    </tr>\n",
        "  </thead>\n",
        "  <tbody>\n",
        "    <tr>\n",
        "      <th>one</th>\n",
        "      <td> 2000</td>\n",
        "      <td>   Ohio</td>\n",
        "      <td> 1.5</td>\n",
        "      <td> NaN</td>\n",
        "    </tr>\n",
        "    <tr>\n",
        "      <th>two</th>\n",
        "      <td> 2001</td>\n",
        "      <td>   Ohio</td>\n",
        "      <td> 1.7</td>\n",
        "      <td> NaN</td>\n",
        "    </tr>\n",
        "    <tr>\n",
        "      <th>three</th>\n",
        "      <td> 2002</td>\n",
        "      <td>   Ohio</td>\n",
        "      <td> 3.6</td>\n",
        "      <td> NaN</td>\n",
        "    </tr>\n",
        "    <tr>\n",
        "      <th>four</th>\n",
        "      <td> 2001</td>\n",
        "      <td> Nevada</td>\n",
        "      <td> 2.4</td>\n",
        "      <td> NaN</td>\n",
        "    </tr>\n",
        "    <tr>\n",
        "      <th>five</th>\n",
        "      <td> 2002</td>\n",
        "      <td> Nevada</td>\n",
        "      <td> 2.9</td>\n",
        "      <td> NaN</td>\n",
        "    </tr>\n",
        "  </tbody>\n",
        "</table>\n",
        "</div>"
       ],
       "metadata": {},
       "output_type": "pyout",
       "prompt_number": 47,
       "text": [
        "       years  states  pop debt\n",
        "one     2000    Ohio  1.5  NaN\n",
        "two     2001    Ohio  1.7  NaN\n",
        "three   2002    Ohio  3.6  NaN\n",
        "four    2001  Nevada  2.4  NaN\n",
        "five    2002  Nevada  2.9  NaN"
       ]
      }
     ],
     "prompt_number": 47
    },
    {
     "cell_type": "code",
     "collapsed": false,
     "input": [
      "frame2.columns"
     ],
     "language": "python",
     "metadata": {},
     "outputs": [
      {
       "metadata": {},
       "output_type": "pyout",
       "prompt_number": 48,
       "text": [
        "Index([u'years', u'states', u'pop', u'debt'], dtype='object')"
       ]
      }
     ],
     "prompt_number": 48
    },
    {
     "cell_type": "code",
     "collapsed": false,
     "input": [
      "frame.index"
     ],
     "language": "python",
     "metadata": {},
     "outputs": [
      {
       "metadata": {},
       "output_type": "pyout",
       "prompt_number": 49,
       "text": [
        "Int64Index([0, 1, 2, 3, 4], dtype='int64')"
       ]
      }
     ],
     "prompt_number": 49
    },
    {
     "cell_type": "code",
     "collapsed": false,
     "input": [
      "frame2['states']"
     ],
     "language": "python",
     "metadata": {},
     "outputs": [
      {
       "metadata": {},
       "output_type": "pyout",
       "prompt_number": 50,
       "text": [
        "one        Ohio\n",
        "two        Ohio\n",
        "three      Ohio\n",
        "four     Nevada\n",
        "five     Nevada\n",
        "Name: states, dtype: object"
       ]
      }
     ],
     "prompt_number": 50
    },
    {
     "cell_type": "code",
     "collapsed": false,
     "input": [
      "frame2['years']"
     ],
     "language": "python",
     "metadata": {},
     "outputs": [
      {
       "metadata": {},
       "output_type": "pyout",
       "prompt_number": 51,
       "text": [
        "one      2000\n",
        "two      2001\n",
        "three    2002\n",
        "four     2001\n",
        "five     2002\n",
        "Name: years, dtype: int64"
       ]
      }
     ],
     "prompt_number": 51
    },
    {
     "cell_type": "code",
     "collapsed": false,
     "input": [
      "frame2.ix['three']"
     ],
     "language": "python",
     "metadata": {},
     "outputs": [
      {
       "metadata": {},
       "output_type": "pyout",
       "prompt_number": 52,
       "text": [
        "years     2002\n",
        "states    Ohio\n",
        "pop        3.6\n",
        "debt       NaN\n",
        "Name: three, dtype: object"
       ]
      }
     ],
     "prompt_number": 52
    },
    {
     "cell_type": "code",
     "collapsed": false,
     "input": [
      "frame2['debt'] = 3.14\n",
      "frame2"
     ],
     "language": "python",
     "metadata": {},
     "outputs": [
      {
       "html": [
        "<div style=\"max-height:1000px;max-width:1500px;overflow:auto;\">\n",
        "<table border=\"1\" class=\"dataframe\">\n",
        "  <thead>\n",
        "    <tr style=\"text-align: right;\">\n",
        "      <th></th>\n",
        "      <th>years</th>\n",
        "      <th>states</th>\n",
        "      <th>pop</th>\n",
        "      <th>debt</th>\n",
        "    </tr>\n",
        "  </thead>\n",
        "  <tbody>\n",
        "    <tr>\n",
        "      <th>one</th>\n",
        "      <td> 2000</td>\n",
        "      <td>   Ohio</td>\n",
        "      <td> 1.5</td>\n",
        "      <td> 3.14</td>\n",
        "    </tr>\n",
        "    <tr>\n",
        "      <th>two</th>\n",
        "      <td> 2001</td>\n",
        "      <td>   Ohio</td>\n",
        "      <td> 1.7</td>\n",
        "      <td> 3.14</td>\n",
        "    </tr>\n",
        "    <tr>\n",
        "      <th>three</th>\n",
        "      <td> 2002</td>\n",
        "      <td>   Ohio</td>\n",
        "      <td> 3.6</td>\n",
        "      <td> 3.14</td>\n",
        "    </tr>\n",
        "    <tr>\n",
        "      <th>four</th>\n",
        "      <td> 2001</td>\n",
        "      <td> Nevada</td>\n",
        "      <td> 2.4</td>\n",
        "      <td> 3.14</td>\n",
        "    </tr>\n",
        "    <tr>\n",
        "      <th>five</th>\n",
        "      <td> 2002</td>\n",
        "      <td> Nevada</td>\n",
        "      <td> 2.9</td>\n",
        "      <td> 3.14</td>\n",
        "    </tr>\n",
        "  </tbody>\n",
        "</table>\n",
        "</div>"
       ],
       "metadata": {},
       "output_type": "pyout",
       "prompt_number": 54,
       "text": [
        "       years  states  pop  debt\n",
        "one     2000    Ohio  1.5  3.14\n",
        "two     2001    Ohio  1.7  3.14\n",
        "three   2002    Ohio  3.6  3.14\n",
        "four    2001  Nevada  2.4  3.14\n",
        "five    2002  Nevada  2.9  3.14"
       ]
      }
     ],
     "prompt_number": 54
    },
    {
     "cell_type": "code",
     "collapsed": false,
     "input": [
      "frame2['debt'] = np.arange(5)\n",
      "frame2"
     ],
     "language": "python",
     "metadata": {},
     "outputs": [
      {
       "html": [
        "<div style=\"max-height:1000px;max-width:1500px;overflow:auto;\">\n",
        "<table border=\"1\" class=\"dataframe\">\n",
        "  <thead>\n",
        "    <tr style=\"text-align: right;\">\n",
        "      <th></th>\n",
        "      <th>years</th>\n",
        "      <th>states</th>\n",
        "      <th>pop</th>\n",
        "      <th>debt</th>\n",
        "    </tr>\n",
        "  </thead>\n",
        "  <tbody>\n",
        "    <tr>\n",
        "      <th>one</th>\n",
        "      <td> 2000</td>\n",
        "      <td>   Ohio</td>\n",
        "      <td> 1.5</td>\n",
        "      <td> 0</td>\n",
        "    </tr>\n",
        "    <tr>\n",
        "      <th>two</th>\n",
        "      <td> 2001</td>\n",
        "      <td>   Ohio</td>\n",
        "      <td> 1.7</td>\n",
        "      <td> 1</td>\n",
        "    </tr>\n",
        "    <tr>\n",
        "      <th>three</th>\n",
        "      <td> 2002</td>\n",
        "      <td>   Ohio</td>\n",
        "      <td> 3.6</td>\n",
        "      <td> 2</td>\n",
        "    </tr>\n",
        "    <tr>\n",
        "      <th>four</th>\n",
        "      <td> 2001</td>\n",
        "      <td> Nevada</td>\n",
        "      <td> 2.4</td>\n",
        "      <td> 3</td>\n",
        "    </tr>\n",
        "    <tr>\n",
        "      <th>five</th>\n",
        "      <td> 2002</td>\n",
        "      <td> Nevada</td>\n",
        "      <td> 2.9</td>\n",
        "      <td> 4</td>\n",
        "    </tr>\n",
        "  </tbody>\n",
        "</table>\n",
        "</div>"
       ],
       "metadata": {},
       "output_type": "pyout",
       "prompt_number": 56,
       "text": [
        "       years  states  pop  debt\n",
        "one     2000    Ohio  1.5     0\n",
        "two     2001    Ohio  1.7     1\n",
        "three   2002    Ohio  3.6     2\n",
        "four    2001  Nevada  2.4     3\n",
        "five    2002  Nevada  2.9     4"
       ]
      }
     ],
     "prompt_number": 56
    },
    {
     "cell_type": "code",
     "collapsed": false,
     "input": [
      "val = Series([-1.2, -1.5, -1.7], index = ['two', 'four', 'five'])\n",
      "val"
     ],
     "language": "python",
     "metadata": {},
     "outputs": [
      {
       "metadata": {},
       "output_type": "pyout",
       "prompt_number": 57,
       "text": [
        "two    -1.2\n",
        "four   -1.5\n",
        "five   -1.7\n",
        "dtype: float64"
       ]
      }
     ],
     "prompt_number": 57
    },
    {
     "cell_type": "code",
     "collapsed": false,
     "input": [
      "frame2['debt'] = val\n",
      "frame2"
     ],
     "language": "python",
     "metadata": {},
     "outputs": [
      {
       "html": [
        "<div style=\"max-height:1000px;max-width:1500px;overflow:auto;\">\n",
        "<table border=\"1\" class=\"dataframe\">\n",
        "  <thead>\n",
        "    <tr style=\"text-align: right;\">\n",
        "      <th></th>\n",
        "      <th>years</th>\n",
        "      <th>states</th>\n",
        "      <th>pop</th>\n",
        "      <th>debt</th>\n",
        "    </tr>\n",
        "  </thead>\n",
        "  <tbody>\n",
        "    <tr>\n",
        "      <th>one</th>\n",
        "      <td> 2000</td>\n",
        "      <td>   Ohio</td>\n",
        "      <td> 1.5</td>\n",
        "      <td> NaN</td>\n",
        "    </tr>\n",
        "    <tr>\n",
        "      <th>two</th>\n",
        "      <td> 2001</td>\n",
        "      <td>   Ohio</td>\n",
        "      <td> 1.7</td>\n",
        "      <td>-1.2</td>\n",
        "    </tr>\n",
        "    <tr>\n",
        "      <th>three</th>\n",
        "      <td> 2002</td>\n",
        "      <td>   Ohio</td>\n",
        "      <td> 3.6</td>\n",
        "      <td> NaN</td>\n",
        "    </tr>\n",
        "    <tr>\n",
        "      <th>four</th>\n",
        "      <td> 2001</td>\n",
        "      <td> Nevada</td>\n",
        "      <td> 2.4</td>\n",
        "      <td>-1.5</td>\n",
        "    </tr>\n",
        "    <tr>\n",
        "      <th>five</th>\n",
        "      <td> 2002</td>\n",
        "      <td> Nevada</td>\n",
        "      <td> 2.9</td>\n",
        "      <td>-1.7</td>\n",
        "    </tr>\n",
        "  </tbody>\n",
        "</table>\n",
        "</div>"
       ],
       "metadata": {},
       "output_type": "pyout",
       "prompt_number": 59,
       "text": [
        "       years  states  pop  debt\n",
        "one     2000    Ohio  1.5   NaN\n",
        "two     2001    Ohio  1.7  -1.2\n",
        "three   2002    Ohio  3.6   NaN\n",
        "four    2001  Nevada  2.4  -1.5\n",
        "five    2002  Nevada  2.9  -1.7"
       ]
      }
     ],
     "prompt_number": 59
    },
    {
     "cell_type": "code",
     "collapsed": false,
     "input": [
      "frame2['eastern'] = (frame2.states == 'Ohio')\n",
      "frame2"
     ],
     "language": "python",
     "metadata": {},
     "outputs": [
      {
       "html": [
        "<div style=\"max-height:1000px;max-width:1500px;overflow:auto;\">\n",
        "<table border=\"1\" class=\"dataframe\">\n",
        "  <thead>\n",
        "    <tr style=\"text-align: right;\">\n",
        "      <th></th>\n",
        "      <th>years</th>\n",
        "      <th>states</th>\n",
        "      <th>pop</th>\n",
        "      <th>debt</th>\n",
        "      <th>eastern</th>\n",
        "    </tr>\n",
        "  </thead>\n",
        "  <tbody>\n",
        "    <tr>\n",
        "      <th>one</th>\n",
        "      <td> 2000</td>\n",
        "      <td>   Ohio</td>\n",
        "      <td> 1.5</td>\n",
        "      <td> NaN</td>\n",
        "      <td>  True</td>\n",
        "    </tr>\n",
        "    <tr>\n",
        "      <th>two</th>\n",
        "      <td> 2001</td>\n",
        "      <td>   Ohio</td>\n",
        "      <td> 1.7</td>\n",
        "      <td>-1.2</td>\n",
        "      <td>  True</td>\n",
        "    </tr>\n",
        "    <tr>\n",
        "      <th>three</th>\n",
        "      <td> 2002</td>\n",
        "      <td>   Ohio</td>\n",
        "      <td> 3.6</td>\n",
        "      <td> NaN</td>\n",
        "      <td>  True</td>\n",
        "    </tr>\n",
        "    <tr>\n",
        "      <th>four</th>\n",
        "      <td> 2001</td>\n",
        "      <td> Nevada</td>\n",
        "      <td> 2.4</td>\n",
        "      <td>-1.5</td>\n",
        "      <td> False</td>\n",
        "    </tr>\n",
        "    <tr>\n",
        "      <th>five</th>\n",
        "      <td> 2002</td>\n",
        "      <td> Nevada</td>\n",
        "      <td> 2.9</td>\n",
        "      <td>-1.7</td>\n",
        "      <td> False</td>\n",
        "    </tr>\n",
        "  </tbody>\n",
        "</table>\n",
        "</div>"
       ],
       "metadata": {},
       "output_type": "pyout",
       "prompt_number": 61,
       "text": [
        "       years  states  pop  debt eastern\n",
        "one     2000    Ohio  1.5   NaN    True\n",
        "two     2001    Ohio  1.7  -1.2    True\n",
        "three   2002    Ohio  3.6   NaN    True\n",
        "four    2001  Nevada  2.4  -1.5   False\n",
        "five    2002  Nevada  2.9  -1.7   False"
       ]
      }
     ],
     "prompt_number": 61
    },
    {
     "cell_type": "code",
     "collapsed": false,
     "input": [
      "del frame2['eastern']\n",
      "frame2"
     ],
     "language": "python",
     "metadata": {},
     "outputs": [
      {
       "html": [
        "<div style=\"max-height:1000px;max-width:1500px;overflow:auto;\">\n",
        "<table border=\"1\" class=\"dataframe\">\n",
        "  <thead>\n",
        "    <tr style=\"text-align: right;\">\n",
        "      <th></th>\n",
        "      <th>years</th>\n",
        "      <th>states</th>\n",
        "      <th>pop</th>\n",
        "      <th>debt</th>\n",
        "    </tr>\n",
        "  </thead>\n",
        "  <tbody>\n",
        "    <tr>\n",
        "      <th>one</th>\n",
        "      <td> 2000</td>\n",
        "      <td>   Ohio</td>\n",
        "      <td> 1.5</td>\n",
        "      <td> NaN</td>\n",
        "    </tr>\n",
        "    <tr>\n",
        "      <th>two</th>\n",
        "      <td> 2001</td>\n",
        "      <td>   Ohio</td>\n",
        "      <td> 1.7</td>\n",
        "      <td>-1.2</td>\n",
        "    </tr>\n",
        "    <tr>\n",
        "      <th>three</th>\n",
        "      <td> 2002</td>\n",
        "      <td>   Ohio</td>\n",
        "      <td> 3.6</td>\n",
        "      <td> NaN</td>\n",
        "    </tr>\n",
        "    <tr>\n",
        "      <th>four</th>\n",
        "      <td> 2001</td>\n",
        "      <td> Nevada</td>\n",
        "      <td> 2.4</td>\n",
        "      <td>-1.5</td>\n",
        "    </tr>\n",
        "    <tr>\n",
        "      <th>five</th>\n",
        "      <td> 2002</td>\n",
        "      <td> Nevada</td>\n",
        "      <td> 2.9</td>\n",
        "      <td>-1.7</td>\n",
        "    </tr>\n",
        "  </tbody>\n",
        "</table>\n",
        "</div>"
       ],
       "metadata": {},
       "output_type": "pyout",
       "prompt_number": 62,
       "text": [
        "       years  states  pop  debt\n",
        "one     2000    Ohio  1.5   NaN\n",
        "two     2001    Ohio  1.7  -1.2\n",
        "three   2002    Ohio  3.6   NaN\n",
        "four    2001  Nevada  2.4  -1.5\n",
        "five    2002  Nevada  2.9  -1.7"
       ]
      }
     ],
     "prompt_number": 62
    },
    {
     "cell_type": "code",
     "collapsed": false,
     "input": [
      "frame2.T"
     ],
     "language": "python",
     "metadata": {},
     "outputs": [
      {
       "html": [
        "<div style=\"max-height:1000px;max-width:1500px;overflow:auto;\">\n",
        "<table border=\"1\" class=\"dataframe\">\n",
        "  <thead>\n",
        "    <tr style=\"text-align: right;\">\n",
        "      <th></th>\n",
        "      <th>one</th>\n",
        "      <th>two</th>\n",
        "      <th>three</th>\n",
        "      <th>four</th>\n",
        "      <th>five</th>\n",
        "    </tr>\n",
        "  </thead>\n",
        "  <tbody>\n",
        "    <tr>\n",
        "      <th>years</th>\n",
        "      <td> 2000</td>\n",
        "      <td> 2001</td>\n",
        "      <td> 2002</td>\n",
        "      <td>   2001</td>\n",
        "      <td>   2002</td>\n",
        "    </tr>\n",
        "    <tr>\n",
        "      <th>states</th>\n",
        "      <td> Ohio</td>\n",
        "      <td> Ohio</td>\n",
        "      <td> Ohio</td>\n",
        "      <td> Nevada</td>\n",
        "      <td> Nevada</td>\n",
        "    </tr>\n",
        "    <tr>\n",
        "      <th>pop</th>\n",
        "      <td>  1.5</td>\n",
        "      <td>  1.7</td>\n",
        "      <td>  3.6</td>\n",
        "      <td>    2.4</td>\n",
        "      <td>    2.9</td>\n",
        "    </tr>\n",
        "    <tr>\n",
        "      <th>debt</th>\n",
        "      <td>  NaN</td>\n",
        "      <td> -1.2</td>\n",
        "      <td>  NaN</td>\n",
        "      <td>   -1.5</td>\n",
        "      <td>   -1.7</td>\n",
        "    </tr>\n",
        "  </tbody>\n",
        "</table>\n",
        "</div>"
       ],
       "metadata": {},
       "output_type": "pyout",
       "prompt_number": 63,
       "text": [
        "         one   two three    four    five\n",
        "years   2000  2001  2002    2001    2002\n",
        "states  Ohio  Ohio  Ohio  Nevada  Nevada\n",
        "pop      1.5   1.7   3.6     2.4     2.9\n",
        "debt     NaN  -1.2   NaN    -1.5    -1.7"
       ]
      }
     ],
     "prompt_number": 63
    },
    {
     "cell_type": "code",
     "collapsed": false,
     "input": [
      "frame2.values"
     ],
     "language": "python",
     "metadata": {},
     "outputs": [
      {
       "metadata": {},
       "output_type": "pyout",
       "prompt_number": 64,
       "text": [
        "array([[2000L, 'Ohio', 1.5, nan],\n",
        "       [2001L, 'Ohio', 1.7, -1.2],\n",
        "       [2002L, 'Ohio', 3.6, nan],\n",
        "       [2001L, 'Nevada', 2.4, -1.5],\n",
        "       [2002L, 'Nevada', 2.9, -1.7]], dtype=object)"
       ]
      }
     ],
     "prompt_number": 64
    },
    {
     "cell_type": "code",
     "collapsed": false,
     "input": [
      "### Index Objects\n",
      "obj = Series(range(3), index=['a', 'b', 'c'])\n",
      "index = obj.index\n",
      "index"
     ],
     "language": "python",
     "metadata": {},
     "outputs": [
      {
       "metadata": {},
       "output_type": "pyout",
       "prompt_number": 67,
       "text": [
        "Index([u'a', u'b', u'c'], dtype='object')"
       ]
      }
     ],
     "prompt_number": 67
    },
    {
     "cell_type": "code",
     "collapsed": false,
     "input": [
      "index[1:]"
     ],
     "language": "python",
     "metadata": {},
     "outputs": [
      {
       "metadata": {},
       "output_type": "pyout",
       "prompt_number": 68,
       "text": [
        "Index([u'b', u'c'], dtype='object')"
       ]
      }
     ],
     "prompt_number": 68
    },
    {
     "cell_type": "code",
     "collapsed": false,
     "input": [
      "index[1]"
     ],
     "language": "python",
     "metadata": {},
     "outputs": [
      {
       "metadata": {},
       "output_type": "pyout",
       "prompt_number": 69,
       "text": [
        "'b'"
       ]
      }
     ],
     "prompt_number": 69
    },
    {
     "cell_type": "code",
     "collapsed": false,
     "input": [
      "index = pd.Index(np.arange(3))\n",
      "obj2 = Series([1.5, -2.5, 0], index=index)\n",
      "obj2"
     ],
     "language": "python",
     "metadata": {},
     "outputs": [
      {
       "metadata": {},
       "output_type": "pyout",
       "prompt_number": 73,
       "text": [
        "0    1.5\n",
        "1   -2.5\n",
        "2    0.0\n",
        "dtype: float64"
       ]
      }
     ],
     "prompt_number": 73
    },
    {
     "cell_type": "code",
     "collapsed": false,
     "input": [
      "obj2.index is index"
     ],
     "language": "python",
     "metadata": {},
     "outputs": [
      {
       "metadata": {},
       "output_type": "pyout",
       "prompt_number": 74,
       "text": [
        "True"
       ]
      }
     ],
     "prompt_number": 74
    },
    {
     "cell_type": "code",
     "collapsed": false,
     "input": [
      "### Essential functionality\n",
      "obj = Series([4.5, 7.2, -5.3, 3.6], index = ['d', 'b', 'a', 'c'])\n",
      "obj"
     ],
     "language": "python",
     "metadata": {},
     "outputs": [
      {
       "metadata": {},
       "output_type": "pyout",
       "prompt_number": 79,
       "text": [
        "d    4.5\n",
        "b    7.2\n",
        "a   -5.3\n",
        "c    3.6\n",
        "dtype: float64"
       ]
      }
     ],
     "prompt_number": 79
    },
    {
     "cell_type": "code",
     "collapsed": false,
     "input": [
      "obj2 = obj.reindex(['a', 'b', 'c', 'd', 'e'])\n",
      "obj2"
     ],
     "language": "python",
     "metadata": {},
     "outputs": [
      {
       "metadata": {},
       "output_type": "pyout",
       "prompt_number": 80,
       "text": [
        "a   -5.3\n",
        "b    7.2\n",
        "c    3.6\n",
        "d    4.5\n",
        "e    NaN\n",
        "dtype: float64"
       ]
      }
     ],
     "prompt_number": 80
    },
    {
     "cell_type": "code",
     "collapsed": false,
     "input": [
      "obj2 = obj.reindex(['a', 'b', 'c', 'd', 'e'], fill_value=0)\n",
      "obj2"
     ],
     "language": "python",
     "metadata": {},
     "outputs": [
      {
       "metadata": {},
       "output_type": "pyout",
       "prompt_number": 81,
       "text": [
        "a   -5.3\n",
        "b    7.2\n",
        "c    3.6\n",
        "d    4.5\n",
        "e    0.0\n",
        "dtype: float64"
       ]
      }
     ],
     "prompt_number": 81
    },
    {
     "cell_type": "code",
     "collapsed": false,
     "input": [
      "obj3 = Series(['blue', 'purple', 'yellow'], index=[0,2,4])\n",
      "obj3.reindex(range(6))"
     ],
     "language": "python",
     "metadata": {},
     "outputs": [
      {
       "metadata": {},
       "output_type": "pyout",
       "prompt_number": 84,
       "text": [
        "0      blue\n",
        "1       NaN\n",
        "2    purple\n",
        "3       NaN\n",
        "4    yellow\n",
        "5       NaN\n",
        "dtype: object"
       ]
      }
     ],
     "prompt_number": 84
    },
    {
     "cell_type": "code",
     "collapsed": false,
     "input": [
      "obj3.reindex(range(6), method='ffill')"
     ],
     "language": "python",
     "metadata": {},
     "outputs": [
      {
       "metadata": {},
       "output_type": "pyout",
       "prompt_number": 85,
       "text": [
        "0      blue\n",
        "1      blue\n",
        "2    purple\n",
        "3    purple\n",
        "4    yellow\n",
        "5    yellow\n",
        "dtype: object"
       ]
      }
     ],
     "prompt_number": 85
    },
    {
     "cell_type": "code",
     "collapsed": false,
     "input": [
      "frame = DataFrame(np.arange(9).reshape((3,3)), index=['a', 'b', 'c'], columns=['Ohio', 'Texas', 'California'])\n",
      "frame"
     ],
     "language": "python",
     "metadata": {},
     "outputs": [
      {
       "html": [
        "<div style=\"max-height:1000px;max-width:1500px;overflow:auto;\">\n",
        "<table border=\"1\" class=\"dataframe\">\n",
        "  <thead>\n",
        "    <tr style=\"text-align: right;\">\n",
        "      <th></th>\n",
        "      <th>Ohio</th>\n",
        "      <th>Texas</th>\n",
        "      <th>California</th>\n",
        "    </tr>\n",
        "  </thead>\n",
        "  <tbody>\n",
        "    <tr>\n",
        "      <th>a</th>\n",
        "      <td> 0</td>\n",
        "      <td> 1</td>\n",
        "      <td> 2</td>\n",
        "    </tr>\n",
        "    <tr>\n",
        "      <th>b</th>\n",
        "      <td> 3</td>\n",
        "      <td> 4</td>\n",
        "      <td> 5</td>\n",
        "    </tr>\n",
        "    <tr>\n",
        "      <th>c</th>\n",
        "      <td> 6</td>\n",
        "      <td> 7</td>\n",
        "      <td> 8</td>\n",
        "    </tr>\n",
        "  </tbody>\n",
        "</table>\n",
        "</div>"
       ],
       "metadata": {},
       "output_type": "pyout",
       "prompt_number": 89,
       "text": [
        "   Ohio  Texas  California\n",
        "a     0      1           2\n",
        "b     3      4           5\n",
        "c     6      7           8"
       ]
      }
     ],
     "prompt_number": 89
    },
    {
     "cell_type": "code",
     "collapsed": false,
     "input": [
      "frame2 = frame.reindex(['a', 'd', 'c', 'b'])\n",
      "frame2"
     ],
     "language": "python",
     "metadata": {},
     "outputs": [
      {
       "html": [
        "<div style=\"max-height:1000px;max-width:1500px;overflow:auto;\">\n",
        "<table border=\"1\" class=\"dataframe\">\n",
        "  <thead>\n",
        "    <tr style=\"text-align: right;\">\n",
        "      <th></th>\n",
        "      <th>Ohio</th>\n",
        "      <th>Texas</th>\n",
        "      <th>California</th>\n",
        "    </tr>\n",
        "  </thead>\n",
        "  <tbody>\n",
        "    <tr>\n",
        "      <th>a</th>\n",
        "      <td>  0</td>\n",
        "      <td>  1</td>\n",
        "      <td>  2</td>\n",
        "    </tr>\n",
        "    <tr>\n",
        "      <th>d</th>\n",
        "      <td>NaN</td>\n",
        "      <td>NaN</td>\n",
        "      <td>NaN</td>\n",
        "    </tr>\n",
        "    <tr>\n",
        "      <th>c</th>\n",
        "      <td>  6</td>\n",
        "      <td>  7</td>\n",
        "      <td>  8</td>\n",
        "    </tr>\n",
        "    <tr>\n",
        "      <th>b</th>\n",
        "      <td>  3</td>\n",
        "      <td>  4</td>\n",
        "      <td>  5</td>\n",
        "    </tr>\n",
        "  </tbody>\n",
        "</table>\n",
        "</div>"
       ],
       "metadata": {},
       "output_type": "pyout",
       "prompt_number": 91,
       "text": [
        "   Ohio  Texas  California\n",
        "a     0      1           2\n",
        "d   NaN    NaN         NaN\n",
        "c     6      7           8\n",
        "b     3      4           5"
       ]
      }
     ],
     "prompt_number": 91
    },
    {
     "cell_type": "code",
     "collapsed": false,
     "input": [
      "states = ['Texas', 'Utah', 'California']\n",
      "frame.reindex(columns=states)"
     ],
     "language": "python",
     "metadata": {},
     "outputs": [
      {
       "html": [
        "<div style=\"max-height:1000px;max-width:1500px;overflow:auto;\">\n",
        "<table border=\"1\" class=\"dataframe\">\n",
        "  <thead>\n",
        "    <tr style=\"text-align: right;\">\n",
        "      <th></th>\n",
        "      <th>Texas</th>\n",
        "      <th>Utah</th>\n",
        "      <th>California</th>\n",
        "    </tr>\n",
        "  </thead>\n",
        "  <tbody>\n",
        "    <tr>\n",
        "      <th>a</th>\n",
        "      <td> 1</td>\n",
        "      <td>NaN</td>\n",
        "      <td> 2</td>\n",
        "    </tr>\n",
        "    <tr>\n",
        "      <th>b</th>\n",
        "      <td> 4</td>\n",
        "      <td>NaN</td>\n",
        "      <td> 5</td>\n",
        "    </tr>\n",
        "    <tr>\n",
        "      <th>c</th>\n",
        "      <td> 7</td>\n",
        "      <td>NaN</td>\n",
        "      <td> 8</td>\n",
        "    </tr>\n",
        "  </tbody>\n",
        "</table>\n",
        "</div>"
       ],
       "metadata": {},
       "output_type": "pyout",
       "prompt_number": 92,
       "text": [
        "   Texas  Utah  California\n",
        "a      1   NaN           2\n",
        "b      4   NaN           5\n",
        "c      7   NaN           8"
       ]
      }
     ],
     "prompt_number": 92
    },
    {
     "cell_type": "code",
     "collapsed": false,
     "input": [
      "frame.reindex(index=['a', 'b', 'c', 'd'], method='ffill', columns=states)"
     ],
     "language": "python",
     "metadata": {},
     "outputs": [
      {
       "html": [
        "<div style=\"max-height:1000px;max-width:1500px;overflow:auto;\">\n",
        "<table border=\"1\" class=\"dataframe\">\n",
        "  <thead>\n",
        "    <tr style=\"text-align: right;\">\n",
        "      <th></th>\n",
        "      <th>Texas</th>\n",
        "      <th>Utah</th>\n",
        "      <th>California</th>\n",
        "    </tr>\n",
        "  </thead>\n",
        "  <tbody>\n",
        "    <tr>\n",
        "      <th>a</th>\n",
        "      <td> 1</td>\n",
        "      <td>NaN</td>\n",
        "      <td> 2</td>\n",
        "    </tr>\n",
        "    <tr>\n",
        "      <th>b</th>\n",
        "      <td> 4</td>\n",
        "      <td>NaN</td>\n",
        "      <td> 5</td>\n",
        "    </tr>\n",
        "    <tr>\n",
        "      <th>c</th>\n",
        "      <td> 7</td>\n",
        "      <td>NaN</td>\n",
        "      <td> 8</td>\n",
        "    </tr>\n",
        "    <tr>\n",
        "      <th>d</th>\n",
        "      <td> 7</td>\n",
        "      <td>NaN</td>\n",
        "      <td> 8</td>\n",
        "    </tr>\n",
        "  </tbody>\n",
        "</table>\n",
        "</div>"
       ],
       "metadata": {},
       "output_type": "pyout",
       "prompt_number": 95,
       "text": [
        "   Texas  Utah  California\n",
        "a      1   NaN           2\n",
        "b      4   NaN           5\n",
        "c      7   NaN           8\n",
        "d      7   NaN           8"
       ]
      }
     ],
     "prompt_number": 95
    },
    {
     "cell_type": "code",
     "collapsed": false,
     "input": [
      "frame.ix[['a', 'b', 'c', 'd'], states]"
     ],
     "language": "python",
     "metadata": {},
     "outputs": [
      {
       "html": [
        "<div style=\"max-height:1000px;max-width:1500px;overflow:auto;\">\n",
        "<table border=\"1\" class=\"dataframe\">\n",
        "  <thead>\n",
        "    <tr style=\"text-align: right;\">\n",
        "      <th></th>\n",
        "      <th>Texas</th>\n",
        "      <th>Utah</th>\n",
        "      <th>California</th>\n",
        "    </tr>\n",
        "  </thead>\n",
        "  <tbody>\n",
        "    <tr>\n",
        "      <th>a</th>\n",
        "      <td>  1</td>\n",
        "      <td>NaN</td>\n",
        "      <td>  2</td>\n",
        "    </tr>\n",
        "    <tr>\n",
        "      <th>b</th>\n",
        "      <td>  4</td>\n",
        "      <td>NaN</td>\n",
        "      <td>  5</td>\n",
        "    </tr>\n",
        "    <tr>\n",
        "      <th>c</th>\n",
        "      <td>  7</td>\n",
        "      <td>NaN</td>\n",
        "      <td>  8</td>\n",
        "    </tr>\n",
        "    <tr>\n",
        "      <th>d</th>\n",
        "      <td>NaN</td>\n",
        "      <td>NaN</td>\n",
        "      <td>NaN</td>\n",
        "    </tr>\n",
        "  </tbody>\n",
        "</table>\n",
        "</div>"
       ],
       "metadata": {},
       "output_type": "pyout",
       "prompt_number": 96,
       "text": [
        "   Texas  Utah  California\n",
        "a      1   NaN           2\n",
        "b      4   NaN           5\n",
        "c      7   NaN           8\n",
        "d    NaN   NaN         NaN"
       ]
      }
     ],
     "prompt_number": 96
    },
    {
     "cell_type": "code",
     "collapsed": false,
     "input": [
      "### Dropping entries from an axis\n",
      "obj = Series(np.arange(5.), index=['a', 'b', 'c', 'd', 'e'])\n",
      "obj"
     ],
     "language": "python",
     "metadata": {},
     "outputs": [
      {
       "metadata": {},
       "output_type": "pyout",
       "prompt_number": 97,
       "text": [
        "a    0\n",
        "b    1\n",
        "c    2\n",
        "d    3\n",
        "e    4\n",
        "dtype: float64"
       ]
      }
     ],
     "prompt_number": 97
    },
    {
     "cell_type": "code",
     "collapsed": false,
     "input": [
      "new_obj = obj.drop(['c', 'd'])\n",
      "new_obj"
     ],
     "language": "python",
     "metadata": {},
     "outputs": [
      {
       "metadata": {},
       "output_type": "pyout",
       "prompt_number": 100,
       "text": [
        "a    0\n",
        "b    1\n",
        "e    4\n",
        "dtype: float64"
       ]
      }
     ],
     "prompt_number": 100
    },
    {
     "cell_type": "code",
     "collapsed": false,
     "input": [
      "data = DataFrame(np.arange(16).reshape(4,4), index=['Ohio', 'Colorado', 'Utah', 'New York'], columns=['one', 'two', 'three', 'four'])\n",
      "data"
     ],
     "language": "python",
     "metadata": {},
     "outputs": [
      {
       "html": [
        "<div style=\"max-height:1000px;max-width:1500px;overflow:auto;\">\n",
        "<table border=\"1\" class=\"dataframe\">\n",
        "  <thead>\n",
        "    <tr style=\"text-align: right;\">\n",
        "      <th></th>\n",
        "      <th>one</th>\n",
        "      <th>two</th>\n",
        "      <th>three</th>\n",
        "      <th>four</th>\n",
        "    </tr>\n",
        "  </thead>\n",
        "  <tbody>\n",
        "    <tr>\n",
        "      <th>Ohio</th>\n",
        "      <td>  0</td>\n",
        "      <td>  1</td>\n",
        "      <td>  2</td>\n",
        "      <td>  3</td>\n",
        "    </tr>\n",
        "    <tr>\n",
        "      <th>Colorado</th>\n",
        "      <td>  4</td>\n",
        "      <td>  5</td>\n",
        "      <td>  6</td>\n",
        "      <td>  7</td>\n",
        "    </tr>\n",
        "    <tr>\n",
        "      <th>Utah</th>\n",
        "      <td>  8</td>\n",
        "      <td>  9</td>\n",
        "      <td> 10</td>\n",
        "      <td> 11</td>\n",
        "    </tr>\n",
        "    <tr>\n",
        "      <th>New York</th>\n",
        "      <td> 12</td>\n",
        "      <td> 13</td>\n",
        "      <td> 14</td>\n",
        "      <td> 15</td>\n",
        "    </tr>\n",
        "  </tbody>\n",
        "</table>\n",
        "</div>"
       ],
       "metadata": {},
       "output_type": "pyout",
       "prompt_number": 105,
       "text": [
        "          one  two  three  four\n",
        "Ohio        0    1      2     3\n",
        "Colorado    4    5      6     7\n",
        "Utah        8    9     10    11\n",
        "New York   12   13     14    15"
       ]
      }
     ],
     "prompt_number": 105
    },
    {
     "cell_type": "code",
     "collapsed": false,
     "input": [
      "data.drop(['Ohio','Utah'])"
     ],
     "language": "python",
     "metadata": {},
     "outputs": [
      {
       "html": [
        "<div style=\"max-height:1000px;max-width:1500px;overflow:auto;\">\n",
        "<table border=\"1\" class=\"dataframe\">\n",
        "  <thead>\n",
        "    <tr style=\"text-align: right;\">\n",
        "      <th></th>\n",
        "      <th>one</th>\n",
        "      <th>two</th>\n",
        "      <th>three</th>\n",
        "      <th>four</th>\n",
        "    </tr>\n",
        "  </thead>\n",
        "  <tbody>\n",
        "    <tr>\n",
        "      <th>Colorado</th>\n",
        "      <td>  4</td>\n",
        "      <td>  5</td>\n",
        "      <td>  6</td>\n",
        "      <td>  7</td>\n",
        "    </tr>\n",
        "    <tr>\n",
        "      <th>New York</th>\n",
        "      <td> 12</td>\n",
        "      <td> 13</td>\n",
        "      <td> 14</td>\n",
        "      <td> 15</td>\n",
        "    </tr>\n",
        "  </tbody>\n",
        "</table>\n",
        "</div>"
       ],
       "metadata": {},
       "output_type": "pyout",
       "prompt_number": 106,
       "text": [
        "          one  two  three  four\n",
        "Colorado    4    5      6     7\n",
        "New York   12   13     14    15"
       ]
      }
     ],
     "prompt_number": 106
    },
    {
     "cell_type": "code",
     "collapsed": false,
     "input": [
      "data.drop(['two','three'], axis=1)"
     ],
     "language": "python",
     "metadata": {},
     "outputs": [
      {
       "html": [
        "<div style=\"max-height:1000px;max-width:1500px;overflow:auto;\">\n",
        "<table border=\"1\" class=\"dataframe\">\n",
        "  <thead>\n",
        "    <tr style=\"text-align: right;\">\n",
        "      <th></th>\n",
        "      <th>one</th>\n",
        "      <th>four</th>\n",
        "    </tr>\n",
        "  </thead>\n",
        "  <tbody>\n",
        "    <tr>\n",
        "      <th>Ohio</th>\n",
        "      <td>  0</td>\n",
        "      <td>  3</td>\n",
        "    </tr>\n",
        "    <tr>\n",
        "      <th>Colorado</th>\n",
        "      <td>  4</td>\n",
        "      <td>  7</td>\n",
        "    </tr>\n",
        "    <tr>\n",
        "      <th>Utah</th>\n",
        "      <td>  8</td>\n",
        "      <td> 11</td>\n",
        "    </tr>\n",
        "    <tr>\n",
        "      <th>New York</th>\n",
        "      <td> 12</td>\n",
        "      <td> 15</td>\n",
        "    </tr>\n",
        "  </tbody>\n",
        "</table>\n",
        "</div>"
       ],
       "metadata": {},
       "output_type": "pyout",
       "prompt_number": 111,
       "text": [
        "          one  four\n",
        "Ohio        0     3\n",
        "Colorado    4     7\n",
        "Utah        8    11\n",
        "New York   12    15"
       ]
      }
     ],
     "prompt_number": 111
    },
    {
     "cell_type": "code",
     "collapsed": false,
     "input": [
      "### Indexing, selection, and filtering\n",
      "obj = Series(np.arange(4.), index=['a', 'b', 'c', 'd'])\n",
      "obj"
     ],
     "language": "python",
     "metadata": {},
     "outputs": [
      {
       "metadata": {},
       "output_type": "pyout",
       "prompt_number": 112,
       "text": [
        "a    0\n",
        "b    1\n",
        "c    2\n",
        "d    3\n",
        "dtype: float64"
       ]
      }
     ],
     "prompt_number": 112
    },
    {
     "cell_type": "code",
     "collapsed": false,
     "input": [
      "obj['b']"
     ],
     "language": "python",
     "metadata": {},
     "outputs": [
      {
       "metadata": {},
       "output_type": "pyout",
       "prompt_number": 113,
       "text": [
        "1.0"
       ]
      }
     ],
     "prompt_number": 113
    },
    {
     "cell_type": "code",
     "collapsed": false,
     "input": [
      "obj[1]"
     ],
     "language": "python",
     "metadata": {},
     "outputs": [
      {
       "metadata": {},
       "output_type": "pyout",
       "prompt_number": 114,
       "text": [
        "1.0"
       ]
      }
     ],
     "prompt_number": 114
    },
    {
     "cell_type": "code",
     "collapsed": false,
     "input": [
      "obj[2:4]"
     ],
     "language": "python",
     "metadata": {},
     "outputs": [
      {
       "metadata": {},
       "output_type": "pyout",
       "prompt_number": 115,
       "text": [
        "c    2\n",
        "d    3\n",
        "dtype: float64"
       ]
      }
     ],
     "prompt_number": 115
    },
    {
     "cell_type": "code",
     "collapsed": false,
     "input": [
      "obj[['a', 'd']]"
     ],
     "language": "python",
     "metadata": {},
     "outputs": [
      {
       "metadata": {},
       "output_type": "pyout",
       "prompt_number": 116,
       "text": [
        "a    0\n",
        "d    3\n",
        "dtype: float64"
       ]
      }
     ],
     "prompt_number": 116
    },
    {
     "cell_type": "code",
     "collapsed": false,
     "input": [
      "obj[[0,3]]"
     ],
     "language": "python",
     "metadata": {},
     "outputs": [
      {
       "metadata": {},
       "output_type": "pyout",
       "prompt_number": 117,
       "text": [
        "a    0\n",
        "d    3\n",
        "dtype: float64"
       ]
      }
     ],
     "prompt_number": 117
    },
    {
     "cell_type": "code",
     "collapsed": false,
     "input": [
      "obj[obj<2]"
     ],
     "language": "python",
     "metadata": {},
     "outputs": [
      {
       "metadata": {},
       "output_type": "pyout",
       "prompt_number": 119,
       "text": [
        "a    0\n",
        "b    1\n",
        "dtype: float64"
       ]
      }
     ],
     "prompt_number": 119
    },
    {
     "cell_type": "code",
     "collapsed": true,
     "input": [
      "obj['b':'c'] = 5\n",
      "obj"
     ],
     "language": "python",
     "metadata": {},
     "outputs": [
      {
       "metadata": {},
       "output_type": "pyout",
       "prompt_number": 128,
       "text": [
        "a    0\n",
        "b    5\n",
        "c    5\n",
        "d    3\n",
        "dtype: float64"
       ]
      }
     ],
     "prompt_number": 128
    },
    {
     "cell_type": "code",
     "collapsed": false,
     "input": [
      "data = DataFrame(np.arange(16).reshape(4,4), \n",
      "                 index=['Ohio', 'Colorado', 'Utah', 'New York'], \n",
      "                 columns=['one', 'two', 'three', 'four'])\n",
      "data"
     ],
     "language": "python",
     "metadata": {},
     "outputs": [
      {
       "html": [
        "<div style=\"max-height:1000px;max-width:1500px;overflow:auto;\">\n",
        "<table border=\"1\" class=\"dataframe\">\n",
        "  <thead>\n",
        "    <tr style=\"text-align: right;\">\n",
        "      <th></th>\n",
        "      <th>one</th>\n",
        "      <th>two</th>\n",
        "      <th>three</th>\n",
        "      <th>four</th>\n",
        "    </tr>\n",
        "  </thead>\n",
        "  <tbody>\n",
        "    <tr>\n",
        "      <th>Ohio</th>\n",
        "      <td>  0</td>\n",
        "      <td>  1</td>\n",
        "      <td>  2</td>\n",
        "      <td>  3</td>\n",
        "    </tr>\n",
        "    <tr>\n",
        "      <th>Colorado</th>\n",
        "      <td>  4</td>\n",
        "      <td>  5</td>\n",
        "      <td>  6</td>\n",
        "      <td>  7</td>\n",
        "    </tr>\n",
        "    <tr>\n",
        "      <th>Utah</th>\n",
        "      <td>  8</td>\n",
        "      <td>  9</td>\n",
        "      <td> 10</td>\n",
        "      <td> 11</td>\n",
        "    </tr>\n",
        "    <tr>\n",
        "      <th>New York</th>\n",
        "      <td> 12</td>\n",
        "      <td> 13</td>\n",
        "      <td> 14</td>\n",
        "      <td> 15</td>\n",
        "    </tr>\n",
        "  </tbody>\n",
        "</table>\n",
        "</div>"
       ],
       "metadata": {},
       "output_type": "pyout",
       "prompt_number": 123,
       "text": [
        "          one  two  three  four\n",
        "Ohio        0    1      2     3\n",
        "Colorado    4    5      6     7\n",
        "Utah        8    9     10    11\n",
        "New York   12   13     14    15"
       ]
      }
     ],
     "prompt_number": 123
    },
    {
     "cell_type": "code",
     "collapsed": false,
     "input": [
      "data['two']"
     ],
     "language": "python",
     "metadata": {},
     "outputs": [
      {
       "metadata": {},
       "output_type": "pyout",
       "prompt_number": 124,
       "text": [
        "Ohio         1\n",
        "Colorado     5\n",
        "Utah         9\n",
        "New York    13\n",
        "Name: two, dtype: int32"
       ]
      }
     ],
     "prompt_number": 124
    },
    {
     "cell_type": "code",
     "collapsed": false,
     "input": [
      "data[['two','three']]"
     ],
     "language": "python",
     "metadata": {},
     "outputs": [
      {
       "html": [
        "<div style=\"max-height:1000px;max-width:1500px;overflow:auto;\">\n",
        "<table border=\"1\" class=\"dataframe\">\n",
        "  <thead>\n",
        "    <tr style=\"text-align: right;\">\n",
        "      <th></th>\n",
        "      <th>two</th>\n",
        "      <th>three</th>\n",
        "    </tr>\n",
        "  </thead>\n",
        "  <tbody>\n",
        "    <tr>\n",
        "      <th>Ohio</th>\n",
        "      <td>  1</td>\n",
        "      <td>  2</td>\n",
        "    </tr>\n",
        "    <tr>\n",
        "      <th>Colorado</th>\n",
        "      <td>  5</td>\n",
        "      <td>  6</td>\n",
        "    </tr>\n",
        "    <tr>\n",
        "      <th>Utah</th>\n",
        "      <td>  9</td>\n",
        "      <td> 10</td>\n",
        "    </tr>\n",
        "    <tr>\n",
        "      <th>New York</th>\n",
        "      <td> 13</td>\n",
        "      <td> 14</td>\n",
        "    </tr>\n",
        "  </tbody>\n",
        "</table>\n",
        "</div>"
       ],
       "metadata": {},
       "output_type": "pyout",
       "prompt_number": 131,
       "text": [
        "          two  three\n",
        "Ohio        1      2\n",
        "Colorado    5      6\n",
        "Utah        9     10\n",
        "New York   13     14"
       ]
      }
     ],
     "prompt_number": 131
    },
    {
     "cell_type": "code",
     "collapsed": false,
     "input": [
      "data[:2]"
     ],
     "language": "python",
     "metadata": {},
     "outputs": [
      {
       "html": [
        "<div style=\"max-height:1000px;max-width:1500px;overflow:auto;\">\n",
        "<table border=\"1\" class=\"dataframe\">\n",
        "  <thead>\n",
        "    <tr style=\"text-align: right;\">\n",
        "      <th></th>\n",
        "      <th>one</th>\n",
        "      <th>two</th>\n",
        "      <th>three</th>\n",
        "      <th>four</th>\n",
        "    </tr>\n",
        "  </thead>\n",
        "  <tbody>\n",
        "    <tr>\n",
        "      <th>Ohio</th>\n",
        "      <td> 0</td>\n",
        "      <td> 1</td>\n",
        "      <td> 2</td>\n",
        "      <td> 3</td>\n",
        "    </tr>\n",
        "    <tr>\n",
        "      <th>Colorado</th>\n",
        "      <td> 4</td>\n",
        "      <td> 5</td>\n",
        "      <td> 6</td>\n",
        "      <td> 7</td>\n",
        "    </tr>\n",
        "  </tbody>\n",
        "</table>\n",
        "</div>"
       ],
       "metadata": {},
       "output_type": "pyout",
       "prompt_number": 132,
       "text": [
        "          one  two  three  four\n",
        "Ohio        0    1      2     3\n",
        "Colorado    4    5      6     7"
       ]
      }
     ],
     "prompt_number": 132
    },
    {
     "cell_type": "code",
     "collapsed": false,
     "input": [
      "data[2:]"
     ],
     "language": "python",
     "metadata": {},
     "outputs": [
      {
       "html": [
        "<div style=\"max-height:1000px;max-width:1500px;overflow:auto;\">\n",
        "<table border=\"1\" class=\"dataframe\">\n",
        "  <thead>\n",
        "    <tr style=\"text-align: right;\">\n",
        "      <th></th>\n",
        "      <th>one</th>\n",
        "      <th>two</th>\n",
        "      <th>three</th>\n",
        "      <th>four</th>\n",
        "    </tr>\n",
        "  </thead>\n",
        "  <tbody>\n",
        "    <tr>\n",
        "      <th>Utah</th>\n",
        "      <td>  8</td>\n",
        "      <td>  9</td>\n",
        "      <td> 10</td>\n",
        "      <td> 11</td>\n",
        "    </tr>\n",
        "    <tr>\n",
        "      <th>New York</th>\n",
        "      <td> 12</td>\n",
        "      <td> 13</td>\n",
        "      <td> 14</td>\n",
        "      <td> 15</td>\n",
        "    </tr>\n",
        "  </tbody>\n",
        "</table>\n",
        "</div>"
       ],
       "metadata": {},
       "output_type": "pyout",
       "prompt_number": 133,
       "text": [
        "          one  two  three  four\n",
        "Utah        8    9     10    11\n",
        "New York   12   13     14    15"
       ]
      }
     ],
     "prompt_number": 133
    },
    {
     "cell_type": "code",
     "collapsed": false,
     "input": [
      "data[data['three']>5]"
     ],
     "language": "python",
     "metadata": {},
     "outputs": [
      {
       "html": [
        "<div style=\"max-height:1000px;max-width:1500px;overflow:auto;\">\n",
        "<table border=\"1\" class=\"dataframe\">\n",
        "  <thead>\n",
        "    <tr style=\"text-align: right;\">\n",
        "      <th></th>\n",
        "      <th>one</th>\n",
        "      <th>two</th>\n",
        "      <th>three</th>\n",
        "      <th>four</th>\n",
        "    </tr>\n",
        "  </thead>\n",
        "  <tbody>\n",
        "    <tr>\n",
        "      <th>Colorado</th>\n",
        "      <td>  4</td>\n",
        "      <td>  5</td>\n",
        "      <td>  6</td>\n",
        "      <td>  7</td>\n",
        "    </tr>\n",
        "    <tr>\n",
        "      <th>Utah</th>\n",
        "      <td>  8</td>\n",
        "      <td>  9</td>\n",
        "      <td> 10</td>\n",
        "      <td> 11</td>\n",
        "    </tr>\n",
        "    <tr>\n",
        "      <th>New York</th>\n",
        "      <td> 12</td>\n",
        "      <td> 13</td>\n",
        "      <td> 14</td>\n",
        "      <td> 15</td>\n",
        "    </tr>\n",
        "  </tbody>\n",
        "</table>\n",
        "</div>"
       ],
       "metadata": {},
       "output_type": "pyout",
       "prompt_number": 134,
       "text": [
        "          one  two  three  four\n",
        "Colorado    4    5      6     7\n",
        "Utah        8    9     10    11\n",
        "New York   12   13     14    15"
       ]
      }
     ],
     "prompt_number": 134
    },
    {
     "cell_type": "code",
     "collapsed": false,
     "input": [
      "data.ix['Colorado', ['two', 'three']]"
     ],
     "language": "python",
     "metadata": {},
     "outputs": [
      {
       "metadata": {},
       "output_type": "pyout",
       "prompt_number": 135,
       "text": [
        "two      5\n",
        "three    6\n",
        "Name: Colorado, dtype: int32"
       ]
      }
     ],
     "prompt_number": 135
    },
    {
     "cell_type": "code",
     "collapsed": false,
     "input": [
      "data.ix[['Colorado','Utah'], [3,0,1]]"
     ],
     "language": "python",
     "metadata": {},
     "outputs": [
      {
       "html": [
        "<div style=\"max-height:1000px;max-width:1500px;overflow:auto;\">\n",
        "<table border=\"1\" class=\"dataframe\">\n",
        "  <thead>\n",
        "    <tr style=\"text-align: right;\">\n",
        "      <th></th>\n",
        "      <th>four</th>\n",
        "      <th>one</th>\n",
        "      <th>two</th>\n",
        "    </tr>\n",
        "  </thead>\n",
        "  <tbody>\n",
        "    <tr>\n",
        "      <th>Colorado</th>\n",
        "      <td>  7</td>\n",
        "      <td> 4</td>\n",
        "      <td> 5</td>\n",
        "    </tr>\n",
        "    <tr>\n",
        "      <th>Utah</th>\n",
        "      <td> 11</td>\n",
        "      <td> 8</td>\n",
        "      <td> 9</td>\n",
        "    </tr>\n",
        "  </tbody>\n",
        "</table>\n",
        "</div>"
       ],
       "metadata": {},
       "output_type": "pyout",
       "prompt_number": 138,
       "text": [
        "          four  one  two\n",
        "Colorado     7    4    5\n",
        "Utah        11    8    9"
       ]
      }
     ],
     "prompt_number": 138
    },
    {
     "cell_type": "code",
     "collapsed": false,
     "input": [
      "data.ix[:'Utah', 'two']"
     ],
     "language": "python",
     "metadata": {},
     "outputs": [
      {
       "metadata": {},
       "output_type": "pyout",
       "prompt_number": 139,
       "text": [
        "Ohio        1\n",
        "Colorado    5\n",
        "Utah        9\n",
        "Name: two, dtype: int32"
       ]
      }
     ],
     "prompt_number": 139
    },
    {
     "cell_type": "code",
     "collapsed": false,
     "input": [
      "data.ix[data.three>5, :3]"
     ],
     "language": "python",
     "metadata": {},
     "outputs": [
      {
       "html": [
        "<div style=\"max-height:1000px;max-width:1500px;overflow:auto;\">\n",
        "<table border=\"1\" class=\"dataframe\">\n",
        "  <thead>\n",
        "    <tr style=\"text-align: right;\">\n",
        "      <th></th>\n",
        "      <th>one</th>\n",
        "      <th>two</th>\n",
        "      <th>three</th>\n",
        "    </tr>\n",
        "  </thead>\n",
        "  <tbody>\n",
        "    <tr>\n",
        "      <th>Colorado</th>\n",
        "      <td>  4</td>\n",
        "      <td>  5</td>\n",
        "      <td>  6</td>\n",
        "    </tr>\n",
        "    <tr>\n",
        "      <th>Utah</th>\n",
        "      <td>  8</td>\n",
        "      <td>  9</td>\n",
        "      <td> 10</td>\n",
        "    </tr>\n",
        "    <tr>\n",
        "      <th>New York</th>\n",
        "      <td> 12</td>\n",
        "      <td> 13</td>\n",
        "      <td> 14</td>\n",
        "    </tr>\n",
        "  </tbody>\n",
        "</table>\n",
        "</div>"
       ],
       "metadata": {},
       "output_type": "pyout",
       "prompt_number": 141,
       "text": [
        "          one  two  three\n",
        "Colorado    4    5      6\n",
        "Utah        8    9     10\n",
        "New York   12   13     14"
       ]
      }
     ],
     "prompt_number": 141
    },
    {
     "cell_type": "code",
     "collapsed": false,
     "input": [
      "### Arithmetic and data alignment\n",
      "s1 = Series([7.3, -2.5, 3.4, 1.5], index=['a','c','d','e'])\n",
      "s1"
     ],
     "language": "python",
     "metadata": {},
     "outputs": [
      {
       "metadata": {},
       "output_type": "pyout",
       "prompt_number": 142,
       "text": [
        "a    7.3\n",
        "c   -2.5\n",
        "d    3.4\n",
        "e    1.5\n",
        "dtype: float64"
       ]
      }
     ],
     "prompt_number": 142
    },
    {
     "cell_type": "code",
     "collapsed": false,
     "input": [
      "s2 = Series([-2.1, 3.6, -1.5, 4, 3.1], index=['a', 'c', 'e', 'f', 'g'])\n",
      "s2"
     ],
     "language": "python",
     "metadata": {},
     "outputs": [
      {
       "metadata": {},
       "output_type": "pyout",
       "prompt_number": 143,
       "text": [
        "a   -2.1\n",
        "c    3.6\n",
        "e   -1.5\n",
        "f    4.0\n",
        "g    3.1\n",
        "dtype: float64"
       ]
      }
     ],
     "prompt_number": 143
    },
    {
     "cell_type": "code",
     "collapsed": false,
     "input": [
      "s1+s2"
     ],
     "language": "python",
     "metadata": {},
     "outputs": [
      {
       "metadata": {},
       "output_type": "pyout",
       "prompt_number": 144,
       "text": [
        "a    5.2\n",
        "c    1.1\n",
        "d    NaN\n",
        "e    0.0\n",
        "f    NaN\n",
        "g    NaN\n",
        "dtype: float64"
       ]
      }
     ],
     "prompt_number": 144
    },
    {
     "cell_type": "code",
     "collapsed": false,
     "input": [
      "df1 = DataFrame(np.arange(9.).reshape(3,3), columns=list('bcd'), index=['Ohio', 'Texas', 'Column'])\n",
      "df1"
     ],
     "language": "python",
     "metadata": {},
     "outputs": [
      {
       "html": [
        "<div style=\"max-height:1000px;max-width:1500px;overflow:auto;\">\n",
        "<table border=\"1\" class=\"dataframe\">\n",
        "  <thead>\n",
        "    <tr style=\"text-align: right;\">\n",
        "      <th></th>\n",
        "      <th>b</th>\n",
        "      <th>c</th>\n",
        "      <th>d</th>\n",
        "    </tr>\n",
        "  </thead>\n",
        "  <tbody>\n",
        "    <tr>\n",
        "      <th>Ohio</th>\n",
        "      <td> 0</td>\n",
        "      <td> 1</td>\n",
        "      <td> 2</td>\n",
        "    </tr>\n",
        "    <tr>\n",
        "      <th>Texas</th>\n",
        "      <td> 3</td>\n",
        "      <td> 4</td>\n",
        "      <td> 5</td>\n",
        "    </tr>\n",
        "    <tr>\n",
        "      <th>Column</th>\n",
        "      <td> 6</td>\n",
        "      <td> 7</td>\n",
        "      <td> 8</td>\n",
        "    </tr>\n",
        "  </tbody>\n",
        "</table>\n",
        "</div>"
       ],
       "metadata": {},
       "output_type": "pyout",
       "prompt_number": 145,
       "text": [
        "        b  c  d\n",
        "Ohio    0  1  2\n",
        "Texas   3  4  5\n",
        "Column  6  7  8"
       ]
      }
     ],
     "prompt_number": 145
    },
    {
     "cell_type": "code",
     "collapsed": false,
     "input": [
      "df2 = DataFrame(np.arange(12.).reshape(4,3), columns=list('bde'), index=['Utah', 'Ohio', 'Texas', 'Oregon'])\n",
      "df2"
     ],
     "language": "python",
     "metadata": {},
     "outputs": [
      {
       "html": [
        "<div style=\"max-height:1000px;max-width:1500px;overflow:auto;\">\n",
        "<table border=\"1\" class=\"dataframe\">\n",
        "  <thead>\n",
        "    <tr style=\"text-align: right;\">\n",
        "      <th></th>\n",
        "      <th>b</th>\n",
        "      <th>d</th>\n",
        "      <th>e</th>\n",
        "    </tr>\n",
        "  </thead>\n",
        "  <tbody>\n",
        "    <tr>\n",
        "      <th>Utah</th>\n",
        "      <td> 0</td>\n",
        "      <td>  1</td>\n",
        "      <td>  2</td>\n",
        "    </tr>\n",
        "    <tr>\n",
        "      <th>Ohio</th>\n",
        "      <td> 3</td>\n",
        "      <td>  4</td>\n",
        "      <td>  5</td>\n",
        "    </tr>\n",
        "    <tr>\n",
        "      <th>Texas</th>\n",
        "      <td> 6</td>\n",
        "      <td>  7</td>\n",
        "      <td>  8</td>\n",
        "    </tr>\n",
        "    <tr>\n",
        "      <th>Oregon</th>\n",
        "      <td> 9</td>\n",
        "      <td> 10</td>\n",
        "      <td> 11</td>\n",
        "    </tr>\n",
        "  </tbody>\n",
        "</table>\n",
        "</div>"
       ],
       "metadata": {},
       "output_type": "pyout",
       "prompt_number": 146,
       "text": [
        "        b   d   e\n",
        "Utah    0   1   2\n",
        "Ohio    3   4   5\n",
        "Texas   6   7   8\n",
        "Oregon  9  10  11"
       ]
      }
     ],
     "prompt_number": 146
    },
    {
     "cell_type": "code",
     "collapsed": false,
     "input": [
      "df1+ df2"
     ],
     "language": "python",
     "metadata": {},
     "outputs": [
      {
       "html": [
        "<div style=\"max-height:1000px;max-width:1500px;overflow:auto;\">\n",
        "<table border=\"1\" class=\"dataframe\">\n",
        "  <thead>\n",
        "    <tr style=\"text-align: right;\">\n",
        "      <th></th>\n",
        "      <th>b</th>\n",
        "      <th>c</th>\n",
        "      <th>d</th>\n",
        "      <th>e</th>\n",
        "    </tr>\n",
        "  </thead>\n",
        "  <tbody>\n",
        "    <tr>\n",
        "      <th>Column</th>\n",
        "      <td>NaN</td>\n",
        "      <td>NaN</td>\n",
        "      <td>NaN</td>\n",
        "      <td>NaN</td>\n",
        "    </tr>\n",
        "    <tr>\n",
        "      <th>Ohio</th>\n",
        "      <td>  3</td>\n",
        "      <td>NaN</td>\n",
        "      <td>  6</td>\n",
        "      <td>NaN</td>\n",
        "    </tr>\n",
        "    <tr>\n",
        "      <th>Oregon</th>\n",
        "      <td>NaN</td>\n",
        "      <td>NaN</td>\n",
        "      <td>NaN</td>\n",
        "      <td>NaN</td>\n",
        "    </tr>\n",
        "    <tr>\n",
        "      <th>Texas</th>\n",
        "      <td>  9</td>\n",
        "      <td>NaN</td>\n",
        "      <td> 12</td>\n",
        "      <td>NaN</td>\n",
        "    </tr>\n",
        "    <tr>\n",
        "      <th>Utah</th>\n",
        "      <td>NaN</td>\n",
        "      <td>NaN</td>\n",
        "      <td>NaN</td>\n",
        "      <td>NaN</td>\n",
        "    </tr>\n",
        "  </tbody>\n",
        "</table>\n",
        "</div>"
       ],
       "metadata": {},
       "output_type": "pyout",
       "prompt_number": 147,
       "text": [
        "         b   c   d   e\n",
        "Column NaN NaN NaN NaN\n",
        "Ohio     3 NaN   6 NaN\n",
        "Oregon NaN NaN NaN NaN\n",
        "Texas    9 NaN  12 NaN\n",
        "Utah   NaN NaN NaN NaN"
       ]
      }
     ],
     "prompt_number": 147
    },
    {
     "cell_type": "code",
     "collapsed": false,
     "input": [
      "df1 = DataFrame(np.arange(12.).reshape(3,4), columns=list('abcd'))\n",
      "df1"
     ],
     "language": "python",
     "metadata": {},
     "outputs": [
      {
       "html": [
        "<div style=\"max-height:1000px;max-width:1500px;overflow:auto;\">\n",
        "<table border=\"1\" class=\"dataframe\">\n",
        "  <thead>\n",
        "    <tr style=\"text-align: right;\">\n",
        "      <th></th>\n",
        "      <th>a</th>\n",
        "      <th>b</th>\n",
        "      <th>c</th>\n",
        "      <th>d</th>\n",
        "    </tr>\n",
        "  </thead>\n",
        "  <tbody>\n",
        "    <tr>\n",
        "      <th>0</th>\n",
        "      <td> 0</td>\n",
        "      <td> 1</td>\n",
        "      <td>  2</td>\n",
        "      <td>  3</td>\n",
        "    </tr>\n",
        "    <tr>\n",
        "      <th>1</th>\n",
        "      <td> 4</td>\n",
        "      <td> 5</td>\n",
        "      <td>  6</td>\n",
        "      <td>  7</td>\n",
        "    </tr>\n",
        "    <tr>\n",
        "      <th>2</th>\n",
        "      <td> 8</td>\n",
        "      <td> 9</td>\n",
        "      <td> 10</td>\n",
        "      <td> 11</td>\n",
        "    </tr>\n",
        "  </tbody>\n",
        "</table>\n",
        "</div>"
       ],
       "metadata": {},
       "output_type": "pyout",
       "prompt_number": 149,
       "text": [
        "   a  b   c   d\n",
        "0  0  1   2   3\n",
        "1  4  5   6   7\n",
        "2  8  9  10  11"
       ]
      }
     ],
     "prompt_number": 149
    },
    {
     "cell_type": "code",
     "collapsed": false,
     "input": [
      "df2 = DataFrame(np.arange(20.).reshape(4,5), columns=list('abcde'))\n",
      "df2"
     ],
     "language": "python",
     "metadata": {},
     "outputs": [
      {
       "html": [
        "<div style=\"max-height:1000px;max-width:1500px;overflow:auto;\">\n",
        "<table border=\"1\" class=\"dataframe\">\n",
        "  <thead>\n",
        "    <tr style=\"text-align: right;\">\n",
        "      <th></th>\n",
        "      <th>a</th>\n",
        "      <th>b</th>\n",
        "      <th>c</th>\n",
        "      <th>d</th>\n",
        "      <th>e</th>\n",
        "    </tr>\n",
        "  </thead>\n",
        "  <tbody>\n",
        "    <tr>\n",
        "      <th>0</th>\n",
        "      <td>  0</td>\n",
        "      <td>  1</td>\n",
        "      <td>  2</td>\n",
        "      <td>  3</td>\n",
        "      <td>  4</td>\n",
        "    </tr>\n",
        "    <tr>\n",
        "      <th>1</th>\n",
        "      <td>  5</td>\n",
        "      <td>  6</td>\n",
        "      <td>  7</td>\n",
        "      <td>  8</td>\n",
        "      <td>  9</td>\n",
        "    </tr>\n",
        "    <tr>\n",
        "      <th>2</th>\n",
        "      <td> 10</td>\n",
        "      <td> 11</td>\n",
        "      <td> 12</td>\n",
        "      <td> 13</td>\n",
        "      <td> 14</td>\n",
        "    </tr>\n",
        "    <tr>\n",
        "      <th>3</th>\n",
        "      <td> 15</td>\n",
        "      <td> 16</td>\n",
        "      <td> 17</td>\n",
        "      <td> 18</td>\n",
        "      <td> 19</td>\n",
        "    </tr>\n",
        "  </tbody>\n",
        "</table>\n",
        "</div>"
       ],
       "metadata": {},
       "output_type": "pyout",
       "prompt_number": 150,
       "text": [
        "    a   b   c   d   e\n",
        "0   0   1   2   3   4\n",
        "1   5   6   7   8   9\n",
        "2  10  11  12  13  14\n",
        "3  15  16  17  18  19"
       ]
      }
     ],
     "prompt_number": 150
    },
    {
     "cell_type": "code",
     "collapsed": false,
     "input": [
      "df1 + df2"
     ],
     "language": "python",
     "metadata": {},
     "outputs": [
      {
       "html": [
        "<div style=\"max-height:1000px;max-width:1500px;overflow:auto;\">\n",
        "<table border=\"1\" class=\"dataframe\">\n",
        "  <thead>\n",
        "    <tr style=\"text-align: right;\">\n",
        "      <th></th>\n",
        "      <th>a</th>\n",
        "      <th>b</th>\n",
        "      <th>c</th>\n",
        "      <th>d</th>\n",
        "      <th>e</th>\n",
        "    </tr>\n",
        "  </thead>\n",
        "  <tbody>\n",
        "    <tr>\n",
        "      <th>0</th>\n",
        "      <td>  0</td>\n",
        "      <td>  2</td>\n",
        "      <td>  4</td>\n",
        "      <td>  6</td>\n",
        "      <td>NaN</td>\n",
        "    </tr>\n",
        "    <tr>\n",
        "      <th>1</th>\n",
        "      <td>  9</td>\n",
        "      <td> 11</td>\n",
        "      <td> 13</td>\n",
        "      <td> 15</td>\n",
        "      <td>NaN</td>\n",
        "    </tr>\n",
        "    <tr>\n",
        "      <th>2</th>\n",
        "      <td> 18</td>\n",
        "      <td> 20</td>\n",
        "      <td> 22</td>\n",
        "      <td> 24</td>\n",
        "      <td>NaN</td>\n",
        "    </tr>\n",
        "    <tr>\n",
        "      <th>3</th>\n",
        "      <td>NaN</td>\n",
        "      <td>NaN</td>\n",
        "      <td>NaN</td>\n",
        "      <td>NaN</td>\n",
        "      <td>NaN</td>\n",
        "    </tr>\n",
        "  </tbody>\n",
        "</table>\n",
        "</div>"
       ],
       "metadata": {},
       "output_type": "pyout",
       "prompt_number": 151,
       "text": [
        "    a   b   c   d   e\n",
        "0   0   2   4   6 NaN\n",
        "1   9  11  13  15 NaN\n",
        "2  18  20  22  24 NaN\n",
        "3 NaN NaN NaN NaN NaN"
       ]
      }
     ],
     "prompt_number": 151
    },
    {
     "cell_type": "code",
     "collapsed": false,
     "input": [
      "df1.add(df2, fill_value=0)"
     ],
     "language": "python",
     "metadata": {},
     "outputs": [
      {
       "html": [
        "<div style=\"max-height:1000px;max-width:1500px;overflow:auto;\">\n",
        "<table border=\"1\" class=\"dataframe\">\n",
        "  <thead>\n",
        "    <tr style=\"text-align: right;\">\n",
        "      <th></th>\n",
        "      <th>a</th>\n",
        "      <th>b</th>\n",
        "      <th>c</th>\n",
        "      <th>d</th>\n",
        "      <th>e</th>\n",
        "    </tr>\n",
        "  </thead>\n",
        "  <tbody>\n",
        "    <tr>\n",
        "      <th>0</th>\n",
        "      <td>  0</td>\n",
        "      <td>  2</td>\n",
        "      <td>  4</td>\n",
        "      <td>  6</td>\n",
        "      <td>  4</td>\n",
        "    </tr>\n",
        "    <tr>\n",
        "      <th>1</th>\n",
        "      <td>  9</td>\n",
        "      <td> 11</td>\n",
        "      <td> 13</td>\n",
        "      <td> 15</td>\n",
        "      <td>  9</td>\n",
        "    </tr>\n",
        "    <tr>\n",
        "      <th>2</th>\n",
        "      <td> 18</td>\n",
        "      <td> 20</td>\n",
        "      <td> 22</td>\n",
        "      <td> 24</td>\n",
        "      <td> 14</td>\n",
        "    </tr>\n",
        "    <tr>\n",
        "      <th>3</th>\n",
        "      <td> 15</td>\n",
        "      <td> 16</td>\n",
        "      <td> 17</td>\n",
        "      <td> 18</td>\n",
        "      <td> 19</td>\n",
        "    </tr>\n",
        "  </tbody>\n",
        "</table>\n",
        "</div>"
       ],
       "metadata": {},
       "output_type": "pyout",
       "prompt_number": 157,
       "text": [
        "    a   b   c   d   e\n",
        "0   0   2   4   6   4\n",
        "1   9  11  13  15   9\n",
        "2  18  20  22  24  14\n",
        "3  15  16  17  18  19"
       ]
      }
     ],
     "prompt_number": 157
    },
    {
     "cell_type": "code",
     "collapsed": false,
     "input": [
      "df1.reindex(columns=df2.columns, fill_value=0)"
     ],
     "language": "python",
     "metadata": {},
     "outputs": [
      {
       "html": [
        "<div style=\"max-height:1000px;max-width:1500px;overflow:auto;\">\n",
        "<table border=\"1\" class=\"dataframe\">\n",
        "  <thead>\n",
        "    <tr style=\"text-align: right;\">\n",
        "      <th></th>\n",
        "      <th>a</th>\n",
        "      <th>b</th>\n",
        "      <th>c</th>\n",
        "      <th>d</th>\n",
        "      <th>e</th>\n",
        "    </tr>\n",
        "  </thead>\n",
        "  <tbody>\n",
        "    <tr>\n",
        "      <th>0</th>\n",
        "      <td> 0</td>\n",
        "      <td> 1</td>\n",
        "      <td>  2</td>\n",
        "      <td>  3</td>\n",
        "      <td> 0</td>\n",
        "    </tr>\n",
        "    <tr>\n",
        "      <th>1</th>\n",
        "      <td> 4</td>\n",
        "      <td> 5</td>\n",
        "      <td>  6</td>\n",
        "      <td>  7</td>\n",
        "      <td> 0</td>\n",
        "    </tr>\n",
        "    <tr>\n",
        "      <th>2</th>\n",
        "      <td> 8</td>\n",
        "      <td> 9</td>\n",
        "      <td> 10</td>\n",
        "      <td> 11</td>\n",
        "      <td> 0</td>\n",
        "    </tr>\n",
        "  </tbody>\n",
        "</table>\n",
        "</div>"
       ],
       "metadata": {},
       "output_type": "pyout",
       "prompt_number": 158,
       "text": [
        "   a  b   c   d  e\n",
        "0  0  1   2   3  0\n",
        "1  4  5   6   7  0\n",
        "2  8  9  10  11  0"
       ]
      }
     ],
     "prompt_number": 158
    },
    {
     "cell_type": "code",
     "collapsed": false,
     "input": [
      "arr = np.arange(12.).reshape(3,4)\n",
      "arr"
     ],
     "language": "python",
     "metadata": {},
     "outputs": [
      {
       "metadata": {},
       "output_type": "pyout",
       "prompt_number": 159,
       "text": [
        "array([[  0.,   1.,   2.,   3.],\n",
        "       [  4.,   5.,   6.,   7.],\n",
        "       [  8.,   9.,  10.,  11.]])"
       ]
      }
     ],
     "prompt_number": 159
    },
    {
     "cell_type": "code",
     "collapsed": false,
     "input": [
      "arr[0]"
     ],
     "language": "python",
     "metadata": {},
     "outputs": [
      {
       "metadata": {},
       "output_type": "pyout",
       "prompt_number": 160,
       "text": [
        "array([ 0.,  1.,  2.,  3.])"
       ]
      }
     ],
     "prompt_number": 160
    },
    {
     "cell_type": "code",
     "collapsed": false,
     "input": [
      "arr - arr[0]"
     ],
     "language": "python",
     "metadata": {},
     "outputs": [
      {
       "metadata": {},
       "output_type": "pyout",
       "prompt_number": 161,
       "text": [
        "array([[ 0.,  0.,  0.,  0.],\n",
        "       [ 4.,  4.,  4.,  4.],\n",
        "       [ 8.,  8.,  8.,  8.]])"
       ]
      }
     ],
     "prompt_number": 161
    },
    {
     "cell_type": "code",
     "collapsed": false,
     "input": [
      "frame = DataFrame(np.arange(12.).reshape(4,3), columns=list('bde'), index=['Utah', 'Ohio', 'Texas', 'Oregon'])\n",
      "frame"
     ],
     "language": "python",
     "metadata": {},
     "outputs": [
      {
       "html": [
        "<div style=\"max-height:1000px;max-width:1500px;overflow:auto;\">\n",
        "<table border=\"1\" class=\"dataframe\">\n",
        "  <thead>\n",
        "    <tr style=\"text-align: right;\">\n",
        "      <th></th>\n",
        "      <th>b</th>\n",
        "      <th>d</th>\n",
        "      <th>e</th>\n",
        "    </tr>\n",
        "  </thead>\n",
        "  <tbody>\n",
        "    <tr>\n",
        "      <th>Utah</th>\n",
        "      <td> 0</td>\n",
        "      <td>  1</td>\n",
        "      <td>  2</td>\n",
        "    </tr>\n",
        "    <tr>\n",
        "      <th>Ohio</th>\n",
        "      <td> 3</td>\n",
        "      <td>  4</td>\n",
        "      <td>  5</td>\n",
        "    </tr>\n",
        "    <tr>\n",
        "      <th>Texas</th>\n",
        "      <td> 6</td>\n",
        "      <td>  7</td>\n",
        "      <td>  8</td>\n",
        "    </tr>\n",
        "    <tr>\n",
        "      <th>Oregon</th>\n",
        "      <td> 9</td>\n",
        "      <td> 10</td>\n",
        "      <td> 11</td>\n",
        "    </tr>\n",
        "  </tbody>\n",
        "</table>\n",
        "</div>"
       ],
       "metadata": {},
       "output_type": "pyout",
       "prompt_number": 162,
       "text": [
        "        b   d   e\n",
        "Utah    0   1   2\n",
        "Ohio    3   4   5\n",
        "Texas   6   7   8\n",
        "Oregon  9  10  11"
       ]
      }
     ],
     "prompt_number": 162
    },
    {
     "cell_type": "code",
     "collapsed": false,
     "input": [
      "series = frame.ix[0]\n",
      "series"
     ],
     "language": "python",
     "metadata": {},
     "outputs": [
      {
       "metadata": {},
       "output_type": "pyout",
       "prompt_number": 163,
       "text": [
        "b    0\n",
        "d    1\n",
        "e    2\n",
        "Name: Utah, dtype: float64"
       ]
      }
     ],
     "prompt_number": 163
    },
    {
     "cell_type": "code",
     "collapsed": false,
     "input": [
      "frame - series"
     ],
     "language": "python",
     "metadata": {},
     "outputs": [
      {
       "html": [
        "<div style=\"max-height:1000px;max-width:1500px;overflow:auto;\">\n",
        "<table border=\"1\" class=\"dataframe\">\n",
        "  <thead>\n",
        "    <tr style=\"text-align: right;\">\n",
        "      <th></th>\n",
        "      <th>b</th>\n",
        "      <th>d</th>\n",
        "      <th>e</th>\n",
        "    </tr>\n",
        "  </thead>\n",
        "  <tbody>\n",
        "    <tr>\n",
        "      <th>Utah</th>\n",
        "      <td> 0</td>\n",
        "      <td> 0</td>\n",
        "      <td> 0</td>\n",
        "    </tr>\n",
        "    <tr>\n",
        "      <th>Ohio</th>\n",
        "      <td> 3</td>\n",
        "      <td> 3</td>\n",
        "      <td> 3</td>\n",
        "    </tr>\n",
        "    <tr>\n",
        "      <th>Texas</th>\n",
        "      <td> 6</td>\n",
        "      <td> 6</td>\n",
        "      <td> 6</td>\n",
        "    </tr>\n",
        "    <tr>\n",
        "      <th>Oregon</th>\n",
        "      <td> 9</td>\n",
        "      <td> 9</td>\n",
        "      <td> 9</td>\n",
        "    </tr>\n",
        "  </tbody>\n",
        "</table>\n",
        "</div>"
       ],
       "metadata": {},
       "output_type": "pyout",
       "prompt_number": 164,
       "text": [
        "        b  d  e\n",
        "Utah    0  0  0\n",
        "Ohio    3  3  3\n",
        "Texas   6  6  6\n",
        "Oregon  9  9  9"
       ]
      }
     ],
     "prompt_number": 164
    },
    {
     "cell_type": "code",
     "collapsed": false,
     "input": [
      "series2 = Series(range(3), index=['b', 'e', 'f'])\n",
      "series2"
     ],
     "language": "python",
     "metadata": {},
     "outputs": [
      {
       "metadata": {},
       "output_type": "pyout",
       "prompt_number": 165,
       "text": [
        "b    0\n",
        "e    1\n",
        "f    2\n",
        "dtype: int64"
       ]
      }
     ],
     "prompt_number": 165
    },
    {
     "cell_type": "code",
     "collapsed": false,
     "input": [
      "frame + series2"
     ],
     "language": "python",
     "metadata": {},
     "outputs": [
      {
       "html": [
        "<div style=\"max-height:1000px;max-width:1500px;overflow:auto;\">\n",
        "<table border=\"1\" class=\"dataframe\">\n",
        "  <thead>\n",
        "    <tr style=\"text-align: right;\">\n",
        "      <th></th>\n",
        "      <th>b</th>\n",
        "      <th>d</th>\n",
        "      <th>e</th>\n",
        "      <th>f</th>\n",
        "    </tr>\n",
        "  </thead>\n",
        "  <tbody>\n",
        "    <tr>\n",
        "      <th>Utah</th>\n",
        "      <td> 0</td>\n",
        "      <td>NaN</td>\n",
        "      <td>  3</td>\n",
        "      <td>NaN</td>\n",
        "    </tr>\n",
        "    <tr>\n",
        "      <th>Ohio</th>\n",
        "      <td> 3</td>\n",
        "      <td>NaN</td>\n",
        "      <td>  6</td>\n",
        "      <td>NaN</td>\n",
        "    </tr>\n",
        "    <tr>\n",
        "      <th>Texas</th>\n",
        "      <td> 6</td>\n",
        "      <td>NaN</td>\n",
        "      <td>  9</td>\n",
        "      <td>NaN</td>\n",
        "    </tr>\n",
        "    <tr>\n",
        "      <th>Oregon</th>\n",
        "      <td> 9</td>\n",
        "      <td>NaN</td>\n",
        "      <td> 12</td>\n",
        "      <td>NaN</td>\n",
        "    </tr>\n",
        "  </tbody>\n",
        "</table>\n",
        "</div>"
       ],
       "metadata": {},
       "output_type": "pyout",
       "prompt_number": 166,
       "text": [
        "        b   d   e   f\n",
        "Utah    0 NaN   3 NaN\n",
        "Ohio    3 NaN   6 NaN\n",
        "Texas   6 NaN   9 NaN\n",
        "Oregon  9 NaN  12 NaN"
       ]
      }
     ],
     "prompt_number": 166
    },
    {
     "cell_type": "code",
     "collapsed": false,
     "input": [
      "series3 = frame['d']\n",
      "series3"
     ],
     "language": "python",
     "metadata": {},
     "outputs": [
      {
       "metadata": {},
       "output_type": "pyout",
       "prompt_number": 168,
       "text": [
        "Utah       1\n",
        "Ohio       4\n",
        "Texas      7\n",
        "Oregon    10\n",
        "Name: d, dtype: float64"
       ]
      }
     ],
     "prompt_number": 168
    },
    {
     "cell_type": "code",
     "collapsed": false,
     "input": [
      "frame.sub(series3, axis=0)"
     ],
     "language": "python",
     "metadata": {},
     "outputs": [
      {
       "html": [
        "<div style=\"max-height:1000px;max-width:1500px;overflow:auto;\">\n",
        "<table border=\"1\" class=\"dataframe\">\n",
        "  <thead>\n",
        "    <tr style=\"text-align: right;\">\n",
        "      <th></th>\n",
        "      <th>b</th>\n",
        "      <th>d</th>\n",
        "      <th>e</th>\n",
        "    </tr>\n",
        "  </thead>\n",
        "  <tbody>\n",
        "    <tr>\n",
        "      <th>Utah</th>\n",
        "      <td>-1</td>\n",
        "      <td> 0</td>\n",
        "      <td> 1</td>\n",
        "    </tr>\n",
        "    <tr>\n",
        "      <th>Ohio</th>\n",
        "      <td>-1</td>\n",
        "      <td> 0</td>\n",
        "      <td> 1</td>\n",
        "    </tr>\n",
        "    <tr>\n",
        "      <th>Texas</th>\n",
        "      <td>-1</td>\n",
        "      <td> 0</td>\n",
        "      <td> 1</td>\n",
        "    </tr>\n",
        "    <tr>\n",
        "      <th>Oregon</th>\n",
        "      <td>-1</td>\n",
        "      <td> 0</td>\n",
        "      <td> 1</td>\n",
        "    </tr>\n",
        "  </tbody>\n",
        "</table>\n",
        "</div>"
       ],
       "metadata": {},
       "output_type": "pyout",
       "prompt_number": 170,
       "text": [
        "        b  d  e\n",
        "Utah   -1  0  1\n",
        "Ohio   -1  0  1\n",
        "Texas  -1  0  1\n",
        "Oregon -1  0  1"
       ]
      }
     ],
     "prompt_number": 170
    },
    {
     "cell_type": "code",
     "collapsed": false,
     "input": [
      "### Function application and mapping\n",
      "frame = DataFrame(np.random.randn(4,3), columns=list('bde'), index=['Utah', 'Ohio', 'Texas', 'Oregon'])\n",
      "frame"
     ],
     "language": "python",
     "metadata": {},
     "outputs": [
      {
       "html": [
        "<div style=\"max-height:1000px;max-width:1500px;overflow:auto;\">\n",
        "<table border=\"1\" class=\"dataframe\">\n",
        "  <thead>\n",
        "    <tr style=\"text-align: right;\">\n",
        "      <th></th>\n",
        "      <th>b</th>\n",
        "      <th>d</th>\n",
        "      <th>e</th>\n",
        "    </tr>\n",
        "  </thead>\n",
        "  <tbody>\n",
        "    <tr>\n",
        "      <th>Utah</th>\n",
        "      <td>-1.498266</td>\n",
        "      <td>-0.704426</td>\n",
        "      <td> 0.205092</td>\n",
        "    </tr>\n",
        "    <tr>\n",
        "      <th>Ohio</th>\n",
        "      <td>-0.988426</td>\n",
        "      <td> 0.798634</td>\n",
        "      <td> 0.460513</td>\n",
        "    </tr>\n",
        "    <tr>\n",
        "      <th>Texas</th>\n",
        "      <td>-0.378065</td>\n",
        "      <td> 0.181122</td>\n",
        "      <td>-1.501590</td>\n",
        "    </tr>\n",
        "    <tr>\n",
        "      <th>Oregon</th>\n",
        "      <td>-0.595852</td>\n",
        "      <td>-2.093631</td>\n",
        "      <td> 0.695667</td>\n",
        "    </tr>\n",
        "  </tbody>\n",
        "</table>\n",
        "</div>"
       ],
       "metadata": {},
       "output_type": "pyout",
       "prompt_number": 175,
       "text": [
        "               b         d         e\n",
        "Utah   -1.498266 -0.704426  0.205092\n",
        "Ohio   -0.988426  0.798634  0.460513\n",
        "Texas  -0.378065  0.181122 -1.501590\n",
        "Oregon -0.595852 -2.093631  0.695667"
       ]
      }
     ],
     "prompt_number": 175
    },
    {
     "cell_type": "code",
     "collapsed": false,
     "input": [
      "frame.abs()"
     ],
     "language": "python",
     "metadata": {},
     "outputs": [
      {
       "html": [
        "<div style=\"max-height:1000px;max-width:1500px;overflow:auto;\">\n",
        "<table border=\"1\" class=\"dataframe\">\n",
        "  <thead>\n",
        "    <tr style=\"text-align: right;\">\n",
        "      <th></th>\n",
        "      <th>b</th>\n",
        "      <th>d</th>\n",
        "      <th>e</th>\n",
        "    </tr>\n",
        "  </thead>\n",
        "  <tbody>\n",
        "    <tr>\n",
        "      <th>Utah</th>\n",
        "      <td> 1.498266</td>\n",
        "      <td> 0.704426</td>\n",
        "      <td> 0.205092</td>\n",
        "    </tr>\n",
        "    <tr>\n",
        "      <th>Ohio</th>\n",
        "      <td> 0.988426</td>\n",
        "      <td> 0.798634</td>\n",
        "      <td> 0.460513</td>\n",
        "    </tr>\n",
        "    <tr>\n",
        "      <th>Texas</th>\n",
        "      <td> 0.378065</td>\n",
        "      <td> 0.181122</td>\n",
        "      <td> 1.501590</td>\n",
        "    </tr>\n",
        "    <tr>\n",
        "      <th>Oregon</th>\n",
        "      <td> 0.595852</td>\n",
        "      <td> 2.093631</td>\n",
        "      <td> 0.695667</td>\n",
        "    </tr>\n",
        "  </tbody>\n",
        "</table>\n",
        "</div>"
       ],
       "metadata": {},
       "output_type": "pyout",
       "prompt_number": 176,
       "text": [
        "               b         d         e\n",
        "Utah    1.498266  0.704426  0.205092\n",
        "Ohio    0.988426  0.798634  0.460513\n",
        "Texas   0.378065  0.181122  1.501590\n",
        "Oregon  0.595852  2.093631  0.695667"
       ]
      }
     ],
     "prompt_number": 176
    },
    {
     "cell_type": "code",
     "collapsed": false,
     "input": [
      "np.abs(frame)"
     ],
     "language": "python",
     "metadata": {},
     "outputs": [
      {
       "html": [
        "<div style=\"max-height:1000px;max-width:1500px;overflow:auto;\">\n",
        "<table border=\"1\" class=\"dataframe\">\n",
        "  <thead>\n",
        "    <tr style=\"text-align: right;\">\n",
        "      <th></th>\n",
        "      <th>b</th>\n",
        "      <th>d</th>\n",
        "      <th>e</th>\n",
        "    </tr>\n",
        "  </thead>\n",
        "  <tbody>\n",
        "    <tr>\n",
        "      <th>Utah</th>\n",
        "      <td> 1.498266</td>\n",
        "      <td> 0.704426</td>\n",
        "      <td> 0.205092</td>\n",
        "    </tr>\n",
        "    <tr>\n",
        "      <th>Ohio</th>\n",
        "      <td> 0.988426</td>\n",
        "      <td> 0.798634</td>\n",
        "      <td> 0.460513</td>\n",
        "    </tr>\n",
        "    <tr>\n",
        "      <th>Texas</th>\n",
        "      <td> 0.378065</td>\n",
        "      <td> 0.181122</td>\n",
        "      <td> 1.501590</td>\n",
        "    </tr>\n",
        "    <tr>\n",
        "      <th>Oregon</th>\n",
        "      <td> 0.595852</td>\n",
        "      <td> 2.093631</td>\n",
        "      <td> 0.695667</td>\n",
        "    </tr>\n",
        "  </tbody>\n",
        "</table>\n",
        "</div>"
       ],
       "metadata": {},
       "output_type": "pyout",
       "prompt_number": 177,
       "text": [
        "               b         d         e\n",
        "Utah    1.498266  0.704426  0.205092\n",
        "Ohio    0.988426  0.798634  0.460513\n",
        "Texas   0.378065  0.181122  1.501590\n",
        "Oregon  0.595852  2.093631  0.695667"
       ]
      }
     ],
     "prompt_number": 177
    },
    {
     "cell_type": "code",
     "collapsed": false,
     "input": [
      "f = lambda x: x.max() - x.min()"
     ],
     "language": "python",
     "metadata": {},
     "outputs": [],
     "prompt_number": 178
    },
    {
     "cell_type": "code",
     "collapsed": false,
     "input": [
      "frame.apply(f)"
     ],
     "language": "python",
     "metadata": {},
     "outputs": [
      {
       "metadata": {},
       "output_type": "pyout",
       "prompt_number": 179,
       "text": [
        "b    1.120201\n",
        "d    2.892266\n",
        "e    2.197257\n",
        "dtype: float64"
       ]
      }
     ],
     "prompt_number": 179
    },
    {
     "cell_type": "code",
     "collapsed": false,
     "input": [
      "frame.apply(f, axis=1)"
     ],
     "language": "python",
     "metadata": {},
     "outputs": [
      {
       "metadata": {},
       "output_type": "pyout",
       "prompt_number": 180,
       "text": [
        "Utah      1.703358\n",
        "Ohio      1.787061\n",
        "Texas     1.682712\n",
        "Oregon    2.789298\n",
        "dtype: float64"
       ]
      }
     ],
     "prompt_number": 180
    },
    {
     "cell_type": "code",
     "collapsed": false,
     "input": [
      "def f(x):\n",
      "    return Series([x.min(), x.max()], index=['min', 'max'])"
     ],
     "language": "python",
     "metadata": {},
     "outputs": [],
     "prompt_number": 181
    },
    {
     "cell_type": "code",
     "collapsed": false,
     "input": [
      "format = lambda x: '%.2f' %x"
     ],
     "language": "python",
     "metadata": {},
     "outputs": [],
     "prompt_number": 182
    },
    {
     "cell_type": "code",
     "collapsed": false,
     "input": [
      "frame.applymap(format)"
     ],
     "language": "python",
     "metadata": {},
     "outputs": [
      {
       "html": [
        "<div style=\"max-height:1000px;max-width:1500px;overflow:auto;\">\n",
        "<table border=\"1\" class=\"dataframe\">\n",
        "  <thead>\n",
        "    <tr style=\"text-align: right;\">\n",
        "      <th></th>\n",
        "      <th>b</th>\n",
        "      <th>d</th>\n",
        "      <th>e</th>\n",
        "    </tr>\n",
        "  </thead>\n",
        "  <tbody>\n",
        "    <tr>\n",
        "      <th>Utah</th>\n",
        "      <td> -1.50</td>\n",
        "      <td> -0.70</td>\n",
        "      <td>  0.21</td>\n",
        "    </tr>\n",
        "    <tr>\n",
        "      <th>Ohio</th>\n",
        "      <td> -0.99</td>\n",
        "      <td>  0.80</td>\n",
        "      <td>  0.46</td>\n",
        "    </tr>\n",
        "    <tr>\n",
        "      <th>Texas</th>\n",
        "      <td> -0.38</td>\n",
        "      <td>  0.18</td>\n",
        "      <td> -1.50</td>\n",
        "    </tr>\n",
        "    <tr>\n",
        "      <th>Oregon</th>\n",
        "      <td> -0.60</td>\n",
        "      <td> -2.09</td>\n",
        "      <td>  0.70</td>\n",
        "    </tr>\n",
        "  </tbody>\n",
        "</table>\n",
        "</div>"
       ],
       "metadata": {},
       "output_type": "pyout",
       "prompt_number": 184,
       "text": [
        "            b      d      e\n",
        "Utah    -1.50  -0.70   0.21\n",
        "Ohio    -0.99   0.80   0.46\n",
        "Texas   -0.38   0.18  -1.50\n",
        "Oregon  -0.60  -2.09   0.70"
       ]
      }
     ],
     "prompt_number": 184
    },
    {
     "cell_type": "code",
     "collapsed": false,
     "input": [
      "frame['e'].map(format)"
     ],
     "language": "python",
     "metadata": {},
     "outputs": [
      {
       "metadata": {},
       "output_type": "pyout",
       "prompt_number": 185,
       "text": [
        "Utah       0.21\n",
        "Ohio       0.46\n",
        "Texas     -1.50\n",
        "Oregon     0.70\n",
        "Name: e, dtype: object"
       ]
      }
     ],
     "prompt_number": 185
    },
    {
     "cell_type": "code",
     "collapsed": false,
     "input": [
      "### Sorting and ranking\n",
      "obj = Series(range(4), index=['d', 'a', 'b', 'c'])\n",
      "obj"
     ],
     "language": "python",
     "metadata": {},
     "outputs": [
      {
       "metadata": {},
       "output_type": "pyout",
       "prompt_number": 2,
       "text": [
        "d    0\n",
        "a    1\n",
        "b    2\n",
        "c    3\n",
        "dtype: int64"
       ]
      }
     ],
     "prompt_number": 2
    },
    {
     "cell_type": "code",
     "collapsed": false,
     "input": [
      "obj.sort_index()"
     ],
     "language": "python",
     "metadata": {},
     "outputs": [
      {
       "metadata": {},
       "output_type": "pyout",
       "prompt_number": 3,
       "text": [
        "a    1\n",
        "b    2\n",
        "c    3\n",
        "d    0\n",
        "dtype: int64"
       ]
      }
     ],
     "prompt_number": 3
    },
    {
     "cell_type": "code",
     "collapsed": false,
     "input": [
      "frame = DataFrame(np.arange(8).reshape(2,4), index=['three', 'one'], columns=['d', 'a', 'b', 'c'])\n",
      "frame"
     ],
     "language": "python",
     "metadata": {},
     "outputs": [
      {
       "html": [
        "<div style=\"max-height:1000px;max-width:1500px;overflow:auto;\">\n",
        "<table border=\"1\" class=\"dataframe\">\n",
        "  <thead>\n",
        "    <tr style=\"text-align: right;\">\n",
        "      <th></th>\n",
        "      <th>d</th>\n",
        "      <th>a</th>\n",
        "      <th>b</th>\n",
        "      <th>c</th>\n",
        "    </tr>\n",
        "  </thead>\n",
        "  <tbody>\n",
        "    <tr>\n",
        "      <th>three</th>\n",
        "      <td> 0</td>\n",
        "      <td> 1</td>\n",
        "      <td> 2</td>\n",
        "      <td> 3</td>\n",
        "    </tr>\n",
        "    <tr>\n",
        "      <th>one</th>\n",
        "      <td> 4</td>\n",
        "      <td> 5</td>\n",
        "      <td> 6</td>\n",
        "      <td> 7</td>\n",
        "    </tr>\n",
        "  </tbody>\n",
        "</table>\n",
        "</div>"
       ],
       "metadata": {},
       "output_type": "pyout",
       "prompt_number": 5,
       "text": [
        "       d  a  b  c\n",
        "three  0  1  2  3\n",
        "one    4  5  6  7"
       ]
      }
     ],
     "prompt_number": 5
    },
    {
     "cell_type": "code",
     "collapsed": false,
     "input": [
      "frame.sort_index()"
     ],
     "language": "python",
     "metadata": {},
     "outputs": [
      {
       "html": [
        "<div style=\"max-height:1000px;max-width:1500px;overflow:auto;\">\n",
        "<table border=\"1\" class=\"dataframe\">\n",
        "  <thead>\n",
        "    <tr style=\"text-align: right;\">\n",
        "      <th></th>\n",
        "      <th>d</th>\n",
        "      <th>a</th>\n",
        "      <th>b</th>\n",
        "      <th>c</th>\n",
        "    </tr>\n",
        "  </thead>\n",
        "  <tbody>\n",
        "    <tr>\n",
        "      <th>one</th>\n",
        "      <td> 4</td>\n",
        "      <td> 5</td>\n",
        "      <td> 6</td>\n",
        "      <td> 7</td>\n",
        "    </tr>\n",
        "    <tr>\n",
        "      <th>three</th>\n",
        "      <td> 0</td>\n",
        "      <td> 1</td>\n",
        "      <td> 2</td>\n",
        "      <td> 3</td>\n",
        "    </tr>\n",
        "  </tbody>\n",
        "</table>\n",
        "</div>"
       ],
       "metadata": {},
       "output_type": "pyout",
       "prompt_number": 6,
       "text": [
        "       d  a  b  c\n",
        "one    4  5  6  7\n",
        "three  0  1  2  3"
       ]
      }
     ],
     "prompt_number": 6
    },
    {
     "cell_type": "code",
     "collapsed": false,
     "input": [
      "frame.sort_index(axis=1)"
     ],
     "language": "python",
     "metadata": {},
     "outputs": [
      {
       "html": [
        "<div style=\"max-height:1000px;max-width:1500px;overflow:auto;\">\n",
        "<table border=\"1\" class=\"dataframe\">\n",
        "  <thead>\n",
        "    <tr style=\"text-align: right;\">\n",
        "      <th></th>\n",
        "      <th>a</th>\n",
        "      <th>b</th>\n",
        "      <th>c</th>\n",
        "      <th>d</th>\n",
        "    </tr>\n",
        "  </thead>\n",
        "  <tbody>\n",
        "    <tr>\n",
        "      <th>three</th>\n",
        "      <td> 1</td>\n",
        "      <td> 2</td>\n",
        "      <td> 3</td>\n",
        "      <td> 0</td>\n",
        "    </tr>\n",
        "    <tr>\n",
        "      <th>one</th>\n",
        "      <td> 5</td>\n",
        "      <td> 6</td>\n",
        "      <td> 7</td>\n",
        "      <td> 4</td>\n",
        "    </tr>\n",
        "  </tbody>\n",
        "</table>\n",
        "</div>"
       ],
       "metadata": {},
       "output_type": "pyout",
       "prompt_number": 7,
       "text": [
        "       a  b  c  d\n",
        "three  1  2  3  0\n",
        "one    5  6  7  4"
       ]
      }
     ],
     "prompt_number": 7
    },
    {
     "cell_type": "code",
     "collapsed": false,
     "input": [
      "frame.sort_index(axis=1, ascending=False)"
     ],
     "language": "python",
     "metadata": {},
     "outputs": [
      {
       "html": [
        "<div style=\"max-height:1000px;max-width:1500px;overflow:auto;\">\n",
        "<table border=\"1\" class=\"dataframe\">\n",
        "  <thead>\n",
        "    <tr style=\"text-align: right;\">\n",
        "      <th></th>\n",
        "      <th>d</th>\n",
        "      <th>c</th>\n",
        "      <th>b</th>\n",
        "      <th>a</th>\n",
        "    </tr>\n",
        "  </thead>\n",
        "  <tbody>\n",
        "    <tr>\n",
        "      <th>three</th>\n",
        "      <td> 0</td>\n",
        "      <td> 3</td>\n",
        "      <td> 2</td>\n",
        "      <td> 1</td>\n",
        "    </tr>\n",
        "    <tr>\n",
        "      <th>one</th>\n",
        "      <td> 4</td>\n",
        "      <td> 7</td>\n",
        "      <td> 6</td>\n",
        "      <td> 5</td>\n",
        "    </tr>\n",
        "  </tbody>\n",
        "</table>\n",
        "</div>"
       ],
       "metadata": {},
       "output_type": "pyout",
       "prompt_number": 8,
       "text": [
        "       d  c  b  a\n",
        "three  0  3  2  1\n",
        "one    4  7  6  5"
       ]
      }
     ],
     "prompt_number": 8
    },
    {
     "cell_type": "code",
     "collapsed": false,
     "input": [
      "obj = Series([4, 7, -3, 2])\n",
      "obj.order()"
     ],
     "language": "python",
     "metadata": {},
     "outputs": [
      {
       "metadata": {},
       "output_type": "pyout",
       "prompt_number": 9,
       "text": [
        "2   -3\n",
        "3    2\n",
        "0    4\n",
        "1    7\n",
        "dtype: int64"
       ]
      }
     ],
     "prompt_number": 9
    },
    {
     "cell_type": "code",
     "collapsed": false,
     "input": [
      "obj = Series([4, np.nan, 7, np.nan, -3, 2])\n",
      "obj.order()"
     ],
     "language": "python",
     "metadata": {},
     "outputs": [
      {
       "metadata": {},
       "output_type": "pyout",
       "prompt_number": 10,
       "text": [
        "4    -3\n",
        "5     2\n",
        "0     4\n",
        "2     7\n",
        "1   NaN\n",
        "3   NaN\n",
        "dtype: float64"
       ]
      }
     ],
     "prompt_number": 10
    },
    {
     "cell_type": "code",
     "collapsed": false,
     "input": [
      "frame = DataFrame({'b':[4,7,-3,2], 'a':[0,1,0,1]})\n",
      "frame"
     ],
     "language": "python",
     "metadata": {},
     "outputs": [
      {
       "html": [
        "<div style=\"max-height:1000px;max-width:1500px;overflow:auto;\">\n",
        "<table border=\"1\" class=\"dataframe\">\n",
        "  <thead>\n",
        "    <tr style=\"text-align: right;\">\n",
        "      <th></th>\n",
        "      <th>a</th>\n",
        "      <th>b</th>\n",
        "    </tr>\n",
        "  </thead>\n",
        "  <tbody>\n",
        "    <tr>\n",
        "      <th>0</th>\n",
        "      <td> 0</td>\n",
        "      <td> 4</td>\n",
        "    </tr>\n",
        "    <tr>\n",
        "      <th>1</th>\n",
        "      <td> 1</td>\n",
        "      <td> 7</td>\n",
        "    </tr>\n",
        "    <tr>\n",
        "      <th>2</th>\n",
        "      <td> 0</td>\n",
        "      <td>-3</td>\n",
        "    </tr>\n",
        "    <tr>\n",
        "      <th>3</th>\n",
        "      <td> 1</td>\n",
        "      <td> 2</td>\n",
        "    </tr>\n",
        "  </tbody>\n",
        "</table>\n",
        "</div>"
       ],
       "metadata": {},
       "output_type": "pyout",
       "prompt_number": 12,
       "text": [
        "   a  b\n",
        "0  0  4\n",
        "1  1  7\n",
        "2  0 -3\n",
        "3  1  2"
       ]
      }
     ],
     "prompt_number": 12
    },
    {
     "cell_type": "code",
     "collapsed": false,
     "input": [
      "frame.sort_index(by='b')"
     ],
     "language": "python",
     "metadata": {},
     "outputs": [
      {
       "html": [
        "<div style=\"max-height:1000px;max-width:1500px;overflow:auto;\">\n",
        "<table border=\"1\" class=\"dataframe\">\n",
        "  <thead>\n",
        "    <tr style=\"text-align: right;\">\n",
        "      <th></th>\n",
        "      <th>a</th>\n",
        "      <th>b</th>\n",
        "    </tr>\n",
        "  </thead>\n",
        "  <tbody>\n",
        "    <tr>\n",
        "      <th>2</th>\n",
        "      <td> 0</td>\n",
        "      <td>-3</td>\n",
        "    </tr>\n",
        "    <tr>\n",
        "      <th>3</th>\n",
        "      <td> 1</td>\n",
        "      <td> 2</td>\n",
        "    </tr>\n",
        "    <tr>\n",
        "      <th>0</th>\n",
        "      <td> 0</td>\n",
        "      <td> 4</td>\n",
        "    </tr>\n",
        "    <tr>\n",
        "      <th>1</th>\n",
        "      <td> 1</td>\n",
        "      <td> 7</td>\n",
        "    </tr>\n",
        "  </tbody>\n",
        "</table>\n",
        "</div>"
       ],
       "metadata": {},
       "output_type": "pyout",
       "prompt_number": 13,
       "text": [
        "   a  b\n",
        "2  0 -3\n",
        "3  1  2\n",
        "0  0  4\n",
        "1  1  7"
       ]
      }
     ],
     "prompt_number": 13
    },
    {
     "cell_type": "code",
     "collapsed": false,
     "input": [
      "frame.sort_index(by=['a','b'])"
     ],
     "language": "python",
     "metadata": {},
     "outputs": [
      {
       "html": [
        "<div style=\"max-height:1000px;max-width:1500px;overflow:auto;\">\n",
        "<table border=\"1\" class=\"dataframe\">\n",
        "  <thead>\n",
        "    <tr style=\"text-align: right;\">\n",
        "      <th></th>\n",
        "      <th>a</th>\n",
        "      <th>b</th>\n",
        "    </tr>\n",
        "  </thead>\n",
        "  <tbody>\n",
        "    <tr>\n",
        "      <th>2</th>\n",
        "      <td> 0</td>\n",
        "      <td>-3</td>\n",
        "    </tr>\n",
        "    <tr>\n",
        "      <th>0</th>\n",
        "      <td> 0</td>\n",
        "      <td> 4</td>\n",
        "    </tr>\n",
        "    <tr>\n",
        "      <th>3</th>\n",
        "      <td> 1</td>\n",
        "      <td> 2</td>\n",
        "    </tr>\n",
        "    <tr>\n",
        "      <th>1</th>\n",
        "      <td> 1</td>\n",
        "      <td> 7</td>\n",
        "    </tr>\n",
        "  </tbody>\n",
        "</table>\n",
        "</div>"
       ],
       "metadata": {},
       "output_type": "pyout",
       "prompt_number": 14,
       "text": [
        "   a  b\n",
        "2  0 -3\n",
        "0  0  4\n",
        "3  1  2\n",
        "1  1  7"
       ]
      }
     ],
     "prompt_number": 14
    },
    {
     "cell_type": "code",
     "collapsed": false,
     "input": [
      "obj = Series([7, -5, 7, 4, 2, 0, 4])\n",
      "obj.rank()"
     ],
     "language": "python",
     "metadata": {},
     "outputs": [
      {
       "metadata": {},
       "output_type": "pyout",
       "prompt_number": 15,
       "text": [
        "0    6.5\n",
        "1    1.0\n",
        "2    6.5\n",
        "3    4.5\n",
        "4    3.0\n",
        "5    2.0\n",
        "6    4.5\n",
        "dtype: float64"
       ]
      }
     ],
     "prompt_number": 15
    },
    {
     "cell_type": "code",
     "collapsed": false,
     "input": [
      "obj.rank(method='first')"
     ],
     "language": "python",
     "metadata": {},
     "outputs": [
      {
       "metadata": {},
       "output_type": "pyout",
       "prompt_number": 16,
       "text": [
        "0    6\n",
        "1    1\n",
        "2    7\n",
        "3    4\n",
        "4    3\n",
        "5    2\n",
        "6    5\n",
        "dtype: float64"
       ]
      }
     ],
     "prompt_number": 16
    },
    {
     "cell_type": "code",
     "collapsed": false,
     "input": [
      "obj.rank(ascending=False, method='max')"
     ],
     "language": "python",
     "metadata": {},
     "outputs": [
      {
       "metadata": {},
       "output_type": "pyout",
       "prompt_number": 17,
       "text": [
        "0    2\n",
        "1    7\n",
        "2    2\n",
        "3    4\n",
        "4    5\n",
        "5    6\n",
        "6    4\n",
        "dtype: float64"
       ]
      }
     ],
     "prompt_number": 17
    },
    {
     "cell_type": "code",
     "collapsed": false,
     "input": [
      "frame = DataFrame({'b':[4.3, 7, -3, 2], 'a':[0,1,0,1], 'c':[-2,5,8,-2.5]})\n",
      "frame"
     ],
     "language": "python",
     "metadata": {},
     "outputs": [
      {
       "html": [
        "<div style=\"max-height:1000px;max-width:1500px;overflow:auto;\">\n",
        "<table border=\"1\" class=\"dataframe\">\n",
        "  <thead>\n",
        "    <tr style=\"text-align: right;\">\n",
        "      <th></th>\n",
        "      <th>a</th>\n",
        "      <th>b</th>\n",
        "      <th>c</th>\n",
        "    </tr>\n",
        "  </thead>\n",
        "  <tbody>\n",
        "    <tr>\n",
        "      <th>0</th>\n",
        "      <td> 0</td>\n",
        "      <td> 4.3</td>\n",
        "      <td>-2.0</td>\n",
        "    </tr>\n",
        "    <tr>\n",
        "      <th>1</th>\n",
        "      <td> 1</td>\n",
        "      <td> 7.0</td>\n",
        "      <td> 5.0</td>\n",
        "    </tr>\n",
        "    <tr>\n",
        "      <th>2</th>\n",
        "      <td> 0</td>\n",
        "      <td>-3.0</td>\n",
        "      <td> 8.0</td>\n",
        "    </tr>\n",
        "    <tr>\n",
        "      <th>3</th>\n",
        "      <td> 1</td>\n",
        "      <td> 2.0</td>\n",
        "      <td>-2.5</td>\n",
        "    </tr>\n",
        "  </tbody>\n",
        "</table>\n",
        "</div>"
       ],
       "metadata": {},
       "output_type": "pyout",
       "prompt_number": 18,
       "text": [
        "   a    b    c\n",
        "0  0  4.3 -2.0\n",
        "1  1  7.0  5.0\n",
        "2  0 -3.0  8.0\n",
        "3  1  2.0 -2.5"
       ]
      }
     ],
     "prompt_number": 18
    },
    {
     "cell_type": "code",
     "collapsed": false,
     "input": [
      "frame.rank(axis=1)"
     ],
     "language": "python",
     "metadata": {},
     "outputs": [
      {
       "html": [
        "<div style=\"max-height:1000px;max-width:1500px;overflow:auto;\">\n",
        "<table border=\"1\" class=\"dataframe\">\n",
        "  <thead>\n",
        "    <tr style=\"text-align: right;\">\n",
        "      <th></th>\n",
        "      <th>a</th>\n",
        "      <th>b</th>\n",
        "      <th>c</th>\n",
        "    </tr>\n",
        "  </thead>\n",
        "  <tbody>\n",
        "    <tr>\n",
        "      <th>0</th>\n",
        "      <td> 2</td>\n",
        "      <td> 3</td>\n",
        "      <td> 1</td>\n",
        "    </tr>\n",
        "    <tr>\n",
        "      <th>1</th>\n",
        "      <td> 1</td>\n",
        "      <td> 3</td>\n",
        "      <td> 2</td>\n",
        "    </tr>\n",
        "    <tr>\n",
        "      <th>2</th>\n",
        "      <td> 2</td>\n",
        "      <td> 1</td>\n",
        "      <td> 3</td>\n",
        "    </tr>\n",
        "    <tr>\n",
        "      <th>3</th>\n",
        "      <td> 2</td>\n",
        "      <td> 3</td>\n",
        "      <td> 1</td>\n",
        "    </tr>\n",
        "  </tbody>\n",
        "</table>\n",
        "</div>"
       ],
       "metadata": {},
       "output_type": "pyout",
       "prompt_number": 19,
       "text": [
        "   a  b  c\n",
        "0  2  3  1\n",
        "1  1  3  2\n",
        "2  2  1  3\n",
        "3  2  3  1"
       ]
      }
     ],
     "prompt_number": 19
    },
    {
     "cell_type": "code",
     "collapsed": false,
     "input": [
      "### Axis indexs with duplicate values\n",
      "obj = Series(range(5), index=['a', 'a', 'b', 'b', 'c'])\n",
      "obj"
     ],
     "language": "python",
     "metadata": {},
     "outputs": [
      {
       "metadata": {},
       "output_type": "pyout",
       "prompt_number": 20,
       "text": [
        "a    0\n",
        "a    1\n",
        "b    2\n",
        "b    3\n",
        "c    4\n",
        "dtype: int64"
       ]
      }
     ],
     "prompt_number": 20
    },
    {
     "cell_type": "code",
     "collapsed": false,
     "input": [
      "obj.index.is_unique"
     ],
     "language": "python",
     "metadata": {},
     "outputs": [
      {
       "metadata": {},
       "output_type": "pyout",
       "prompt_number": 21,
       "text": [
        "False"
       ]
      }
     ],
     "prompt_number": 21
    },
    {
     "cell_type": "code",
     "collapsed": false,
     "input": [
      "obj['a']"
     ],
     "language": "python",
     "metadata": {},
     "outputs": [
      {
       "metadata": {},
       "output_type": "pyout",
       "prompt_number": 22,
       "text": [
        "a    0\n",
        "a    1\n",
        "dtype: int64"
       ]
      }
     ],
     "prompt_number": 22
    },
    {
     "cell_type": "code",
     "collapsed": false,
     "input": [
      "obj['b']"
     ],
     "language": "python",
     "metadata": {},
     "outputs": [
      {
       "metadata": {},
       "output_type": "pyout",
       "prompt_number": 23,
       "text": [
        "b    2\n",
        "b    3\n",
        "dtype: int64"
       ]
      }
     ],
     "prompt_number": 23
    },
    {
     "cell_type": "code",
     "collapsed": false,
     "input": [
      "obj['c']"
     ],
     "language": "python",
     "metadata": {},
     "outputs": [
      {
       "metadata": {},
       "output_type": "pyout",
       "prompt_number": 24,
       "text": [
        "4"
       ]
      }
     ],
     "prompt_number": 24
    },
    {
     "cell_type": "code",
     "collapsed": false,
     "input": [
      "df = DataFrame(np.random.randn(4,3), index=['a', 'a', 'b', 'b'])\n",
      "df"
     ],
     "language": "python",
     "metadata": {},
     "outputs": [
      {
       "html": [
        "<div style=\"max-height:1000px;max-width:1500px;overflow:auto;\">\n",
        "<table border=\"1\" class=\"dataframe\">\n",
        "  <thead>\n",
        "    <tr style=\"text-align: right;\">\n",
        "      <th></th>\n",
        "      <th>0</th>\n",
        "      <th>1</th>\n",
        "      <th>2</th>\n",
        "    </tr>\n",
        "  </thead>\n",
        "  <tbody>\n",
        "    <tr>\n",
        "      <th>a</th>\n",
        "      <td>-0.743471</td>\n",
        "      <td>-0.979816</td>\n",
        "      <td> 0.997181</td>\n",
        "    </tr>\n",
        "    <tr>\n",
        "      <th>a</th>\n",
        "      <td> 1.230992</td>\n",
        "      <td>-2.292892</td>\n",
        "      <td> 0.473701</td>\n",
        "    </tr>\n",
        "    <tr>\n",
        "      <th>b</th>\n",
        "      <td> 0.663599</td>\n",
        "      <td> 0.532922</td>\n",
        "      <td>-0.536753</td>\n",
        "    </tr>\n",
        "    <tr>\n",
        "      <th>b</th>\n",
        "      <td>-0.569192</td>\n",
        "      <td> 0.712105</td>\n",
        "      <td> 0.140366</td>\n",
        "    </tr>\n",
        "  </tbody>\n",
        "</table>\n",
        "</div>"
       ],
       "metadata": {},
       "output_type": "pyout",
       "prompt_number": 26,
       "text": [
        "          0         1         2\n",
        "a -0.743471 -0.979816  0.997181\n",
        "a  1.230992 -2.292892  0.473701\n",
        "b  0.663599  0.532922 -0.536753\n",
        "b -0.569192  0.712105  0.140366"
       ]
      }
     ],
     "prompt_number": 26
    },
    {
     "cell_type": "code",
     "collapsed": false,
     "input": [
      "df.ix['b']"
     ],
     "language": "python",
     "metadata": {},
     "outputs": [
      {
       "html": [
        "<div style=\"max-height:1000px;max-width:1500px;overflow:auto;\">\n",
        "<table border=\"1\" class=\"dataframe\">\n",
        "  <thead>\n",
        "    <tr style=\"text-align: right;\">\n",
        "      <th></th>\n",
        "      <th>0</th>\n",
        "      <th>1</th>\n",
        "      <th>2</th>\n",
        "    </tr>\n",
        "  </thead>\n",
        "  <tbody>\n",
        "    <tr>\n",
        "      <th>b</th>\n",
        "      <td> 0.663599</td>\n",
        "      <td> 0.532922</td>\n",
        "      <td>-0.536753</td>\n",
        "    </tr>\n",
        "    <tr>\n",
        "      <th>b</th>\n",
        "      <td>-0.569192</td>\n",
        "      <td> 0.712105</td>\n",
        "      <td> 0.140366</td>\n",
        "    </tr>\n",
        "  </tbody>\n",
        "</table>\n",
        "</div>"
       ],
       "metadata": {},
       "output_type": "pyout",
       "prompt_number": 27,
       "text": [
        "          0         1         2\n",
        "b  0.663599  0.532922 -0.536753\n",
        "b -0.569192  0.712105  0.140366"
       ]
      }
     ],
     "prompt_number": 27
    },
    {
     "cell_type": "code",
     "collapsed": false,
     "input": [
      "### Summarizing and Computing Descriptive Statistics"
     ],
     "language": "python",
     "metadata": {},
     "outputs": [],
     "prompt_number": 28
    },
    {
     "cell_type": "code",
     "collapsed": false,
     "input": [
      "df = DataFrame([[1.4, np.nan], [7.1, -4.5], [np.nan, np.nan], [0.75, -1.3]], index=['a','b','c','d'], columns=['one','two'])\n",
      "df"
     ],
     "language": "python",
     "metadata": {},
     "outputs": [
      {
       "html": [
        "<div style=\"max-height:1000px;max-width:1500px;overflow:auto;\">\n",
        "<table border=\"1\" class=\"dataframe\">\n",
        "  <thead>\n",
        "    <tr style=\"text-align: right;\">\n",
        "      <th></th>\n",
        "      <th>one</th>\n",
        "      <th>two</th>\n",
        "    </tr>\n",
        "  </thead>\n",
        "  <tbody>\n",
        "    <tr>\n",
        "      <th>a</th>\n",
        "      <td> 1.40</td>\n",
        "      <td> NaN</td>\n",
        "    </tr>\n",
        "    <tr>\n",
        "      <th>b</th>\n",
        "      <td> 7.10</td>\n",
        "      <td>-4.5</td>\n",
        "    </tr>\n",
        "    <tr>\n",
        "      <th>c</th>\n",
        "      <td>  NaN</td>\n",
        "      <td> NaN</td>\n",
        "    </tr>\n",
        "    <tr>\n",
        "      <th>d</th>\n",
        "      <td> 0.75</td>\n",
        "      <td>-1.3</td>\n",
        "    </tr>\n",
        "  </tbody>\n",
        "</table>\n",
        "</div>"
       ],
       "metadata": {},
       "output_type": "pyout",
       "prompt_number": 29,
       "text": [
        "    one  two\n",
        "a  1.40  NaN\n",
        "b  7.10 -4.5\n",
        "c   NaN  NaN\n",
        "d  0.75 -1.3"
       ]
      }
     ],
     "prompt_number": 29
    },
    {
     "cell_type": "code",
     "collapsed": false,
     "input": [
      "df.sum(axis=0)"
     ],
     "language": "python",
     "metadata": {},
     "outputs": [
      {
       "metadata": {},
       "output_type": "pyout",
       "prompt_number": 32,
       "text": [
        "one    9.25\n",
        "two   -5.80\n",
        "dtype: float64"
       ]
      }
     ],
     "prompt_number": 32
    },
    {
     "cell_type": "code",
     "collapsed": false,
     "input": [
      "df.sum(axis=1)"
     ],
     "language": "python",
     "metadata": {},
     "outputs": [
      {
       "metadata": {},
       "output_type": "pyout",
       "prompt_number": 31,
       "text": [
        "a    1.40\n",
        "b    2.60\n",
        "c     NaN\n",
        "d   -0.55\n",
        "dtype: float64"
       ]
      }
     ],
     "prompt_number": 31
    },
    {
     "cell_type": "code",
     "collapsed": false,
     "input": [
      "df.mean(axis=1, skipna=False)"
     ],
     "language": "python",
     "metadata": {},
     "outputs": [
      {
       "metadata": {},
       "output_type": "pyout",
       "prompt_number": 33,
       "text": [
        "a      NaN\n",
        "b    1.300\n",
        "c      NaN\n",
        "d   -0.275\n",
        "dtype: float64"
       ]
      }
     ],
     "prompt_number": 33
    },
    {
     "cell_type": "code",
     "collapsed": false,
     "input": [
      "df.idxmax()"
     ],
     "language": "python",
     "metadata": {},
     "outputs": [
      {
       "metadata": {},
       "output_type": "pyout",
       "prompt_number": 35,
       "text": [
        "one    b\n",
        "two    d\n",
        "dtype: object"
       ]
      }
     ],
     "prompt_number": 35
    },
    {
     "cell_type": "code",
     "collapsed": false,
     "input": [
      "df.cumsum()"
     ],
     "language": "python",
     "metadata": {},
     "outputs": [
      {
       "html": [
        "<div style=\"max-height:1000px;max-width:1500px;overflow:auto;\">\n",
        "<table border=\"1\" class=\"dataframe\">\n",
        "  <thead>\n",
        "    <tr style=\"text-align: right;\">\n",
        "      <th></th>\n",
        "      <th>one</th>\n",
        "      <th>two</th>\n",
        "    </tr>\n",
        "  </thead>\n",
        "  <tbody>\n",
        "    <tr>\n",
        "      <th>a</th>\n",
        "      <td> 1.40</td>\n",
        "      <td> NaN</td>\n",
        "    </tr>\n",
        "    <tr>\n",
        "      <th>b</th>\n",
        "      <td> 8.50</td>\n",
        "      <td>-4.5</td>\n",
        "    </tr>\n",
        "    <tr>\n",
        "      <th>c</th>\n",
        "      <td>  NaN</td>\n",
        "      <td> NaN</td>\n",
        "    </tr>\n",
        "    <tr>\n",
        "      <th>d</th>\n",
        "      <td> 9.25</td>\n",
        "      <td>-5.8</td>\n",
        "    </tr>\n",
        "  </tbody>\n",
        "</table>\n",
        "</div>"
       ],
       "metadata": {},
       "output_type": "pyout",
       "prompt_number": 36,
       "text": [
        "    one  two\n",
        "a  1.40  NaN\n",
        "b  8.50 -4.5\n",
        "c   NaN  NaN\n",
        "d  9.25 -5.8"
       ]
      }
     ],
     "prompt_number": 36
    },
    {
     "cell_type": "code",
     "collapsed": false,
     "input": [
      "df.describe()"
     ],
     "language": "python",
     "metadata": {},
     "outputs": [
      {
       "html": [
        "<div style=\"max-height:1000px;max-width:1500px;overflow:auto;\">\n",
        "<table border=\"1\" class=\"dataframe\">\n",
        "  <thead>\n",
        "    <tr style=\"text-align: right;\">\n",
        "      <th></th>\n",
        "      <th>one</th>\n",
        "      <th>two</th>\n",
        "    </tr>\n",
        "  </thead>\n",
        "  <tbody>\n",
        "    <tr>\n",
        "      <th>count</th>\n",
        "      <td> 3.000000</td>\n",
        "      <td> 2.000000</td>\n",
        "    </tr>\n",
        "    <tr>\n",
        "      <th>mean</th>\n",
        "      <td> 3.083333</td>\n",
        "      <td>-2.900000</td>\n",
        "    </tr>\n",
        "    <tr>\n",
        "      <th>std</th>\n",
        "      <td> 3.493685</td>\n",
        "      <td> 2.262742</td>\n",
        "    </tr>\n",
        "    <tr>\n",
        "      <th>min</th>\n",
        "      <td> 0.750000</td>\n",
        "      <td>-4.500000</td>\n",
        "    </tr>\n",
        "    <tr>\n",
        "      <th>25%</th>\n",
        "      <td> 1.075000</td>\n",
        "      <td>-3.700000</td>\n",
        "    </tr>\n",
        "    <tr>\n",
        "      <th>50%</th>\n",
        "      <td> 1.400000</td>\n",
        "      <td>-2.900000</td>\n",
        "    </tr>\n",
        "    <tr>\n",
        "      <th>75%</th>\n",
        "      <td> 4.250000</td>\n",
        "      <td>-2.100000</td>\n",
        "    </tr>\n",
        "    <tr>\n",
        "      <th>max</th>\n",
        "      <td> 7.100000</td>\n",
        "      <td>-1.300000</td>\n",
        "    </tr>\n",
        "  </tbody>\n",
        "</table>\n",
        "</div>"
       ],
       "metadata": {},
       "output_type": "pyout",
       "prompt_number": 37,
       "text": [
        "            one       two\n",
        "count  3.000000  2.000000\n",
        "mean   3.083333 -2.900000\n",
        "std    3.493685  2.262742\n",
        "min    0.750000 -4.500000\n",
        "25%    1.075000 -3.700000\n",
        "50%    1.400000 -2.900000\n",
        "75%    4.250000 -2.100000\n",
        "max    7.100000 -1.300000"
       ]
      }
     ],
     "prompt_number": 37
    },
    {
     "cell_type": "code",
     "collapsed": false,
     "input": [
      "obj = Series(['a', 'a', 'b', 'c']*4)\n",
      "obj"
     ],
     "language": "python",
     "metadata": {},
     "outputs": [
      {
       "metadata": {},
       "output_type": "pyout",
       "prompt_number": 39,
       "text": [
        "0     a\n",
        "1     a\n",
        "2     b\n",
        "3     c\n",
        "4     a\n",
        "5     a\n",
        "6     b\n",
        "7     c\n",
        "8     a\n",
        "9     a\n",
        "10    b\n",
        "11    c\n",
        "12    a\n",
        "13    a\n",
        "14    b\n",
        "15    c\n",
        "dtype: object"
       ]
      }
     ],
     "prompt_number": 39
    },
    {
     "cell_type": "code",
     "collapsed": false,
     "input": [
      "obj.describe()"
     ],
     "language": "python",
     "metadata": {},
     "outputs": [
      {
       "metadata": {},
       "output_type": "pyout",
       "prompt_number": 40,
       "text": [
        "count     16\n",
        "unique     3\n",
        "top        a\n",
        "freq       8\n",
        "dtype: object"
       ]
      }
     ],
     "prompt_number": 40
    },
    {
     "cell_type": "code",
     "collapsed": false,
     "input": [
      "### Correlation and Covariance\n",
      "import pandas.io.data as web"
     ],
     "language": "python",
     "metadata": {},
     "outputs": [],
     "prompt_number": 41
    },
    {
     "cell_type": "code",
     "collapsed": false,
     "input": [
      "import pandas.io.data as web\n",
      "all_data = {}\n",
      "#print type(all_data)\n",
      "for ticker in ['AAPL', 'IBM', 'MSFT', 'GOOG']:\n",
      "    all_data[ticker] = web.get_data_yahoo(ticker)\n",
      "print all_data"
     ],
     "language": "python",
     "metadata": {},
     "outputs": [
      {
       "output_type": "stream",
       "stream": "stdout",
       "text": [
        "{'GOOG':                  Open       High        Low      Close   Volume  Adj Close\n",
        "Date                                                                      \n",
        "2014-03-27  568.00000  568.00000  552.91998  558.46002    13100  558.46002\n",
        "2014-03-28  561.20001  566.42999  558.66998  559.98999    41100  559.98999\n",
        "2014-03-31  566.89001  567.00000  556.92999  556.96997    10800  556.96997\n",
        "2014-04-01  558.71002  568.45001  558.71002  567.15997     7900  567.15997\n",
        "2014-04-02  599.98999  604.83002  562.19000  567.00000   146700  567.00000\n",
        "2014-04-03  569.84998  587.28003  564.13000  569.73999  5085200  569.73999\n",
        "2014-04-04  574.65002  577.77002  543.00000  543.14001  6351900  543.14001\n",
        "2014-04-07  540.73999  548.47998  527.15002  538.15002  4389600  538.15002\n",
        "2014-04-08  542.59998  555.00000  541.60999  554.90002  3142600  554.90002\n",
        "2014-04-09  559.62000  565.37000  552.95001  564.14001  3321700  564.14001\n",
        "2014-04-10  565.00000  565.00000  539.90002  540.95001  4025800  540.95001\n",
        "2014-04-11  532.54999  540.00000  526.53003  530.59998  3914100  530.59998\n",
        "2014-04-14  538.25000  544.09998  529.56000  532.52002  2568000  532.52002\n",
        "2014-04-15  536.82001  538.45001  518.46002  536.44000  3844500  536.44000\n",
        "2014-04-16  543.00000  557.00000  540.00000  556.53998  4879900  556.53998\n",
        "2014-04-17  548.81000  549.50000  531.15002  536.09998  6790900  536.09998\n",
        "2014-04-21  536.09998  536.70001  525.59998  528.62000  2559700  528.62000\n",
        "2014-04-22  528.64001  537.22998  527.51001  534.81000  2358900  534.81000\n",
        "2014-04-23  533.78998  533.87000  526.25000  526.94000  2046700  526.94000\n",
        "2014-04-24  530.07001  531.65002  522.12000  525.15997  1878000  525.15997\n",
        "2014-04-25  522.51001  524.70001  515.41998  516.17999  2094600  516.17999\n",
        "2014-04-28  517.17999  518.59998  502.79999  517.15002  3326400  517.15002\n",
        "2014-04-29  516.90002  529.46002  516.32001  527.70001  2691700  527.70001\n",
        "2014-04-30  527.59998  528.00000  522.52002  526.65997  1746400  526.65997\n",
        "2014-05-01  527.10999  532.92999  523.88000  531.34998  1900300  531.34998\n",
        "2014-05-02  533.76001  534.00000  525.60999  527.92999  1683900  527.92999\n",
        "2014-05-05  524.82001  528.90002  521.32001  527.81000  1021300  527.81000\n",
        "2014-05-06  525.22998  526.81000  515.06000  515.14001  1684400  515.14001\n",
        "2014-05-07  515.78998  516.67999  503.29999  509.95999  3215500  509.95999\n",
        "2014-05-08  508.45999  517.22998  506.45001  511.00000  2015800  511.00000\n",
        "...               ...        ...        ...        ...      ...        ...\n",
        "2015-03-06  574.88000  576.67999  566.76001  567.68500  1654600  567.68500\n",
        "2015-03-09  566.85999  570.27002  563.53497  568.84998  1059200  568.84998\n",
        "2015-03-10  564.25000  564.84998  554.72998  555.01001  1787400  555.01001\n",
        "2015-03-11  555.14001  558.14001  550.67999  551.17999  1815800  551.17999\n",
        "2015-03-12  553.51001  556.37000  550.46002  555.51001  1385800  555.51001\n",
        "2015-03-13  553.50000  558.40002  544.21997  547.32001  1698900  547.32001\n",
        "2015-03-16  550.95001  556.84998  546.00000  554.51001  1636500  554.51001\n",
        "2015-03-17  551.71002  553.79999  548.00000  550.84003  1800600  550.84003\n",
        "2015-03-18  552.50000  559.78003  547.00000  559.50000  2128700  559.50000\n",
        "2015-03-19  559.39001  560.79999  556.14502  557.98999  1194000  557.98999\n",
        "2015-03-20  561.65002  561.71997  559.04999  560.35999  2609700  560.35999\n",
        "2015-03-23  560.42999  562.35999  555.83002  558.81000  1639300  558.81000\n",
        "2015-03-24  562.56000  574.59003  561.21002  570.19000  2576200  570.19000\n",
        "2015-03-25  570.50000  572.26001  558.73999  558.78497  2146400  558.78497\n",
        "2015-03-26  557.59003  558.90002  550.65002  555.16998  1568300  555.16998\n",
        "2015-03-27  553.00000  555.28003  548.13000  548.34003  1892300  548.34003\n",
        "2015-03-30  551.62000  553.46997  548.16998  552.03003  1284000  552.03003\n",
        "2015-03-31  550.00000  554.71002  546.71997  548.00000  1583700  548.00000\n",
        "2015-04-01  548.59998  551.14001  539.50000  542.56000  1957700  542.56000\n",
        "2015-04-02  540.84998  540.84998  533.84698  535.53003  1711700  535.53003\n",
        "2015-04-06  532.21997  538.40997  529.57001  536.76501  1320800  536.76501\n",
        "2015-04-07  538.08002  542.69000  536.00000  537.02002  1299300  537.02002\n",
        "2015-04-08  538.38000  543.84998  538.38000  541.60999  1175300  541.60999\n",
        "2015-04-09  541.03003  541.95001  535.48999  540.78003  1553600  540.78003\n",
        "2015-04-10  542.28998  542.28998  537.31000  540.01001  1405600  540.01001\n",
        "2015-04-13  538.40997  544.06000  537.31000  539.16998  1640800  539.16998\n",
        "2015-04-14  536.25000  537.57001  528.09198  530.39001  2597000  530.39001\n",
        "2015-04-15  528.70001  534.72998  523.21997  532.53003  2304000  532.53003\n",
        "2015-04-16  529.90002  535.59003  529.60999  533.79999  1293100  533.79999\n",
        "2015-04-17  528.65997  529.84003  521.01001  524.04999  2138200  524.04999\n",
        "\n",
        "[267 rows x 6 columns], 'AAPL':                  Open       High        Low      Close     Volume  Adj Close\n",
        "Date                                                                        \n",
        "2010-01-04  213.42999  214.50003  212.38000  214.01003  123432400   28.83805\n",
        "2010-01-05  214.59999  215.59000  213.25003  214.37997  150476200   28.88790\n",
        "2010-01-06  214.37997  215.22998  210.74997  210.97000  138040000   28.42840\n",
        "2010-01-07  211.75000  211.99997  209.05003  210.58003  119282800   28.37585\n",
        "2010-01-08  210.30002  211.99997  209.05997  211.98001  111902700   28.56450\n",
        "2010-01-11  212.80000  212.99998  208.45000  210.10997  115557400   28.31251\n",
        "2010-01-12  209.19003  209.76999  206.41998  207.72003  148614900   27.99047\n",
        "2010-01-13  207.86996  210.93002  204.09999  210.65001  151473000   28.38528\n",
        "2010-01-14  210.10997  210.45998  209.02000  209.42999  108223500   28.22088\n",
        "2010-01-15  210.93002  211.59999  205.87000  205.92999  148516900   27.74926\n",
        "2010-01-19  208.33002  215.19002  207.23996  215.03999  182501900   28.97684\n",
        "2010-01-20  214.91000  215.55002  209.49998  211.72998  153038200   28.53081\n",
        "2010-01-21  212.07999  213.31003  207.21002  208.07004  152038600   28.03763\n",
        "2010-01-22  206.78000  207.50003  197.15997  197.75000  220441900   26.64700\n",
        "2010-01-25  202.51001  204.70003  200.18999  203.07001  266424900   27.36387\n",
        "2010-01-26  205.95001  213.71001  202.58000  205.94000  466777500   27.75061\n",
        "2010-01-27  206.84999  210.58003  199.53003  207.87997  430642100   28.01202\n",
        "2010-01-28  204.92996  205.49997  198.69997  199.28999  293375600   26.85451\n",
        "2010-01-29  201.07997  202.19997  190.24998  192.05998  311488100   25.88026\n",
        "2010-02-01  192.37001  196.00000  191.29999  194.72998  187469100   26.24005\n",
        "2010-02-02  195.90999  196.31996  193.37997  195.86000  174585600   26.39232\n",
        "2010-02-03  195.17001  200.20000  194.42003  199.23001  153832000   26.84643\n",
        "2010-02-04  196.73003  198.37000  191.56998  192.04997  189413000   25.87891\n",
        "2010-02-05  192.62999  196.00000  190.85004  195.46002  212576700   26.33842\n",
        "2010-02-08  195.68997  197.87999  194.00003  194.12001  119567700   26.15785\n",
        "2010-02-09  196.42000  197.50003  194.75002  196.18997  158221700   26.43678\n",
        "2010-02-10  195.89003  196.59998  194.26001  195.12003   92590400   26.29261\n",
        "2010-02-11  194.88000  199.74997  194.06003  198.67001  137586400   26.77097\n",
        "2010-02-12  198.11002  201.63997  195.49998  200.37997  163867200   27.00139\n",
        "2010-02-16  201.93999  203.68999  201.51999  203.39998  135934400   27.40834\n",
        "...               ...        ...        ...        ...        ...        ...\n",
        "2015-03-06  128.39999  129.37000  126.26000  126.60000   72842100  126.60000\n",
        "2015-03-09  127.96000  129.57001  125.06000  127.14000   88528500  127.14000\n",
        "2015-03-10  126.41000  127.22000  123.80000  124.51000   68856600  124.51000\n",
        "2015-03-11  124.75000  124.77000  122.11000  122.24000   68939000  122.24000\n",
        "2015-03-12  122.31000  124.90000  121.63000  124.45000   48362700  124.45000\n",
        "2015-03-13  124.40000  125.40000  122.58000  123.59000   51827300  123.59000\n",
        "2015-03-16  123.88000  124.95000  122.87000  124.95000   35874300  124.95000\n",
        "2015-03-17  125.90000  127.32000  125.65000  127.04000   51023100  127.04000\n",
        "2015-03-18  127.00000  129.16000  126.37000  128.47000   65270900  128.47000\n",
        "2015-03-19  128.75000  129.25000  127.40000  127.50000   45809500  127.50000\n",
        "2015-03-20  128.25000  128.39999  125.16000  125.90000   68695100  125.90000\n",
        "2015-03-23  127.12000  127.85000  126.52000  127.21000   37709700  127.21000\n",
        "2015-03-24  127.23000  128.03999  126.56000  126.69000   32842300  126.69000\n",
        "2015-03-25  126.54000  126.82000  123.38000  123.38000   51655200  123.38000\n",
        "2015-03-26  122.76000  124.88000  122.60000  124.24000   47572900  124.24000\n",
        "2015-03-27  124.57000  124.70000  122.91000  123.25000   39546200  123.25000\n",
        "2015-03-30  124.05000  126.40000  124.00000  126.37000   47099700  126.37000\n",
        "2015-03-31  126.09000  126.49000  124.36000  124.43000   42090600  124.43000\n",
        "2015-04-01  124.82000  125.12000  123.10000  124.25000   40621400  124.25000\n",
        "2015-04-02  125.03000  125.56000  124.19000  125.32000   32220100  125.32000\n",
        "2015-04-06  124.47000  127.51000  124.33000  127.35000   37194000  127.35000\n",
        "2015-04-07  127.64000  128.12000  125.98000  126.01000   35012300  126.01000\n",
        "2015-04-08  125.85000  126.40000  124.97000  125.60000   37329200  125.60000\n",
        "2015-04-09  125.85000  126.58000  124.66000  126.56000   32484000  126.56000\n",
        "2015-04-10  125.95000  127.21000  125.26000  127.10000   40188000  127.10000\n",
        "2015-04-13  128.37000  128.57001  126.61000  126.85000   36365100  126.85000\n",
        "2015-04-14  127.00000  127.29000  125.91000  126.30000   25524600  126.30000\n",
        "2015-04-15  126.41000  127.13000  126.01000  126.78000   28848900  126.78000\n",
        "2015-04-16  126.28000  127.10000  126.11000  126.17000   27895300  126.17000\n",
        "2015-04-17  125.55000  126.14000  124.46000  124.75000   51323900  124.75000\n",
        "\n",
        "[1331 rows x 6 columns], 'IBM':                  Open       High        Low      Close    Volume  Adj Close\n",
        "Date                                                                       \n",
        "2010-01-04  131.17999  132.97000  130.85001  132.45000   6155300  119.53254\n",
        "2010-01-05  131.67999  131.85001  130.10001  130.85001   6841400  118.08859\n",
        "2010-01-06  130.67999  131.49001  129.81000  130.00000   5605300  117.32149\n",
        "2010-01-07  129.87000  130.25000  128.91000  129.55000   5840600  116.91537\n",
        "2010-01-08  129.07001  130.92000  129.05000  130.85001   4197200  118.08859\n",
        "2010-01-11  131.06000  131.06000  128.67000  129.48000   5730400  116.85220\n",
        "2010-01-12  129.03000  131.33000  129.00000  130.50999   8081500  117.78175\n",
        "2010-01-13  130.39000  131.12000  129.16000  130.23000   6455400  117.52905\n",
        "2010-01-14  130.55000  132.71001  129.91000  132.31000   7111800  119.40620\n",
        "2010-01-15  132.03000  132.89000  131.09000  131.78000   8494400  118.92789\n",
        "2010-01-19  131.63000  134.25000  131.56000  134.14000  13916200  121.05772\n",
        "2010-01-20  130.46001  131.14999  128.95000  130.25000  15197500  117.54710\n",
        "2010-01-21  130.47000  130.69000  128.06000  129.00000   9608600  116.41901\n",
        "2010-01-22  128.67000  128.89000  125.37000  125.50000  10088600  113.26036\n",
        "2010-01-25  126.33000  126.89000  125.71000  126.12000   5738500  113.81989\n",
        "2010-01-26  125.92000  127.75000  125.41000  125.75000   7135300  113.48598\n",
        "2010-01-27  125.82000  126.96000  125.04000  126.33000   8719200  114.00941\n",
        "2010-01-28  127.03000  127.04000  123.05000  123.75000   9622200  111.68103\n",
        "2010-01-29  124.32000  125.00000  121.90000  122.39000  11571200  110.45367\n",
        "2010-02-01  123.23000  124.95000  122.78000  124.67000   7242900  112.51131\n",
        "2010-02-02  124.79000  125.81000  123.95000  125.53000   5899900  113.28743\n",
        "2010-02-03  125.16000  126.07000  125.07000  125.66000   4177100  113.40475\n",
        "2010-02-04  125.19000  125.44000  122.90000  123.00000   9126900  111.00417\n",
        "2010-02-05  123.04000  123.72000  121.83000  123.52000   8617000  111.47346\n",
        "2010-02-08  123.15000  123.22000  121.74000  121.88000   5718500  110.48537\n",
        "2010-02-09  122.65000  124.20000  122.46000  123.21000   6044500  111.69102\n",
        "2010-02-10  122.94000  123.65000  122.21000  122.81000   5219100  111.32841\n",
        "2010-02-11  122.58000  124.20000  122.06000  123.73000   5089000  112.16241\n",
        "2010-02-12  123.01000  124.05000  121.61000  124.00000   8017700  112.40717\n",
        "2010-02-16  124.91000  125.23000  124.11000  125.23000   6777300  113.52218\n",
        "...               ...        ...        ...        ...       ...        ...\n",
        "2015-03-06  160.19000  161.44000  158.06000  158.50000   4540200  158.50000\n",
        "2015-03-09  158.20000  161.14999  158.20000  160.77000   5193900  160.77000\n",
        "2015-03-10  159.60001  160.23000  157.81000  157.81000   4601000  157.81000\n",
        "2015-03-11  158.57001  159.14000  155.94000  156.80000   5709900  156.80000\n",
        "2015-03-12  156.27000  158.72000  156.27000  157.98000   4567300  157.98000\n",
        "2015-03-13  157.46001  157.52000  153.39999  154.28000   6064100  154.28000\n",
        "2015-03-16  155.05000  157.09000  154.80000  157.08000   3749600  157.08000\n",
        "2015-03-17  156.20000  157.28999  155.37000  156.96001   3311700  156.96001\n",
        "2015-03-18  156.85001  160.70000  155.80000  159.81000   5738800  159.81000\n",
        "2015-03-19  159.70000  160.92000  158.81000  159.81000   3878600  159.81000\n",
        "2015-03-20  160.95000  163.00000  160.35001  162.88000   9006400  162.88000\n",
        "2015-03-23  162.77000  165.35001  162.73000  164.63000   5930100  164.63000\n",
        "2015-03-24  164.78999  164.89000  162.89999  163.00000   4346100  163.00000\n",
        "2015-03-25  163.08000  163.08000  159.20000  159.20000   5428900  159.20000\n",
        "2015-03-26  159.27000  161.25000  158.91000  160.59000   4396000  160.59000\n",
        "2015-03-27  160.78999  160.89999  159.23000  160.39999   3477900  160.39999\n",
        "2015-03-30  161.31000  163.60001  161.25000  162.67000   4138000  162.67000\n",
        "2015-03-31  161.08000  162.33000  160.39999  160.50000   4255400  160.50000\n",
        "2015-04-01  160.23000  160.62000  158.39000  159.17999   3700800  159.17999\n",
        "2015-04-02  159.52000  162.53999  158.89000  160.45000   4671600  160.45000\n",
        "2015-04-06  159.69000  162.80000  158.70000  162.03999   3465700  162.03999\n",
        "2015-04-07  161.67000  163.84000  161.62000  162.07001   3148000  162.07001\n",
        "2015-04-08  161.72000  163.55000  161.00999  161.85001   2524300  161.85001\n",
        "2015-04-09  161.70000  162.47000  160.72000  162.34000   2263500  162.34000\n",
        "2015-04-10  162.34000  163.33000  161.25000  162.86000   2515700  162.86000\n",
        "2015-04-13  162.37000  164.00000  162.36000  162.38000   3868900  162.38000\n",
        "2015-04-14  162.42000  162.74001  160.78999  162.30000   2719300  162.30000\n",
        "2015-04-15  162.63000  164.96001  162.50000  164.13000   3495600  164.13000\n",
        "2015-04-16  163.31000  163.98000  162.53999  163.13000   3115700  163.13000\n",
        "2015-04-17  161.75000  161.86000  160.03000  160.67000   4299800  160.67000\n",
        "\n",
        "[1331 rows x 6 columns], 'MSFT':              Open   High    Low  Close     Volume  Adj Close\n",
        "Date                                                        \n",
        "2010-01-04  30.62  31.10  30.59  30.95   38409100   26.94331\n",
        "2010-01-05  30.85  31.10  30.64  30.96   49749600   26.95201\n",
        "2010-01-06  30.88  31.08  30.52  30.77   58182400   26.78661\n",
        "2010-01-07  30.63  30.70  30.19  30.45   50559700   26.50804\n",
        "2010-01-08  30.28  30.88  30.24  30.66   51197400   26.69085\n",
        "2010-01-11  30.71  30.76  30.12  30.27   68754700   26.35134\n",
        "2010-01-12  30.15  30.40  29.91  30.07   65912100   26.17723\n",
        "2010-01-13  30.26  30.52  30.01  30.35   51863500   26.42098\n",
        "2010-01-14  30.31  31.10  30.26  30.96   63228100   26.95201\n",
        "2010-01-15  31.08  31.24  30.71  30.86   79913200   26.86496\n",
        "2010-01-19  30.75  31.24  30.68  31.10   46575700   27.07389\n",
        "2010-01-20  30.81  30.94  30.31  30.59   54849500   26.62991\n",
        "2010-01-21  30.61  30.72  30.00  30.01   73086700   26.12500\n",
        "2010-01-22  30.00  30.20  28.84  28.96  102004600   25.21093\n",
        "2010-01-25  29.24  29.66  29.10  29.32   63373000   25.52432\n",
        "2010-01-26  29.20  29.85  29.09  29.50   66639900   25.68102\n",
        "2010-01-27  29.35  29.82  29.02  29.67   63949500   25.82901\n",
        "2010-01-28  29.84  29.87  28.89  29.16  117513700   25.38504\n",
        "2010-01-29  29.90  29.92  27.66  28.18  193888500   24.53190\n",
        "2010-02-01  28.39  28.48  27.92  28.41   85931100   24.73213\n",
        "2010-02-02  28.37  28.50  28.14  28.46   54413700   24.77565\n",
        "2010-02-03  28.26  28.79  28.12  28.63   61397900   24.92365\n",
        "2010-02-04  28.38  28.50  27.81  27.84   77850000   24.23592\n",
        "2010-02-05  28.00  28.28  27.57  28.02   80960100   24.39262\n",
        "2010-02-08  28.01  28.08  27.57  27.72   52820600   24.13145\n",
        "2010-02-09  27.97  28.34  27.75  28.01   59195800   24.38391\n",
        "2010-02-10  28.03  28.24  27.84  27.99   48591300   24.36650\n",
        "2010-02-11  27.93  28.40  27.70  28.12   65993700   24.47967\n",
        "2010-02-12  27.81  28.06  27.58  27.93   81117200   24.31427\n",
        "2010-02-16  28.13  28.37  28.02  28.35   51935600   24.79531\n",
        "...           ...    ...    ...    ...        ...        ...\n",
        "2015-03-06  43.00  43.11  42.15  42.36   36248800   42.36000\n",
        "2015-03-09  42.19  43.13  42.19  42.85   32108000   42.85000\n",
        "2015-03-10  42.35  42.71  42.03  42.03   39159700   42.03000\n",
        "2015-03-11  42.31  42.37  41.84  41.98   32215300   41.98000\n",
        "2015-03-12  41.33  41.65  40.86  41.02   59992500   41.02000\n",
        "2015-03-13  40.70  41.47  40.61  41.38   58007700   41.38000\n",
        "2015-03-16  41.47  41.64  41.28  41.56   35273500   41.56000\n",
        "2015-03-17  41.37  41.83  41.15  41.70   31673400   41.70000\n",
        "2015-03-18  41.43  42.83  41.33  42.50   44194800   42.50000\n",
        "2015-03-19  42.26  42.59  42.22  42.29   33879100   42.29000\n",
        "2015-03-20  42.56  42.98  42.49  42.88   71904500   42.88000\n",
        "2015-03-23  42.88  43.13  42.78  42.86   26246100   42.86000\n",
        "2015-03-24  42.78  43.17  42.75  42.90   25513300   42.90000\n",
        "2015-03-25  42.92  42.93  41.44  41.46   43469900   41.46000\n",
        "2015-03-26  41.22  41.61  40.92  41.21   37495600   41.21000\n",
        "2015-03-27  41.12  41.43  40.83  40.97   34401400   40.97000\n",
        "2015-03-30  41.10  41.54  40.91  40.96   35049700   40.96000\n",
        "2015-03-31  40.78  41.03  40.54  40.66   34887200   40.66000\n",
        "2015-04-01  40.60  40.76  40.31  40.72   36865300   40.72000\n",
        "2015-04-02  40.66  40.74  40.12  40.29   37487500   40.29000\n",
        "2015-04-06  40.34  41.78  40.18  41.55   39223700   41.55000\n",
        "2015-04-07  41.61  41.91  41.31  41.53   28809400   41.53000\n",
        "2015-04-08  41.46  41.69  41.04  41.42   24753400   41.42000\n",
        "2015-04-09  41.25  41.62  41.25  41.48   25723900   41.48000\n",
        "2015-04-10  41.63  41.95  41.41  41.72   28022000   41.72000\n",
        "2015-04-13  41.40  42.06  41.39  41.76   30276700   41.76000\n",
        "2015-04-14  41.80  42.03  41.39  41.65   24244400   41.65000\n",
        "2015-04-15  41.76  42.46  41.68  42.26   27122700   42.26000\n",
        "2015-04-16  41.95  42.34  41.82  42.16   22394200   42.16000\n",
        "2015-04-17  41.67  41.74  41.16  41.62   41783500   41.62000\n",
        "\n",
        "[1331 rows x 6 columns]}\n"
       ]
      }
     ],
     "prompt_number": 23
    },
    {
     "cell_type": "code",
     "collapsed": false,
     "input": [
      "price = DataFrame({tic: data['Adj Close']\n",
      "                   for tic, data in all_data.iteritems()})\n",
      "print price"
     ],
     "language": "python",
     "metadata": {},
     "outputs": [
      {
       "output_type": "stream",
       "stream": "stdout",
       "text": [
        "                 AAPL       GOOG        IBM      MSFT\n",
        "Date                                                 \n",
        "2010-01-04   28.83805        NaN  119.53254  26.94331\n",
        "2010-01-05   28.88790        NaN  118.08859  26.95201\n",
        "2010-01-06   28.42840        NaN  117.32149  26.78661\n",
        "2010-01-07   28.37585        NaN  116.91537  26.50804\n",
        "2010-01-08   28.56450        NaN  118.08859  26.69085\n",
        "2010-01-11   28.31251        NaN  116.85220  26.35134\n",
        "2010-01-12   27.99047        NaN  117.78175  26.17723\n",
        "2010-01-13   28.38528        NaN  117.52905  26.42098\n",
        "2010-01-14   28.22088        NaN  119.40620  26.95201\n",
        "2010-01-15   27.74926        NaN  118.92789  26.86496\n",
        "2010-01-19   28.97684        NaN  121.05772  27.07389\n",
        "2010-01-20   28.53081        NaN  117.54710  26.62991\n",
        "2010-01-21   28.03763        NaN  116.41901  26.12500\n",
        "2010-01-22   26.64700        NaN  113.26036  25.21093\n",
        "2010-01-25   27.36387        NaN  113.81989  25.52432\n",
        "2010-01-26   27.75061        NaN  113.48598  25.68102\n",
        "2010-01-27   28.01202        NaN  114.00941  25.82901\n",
        "2010-01-28   26.85451        NaN  111.68103  25.38504\n",
        "2010-01-29   25.88026        NaN  110.45367  24.53190\n",
        "2010-02-01   26.24005        NaN  112.51131  24.73213\n",
        "2010-02-02   26.39232        NaN  113.28743  24.77565\n",
        "2010-02-03   26.84643        NaN  113.40475  24.92365\n",
        "2010-02-04   25.87891        NaN  111.00417  24.23592\n",
        "2010-02-05   26.33842        NaN  111.47346  24.39262\n",
        "2010-02-08   26.15785        NaN  110.48537  24.13145\n",
        "2010-02-09   26.43678        NaN  111.69102  24.38391\n",
        "2010-02-10   26.29261        NaN  111.32841  24.36650\n",
        "2010-02-11   26.77097        NaN  112.16241  24.47967\n",
        "2010-02-12   27.00139        NaN  112.40717  24.31427\n",
        "2010-02-16   27.40834        NaN  113.52218  24.79531\n",
        "...               ...        ...        ...       ...\n",
        "2015-03-06  126.60000  567.68500  158.50000  42.36000\n",
        "2015-03-09  127.14000  568.84998  160.77000  42.85000\n",
        "2015-03-10  124.51000  555.01001  157.81000  42.03000\n",
        "2015-03-11  122.24000  551.17999  156.80000  41.98000\n",
        "2015-03-12  124.45000  555.51001  157.98000  41.02000\n",
        "2015-03-13  123.59000  547.32001  154.28000  41.38000\n",
        "2015-03-16  124.95000  554.51001  157.08000  41.56000\n",
        "2015-03-17  127.04000  550.84003  156.96001  41.70000\n",
        "2015-03-18  128.47000  559.50000  159.81000  42.50000\n",
        "2015-03-19  127.50000  557.98999  159.81000  42.29000\n",
        "2015-03-20  125.90000  560.35999  162.88000  42.88000\n",
        "2015-03-23  127.21000  558.81000  164.63000  42.86000\n",
        "2015-03-24  126.69000  570.19000  163.00000  42.90000\n",
        "2015-03-25  123.38000  558.78497  159.20000  41.46000\n",
        "2015-03-26  124.24000  555.16998  160.59000  41.21000\n",
        "2015-03-27  123.25000  548.34003  160.39999  40.97000\n",
        "2015-03-30  126.37000  552.03003  162.67000  40.96000\n",
        "2015-03-31  124.43000  548.00000  160.50000  40.66000\n",
        "2015-04-01  124.25000  542.56000  159.17999  40.72000\n",
        "2015-04-02  125.32000  535.53003  160.45000  40.29000\n",
        "2015-04-06  127.35000  536.76501  162.03999  41.55000\n",
        "2015-04-07  126.01000  537.02002  162.07001  41.53000\n",
        "2015-04-08  125.60000  541.60999  161.85001  41.42000\n",
        "2015-04-09  126.56000  540.78003  162.34000  41.48000\n",
        "2015-04-10  127.10000  540.01001  162.86000  41.72000\n",
        "2015-04-13  126.85000  539.16998  162.38000  41.76000\n",
        "2015-04-14  126.30000  530.39001  162.30000  41.65000\n",
        "2015-04-15  126.78000  532.53003  164.13000  42.26000\n",
        "2015-04-16  126.17000  533.79999  163.13000  42.16000\n",
        "2015-04-17  124.75000  524.04999  160.67000  41.62000\n",
        "\n",
        "[1331 rows x 4 columns]\n"
       ]
      }
     ],
     "prompt_number": 24
    },
    {
     "cell_type": "code",
     "collapsed": false,
     "input": [
      "volume = DataFrame({tic: data['Volume']\n",
      "                    for tic, data in all_data.iteritems()})\n",
      "print volume"
     ],
     "language": "python",
     "metadata": {},
     "outputs": [
      {
       "output_type": "stream",
       "stream": "stdout",
       "text": [
        "                 AAPL     GOOG       IBM       MSFT\n",
        "Date                                               \n",
        "2010-01-04  123432400      NaN   6155300   38409100\n",
        "2010-01-05  150476200      NaN   6841400   49749600\n",
        "2010-01-06  138040000      NaN   5605300   58182400\n",
        "2010-01-07  119282800      NaN   5840600   50559700\n",
        "2010-01-08  111902700      NaN   4197200   51197400\n",
        "2010-01-11  115557400      NaN   5730400   68754700\n",
        "2010-01-12  148614900      NaN   8081500   65912100\n",
        "2010-01-13  151473000      NaN   6455400   51863500\n",
        "2010-01-14  108223500      NaN   7111800   63228100\n",
        "2010-01-15  148516900      NaN   8494400   79913200\n",
        "2010-01-19  182501900      NaN  13916200   46575700\n",
        "2010-01-20  153038200      NaN  15197500   54849500\n",
        "2010-01-21  152038600      NaN   9608600   73086700\n",
        "2010-01-22  220441900      NaN  10088600  102004600\n",
        "2010-01-25  266424900      NaN   5738500   63373000\n",
        "2010-01-26  466777500      NaN   7135300   66639900\n",
        "2010-01-27  430642100      NaN   8719200   63949500\n",
        "2010-01-28  293375600      NaN   9622200  117513700\n",
        "2010-01-29  311488100      NaN  11571200  193888500\n",
        "2010-02-01  187469100      NaN   7242900   85931100\n",
        "2010-02-02  174585600      NaN   5899900   54413700\n",
        "2010-02-03  153832000      NaN   4177100   61397900\n",
        "2010-02-04  189413000      NaN   9126900   77850000\n",
        "2010-02-05  212576700      NaN   8617000   80960100\n",
        "2010-02-08  119567700      NaN   5718500   52820600\n",
        "2010-02-09  158221700      NaN   6044500   59195800\n",
        "2010-02-10   92590400      NaN   5219100   48591300\n",
        "2010-02-11  137586400      NaN   5089000   65993700\n",
        "2010-02-12  163867200      NaN   8017700   81117200\n",
        "2010-02-16  135934400      NaN   6777300   51935600\n",
        "...               ...      ...       ...        ...\n",
        "2015-03-06   72842100  1654600   4540200   36248800\n",
        "2015-03-09   88528500  1059200   5193900   32108000\n",
        "2015-03-10   68856600  1787400   4601000   39159700\n",
        "2015-03-11   68939000  1815800   5709900   32215300\n",
        "2015-03-12   48362700  1385800   4567300   59992500\n",
        "2015-03-13   51827300  1698900   6064100   58007700\n",
        "2015-03-16   35874300  1636500   3749600   35273500\n",
        "2015-03-17   51023100  1800600   3311700   31673400\n",
        "2015-03-18   65270900  2128700   5738800   44194800\n",
        "2015-03-19   45809500  1194000   3878600   33879100\n",
        "2015-03-20   68695100  2609700   9006400   71904500\n",
        "2015-03-23   37709700  1639300   5930100   26246100\n",
        "2015-03-24   32842300  2576200   4346100   25513300\n",
        "2015-03-25   51655200  2146400   5428900   43469900\n",
        "2015-03-26   47572900  1568300   4396000   37495600\n",
        "2015-03-27   39546200  1892300   3477900   34401400\n",
        "2015-03-30   47099700  1284000   4138000   35049700\n",
        "2015-03-31   42090600  1583700   4255400   34887200\n",
        "2015-04-01   40621400  1957700   3700800   36865300\n",
        "2015-04-02   32220100  1711700   4671600   37487500\n",
        "2015-04-06   37194000  1320800   3465700   39223700\n",
        "2015-04-07   35012300  1299300   3148000   28809400\n",
        "2015-04-08   37329200  1175300   2524300   24753400\n",
        "2015-04-09   32484000  1553600   2263500   25723900\n",
        "2015-04-10   40188000  1405600   2515700   28022000\n",
        "2015-04-13   36365100  1640800   3868900   30276700\n",
        "2015-04-14   25524600  2597000   2719300   24244400\n",
        "2015-04-15   28848900  2304000   3495600   27122700\n",
        "2015-04-16   27895300  1293100   3115700   22394200\n",
        "2015-04-17   51323900  2138200   4299800   41783500\n",
        "\n",
        "[1331 rows x 4 columns]\n"
       ]
      }
     ],
     "prompt_number": 25
    },
    {
     "cell_type": "code",
     "collapsed": false,
     "input": [
      "returns = price.pct_change()\n",
      "returns.tail()"
     ],
     "language": "python",
     "metadata": {},
     "outputs": [
      {
       "html": [
        "<div style=\"max-height:1000px;max-width:1500px;overflow:auto;\">\n",
        "<table border=\"1\" class=\"dataframe\">\n",
        "  <thead>\n",
        "    <tr style=\"text-align: right;\">\n",
        "      <th></th>\n",
        "      <th>AAPL</th>\n",
        "      <th>GOOG</th>\n",
        "      <th>IBM</th>\n",
        "      <th>MSFT</th>\n",
        "    </tr>\n",
        "    <tr>\n",
        "      <th>Date</th>\n",
        "      <th></th>\n",
        "      <th></th>\n",
        "      <th></th>\n",
        "      <th></th>\n",
        "    </tr>\n",
        "  </thead>\n",
        "  <tbody>\n",
        "    <tr>\n",
        "      <th>2015-04-13</th>\n",
        "      <td>-0.001967</td>\n",
        "      <td>-0.001556</td>\n",
        "      <td>-0.002947</td>\n",
        "      <td> 0.000959</td>\n",
        "    </tr>\n",
        "    <tr>\n",
        "      <th>2015-04-14</th>\n",
        "      <td>-0.004336</td>\n",
        "      <td>-0.016284</td>\n",
        "      <td>-0.000493</td>\n",
        "      <td>-0.002634</td>\n",
        "    </tr>\n",
        "    <tr>\n",
        "      <th>2015-04-15</th>\n",
        "      <td> 0.003800</td>\n",
        "      <td> 0.004035</td>\n",
        "      <td> 0.011275</td>\n",
        "      <td> 0.014646</td>\n",
        "    </tr>\n",
        "    <tr>\n",
        "      <th>2015-04-16</th>\n",
        "      <td>-0.004811</td>\n",
        "      <td> 0.002385</td>\n",
        "      <td>-0.006093</td>\n",
        "      <td>-0.002366</td>\n",
        "    </tr>\n",
        "    <tr>\n",
        "      <th>2015-04-17</th>\n",
        "      <td>-0.011255</td>\n",
        "      <td>-0.018265</td>\n",
        "      <td>-0.015080</td>\n",
        "      <td>-0.012808</td>\n",
        "    </tr>\n",
        "  </tbody>\n",
        "</table>\n",
        "</div>"
       ],
       "metadata": {},
       "output_type": "pyout",
       "prompt_number": 26,
       "text": [
        "                AAPL      GOOG       IBM      MSFT\n",
        "Date                                              \n",
        "2015-04-13 -0.001967 -0.001556 -0.002947  0.000959\n",
        "2015-04-14 -0.004336 -0.016284 -0.000493 -0.002634\n",
        "2015-04-15  0.003800  0.004035  0.011275  0.014646\n",
        "2015-04-16 -0.004811  0.002385 -0.006093 -0.002366\n",
        "2015-04-17 -0.011255 -0.018265 -0.015080 -0.012808"
       ]
      }
     ],
     "prompt_number": 26
    },
    {
     "cell_type": "code",
     "collapsed": false,
     "input": [
      "returns.MSFT.corr(returns.IBM)"
     ],
     "language": "python",
     "metadata": {},
     "outputs": [
      {
       "metadata": {},
       "output_type": "pyout",
       "prompt_number": 29,
       "text": [
        "0.50223136377393252"
       ]
      }
     ],
     "prompt_number": 29
    },
    {
     "cell_type": "code",
     "collapsed": false,
     "input": [
      "returns.MSFT.cov(returns.IBM)"
     ],
     "language": "python",
     "metadata": {},
     "outputs": [
      {
       "metadata": {},
       "output_type": "pyout",
       "prompt_number": 30,
       "text": [
        "8.3211669771662963e-05"
       ]
      }
     ],
     "prompt_number": 30
    },
    {
     "cell_type": "code",
     "collapsed": false,
     "input": [
      "returns.corr()"
     ],
     "language": "python",
     "metadata": {},
     "outputs": [
      {
       "html": [
        "<div style=\"max-height:1000px;max-width:1500px;overflow:auto;\">\n",
        "<table border=\"1\" class=\"dataframe\">\n",
        "  <thead>\n",
        "    <tr style=\"text-align: right;\">\n",
        "      <th></th>\n",
        "      <th>AAPL</th>\n",
        "      <th>GOOG</th>\n",
        "      <th>IBM</th>\n",
        "      <th>MSFT</th>\n",
        "    </tr>\n",
        "  </thead>\n",
        "  <tbody>\n",
        "    <tr>\n",
        "      <th>AAPL</th>\n",
        "      <td> 1.000000</td>\n",
        "      <td> 0.274802</td>\n",
        "      <td> 0.372592</td>\n",
        "      <td> 0.348702</td>\n",
        "    </tr>\n",
        "    <tr>\n",
        "      <th>GOOG</th>\n",
        "      <td> 0.274802</td>\n",
        "      <td> 1.000000</td>\n",
        "      <td> 0.316415</td>\n",
        "      <td> 0.417506</td>\n",
        "    </tr>\n",
        "    <tr>\n",
        "      <th>IBM</th>\n",
        "      <td> 0.372592</td>\n",
        "      <td> 0.316415</td>\n",
        "      <td> 1.000000</td>\n",
        "      <td> 0.502231</td>\n",
        "    </tr>\n",
        "    <tr>\n",
        "      <th>MSFT</th>\n",
        "      <td> 0.348702</td>\n",
        "      <td> 0.417506</td>\n",
        "      <td> 0.502231</td>\n",
        "      <td> 1.000000</td>\n",
        "    </tr>\n",
        "  </tbody>\n",
        "</table>\n",
        "</div>"
       ],
       "metadata": {},
       "output_type": "pyout",
       "prompt_number": 31,
       "text": [
        "          AAPL      GOOG       IBM      MSFT\n",
        "AAPL  1.000000  0.274802  0.372592  0.348702\n",
        "GOOG  0.274802  1.000000  0.316415  0.417506\n",
        "IBM   0.372592  0.316415  1.000000  0.502231\n",
        "MSFT  0.348702  0.417506  0.502231  1.000000"
       ]
      }
     ],
     "prompt_number": 31
    },
    {
     "cell_type": "code",
     "collapsed": false,
     "input": [
      "returns.cov()"
     ],
     "language": "python",
     "metadata": {},
     "outputs": [
      {
       "html": [
        "<div style=\"max-height:1000px;max-width:1500px;overflow:auto;\">\n",
        "<table border=\"1\" class=\"dataframe\">\n",
        "  <thead>\n",
        "    <tr style=\"text-align: right;\">\n",
        "      <th></th>\n",
        "      <th>AAPL</th>\n",
        "      <th>GOOG</th>\n",
        "      <th>IBM</th>\n",
        "      <th>MSFT</th>\n",
        "    </tr>\n",
        "  </thead>\n",
        "  <tbody>\n",
        "    <tr>\n",
        "      <th>AAPL</th>\n",
        "      <td> 0.000281</td>\n",
        "      <td> 0.000051</td>\n",
        "      <td> 0.000073</td>\n",
        "      <td> 0.000082</td>\n",
        "    </tr>\n",
        "    <tr>\n",
        "      <th>GOOG</th>\n",
        "      <td> 0.000051</td>\n",
        "      <td> 0.000176</td>\n",
        "      <td> 0.000047</td>\n",
        "      <td> 0.000073</td>\n",
        "    </tr>\n",
        "    <tr>\n",
        "      <th>IBM</th>\n",
        "      <td> 0.000073</td>\n",
        "      <td> 0.000047</td>\n",
        "      <td> 0.000138</td>\n",
        "      <td> 0.000083</td>\n",
        "    </tr>\n",
        "    <tr>\n",
        "      <th>MSFT</th>\n",
        "      <td> 0.000082</td>\n",
        "      <td> 0.000073</td>\n",
        "      <td> 0.000083</td>\n",
        "      <td> 0.000199</td>\n",
        "    </tr>\n",
        "  </tbody>\n",
        "</table>\n",
        "</div>"
       ],
       "metadata": {},
       "output_type": "pyout",
       "prompt_number": 32,
       "text": [
        "          AAPL      GOOG       IBM      MSFT\n",
        "AAPL  0.000281  0.000051  0.000073  0.000082\n",
        "GOOG  0.000051  0.000176  0.000047  0.000073\n",
        "IBM   0.000073  0.000047  0.000138  0.000083\n",
        "MSFT  0.000082  0.000073  0.000083  0.000199"
       ]
      }
     ],
     "prompt_number": 32
    },
    {
     "cell_type": "code",
     "collapsed": false,
     "input": [
      "returns.corrwith(returns.IBM)"
     ],
     "language": "python",
     "metadata": {},
     "outputs": [
      {
       "metadata": {},
       "output_type": "pyout",
       "prompt_number": 33,
       "text": [
        "AAPL    0.372592\n",
        "GOOG    0.316415\n",
        "IBM     1.000000\n",
        "MSFT    0.502231\n",
        "dtype: float64"
       ]
      }
     ],
     "prompt_number": 33
    },
    {
     "cell_type": "code",
     "collapsed": false,
     "input": [
      "returns.corrwith(volume)"
     ],
     "language": "python",
     "metadata": {},
     "outputs": [
      {
       "metadata": {},
       "output_type": "pyout",
       "prompt_number": 35,
       "text": [
        "AAPL   -0.096626\n",
        "GOOG   -0.086986\n",
        "IBM    -0.184329\n",
        "MSFT   -0.120097\n",
        "dtype: float64"
       ]
      }
     ],
     "prompt_number": 35
    },
    {
     "cell_type": "code",
     "collapsed": false,
     "input": [
      "### Unique Values, Value Counts, and Membership\n",
      "obj = Series(['c', 'a', 'd', 'a', 'a', 'b', 'b', 'c', 'c'])\n",
      "obj"
     ],
     "language": "python",
     "metadata": {},
     "outputs": [
      {
       "metadata": {},
       "output_type": "pyout",
       "prompt_number": 37,
       "text": [
        "0    c\n",
        "1    a\n",
        "2    d\n",
        "3    a\n",
        "4    a\n",
        "5    b\n",
        "6    b\n",
        "7    c\n",
        "8    c\n",
        "dtype: object"
       ]
      }
     ],
     "prompt_number": 37
    },
    {
     "cell_type": "code",
     "collapsed": false,
     "input": [
      "unique = obj.unique()\n",
      "unique"
     ],
     "language": "python",
     "metadata": {},
     "outputs": [
      {
       "metadata": {},
       "output_type": "pyout",
       "prompt_number": 39,
       "text": [
        "array(['c', 'a', 'd', 'b'], dtype=object)"
       ]
      }
     ],
     "prompt_number": 39
    },
    {
     "cell_type": "code",
     "collapsed": false,
     "input": [
      "obj.value_counts()"
     ],
     "language": "python",
     "metadata": {},
     "outputs": [
      {
       "metadata": {},
       "output_type": "pyout",
       "prompt_number": 40,
       "text": [
        "c    3\n",
        "a    3\n",
        "b    2\n",
        "d    1\n",
        "dtype: int64"
       ]
      }
     ],
     "prompt_number": 40
    },
    {
     "cell_type": "code",
     "collapsed": false,
     "input": [
      "pd.value_counts(obj.values, sort=False)"
     ],
     "language": "python",
     "metadata": {},
     "outputs": [
      {
       "metadata": {},
       "output_type": "pyout",
       "prompt_number": 41,
       "text": [
        "a    3\n",
        "c    3\n",
        "b    2\n",
        "d    1\n",
        "dtype: int64"
       ]
      }
     ],
     "prompt_number": 41
    },
    {
     "cell_type": "code",
     "collapsed": false,
     "input": [
      "mask = obj.isin(['b', 'c'])\n",
      "mask"
     ],
     "language": "python",
     "metadata": {},
     "outputs": [
      {
       "metadata": {},
       "output_type": "pyout",
       "prompt_number": 42,
       "text": [
        "0     True\n",
        "1    False\n",
        "2    False\n",
        "3    False\n",
        "4    False\n",
        "5     True\n",
        "6     True\n",
        "7     True\n",
        "8     True\n",
        "dtype: bool"
       ]
      }
     ],
     "prompt_number": 42
    },
    {
     "cell_type": "code",
     "collapsed": false,
     "input": [
      "data = DataFrame({'Qu1': [1,3,4,3,4],\n",
      "                  'Qu2': [2,3,1,2,3],\n",
      "                  'Qu3': [1,5,2,4,4]})\n",
      "data"
     ],
     "language": "python",
     "metadata": {},
     "outputs": [
      {
       "html": [
        "<div style=\"max-height:1000px;max-width:1500px;overflow:auto;\">\n",
        "<table border=\"1\" class=\"dataframe\">\n",
        "  <thead>\n",
        "    <tr style=\"text-align: right;\">\n",
        "      <th></th>\n",
        "      <th>Qu1</th>\n",
        "      <th>Qu2</th>\n",
        "      <th>Qu3</th>\n",
        "    </tr>\n",
        "  </thead>\n",
        "  <tbody>\n",
        "    <tr>\n",
        "      <th>0</th>\n",
        "      <td> 1</td>\n",
        "      <td> 2</td>\n",
        "      <td> 1</td>\n",
        "    </tr>\n",
        "    <tr>\n",
        "      <th>1</th>\n",
        "      <td> 3</td>\n",
        "      <td> 3</td>\n",
        "      <td> 5</td>\n",
        "    </tr>\n",
        "    <tr>\n",
        "      <th>2</th>\n",
        "      <td> 4</td>\n",
        "      <td> 1</td>\n",
        "      <td> 2</td>\n",
        "    </tr>\n",
        "    <tr>\n",
        "      <th>3</th>\n",
        "      <td> 3</td>\n",
        "      <td> 2</td>\n",
        "      <td> 4</td>\n",
        "    </tr>\n",
        "    <tr>\n",
        "      <th>4</th>\n",
        "      <td> 4</td>\n",
        "      <td> 3</td>\n",
        "      <td> 4</td>\n",
        "    </tr>\n",
        "  </tbody>\n",
        "</table>\n",
        "</div>"
       ],
       "metadata": {},
       "output_type": "pyout",
       "prompt_number": 43,
       "text": [
        "   Qu1  Qu2  Qu3\n",
        "0    1    2    1\n",
        "1    3    3    5\n",
        "2    4    1    2\n",
        "3    3    2    4\n",
        "4    4    3    4"
       ]
      }
     ],
     "prompt_number": 43
    },
    {
     "cell_type": "code",
     "collapsed": false,
     "input": [
      "result = data.apply(pd.value_counts).fillna(123)\n",
      "result"
     ],
     "language": "python",
     "metadata": {},
     "outputs": [
      {
       "html": [
        "<div style=\"max-height:1000px;max-width:1500px;overflow:auto;\">\n",
        "<table border=\"1\" class=\"dataframe\">\n",
        "  <thead>\n",
        "    <tr style=\"text-align: right;\">\n",
        "      <th></th>\n",
        "      <th>Qu1</th>\n",
        "      <th>Qu2</th>\n",
        "      <th>Qu3</th>\n",
        "    </tr>\n",
        "  </thead>\n",
        "  <tbody>\n",
        "    <tr>\n",
        "      <th>1</th>\n",
        "      <td>   1</td>\n",
        "      <td>   1</td>\n",
        "      <td>   1</td>\n",
        "    </tr>\n",
        "    <tr>\n",
        "      <th>2</th>\n",
        "      <td> 123</td>\n",
        "      <td>   2</td>\n",
        "      <td>   1</td>\n",
        "    </tr>\n",
        "    <tr>\n",
        "      <th>3</th>\n",
        "      <td>   2</td>\n",
        "      <td>   2</td>\n",
        "      <td> 123</td>\n",
        "    </tr>\n",
        "    <tr>\n",
        "      <th>4</th>\n",
        "      <td>   2</td>\n",
        "      <td> 123</td>\n",
        "      <td>   2</td>\n",
        "    </tr>\n",
        "    <tr>\n",
        "      <th>5</th>\n",
        "      <td> 123</td>\n",
        "      <td> 123</td>\n",
        "      <td>   1</td>\n",
        "    </tr>\n",
        "  </tbody>\n",
        "</table>\n",
        "</div>"
       ],
       "metadata": {},
       "output_type": "pyout",
       "prompt_number": 48,
       "text": [
        "   Qu1  Qu2  Qu3\n",
        "1    1    1    1\n",
        "2  123    2    1\n",
        "3    2    2  123\n",
        "4    2  123    2\n",
        "5  123  123    1"
       ]
      }
     ],
     "prompt_number": 48
    },
    {
     "cell_type": "code",
     "collapsed": false,
     "input": [
      "### Handling Missing Data\n",
      "string_data = Series(['aardvark', 'artichoke', np.nan, 'avocado'])\n",
      "string_data"
     ],
     "language": "python",
     "metadata": {},
     "outputs": [
      {
       "metadata": {},
       "output_type": "pyout",
       "prompt_number": 49,
       "text": [
        "0     aardvark\n",
        "1    artichoke\n",
        "2          NaN\n",
        "3      avocado\n",
        "dtype: object"
       ]
      }
     ],
     "prompt_number": 49
    },
    {
     "cell_type": "code",
     "collapsed": false,
     "input": [
      "string_data.isnull()"
     ],
     "language": "python",
     "metadata": {},
     "outputs": [
      {
       "metadata": {},
       "output_type": "pyout",
       "prompt_number": 50,
       "text": [
        "0    False\n",
        "1    False\n",
        "2     True\n",
        "3    False\n",
        "dtype: bool"
       ]
      }
     ],
     "prompt_number": 50
    },
    {
     "cell_type": "code",
     "collapsed": false,
     "input": [
      "string_data[0] = None\n",
      "string_data"
     ],
     "language": "python",
     "metadata": {},
     "outputs": [
      {
       "metadata": {},
       "output_type": "pyout",
       "prompt_number": 51,
       "text": [
        "0         None\n",
        "1    artichoke\n",
        "2          NaN\n",
        "3      avocado\n",
        "dtype: object"
       ]
      }
     ],
     "prompt_number": 51
    },
    {
     "cell_type": "code",
     "collapsed": false,
     "input": [
      "string_data[string_data.isnull()]"
     ],
     "language": "python",
     "metadata": {},
     "outputs": [
      {
       "metadata": {},
       "output_type": "pyout",
       "prompt_number": 54,
       "text": [
        "0    None\n",
        "2     NaN\n",
        "dtype: object"
       ]
      }
     ],
     "prompt_number": 54
    },
    {
     "cell_type": "code",
     "collapsed": false,
     "input": [
      "string_data[string_data.notnull()]"
     ],
     "language": "python",
     "metadata": {},
     "outputs": [
      {
       "metadata": {},
       "output_type": "pyout",
       "prompt_number": 55,
       "text": [
        "1    artichoke\n",
        "3      avocado\n",
        "dtype: object"
       ]
      }
     ],
     "prompt_number": 55
    },
    {
     "cell_type": "code",
     "collapsed": false,
     "input": [
      "### Filtering Out Missing Data\n",
      "from numpy import nan as NA"
     ],
     "language": "python",
     "metadata": {},
     "outputs": [],
     "prompt_number": 57
    },
    {
     "cell_type": "code",
     "collapsed": false,
     "input": [
      "data = Series([1, NA, 3.5, NA, 7])\n",
      "data"
     ],
     "language": "python",
     "metadata": {},
     "outputs": [
      {
       "metadata": {},
       "output_type": "pyout",
       "prompt_number": 58,
       "text": [
        "0    1.0\n",
        "1    NaN\n",
        "2    3.5\n",
        "3    NaN\n",
        "4    7.0\n",
        "dtype: float64"
       ]
      }
     ],
     "prompt_number": 58
    },
    {
     "cell_type": "code",
     "collapsed": false,
     "input": [
      "data.dropna()"
     ],
     "language": "python",
     "metadata": {},
     "outputs": [
      {
       "metadata": {},
       "output_type": "pyout",
       "prompt_number": 59,
       "text": [
        "0    1.0\n",
        "2    3.5\n",
        "4    7.0\n",
        "dtype: float64"
       ]
      }
     ],
     "prompt_number": 59
    },
    {
     "cell_type": "code",
     "collapsed": false,
     "input": [
      "data[data.notnull()]"
     ],
     "language": "python",
     "metadata": {},
     "outputs": [
      {
       "metadata": {},
       "output_type": "pyout",
       "prompt_number": 60,
       "text": [
        "0    1.0\n",
        "2    3.5\n",
        "4    7.0\n",
        "dtype: float64"
       ]
      }
     ],
     "prompt_number": 60
    },
    {
     "cell_type": "code",
     "collapsed": false,
     "input": [
      "data = DataFrame([[1.0, 6.5, 3.0], [1.0, NA, NA], [NA, NA, NA], [NA, 6.5, 3.0]])\n",
      "data"
     ],
     "language": "python",
     "metadata": {},
     "outputs": [
      {
       "html": [
        "<div style=\"max-height:1000px;max-width:1500px;overflow:auto;\">\n",
        "<table border=\"1\" class=\"dataframe\">\n",
        "  <thead>\n",
        "    <tr style=\"text-align: right;\">\n",
        "      <th></th>\n",
        "      <th>0</th>\n",
        "      <th>1</th>\n",
        "      <th>2</th>\n",
        "    </tr>\n",
        "  </thead>\n",
        "  <tbody>\n",
        "    <tr>\n",
        "      <th>0</th>\n",
        "      <td>  1</td>\n",
        "      <td> 6.5</td>\n",
        "      <td>  3</td>\n",
        "    </tr>\n",
        "    <tr>\n",
        "      <th>1</th>\n",
        "      <td>  1</td>\n",
        "      <td> NaN</td>\n",
        "      <td>NaN</td>\n",
        "    </tr>\n",
        "    <tr>\n",
        "      <th>2</th>\n",
        "      <td>NaN</td>\n",
        "      <td> NaN</td>\n",
        "      <td>NaN</td>\n",
        "    </tr>\n",
        "    <tr>\n",
        "      <th>3</th>\n",
        "      <td>NaN</td>\n",
        "      <td> 6.5</td>\n",
        "      <td>  3</td>\n",
        "    </tr>\n",
        "  </tbody>\n",
        "</table>\n",
        "</div>"
       ],
       "metadata": {},
       "output_type": "pyout",
       "prompt_number": 70,
       "text": [
        "    0    1   2\n",
        "0   1  6.5   3\n",
        "1   1  NaN NaN\n",
        "2 NaN  NaN NaN\n",
        "3 NaN  6.5   3"
       ]
      }
     ],
     "prompt_number": 70
    },
    {
     "cell_type": "code",
     "collapsed": false,
     "input": [
      "data.dropna()"
     ],
     "language": "python",
     "metadata": {},
     "outputs": [
      {
       "html": [
        "<div style=\"max-height:1000px;max-width:1500px;overflow:auto;\">\n",
        "<table border=\"1\" class=\"dataframe\">\n",
        "  <thead>\n",
        "    <tr style=\"text-align: right;\">\n",
        "      <th></th>\n",
        "      <th>0</th>\n",
        "      <th>1</th>\n",
        "      <th>2</th>\n",
        "    </tr>\n",
        "  </thead>\n",
        "  <tbody>\n",
        "    <tr>\n",
        "      <th>0</th>\n",
        "      <td> 1</td>\n",
        "      <td> 6.5</td>\n",
        "      <td> 3</td>\n",
        "    </tr>\n",
        "  </tbody>\n",
        "</table>\n",
        "</div>"
       ],
       "metadata": {},
       "output_type": "pyout",
       "prompt_number": 71,
       "text": [
        "   0    1  2\n",
        "0  1  6.5  3"
       ]
      }
     ],
     "prompt_number": 71
    },
    {
     "cell_type": "code",
     "collapsed": false,
     "input": [
      "data.dropna(how='all')"
     ],
     "language": "python",
     "metadata": {},
     "outputs": [
      {
       "html": [
        "<div style=\"max-height:1000px;max-width:1500px;overflow:auto;\">\n",
        "<table border=\"1\" class=\"dataframe\">\n",
        "  <thead>\n",
        "    <tr style=\"text-align: right;\">\n",
        "      <th></th>\n",
        "      <th>0</th>\n",
        "      <th>1</th>\n",
        "      <th>2</th>\n",
        "    </tr>\n",
        "  </thead>\n",
        "  <tbody>\n",
        "    <tr>\n",
        "      <th>0</th>\n",
        "      <td>  1</td>\n",
        "      <td> 6.5</td>\n",
        "      <td>  3</td>\n",
        "    </tr>\n",
        "    <tr>\n",
        "      <th>1</th>\n",
        "      <td>  1</td>\n",
        "      <td> NaN</td>\n",
        "      <td>NaN</td>\n",
        "    </tr>\n",
        "    <tr>\n",
        "      <th>3</th>\n",
        "      <td>NaN</td>\n",
        "      <td> 6.5</td>\n",
        "      <td>  3</td>\n",
        "    </tr>\n",
        "  </tbody>\n",
        "</table>\n",
        "</div>"
       ],
       "metadata": {},
       "output_type": "pyout",
       "prompt_number": 72,
       "text": [
        "    0    1   2\n",
        "0   1  6.5   3\n",
        "1   1  NaN NaN\n",
        "3 NaN  6.5   3"
       ]
      }
     ],
     "prompt_number": 72
    },
    {
     "cell_type": "code",
     "collapsed": false,
     "input": [
      "data[4] = NA\n",
      "data"
     ],
     "language": "python",
     "metadata": {},
     "outputs": [
      {
       "html": [
        "<div style=\"max-height:1000px;max-width:1500px;overflow:auto;\">\n",
        "<table border=\"1\" class=\"dataframe\">\n",
        "  <thead>\n",
        "    <tr style=\"text-align: right;\">\n",
        "      <th></th>\n",
        "      <th>0</th>\n",
        "      <th>1</th>\n",
        "      <th>2</th>\n",
        "      <th>4</th>\n",
        "    </tr>\n",
        "  </thead>\n",
        "  <tbody>\n",
        "    <tr>\n",
        "      <th>0</th>\n",
        "      <td>  1</td>\n",
        "      <td> 6.5</td>\n",
        "      <td>  3</td>\n",
        "      <td>NaN</td>\n",
        "    </tr>\n",
        "    <tr>\n",
        "      <th>1</th>\n",
        "      <td>  1</td>\n",
        "      <td> NaN</td>\n",
        "      <td>NaN</td>\n",
        "      <td>NaN</td>\n",
        "    </tr>\n",
        "    <tr>\n",
        "      <th>2</th>\n",
        "      <td>NaN</td>\n",
        "      <td> NaN</td>\n",
        "      <td>NaN</td>\n",
        "      <td>NaN</td>\n",
        "    </tr>\n",
        "    <tr>\n",
        "      <th>3</th>\n",
        "      <td>NaN</td>\n",
        "      <td> 6.5</td>\n",
        "      <td>  3</td>\n",
        "      <td>NaN</td>\n",
        "    </tr>\n",
        "  </tbody>\n",
        "</table>\n",
        "</div>"
       ],
       "metadata": {},
       "output_type": "pyout",
       "prompt_number": 73,
       "text": [
        "    0    1   2   4\n",
        "0   1  6.5   3 NaN\n",
        "1   1  NaN NaN NaN\n",
        "2 NaN  NaN NaN NaN\n",
        "3 NaN  6.5   3 NaN"
       ]
      }
     ],
     "prompt_number": 73
    },
    {
     "cell_type": "code",
     "collapsed": false,
     "input": [
      "data.ix[0] = NA\n",
      "data"
     ],
     "language": "python",
     "metadata": {},
     "outputs": [
      {
       "html": [
        "<div style=\"max-height:1000px;max-width:1500px;overflow:auto;\">\n",
        "<table border=\"1\" class=\"dataframe\">\n",
        "  <thead>\n",
        "    <tr style=\"text-align: right;\">\n",
        "      <th></th>\n",
        "      <th>0</th>\n",
        "      <th>1</th>\n",
        "      <th>2</th>\n",
        "      <th>4</th>\n",
        "    </tr>\n",
        "  </thead>\n",
        "  <tbody>\n",
        "    <tr>\n",
        "      <th>0</th>\n",
        "      <td>NaN</td>\n",
        "      <td> NaN</td>\n",
        "      <td>NaN</td>\n",
        "      <td>NaN</td>\n",
        "    </tr>\n",
        "    <tr>\n",
        "      <th>1</th>\n",
        "      <td>  1</td>\n",
        "      <td> NaN</td>\n",
        "      <td>NaN</td>\n",
        "      <td>NaN</td>\n",
        "    </tr>\n",
        "    <tr>\n",
        "      <th>2</th>\n",
        "      <td>NaN</td>\n",
        "      <td> NaN</td>\n",
        "      <td>NaN</td>\n",
        "      <td>NaN</td>\n",
        "    </tr>\n",
        "    <tr>\n",
        "      <th>3</th>\n",
        "      <td>NaN</td>\n",
        "      <td> 6.5</td>\n",
        "      <td>  3</td>\n",
        "      <td>NaN</td>\n",
        "    </tr>\n",
        "  </tbody>\n",
        "</table>\n",
        "</div>"
       ],
       "metadata": {},
       "output_type": "pyout",
       "prompt_number": 74,
       "text": [
        "    0    1   2   4\n",
        "0 NaN  NaN NaN NaN\n",
        "1   1  NaN NaN NaN\n",
        "2 NaN  NaN NaN NaN\n",
        "3 NaN  6.5   3 NaN"
       ]
      }
     ],
     "prompt_number": 74
    },
    {
     "cell_type": "code",
     "collapsed": false,
     "input": [
      "data.dropna(axis=1, how='all')"
     ],
     "language": "python",
     "metadata": {},
     "outputs": [
      {
       "html": [
        "<div style=\"max-height:1000px;max-width:1500px;overflow:auto;\">\n",
        "<table border=\"1\" class=\"dataframe\">\n",
        "  <thead>\n",
        "    <tr style=\"text-align: right;\">\n",
        "      <th></th>\n",
        "      <th>0</th>\n",
        "      <th>1</th>\n",
        "      <th>2</th>\n",
        "    </tr>\n",
        "  </thead>\n",
        "  <tbody>\n",
        "    <tr>\n",
        "      <th>0</th>\n",
        "      <td>NaN</td>\n",
        "      <td> NaN</td>\n",
        "      <td>NaN</td>\n",
        "    </tr>\n",
        "    <tr>\n",
        "      <th>1</th>\n",
        "      <td>  1</td>\n",
        "      <td> NaN</td>\n",
        "      <td>NaN</td>\n",
        "    </tr>\n",
        "    <tr>\n",
        "      <th>2</th>\n",
        "      <td>NaN</td>\n",
        "      <td> NaN</td>\n",
        "      <td>NaN</td>\n",
        "    </tr>\n",
        "    <tr>\n",
        "      <th>3</th>\n",
        "      <td>NaN</td>\n",
        "      <td> 6.5</td>\n",
        "      <td>  3</td>\n",
        "    </tr>\n",
        "  </tbody>\n",
        "</table>\n",
        "</div>"
       ],
       "metadata": {},
       "output_type": "pyout",
       "prompt_number": 76,
       "text": [
        "    0    1   2\n",
        "0 NaN  NaN NaN\n",
        "1   1  NaN NaN\n",
        "2 NaN  NaN NaN\n",
        "3 NaN  6.5   3"
       ]
      }
     ],
     "prompt_number": 76
    },
    {
     "cell_type": "code",
     "collapsed": false,
     "input": [
      "data.dropna(axis=0, how='all')"
     ],
     "language": "python",
     "metadata": {},
     "outputs": [
      {
       "html": [
        "<div style=\"max-height:1000px;max-width:1500px;overflow:auto;\">\n",
        "<table border=\"1\" class=\"dataframe\">\n",
        "  <thead>\n",
        "    <tr style=\"text-align: right;\">\n",
        "      <th></th>\n",
        "      <th>0</th>\n",
        "      <th>1</th>\n",
        "      <th>2</th>\n",
        "      <th>4</th>\n",
        "    </tr>\n",
        "  </thead>\n",
        "  <tbody>\n",
        "    <tr>\n",
        "      <th>1</th>\n",
        "      <td>  1</td>\n",
        "      <td> NaN</td>\n",
        "      <td>NaN</td>\n",
        "      <td>NaN</td>\n",
        "    </tr>\n",
        "    <tr>\n",
        "      <th>3</th>\n",
        "      <td>NaN</td>\n",
        "      <td> 6.5</td>\n",
        "      <td>  3</td>\n",
        "      <td>NaN</td>\n",
        "    </tr>\n",
        "  </tbody>\n",
        "</table>\n",
        "</div>"
       ],
       "metadata": {},
       "output_type": "pyout",
       "prompt_number": 77,
       "text": [
        "    0    1   2   4\n",
        "1   1  NaN NaN NaN\n",
        "3 NaN  6.5   3 NaN"
       ]
      }
     ],
     "prompt_number": 77
    },
    {
     "cell_type": "code",
     "collapsed": false,
     "input": [
      "df = DataFrame(np.random.randn(7,3))\n",
      "df"
     ],
     "language": "python",
     "metadata": {},
     "outputs": [
      {
       "html": [
        "<div style=\"max-height:1000px;max-width:1500px;overflow:auto;\">\n",
        "<table border=\"1\" class=\"dataframe\">\n",
        "  <thead>\n",
        "    <tr style=\"text-align: right;\">\n",
        "      <th></th>\n",
        "      <th>0</th>\n",
        "      <th>1</th>\n",
        "      <th>2</th>\n",
        "    </tr>\n",
        "  </thead>\n",
        "  <tbody>\n",
        "    <tr>\n",
        "      <th>0</th>\n",
        "      <td> 0.161524</td>\n",
        "      <td> 1.579514</td>\n",
        "      <td> 0.741499</td>\n",
        "    </tr>\n",
        "    <tr>\n",
        "      <th>1</th>\n",
        "      <td>-0.543507</td>\n",
        "      <td> 0.515549</td>\n",
        "      <td>-0.052267</td>\n",
        "    </tr>\n",
        "    <tr>\n",
        "      <th>2</th>\n",
        "      <td>-0.580707</td>\n",
        "      <td>-0.662527</td>\n",
        "      <td>-0.271022</td>\n",
        "    </tr>\n",
        "    <tr>\n",
        "      <th>3</th>\n",
        "      <td> 0.033285</td>\n",
        "      <td> 0.924759</td>\n",
        "      <td> 0.296864</td>\n",
        "    </tr>\n",
        "    <tr>\n",
        "      <th>4</th>\n",
        "      <td>-0.943654</td>\n",
        "      <td> 0.923116</td>\n",
        "      <td> 0.976205</td>\n",
        "    </tr>\n",
        "    <tr>\n",
        "      <th>5</th>\n",
        "      <td>-0.146078</td>\n",
        "      <td> 0.156905</td>\n",
        "      <td> 0.977492</td>\n",
        "    </tr>\n",
        "    <tr>\n",
        "      <th>6</th>\n",
        "      <td>-0.344870</td>\n",
        "      <td> 0.224097</td>\n",
        "      <td> 0.714401</td>\n",
        "    </tr>\n",
        "  </tbody>\n",
        "</table>\n",
        "</div>"
       ],
       "metadata": {},
       "output_type": "pyout",
       "prompt_number": 78,
       "text": [
        "          0         1         2\n",
        "0  0.161524  1.579514  0.741499\n",
        "1 -0.543507  0.515549 -0.052267\n",
        "2 -0.580707 -0.662527 -0.271022\n",
        "3  0.033285  0.924759  0.296864\n",
        "4 -0.943654  0.923116  0.976205\n",
        "5 -0.146078  0.156905  0.977492\n",
        "6 -0.344870  0.224097  0.714401"
       ]
      }
     ],
     "prompt_number": 78
    },
    {
     "cell_type": "code",
     "collapsed": false,
     "input": [
      "df.ix[:4, 1] = NA\n",
      "df.ix[:2, 2] = NA\n",
      "df"
     ],
     "language": "python",
     "metadata": {},
     "outputs": [
      {
       "html": [
        "<div style=\"max-height:1000px;max-width:1500px;overflow:auto;\">\n",
        "<table border=\"1\" class=\"dataframe\">\n",
        "  <thead>\n",
        "    <tr style=\"text-align: right;\">\n",
        "      <th></th>\n",
        "      <th>0</th>\n",
        "      <th>1</th>\n",
        "      <th>2</th>\n",
        "    </tr>\n",
        "  </thead>\n",
        "  <tbody>\n",
        "    <tr>\n",
        "      <th>0</th>\n",
        "      <td> 0.161524</td>\n",
        "      <td>      NaN</td>\n",
        "      <td>      NaN</td>\n",
        "    </tr>\n",
        "    <tr>\n",
        "      <th>1</th>\n",
        "      <td>-0.543507</td>\n",
        "      <td>      NaN</td>\n",
        "      <td>      NaN</td>\n",
        "    </tr>\n",
        "    <tr>\n",
        "      <th>2</th>\n",
        "      <td>-0.580707</td>\n",
        "      <td>      NaN</td>\n",
        "      <td>      NaN</td>\n",
        "    </tr>\n",
        "    <tr>\n",
        "      <th>3</th>\n",
        "      <td> 0.033285</td>\n",
        "      <td>      NaN</td>\n",
        "      <td> 0.296864</td>\n",
        "    </tr>\n",
        "    <tr>\n",
        "      <th>4</th>\n",
        "      <td>-0.943654</td>\n",
        "      <td>      NaN</td>\n",
        "      <td> 0.976205</td>\n",
        "    </tr>\n",
        "    <tr>\n",
        "      <th>5</th>\n",
        "      <td>-0.146078</td>\n",
        "      <td> 0.156905</td>\n",
        "      <td> 0.977492</td>\n",
        "    </tr>\n",
        "    <tr>\n",
        "      <th>6</th>\n",
        "      <td>-0.344870</td>\n",
        "      <td> 0.224097</td>\n",
        "      <td> 0.714401</td>\n",
        "    </tr>\n",
        "  </tbody>\n",
        "</table>\n",
        "</div>"
       ],
       "metadata": {},
       "output_type": "pyout",
       "prompt_number": 80,
       "text": [
        "          0         1         2\n",
        "0  0.161524       NaN       NaN\n",
        "1 -0.543507       NaN       NaN\n",
        "2 -0.580707       NaN       NaN\n",
        "3  0.033285       NaN  0.296864\n",
        "4 -0.943654       NaN  0.976205\n",
        "5 -0.146078  0.156905  0.977492\n",
        "6 -0.344870  0.224097  0.714401"
       ]
      }
     ],
     "prompt_number": 80
    },
    {
     "cell_type": "code",
     "collapsed": false,
     "input": [
      "df.dropna(thresh=2)"
     ],
     "language": "python",
     "metadata": {},
     "outputs": [
      {
       "html": [
        "<div style=\"max-height:1000px;max-width:1500px;overflow:auto;\">\n",
        "<table border=\"1\" class=\"dataframe\">\n",
        "  <thead>\n",
        "    <tr style=\"text-align: right;\">\n",
        "      <th></th>\n",
        "      <th>0</th>\n",
        "      <th>1</th>\n",
        "      <th>2</th>\n",
        "    </tr>\n",
        "  </thead>\n",
        "  <tbody>\n",
        "    <tr>\n",
        "      <th>3</th>\n",
        "      <td> 0.033285</td>\n",
        "      <td>      NaN</td>\n",
        "      <td> 0.296864</td>\n",
        "    </tr>\n",
        "    <tr>\n",
        "      <th>4</th>\n",
        "      <td>-0.943654</td>\n",
        "      <td>      NaN</td>\n",
        "      <td> 0.976205</td>\n",
        "    </tr>\n",
        "    <tr>\n",
        "      <th>5</th>\n",
        "      <td>-0.146078</td>\n",
        "      <td> 0.156905</td>\n",
        "      <td> 0.977492</td>\n",
        "    </tr>\n",
        "    <tr>\n",
        "      <th>6</th>\n",
        "      <td>-0.344870</td>\n",
        "      <td> 0.224097</td>\n",
        "      <td> 0.714401</td>\n",
        "    </tr>\n",
        "  </tbody>\n",
        "</table>\n",
        "</div>"
       ],
       "metadata": {},
       "output_type": "pyout",
       "prompt_number": 86,
       "text": [
        "          0         1         2\n",
        "3  0.033285       NaN  0.296864\n",
        "4 -0.943654       NaN  0.976205\n",
        "5 -0.146078  0.156905  0.977492\n",
        "6 -0.344870  0.224097  0.714401"
       ]
      }
     ],
     "prompt_number": 86
    },
    {
     "cell_type": "code",
     "collapsed": false,
     "input": [
      "### Filling in Missing Data\n",
      "df.fillna(0)"
     ],
     "language": "python",
     "metadata": {},
     "outputs": [
      {
       "html": [
        "<div style=\"max-height:1000px;max-width:1500px;overflow:auto;\">\n",
        "<table border=\"1\" class=\"dataframe\">\n",
        "  <thead>\n",
        "    <tr style=\"text-align: right;\">\n",
        "      <th></th>\n",
        "      <th>0</th>\n",
        "      <th>1</th>\n",
        "      <th>2</th>\n",
        "    </tr>\n",
        "  </thead>\n",
        "  <tbody>\n",
        "    <tr>\n",
        "      <th>0</th>\n",
        "      <td> 0.161524</td>\n",
        "      <td> 0.000000</td>\n",
        "      <td> 0.000000</td>\n",
        "    </tr>\n",
        "    <tr>\n",
        "      <th>1</th>\n",
        "      <td>-0.543507</td>\n",
        "      <td> 0.000000</td>\n",
        "      <td> 0.000000</td>\n",
        "    </tr>\n",
        "    <tr>\n",
        "      <th>2</th>\n",
        "      <td>-0.580707</td>\n",
        "      <td> 0.000000</td>\n",
        "      <td> 0.000000</td>\n",
        "    </tr>\n",
        "    <tr>\n",
        "      <th>3</th>\n",
        "      <td> 0.033285</td>\n",
        "      <td> 0.000000</td>\n",
        "      <td> 0.296864</td>\n",
        "    </tr>\n",
        "    <tr>\n",
        "      <th>4</th>\n",
        "      <td>-0.943654</td>\n",
        "      <td> 0.000000</td>\n",
        "      <td> 0.976205</td>\n",
        "    </tr>\n",
        "    <tr>\n",
        "      <th>5</th>\n",
        "      <td>-0.146078</td>\n",
        "      <td> 0.156905</td>\n",
        "      <td> 0.977492</td>\n",
        "    </tr>\n",
        "    <tr>\n",
        "      <th>6</th>\n",
        "      <td>-0.344870</td>\n",
        "      <td> 0.224097</td>\n",
        "      <td> 0.714401</td>\n",
        "    </tr>\n",
        "  </tbody>\n",
        "</table>\n",
        "</div>"
       ],
       "metadata": {},
       "output_type": "pyout",
       "prompt_number": 87,
       "text": [
        "          0         1         2\n",
        "0  0.161524  0.000000  0.000000\n",
        "1 -0.543507  0.000000  0.000000\n",
        "2 -0.580707  0.000000  0.000000\n",
        "3  0.033285  0.000000  0.296864\n",
        "4 -0.943654  0.000000  0.976205\n",
        "5 -0.146078  0.156905  0.977492\n",
        "6 -0.344870  0.224097  0.714401"
       ]
      }
     ],
     "prompt_number": 87
    },
    {
     "cell_type": "code",
     "collapsed": false,
     "input": [
      "df.fillna({1:0.5, 2:0.9})"
     ],
     "language": "python",
     "metadata": {},
     "outputs": [
      {
       "html": [
        "<div style=\"max-height:1000px;max-width:1500px;overflow:auto;\">\n",
        "<table border=\"1\" class=\"dataframe\">\n",
        "  <thead>\n",
        "    <tr style=\"text-align: right;\">\n",
        "      <th></th>\n",
        "      <th>0</th>\n",
        "      <th>1</th>\n",
        "      <th>2</th>\n",
        "    </tr>\n",
        "  </thead>\n",
        "  <tbody>\n",
        "    <tr>\n",
        "      <th>0</th>\n",
        "      <td> 0.161524</td>\n",
        "      <td> 0.500000</td>\n",
        "      <td> 0.900000</td>\n",
        "    </tr>\n",
        "    <tr>\n",
        "      <th>1</th>\n",
        "      <td>-0.543507</td>\n",
        "      <td> 0.500000</td>\n",
        "      <td> 0.900000</td>\n",
        "    </tr>\n",
        "    <tr>\n",
        "      <th>2</th>\n",
        "      <td>-0.580707</td>\n",
        "      <td> 0.500000</td>\n",
        "      <td> 0.900000</td>\n",
        "    </tr>\n",
        "    <tr>\n",
        "      <th>3</th>\n",
        "      <td> 0.033285</td>\n",
        "      <td> 0.500000</td>\n",
        "      <td> 0.296864</td>\n",
        "    </tr>\n",
        "    <tr>\n",
        "      <th>4</th>\n",
        "      <td>-0.943654</td>\n",
        "      <td> 0.500000</td>\n",
        "      <td> 0.976205</td>\n",
        "    </tr>\n",
        "    <tr>\n",
        "      <th>5</th>\n",
        "      <td>-0.146078</td>\n",
        "      <td> 0.156905</td>\n",
        "      <td> 0.977492</td>\n",
        "    </tr>\n",
        "    <tr>\n",
        "      <th>6</th>\n",
        "      <td>-0.344870</td>\n",
        "      <td> 0.224097</td>\n",
        "      <td> 0.714401</td>\n",
        "    </tr>\n",
        "  </tbody>\n",
        "</table>\n",
        "</div>"
       ],
       "metadata": {},
       "output_type": "pyout",
       "prompt_number": 89,
       "text": [
        "          0         1         2\n",
        "0  0.161524  0.500000  0.900000\n",
        "1 -0.543507  0.500000  0.900000\n",
        "2 -0.580707  0.500000  0.900000\n",
        "3  0.033285  0.500000  0.296864\n",
        "4 -0.943654  0.500000  0.976205\n",
        "5 -0.146078  0.156905  0.977492\n",
        "6 -0.344870  0.224097  0.714401"
       ]
      }
     ],
     "prompt_number": 89
    },
    {
     "cell_type": "code",
     "collapsed": false,
     "input": [
      "# always returns a reference to the filled objects\n",
      "_ = df.fillna(0, inplace = True)\n",
      "df"
     ],
     "language": "python",
     "metadata": {},
     "outputs": [
      {
       "html": [
        "<div style=\"max-height:1000px;max-width:1500px;overflow:auto;\">\n",
        "<table border=\"1\" class=\"dataframe\">\n",
        "  <thead>\n",
        "    <tr style=\"text-align: right;\">\n",
        "      <th></th>\n",
        "      <th>0</th>\n",
        "      <th>1</th>\n",
        "      <th>2</th>\n",
        "    </tr>\n",
        "  </thead>\n",
        "  <tbody>\n",
        "    <tr>\n",
        "      <th>0</th>\n",
        "      <td> 0.161524</td>\n",
        "      <td> 0.000000</td>\n",
        "      <td> 0.000000</td>\n",
        "    </tr>\n",
        "    <tr>\n",
        "      <th>1</th>\n",
        "      <td>-0.543507</td>\n",
        "      <td> 0.000000</td>\n",
        "      <td> 0.000000</td>\n",
        "    </tr>\n",
        "    <tr>\n",
        "      <th>2</th>\n",
        "      <td>-0.580707</td>\n",
        "      <td> 0.000000</td>\n",
        "      <td> 0.000000</td>\n",
        "    </tr>\n",
        "    <tr>\n",
        "      <th>3</th>\n",
        "      <td> 0.033285</td>\n",
        "      <td> 0.000000</td>\n",
        "      <td> 0.296864</td>\n",
        "    </tr>\n",
        "    <tr>\n",
        "      <th>4</th>\n",
        "      <td>-0.943654</td>\n",
        "      <td> 0.000000</td>\n",
        "      <td> 0.976205</td>\n",
        "    </tr>\n",
        "    <tr>\n",
        "      <th>5</th>\n",
        "      <td>-0.146078</td>\n",
        "      <td> 0.156905</td>\n",
        "      <td> 0.977492</td>\n",
        "    </tr>\n",
        "    <tr>\n",
        "      <th>6</th>\n",
        "      <td>-0.344870</td>\n",
        "      <td> 0.224097</td>\n",
        "      <td> 0.714401</td>\n",
        "    </tr>\n",
        "  </tbody>\n",
        "</table>\n",
        "</div>"
       ],
       "metadata": {},
       "output_type": "pyout",
       "prompt_number": 91,
       "text": [
        "          0         1         2\n",
        "0  0.161524  0.000000  0.000000\n",
        "1 -0.543507  0.000000  0.000000\n",
        "2 -0.580707  0.000000  0.000000\n",
        "3  0.033285  0.000000  0.296864\n",
        "4 -0.943654  0.000000  0.976205\n",
        "5 -0.146078  0.156905  0.977492\n",
        "6 -0.344870  0.224097  0.714401"
       ]
      }
     ],
     "prompt_number": 91
    },
    {
     "cell_type": "code",
     "collapsed": false,
     "input": [
      "df = DataFrame(np.random.randn(6,3))\n",
      "df"
     ],
     "language": "python",
     "metadata": {},
     "outputs": [
      {
       "html": [
        "<div style=\"max-height:1000px;max-width:1500px;overflow:auto;\">\n",
        "<table border=\"1\" class=\"dataframe\">\n",
        "  <thead>\n",
        "    <tr style=\"text-align: right;\">\n",
        "      <th></th>\n",
        "      <th>0</th>\n",
        "      <th>1</th>\n",
        "      <th>2</th>\n",
        "    </tr>\n",
        "  </thead>\n",
        "  <tbody>\n",
        "    <tr>\n",
        "      <th>0</th>\n",
        "      <td> 0.159529</td>\n",
        "      <td> 1.083357</td>\n",
        "      <td>-0.314677</td>\n",
        "    </tr>\n",
        "    <tr>\n",
        "      <th>1</th>\n",
        "      <td> 2.016352</td>\n",
        "      <td> 0.692375</td>\n",
        "      <td> 0.877882</td>\n",
        "    </tr>\n",
        "    <tr>\n",
        "      <th>2</th>\n",
        "      <td> 1.628209</td>\n",
        "      <td> 1.062978</td>\n",
        "      <td> 1.682258</td>\n",
        "    </tr>\n",
        "    <tr>\n",
        "      <th>3</th>\n",
        "      <td>-1.478725</td>\n",
        "      <td>-0.311104</td>\n",
        "      <td>-0.565185</td>\n",
        "    </tr>\n",
        "    <tr>\n",
        "      <th>4</th>\n",
        "      <td> 1.277163</td>\n",
        "      <td> 2.191955</td>\n",
        "      <td>-0.475605</td>\n",
        "    </tr>\n",
        "    <tr>\n",
        "      <th>5</th>\n",
        "      <td> 0.241139</td>\n",
        "      <td> 0.632343</td>\n",
        "      <td> 2.943410</td>\n",
        "    </tr>\n",
        "  </tbody>\n",
        "</table>\n",
        "</div>"
       ],
       "metadata": {},
       "output_type": "pyout",
       "prompt_number": 92,
       "text": [
        "          0         1         2\n",
        "0  0.159529  1.083357 -0.314677\n",
        "1  2.016352  0.692375  0.877882\n",
        "2  1.628209  1.062978  1.682258\n",
        "3 -1.478725 -0.311104 -0.565185\n",
        "4  1.277163  2.191955 -0.475605\n",
        "5  0.241139  0.632343  2.943410"
       ]
      }
     ],
     "prompt_number": 92
    },
    {
     "cell_type": "code",
     "collapsed": false,
     "input": [
      "df.ix[2:, 1] = NA\n",
      "df.ix[4:, 2] = NA\n",
      "df"
     ],
     "language": "python",
     "metadata": {},
     "outputs": [
      {
       "html": [
        "<div style=\"max-height:1000px;max-width:1500px;overflow:auto;\">\n",
        "<table border=\"1\" class=\"dataframe\">\n",
        "  <thead>\n",
        "    <tr style=\"text-align: right;\">\n",
        "      <th></th>\n",
        "      <th>0</th>\n",
        "      <th>1</th>\n",
        "      <th>2</th>\n",
        "    </tr>\n",
        "  </thead>\n",
        "  <tbody>\n",
        "    <tr>\n",
        "      <th>0</th>\n",
        "      <td> 0.159529</td>\n",
        "      <td> 1.083357</td>\n",
        "      <td>-0.314677</td>\n",
        "    </tr>\n",
        "    <tr>\n",
        "      <th>1</th>\n",
        "      <td> 2.016352</td>\n",
        "      <td> 0.692375</td>\n",
        "      <td> 0.877882</td>\n",
        "    </tr>\n",
        "    <tr>\n",
        "      <th>2</th>\n",
        "      <td> 1.628209</td>\n",
        "      <td>      NaN</td>\n",
        "      <td> 1.682258</td>\n",
        "    </tr>\n",
        "    <tr>\n",
        "      <th>3</th>\n",
        "      <td>-1.478725</td>\n",
        "      <td>      NaN</td>\n",
        "      <td>-0.565185</td>\n",
        "    </tr>\n",
        "    <tr>\n",
        "      <th>4</th>\n",
        "      <td> 1.277163</td>\n",
        "      <td>      NaN</td>\n",
        "      <td>      NaN</td>\n",
        "    </tr>\n",
        "    <tr>\n",
        "      <th>5</th>\n",
        "      <td> 0.241139</td>\n",
        "      <td>      NaN</td>\n",
        "      <td>      NaN</td>\n",
        "    </tr>\n",
        "  </tbody>\n",
        "</table>\n",
        "</div>"
       ],
       "metadata": {},
       "output_type": "pyout",
       "prompt_number": 94,
       "text": [
        "          0         1         2\n",
        "0  0.159529  1.083357 -0.314677\n",
        "1  2.016352  0.692375  0.877882\n",
        "2  1.628209       NaN  1.682258\n",
        "3 -1.478725       NaN -0.565185\n",
        "4  1.277163       NaN       NaN\n",
        "5  0.241139       NaN       NaN"
       ]
      }
     ],
     "prompt_number": 94
    },
    {
     "cell_type": "code",
     "collapsed": false,
     "input": [
      "df.fillna(method = 'ffill')"
     ],
     "language": "python",
     "metadata": {},
     "outputs": [
      {
       "html": [
        "<div style=\"max-height:1000px;max-width:1500px;overflow:auto;\">\n",
        "<table border=\"1\" class=\"dataframe\">\n",
        "  <thead>\n",
        "    <tr style=\"text-align: right;\">\n",
        "      <th></th>\n",
        "      <th>0</th>\n",
        "      <th>1</th>\n",
        "      <th>2</th>\n",
        "    </tr>\n",
        "  </thead>\n",
        "  <tbody>\n",
        "    <tr>\n",
        "      <th>0</th>\n",
        "      <td> 0.159529</td>\n",
        "      <td> 1.083357</td>\n",
        "      <td>-0.314677</td>\n",
        "    </tr>\n",
        "    <tr>\n",
        "      <th>1</th>\n",
        "      <td> 2.016352</td>\n",
        "      <td> 0.692375</td>\n",
        "      <td> 0.877882</td>\n",
        "    </tr>\n",
        "    <tr>\n",
        "      <th>2</th>\n",
        "      <td> 1.628209</td>\n",
        "      <td> 0.692375</td>\n",
        "      <td> 1.682258</td>\n",
        "    </tr>\n",
        "    <tr>\n",
        "      <th>3</th>\n",
        "      <td>-1.478725</td>\n",
        "      <td> 0.692375</td>\n",
        "      <td>-0.565185</td>\n",
        "    </tr>\n",
        "    <tr>\n",
        "      <th>4</th>\n",
        "      <td> 1.277163</td>\n",
        "      <td> 0.692375</td>\n",
        "      <td>-0.565185</td>\n",
        "    </tr>\n",
        "    <tr>\n",
        "      <th>5</th>\n",
        "      <td> 0.241139</td>\n",
        "      <td> 0.692375</td>\n",
        "      <td>-0.565185</td>\n",
        "    </tr>\n",
        "  </tbody>\n",
        "</table>\n",
        "</div>"
       ],
       "metadata": {},
       "output_type": "pyout",
       "prompt_number": 95,
       "text": [
        "          0         1         2\n",
        "0  0.159529  1.083357 -0.314677\n",
        "1  2.016352  0.692375  0.877882\n",
        "2  1.628209  0.692375  1.682258\n",
        "3 -1.478725  0.692375 -0.565185\n",
        "4  1.277163  0.692375 -0.565185\n",
        "5  0.241139  0.692375 -0.565185"
       ]
      }
     ],
     "prompt_number": 95
    },
    {
     "cell_type": "code",
     "collapsed": false,
     "input": [
      "df.fillna(method = 'ffill' , limit = 1)"
     ],
     "language": "python",
     "metadata": {},
     "outputs": [
      {
       "html": [
        "<div style=\"max-height:1000px;max-width:1500px;overflow:auto;\">\n",
        "<table border=\"1\" class=\"dataframe\">\n",
        "  <thead>\n",
        "    <tr style=\"text-align: right;\">\n",
        "      <th></th>\n",
        "      <th>0</th>\n",
        "      <th>1</th>\n",
        "      <th>2</th>\n",
        "    </tr>\n",
        "  </thead>\n",
        "  <tbody>\n",
        "    <tr>\n",
        "      <th>0</th>\n",
        "      <td> 0.159529</td>\n",
        "      <td> 1.083357</td>\n",
        "      <td>-0.314677</td>\n",
        "    </tr>\n",
        "    <tr>\n",
        "      <th>1</th>\n",
        "      <td> 2.016352</td>\n",
        "      <td> 0.692375</td>\n",
        "      <td> 0.877882</td>\n",
        "    </tr>\n",
        "    <tr>\n",
        "      <th>2</th>\n",
        "      <td> 1.628209</td>\n",
        "      <td> 0.692375</td>\n",
        "      <td> 1.682258</td>\n",
        "    </tr>\n",
        "    <tr>\n",
        "      <th>3</th>\n",
        "      <td>-1.478725</td>\n",
        "      <td>      NaN</td>\n",
        "      <td>-0.565185</td>\n",
        "    </tr>\n",
        "    <tr>\n",
        "      <th>4</th>\n",
        "      <td> 1.277163</td>\n",
        "      <td>      NaN</td>\n",
        "      <td>-0.565185</td>\n",
        "    </tr>\n",
        "    <tr>\n",
        "      <th>5</th>\n",
        "      <td> 0.241139</td>\n",
        "      <td>      NaN</td>\n",
        "      <td>      NaN</td>\n",
        "    </tr>\n",
        "  </tbody>\n",
        "</table>\n",
        "</div>"
       ],
       "metadata": {},
       "output_type": "pyout",
       "prompt_number": 119,
       "text": [
        "          0         1         2\n",
        "0  0.159529  1.083357 -0.314677\n",
        "1  2.016352  0.692375  0.877882\n",
        "2  1.628209  0.692375  1.682258\n",
        "3 -1.478725       NaN -0.565185\n",
        "4  1.277163       NaN -0.565185\n",
        "5  0.241139       NaN       NaN"
       ]
      }
     ],
     "prompt_number": 119
    },
    {
     "cell_type": "code",
     "collapsed": false,
     "input": [
      "data = Series([1.0, NA, 3.5, 7])\n",
      "data"
     ],
     "language": "python",
     "metadata": {},
     "outputs": [
      {
       "metadata": {},
       "output_type": "pyout",
       "prompt_number": 120,
       "text": [
        "0    1.0\n",
        "1    NaN\n",
        "2    3.5\n",
        "3    7.0\n",
        "dtype: float64"
       ]
      }
     ],
     "prompt_number": 120
    },
    {
     "cell_type": "code",
     "collapsed": false,
     "input": [
      "data.fillna(data.mean())"
     ],
     "language": "python",
     "metadata": {},
     "outputs": [
      {
       "metadata": {},
       "output_type": "pyout",
       "prompt_number": 121,
       "text": [
        "0    1.000000\n",
        "1    3.833333\n",
        "2    3.500000\n",
        "3    7.000000\n",
        "dtype: float64"
       ]
      }
     ],
     "prompt_number": 121
    },
    {
     "cell_type": "code",
     "collapsed": false,
     "input": [
      "### Hierarchical Indexing\n",
      "data = Series(np.random.randn(10),\n",
      "              index = [['a', 'a', 'a', 'b', 'b', 'b', 'c', 'c', 'd', 'd'],\n",
      "                       [1,2,3,1,2,3,1,2,2,3]])\n",
      "data"
     ],
     "language": "python",
     "metadata": {},
     "outputs": [
      {
       "metadata": {},
       "output_type": "pyout",
       "prompt_number": 122,
       "text": [
        "a  1   -0.537014\n",
        "   2   -0.465591\n",
        "   3   -1.997035\n",
        "b  1    1.313463\n",
        "   2    0.621706\n",
        "   3   -0.654799\n",
        "c  1   -0.879891\n",
        "   2   -1.046694\n",
        "d  2    0.410863\n",
        "   3   -1.864719\n",
        "dtype: float64"
       ]
      }
     ],
     "prompt_number": 122
    },
    {
     "cell_type": "code",
     "collapsed": false,
     "input": [
      "data.index"
     ],
     "language": "python",
     "metadata": {},
     "outputs": [
      {
       "metadata": {},
       "output_type": "pyout",
       "prompt_number": 123,
       "text": [
        "MultiIndex(levels=[[u'a', u'b', u'c', u'd'], [1, 2, 3]],\n",
        "           labels=[[0, 0, 0, 1, 1, 1, 2, 2, 3, 3], [0, 1, 2, 0, 1, 2, 0, 1, 1, 2]])"
       ]
      }
     ],
     "prompt_number": 123
    },
    {
     "cell_type": "code",
     "collapsed": false,
     "input": [
      "data['b']"
     ],
     "language": "python",
     "metadata": {},
     "outputs": [
      {
       "metadata": {},
       "output_type": "pyout",
       "prompt_number": 124,
       "text": [
        "1    1.313463\n",
        "2    0.621706\n",
        "3   -0.654799\n",
        "dtype: float64"
       ]
      }
     ],
     "prompt_number": 124
    },
    {
     "cell_type": "code",
     "collapsed": false,
     "input": [
      "data['b':'d']"
     ],
     "language": "python",
     "metadata": {},
     "outputs": [
      {
       "metadata": {},
       "output_type": "pyout",
       "prompt_number": 125,
       "text": [
        "b  1    1.313463\n",
        "   2    0.621706\n",
        "   3   -0.654799\n",
        "c  1   -0.879891\n",
        "   2   -1.046694\n",
        "d  2    0.410863\n",
        "   3   -1.864719\n",
        "dtype: float64"
       ]
      }
     ],
     "prompt_number": 125
    },
    {
     "cell_type": "code",
     "collapsed": false,
     "input": [
      "data.ix[['b', 'd']]"
     ],
     "language": "python",
     "metadata": {},
     "outputs": [
      {
       "metadata": {},
       "output_type": "pyout",
       "prompt_number": 127,
       "text": [
        "b  1    1.313463\n",
        "   2    0.621706\n",
        "   3   -0.654799\n",
        "d  2    0.410863\n",
        "   3   -1.864719\n",
        "dtype: float64"
       ]
      }
     ],
     "prompt_number": 127
    },
    {
     "cell_type": "code",
     "collapsed": false,
     "input": [
      "data[:, 1]"
     ],
     "language": "python",
     "metadata": {},
     "outputs": [
      {
       "metadata": {},
       "output_type": "pyout",
       "prompt_number": 130,
       "text": [
        "a   -0.537014\n",
        "b    1.313463\n",
        "c   -0.879891\n",
        "dtype: float64"
       ]
      }
     ],
     "prompt_number": 130
    },
    {
     "cell_type": "code",
     "collapsed": false,
     "input": [
      "data.unstack()"
     ],
     "language": "python",
     "metadata": {},
     "outputs": [
      {
       "html": [
        "<div style=\"max-height:1000px;max-width:1500px;overflow:auto;\">\n",
        "<table border=\"1\" class=\"dataframe\">\n",
        "  <thead>\n",
        "    <tr style=\"text-align: right;\">\n",
        "      <th></th>\n",
        "      <th>1</th>\n",
        "      <th>2</th>\n",
        "      <th>3</th>\n",
        "    </tr>\n",
        "  </thead>\n",
        "  <tbody>\n",
        "    <tr>\n",
        "      <th>a</th>\n",
        "      <td>-0.537014</td>\n",
        "      <td>-0.465591</td>\n",
        "      <td>-1.997035</td>\n",
        "    </tr>\n",
        "    <tr>\n",
        "      <th>b</th>\n",
        "      <td> 1.313463</td>\n",
        "      <td> 0.621706</td>\n",
        "      <td>-0.654799</td>\n",
        "    </tr>\n",
        "    <tr>\n",
        "      <th>c</th>\n",
        "      <td>-0.879891</td>\n",
        "      <td>-1.046694</td>\n",
        "      <td>      NaN</td>\n",
        "    </tr>\n",
        "    <tr>\n",
        "      <th>d</th>\n",
        "      <td>      NaN</td>\n",
        "      <td> 0.410863</td>\n",
        "      <td>-1.864719</td>\n",
        "    </tr>\n",
        "  </tbody>\n",
        "</table>\n",
        "</div>"
       ],
       "metadata": {},
       "output_type": "pyout",
       "prompt_number": 131,
       "text": [
        "          1         2         3\n",
        "a -0.537014 -0.465591 -1.997035\n",
        "b  1.313463  0.621706 -0.654799\n",
        "c -0.879891 -1.046694       NaN\n",
        "d       NaN  0.410863 -1.864719"
       ]
      }
     ],
     "prompt_number": 131
    },
    {
     "cell_type": "code",
     "collapsed": false,
     "input": [
      "data.unstack().stack()"
     ],
     "language": "python",
     "metadata": {},
     "outputs": [
      {
       "metadata": {},
       "output_type": "pyout",
       "prompt_number": 134,
       "text": [
        "a  1   -0.537014\n",
        "   2   -0.465591\n",
        "   3   -1.997035\n",
        "b  1    1.313463\n",
        "   2    0.621706\n",
        "   3   -0.654799\n",
        "c  1   -0.879891\n",
        "   2   -1.046694\n",
        "d  2    0.410863\n",
        "   3   -1.864719\n",
        "dtype: float64"
       ]
      }
     ],
     "prompt_number": 134
    },
    {
     "cell_type": "code",
     "collapsed": false,
     "input": [
      "frame = DataFrame(np.arange(12).reshape((4,3)),\n",
      "                  index = [['a', 'a', 'b', 'b'], [1,2,1,2]],\n",
      "                  columns = [['Ohio', 'Ohio', 'Colorado'], ['Green', 'Red', 'Green']])\n",
      "frame"
     ],
     "language": "python",
     "metadata": {},
     "outputs": [
      {
       "html": [
        "<div style=\"max-height:1000px;max-width:1500px;overflow:auto;\">\n",
        "<table border=\"1\" class=\"dataframe\">\n",
        "  <thead>\n",
        "    <tr>\n",
        "      <th></th>\n",
        "      <th></th>\n",
        "      <th colspan=\"2\" halign=\"left\">Ohio</th>\n",
        "      <th>Colorado</th>\n",
        "    </tr>\n",
        "    <tr>\n",
        "      <th></th>\n",
        "      <th></th>\n",
        "      <th>Green</th>\n",
        "      <th>Red</th>\n",
        "      <th>Green</th>\n",
        "    </tr>\n",
        "  </thead>\n",
        "  <tbody>\n",
        "    <tr>\n",
        "      <th rowspan=\"2\" valign=\"top\">a</th>\n",
        "      <th>1</th>\n",
        "      <td> 0</td>\n",
        "      <td>  1</td>\n",
        "      <td>  2</td>\n",
        "    </tr>\n",
        "    <tr>\n",
        "      <th>2</th>\n",
        "      <td> 3</td>\n",
        "      <td>  4</td>\n",
        "      <td>  5</td>\n",
        "    </tr>\n",
        "    <tr>\n",
        "      <th rowspan=\"2\" valign=\"top\">b</th>\n",
        "      <th>1</th>\n",
        "      <td> 6</td>\n",
        "      <td>  7</td>\n",
        "      <td>  8</td>\n",
        "    </tr>\n",
        "    <tr>\n",
        "      <th>2</th>\n",
        "      <td> 9</td>\n",
        "      <td> 10</td>\n",
        "      <td> 11</td>\n",
        "    </tr>\n",
        "  </tbody>\n",
        "</table>\n",
        "</div>"
       ],
       "metadata": {},
       "output_type": "pyout",
       "prompt_number": 137,
       "text": [
        "     Ohio     Colorado\n",
        "    Green Red    Green\n",
        "a 1     0   1        2\n",
        "  2     3   4        5\n",
        "b 1     6   7        8\n",
        "  2     9  10       11"
       ]
      }
     ],
     "prompt_number": 137
    },
    {
     "cell_type": "code",
     "collapsed": false,
     "input": [
      "frame.index.names = ['key1', 'key2']\n",
      "frame.columns.names = ['state', 'color']\n",
      "frame"
     ],
     "language": "python",
     "metadata": {},
     "outputs": [
      {
       "html": [
        "<div style=\"max-height:1000px;max-width:1500px;overflow:auto;\">\n",
        "<table border=\"1\" class=\"dataframe\">\n",
        "  <thead>\n",
        "    <tr>\n",
        "      <th></th>\n",
        "      <th>state</th>\n",
        "      <th colspan=\"2\" halign=\"left\">Ohio</th>\n",
        "      <th>Colorado</th>\n",
        "    </tr>\n",
        "    <tr>\n",
        "      <th></th>\n",
        "      <th>color</th>\n",
        "      <th>Green</th>\n",
        "      <th>Red</th>\n",
        "      <th>Green</th>\n",
        "    </tr>\n",
        "    <tr>\n",
        "      <th>key1</th>\n",
        "      <th>key2</th>\n",
        "      <th></th>\n",
        "      <th></th>\n",
        "      <th></th>\n",
        "    </tr>\n",
        "  </thead>\n",
        "  <tbody>\n",
        "    <tr>\n",
        "      <th rowspan=\"2\" valign=\"top\">a</th>\n",
        "      <th>1</th>\n",
        "      <td> 0</td>\n",
        "      <td>  1</td>\n",
        "      <td>  2</td>\n",
        "    </tr>\n",
        "    <tr>\n",
        "      <th>2</th>\n",
        "      <td> 3</td>\n",
        "      <td>  4</td>\n",
        "      <td>  5</td>\n",
        "    </tr>\n",
        "    <tr>\n",
        "      <th rowspan=\"2\" valign=\"top\">b</th>\n",
        "      <th>1</th>\n",
        "      <td> 6</td>\n",
        "      <td>  7</td>\n",
        "      <td>  8</td>\n",
        "    </tr>\n",
        "    <tr>\n",
        "      <th>2</th>\n",
        "      <td> 9</td>\n",
        "      <td> 10</td>\n",
        "      <td> 11</td>\n",
        "    </tr>\n",
        "  </tbody>\n",
        "</table>\n",
        "</div>"
       ],
       "metadata": {},
       "output_type": "pyout",
       "prompt_number": 138,
       "text": [
        "state      Ohio     Colorado\n",
        "color     Green Red    Green\n",
        "key1 key2                   \n",
        "a    1        0   1        2\n",
        "     2        3   4        5\n",
        "b    1        6   7        8\n",
        "     2        9  10       11"
       ]
      }
     ],
     "prompt_number": 138
    },
    {
     "cell_type": "code",
     "collapsed": false,
     "input": [
      "frame['Ohio']"
     ],
     "language": "python",
     "metadata": {},
     "outputs": [
      {
       "html": [
        "<div style=\"max-height:1000px;max-width:1500px;overflow:auto;\">\n",
        "<table border=\"1\" class=\"dataframe\">\n",
        "  <thead>\n",
        "    <tr style=\"text-align: right;\">\n",
        "      <th></th>\n",
        "      <th>color</th>\n",
        "      <th>Green</th>\n",
        "      <th>Red</th>\n",
        "    </tr>\n",
        "    <tr>\n",
        "      <th>key1</th>\n",
        "      <th>key2</th>\n",
        "      <th></th>\n",
        "      <th></th>\n",
        "    </tr>\n",
        "  </thead>\n",
        "  <tbody>\n",
        "    <tr>\n",
        "      <th rowspan=\"2\" valign=\"top\">a</th>\n",
        "      <th>1</th>\n",
        "      <td> 0</td>\n",
        "      <td>  1</td>\n",
        "    </tr>\n",
        "    <tr>\n",
        "      <th>2</th>\n",
        "      <td> 3</td>\n",
        "      <td>  4</td>\n",
        "    </tr>\n",
        "    <tr>\n",
        "      <th rowspan=\"2\" valign=\"top\">b</th>\n",
        "      <th>1</th>\n",
        "      <td> 6</td>\n",
        "      <td>  7</td>\n",
        "    </tr>\n",
        "    <tr>\n",
        "      <th>2</th>\n",
        "      <td> 9</td>\n",
        "      <td> 10</td>\n",
        "    </tr>\n",
        "  </tbody>\n",
        "</table>\n",
        "</div>"
       ],
       "metadata": {},
       "output_type": "pyout",
       "prompt_number": 139,
       "text": [
        "color      Green  Red\n",
        "key1 key2            \n",
        "a    1         0    1\n",
        "     2         3    4\n",
        "b    1         6    7\n",
        "     2         9   10"
       ]
      }
     ],
     "prompt_number": 139
    },
    {
     "cell_type": "code",
     "collapsed": false,
     "input": [
      "### Reordering and Sorting Levels\n",
      "frame.swaplevel('key1', 'key2')"
     ],
     "language": "python",
     "metadata": {},
     "outputs": [
      {
       "html": [
        "<div style=\"max-height:1000px;max-width:1500px;overflow:auto;\">\n",
        "<table border=\"1\" class=\"dataframe\">\n",
        "  <thead>\n",
        "    <tr>\n",
        "      <th></th>\n",
        "      <th>state</th>\n",
        "      <th colspan=\"2\" halign=\"left\">Ohio</th>\n",
        "      <th>Colorado</th>\n",
        "    </tr>\n",
        "    <tr>\n",
        "      <th></th>\n",
        "      <th>color</th>\n",
        "      <th>Green</th>\n",
        "      <th>Red</th>\n",
        "      <th>Green</th>\n",
        "    </tr>\n",
        "    <tr>\n",
        "      <th>key2</th>\n",
        "      <th>key1</th>\n",
        "      <th></th>\n",
        "      <th></th>\n",
        "      <th></th>\n",
        "    </tr>\n",
        "  </thead>\n",
        "  <tbody>\n",
        "    <tr>\n",
        "      <th>1</th>\n",
        "      <th>a</th>\n",
        "      <td> 0</td>\n",
        "      <td>  1</td>\n",
        "      <td>  2</td>\n",
        "    </tr>\n",
        "    <tr>\n",
        "      <th>2</th>\n",
        "      <th>a</th>\n",
        "      <td> 3</td>\n",
        "      <td>  4</td>\n",
        "      <td>  5</td>\n",
        "    </tr>\n",
        "    <tr>\n",
        "      <th>1</th>\n",
        "      <th>b</th>\n",
        "      <td> 6</td>\n",
        "      <td>  7</td>\n",
        "      <td>  8</td>\n",
        "    </tr>\n",
        "    <tr>\n",
        "      <th>2</th>\n",
        "      <th>b</th>\n",
        "      <td> 9</td>\n",
        "      <td> 10</td>\n",
        "      <td> 11</td>\n",
        "    </tr>\n",
        "  </tbody>\n",
        "</table>\n",
        "</div>"
       ],
       "metadata": {},
       "output_type": "pyout",
       "prompt_number": 140,
       "text": [
        "state      Ohio     Colorado\n",
        "color     Green Red    Green\n",
        "key2 key1                   \n",
        "1    a        0   1        2\n",
        "2    a        3   4        5\n",
        "1    b        6   7        8\n",
        "2    b        9  10       11"
       ]
      }
     ],
     "prompt_number": 140
    },
    {
     "cell_type": "code",
     "collapsed": false,
     "input": [
      "frame.sortlevel(1)"
     ],
     "language": "python",
     "metadata": {},
     "outputs": [
      {
       "html": [
        "<div style=\"max-height:1000px;max-width:1500px;overflow:auto;\">\n",
        "<table border=\"1\" class=\"dataframe\">\n",
        "  <thead>\n",
        "    <tr>\n",
        "      <th></th>\n",
        "      <th>state</th>\n",
        "      <th colspan=\"2\" halign=\"left\">Ohio</th>\n",
        "      <th>Colorado</th>\n",
        "    </tr>\n",
        "    <tr>\n",
        "      <th></th>\n",
        "      <th>color</th>\n",
        "      <th>Green</th>\n",
        "      <th>Red</th>\n",
        "      <th>Green</th>\n",
        "    </tr>\n",
        "    <tr>\n",
        "      <th>key1</th>\n",
        "      <th>key2</th>\n",
        "      <th></th>\n",
        "      <th></th>\n",
        "      <th></th>\n",
        "    </tr>\n",
        "  </thead>\n",
        "  <tbody>\n",
        "    <tr>\n",
        "      <th>a</th>\n",
        "      <th>1</th>\n",
        "      <td> 0</td>\n",
        "      <td>  1</td>\n",
        "      <td>  2</td>\n",
        "    </tr>\n",
        "    <tr>\n",
        "      <th>b</th>\n",
        "      <th>1</th>\n",
        "      <td> 6</td>\n",
        "      <td>  7</td>\n",
        "      <td>  8</td>\n",
        "    </tr>\n",
        "    <tr>\n",
        "      <th>a</th>\n",
        "      <th>2</th>\n",
        "      <td> 3</td>\n",
        "      <td>  4</td>\n",
        "      <td>  5</td>\n",
        "    </tr>\n",
        "    <tr>\n",
        "      <th>b</th>\n",
        "      <th>2</th>\n",
        "      <td> 9</td>\n",
        "      <td> 10</td>\n",
        "      <td> 11</td>\n",
        "    </tr>\n",
        "  </tbody>\n",
        "</table>\n",
        "</div>"
       ],
       "metadata": {},
       "output_type": "pyout",
       "prompt_number": 144,
       "text": [
        "state      Ohio     Colorado\n",
        "color     Green Red    Green\n",
        "key1 key2                   \n",
        "a    1        0   1        2\n",
        "b    1        6   7        8\n",
        "a    2        3   4        5\n",
        "b    2        9  10       11"
       ]
      }
     ],
     "prompt_number": 144
    },
    {
     "cell_type": "code",
     "collapsed": false,
     "input": [
      "frame.swaplevel(0,1).sortlevel(0)"
     ],
     "language": "python",
     "metadata": {},
     "outputs": [
      {
       "html": [
        "<div style=\"max-height:1000px;max-width:1500px;overflow:auto;\">\n",
        "<table border=\"1\" class=\"dataframe\">\n",
        "  <thead>\n",
        "    <tr>\n",
        "      <th></th>\n",
        "      <th>state</th>\n",
        "      <th colspan=\"2\" halign=\"left\">Ohio</th>\n",
        "      <th>Colorado</th>\n",
        "    </tr>\n",
        "    <tr>\n",
        "      <th></th>\n",
        "      <th>color</th>\n",
        "      <th>Green</th>\n",
        "      <th>Red</th>\n",
        "      <th>Green</th>\n",
        "    </tr>\n",
        "    <tr>\n",
        "      <th>key2</th>\n",
        "      <th>key1</th>\n",
        "      <th></th>\n",
        "      <th></th>\n",
        "      <th></th>\n",
        "    </tr>\n",
        "  </thead>\n",
        "  <tbody>\n",
        "    <tr>\n",
        "      <th rowspan=\"2\" valign=\"top\">1</th>\n",
        "      <th>a</th>\n",
        "      <td> 0</td>\n",
        "      <td>  1</td>\n",
        "      <td>  2</td>\n",
        "    </tr>\n",
        "    <tr>\n",
        "      <th>b</th>\n",
        "      <td> 6</td>\n",
        "      <td>  7</td>\n",
        "      <td>  8</td>\n",
        "    </tr>\n",
        "    <tr>\n",
        "      <th rowspan=\"2\" valign=\"top\">2</th>\n",
        "      <th>a</th>\n",
        "      <td> 3</td>\n",
        "      <td>  4</td>\n",
        "      <td>  5</td>\n",
        "    </tr>\n",
        "    <tr>\n",
        "      <th>b</th>\n",
        "      <td> 9</td>\n",
        "      <td> 10</td>\n",
        "      <td> 11</td>\n",
        "    </tr>\n",
        "  </tbody>\n",
        "</table>\n",
        "</div>"
       ],
       "metadata": {},
       "output_type": "pyout",
       "prompt_number": 146,
       "text": [
        "state      Ohio     Colorado\n",
        "color     Green Red    Green\n",
        "key2 key1                   \n",
        "1    a        0   1        2\n",
        "     b        6   7        8\n",
        "2    a        3   4        5\n",
        "     b        9  10       11"
       ]
      }
     ],
     "prompt_number": 146
    },
    {
     "cell_type": "code",
     "collapsed": false,
     "input": [
      "### Summary Statistics by Levels\n",
      "frame.sum(level = 'key2')"
     ],
     "language": "python",
     "metadata": {},
     "outputs": [
      {
       "html": [
        "<div style=\"max-height:1000px;max-width:1500px;overflow:auto;\">\n",
        "<table border=\"1\" class=\"dataframe\">\n",
        "  <thead>\n",
        "    <tr>\n",
        "      <th>state</th>\n",
        "      <th colspan=\"2\" halign=\"left\">Ohio</th>\n",
        "      <th>Colorado</th>\n",
        "    </tr>\n",
        "    <tr>\n",
        "      <th>color</th>\n",
        "      <th>Green</th>\n",
        "      <th>Red</th>\n",
        "      <th>Green</th>\n",
        "    </tr>\n",
        "    <tr>\n",
        "      <th>key2</th>\n",
        "      <th></th>\n",
        "      <th></th>\n",
        "      <th></th>\n",
        "    </tr>\n",
        "  </thead>\n",
        "  <tbody>\n",
        "    <tr>\n",
        "      <th>1</th>\n",
        "      <td>  6</td>\n",
        "      <td>  8</td>\n",
        "      <td> 10</td>\n",
        "    </tr>\n",
        "    <tr>\n",
        "      <th>2</th>\n",
        "      <td> 12</td>\n",
        "      <td> 14</td>\n",
        "      <td> 16</td>\n",
        "    </tr>\n",
        "  </tbody>\n",
        "</table>\n",
        "</div>"
       ],
       "metadata": {},
       "output_type": "pyout",
       "prompt_number": 147,
       "text": [
        "state  Ohio     Colorado\n",
        "color Green Red    Green\n",
        "key2                    \n",
        "1         6   8       10\n",
        "2        12  14       16"
       ]
      }
     ],
     "prompt_number": 147
    },
    {
     "cell_type": "code",
     "collapsed": false,
     "input": [
      "frame.sum(level = 'color', axis=1)"
     ],
     "language": "python",
     "metadata": {},
     "outputs": [
      {
       "html": [
        "<div style=\"max-height:1000px;max-width:1500px;overflow:auto;\">\n",
        "<table border=\"1\" class=\"dataframe\">\n",
        "  <thead>\n",
        "    <tr style=\"text-align: right;\">\n",
        "      <th></th>\n",
        "      <th>color</th>\n",
        "      <th>Green</th>\n",
        "      <th>Red</th>\n",
        "    </tr>\n",
        "    <tr>\n",
        "      <th>key1</th>\n",
        "      <th>key2</th>\n",
        "      <th></th>\n",
        "      <th></th>\n",
        "    </tr>\n",
        "  </thead>\n",
        "  <tbody>\n",
        "    <tr>\n",
        "      <th rowspan=\"2\" valign=\"top\">a</th>\n",
        "      <th>1</th>\n",
        "      <td>  2</td>\n",
        "      <td>  1</td>\n",
        "    </tr>\n",
        "    <tr>\n",
        "      <th>2</th>\n",
        "      <td>  8</td>\n",
        "      <td>  4</td>\n",
        "    </tr>\n",
        "    <tr>\n",
        "      <th rowspan=\"2\" valign=\"top\">b</th>\n",
        "      <th>1</th>\n",
        "      <td> 14</td>\n",
        "      <td>  7</td>\n",
        "    </tr>\n",
        "    <tr>\n",
        "      <th>2</th>\n",
        "      <td> 20</td>\n",
        "      <td> 10</td>\n",
        "    </tr>\n",
        "  </tbody>\n",
        "</table>\n",
        "</div>"
       ],
       "metadata": {},
       "output_type": "pyout",
       "prompt_number": 148,
       "text": [
        "color      Green  Red\n",
        "key1 key2            \n",
        "a    1         2    1\n",
        "     2         8    4\n",
        "b    1        14    7\n",
        "     2        20   10"
       ]
      }
     ],
     "prompt_number": 148
    },
    {
     "cell_type": "code",
     "collapsed": false,
     "input": [
      "frame = DataFrame({'a': range(7), \n",
      "                   'b': range(7,0,-1),\n",
      "                   'c': ['one', 'one', 'one', 'two', 'two', 'two', 'two'],\n",
      "                   'd': [0,1,2,0,1,2,3]})\n",
      "frame"
     ],
     "language": "python",
     "metadata": {},
     "outputs": [
      {
       "html": [
        "<div style=\"max-height:1000px;max-width:1500px;overflow:auto;\">\n",
        "<table border=\"1\" class=\"dataframe\">\n",
        "  <thead>\n",
        "    <tr style=\"text-align: right;\">\n",
        "      <th></th>\n",
        "      <th>a</th>\n",
        "      <th>b</th>\n",
        "      <th>c</th>\n",
        "      <th>d</th>\n",
        "    </tr>\n",
        "  </thead>\n",
        "  <tbody>\n",
        "    <tr>\n",
        "      <th>0</th>\n",
        "      <td> 0</td>\n",
        "      <td> 7</td>\n",
        "      <td> one</td>\n",
        "      <td> 0</td>\n",
        "    </tr>\n",
        "    <tr>\n",
        "      <th>1</th>\n",
        "      <td> 1</td>\n",
        "      <td> 6</td>\n",
        "      <td> one</td>\n",
        "      <td> 1</td>\n",
        "    </tr>\n",
        "    <tr>\n",
        "      <th>2</th>\n",
        "      <td> 2</td>\n",
        "      <td> 5</td>\n",
        "      <td> one</td>\n",
        "      <td> 2</td>\n",
        "    </tr>\n",
        "    <tr>\n",
        "      <th>3</th>\n",
        "      <td> 3</td>\n",
        "      <td> 4</td>\n",
        "      <td> two</td>\n",
        "      <td> 0</td>\n",
        "    </tr>\n",
        "    <tr>\n",
        "      <th>4</th>\n",
        "      <td> 4</td>\n",
        "      <td> 3</td>\n",
        "      <td> two</td>\n",
        "      <td> 1</td>\n",
        "    </tr>\n",
        "    <tr>\n",
        "      <th>5</th>\n",
        "      <td> 5</td>\n",
        "      <td> 2</td>\n",
        "      <td> two</td>\n",
        "      <td> 2</td>\n",
        "    </tr>\n",
        "    <tr>\n",
        "      <th>6</th>\n",
        "      <td> 6</td>\n",
        "      <td> 1</td>\n",
        "      <td> two</td>\n",
        "      <td> 3</td>\n",
        "    </tr>\n",
        "  </tbody>\n",
        "</table>\n",
        "</div>"
       ],
       "metadata": {},
       "output_type": "pyout",
       "prompt_number": 149,
       "text": [
        "   a  b    c  d\n",
        "0  0  7  one  0\n",
        "1  1  6  one  1\n",
        "2  2  5  one  2\n",
        "3  3  4  two  0\n",
        "4  4  3  two  1\n",
        "5  5  2  two  2\n",
        "6  6  1  two  3"
       ]
      }
     ],
     "prompt_number": 149
    },
    {
     "cell_type": "code",
     "collapsed": false,
     "input": [
      "frame.set_index(['c', 'd'])"
     ],
     "language": "python",
     "metadata": {},
     "outputs": [
      {
       "html": [
        "<div style=\"max-height:1000px;max-width:1500px;overflow:auto;\">\n",
        "<table border=\"1\" class=\"dataframe\">\n",
        "  <thead>\n",
        "    <tr style=\"text-align: right;\">\n",
        "      <th></th>\n",
        "      <th></th>\n",
        "      <th>a</th>\n",
        "      <th>b</th>\n",
        "    </tr>\n",
        "    <tr>\n",
        "      <th>c</th>\n",
        "      <th>d</th>\n",
        "      <th></th>\n",
        "      <th></th>\n",
        "    </tr>\n",
        "  </thead>\n",
        "  <tbody>\n",
        "    <tr>\n",
        "      <th rowspan=\"3\" valign=\"top\">one</th>\n",
        "      <th>0</th>\n",
        "      <td> 0</td>\n",
        "      <td> 7</td>\n",
        "    </tr>\n",
        "    <tr>\n",
        "      <th>1</th>\n",
        "      <td> 1</td>\n",
        "      <td> 6</td>\n",
        "    </tr>\n",
        "    <tr>\n",
        "      <th>2</th>\n",
        "      <td> 2</td>\n",
        "      <td> 5</td>\n",
        "    </tr>\n",
        "    <tr>\n",
        "      <th rowspan=\"4\" valign=\"top\">two</th>\n",
        "      <th>0</th>\n",
        "      <td> 3</td>\n",
        "      <td> 4</td>\n",
        "    </tr>\n",
        "    <tr>\n",
        "      <th>1</th>\n",
        "      <td> 4</td>\n",
        "      <td> 3</td>\n",
        "    </tr>\n",
        "    <tr>\n",
        "      <th>2</th>\n",
        "      <td> 5</td>\n",
        "      <td> 2</td>\n",
        "    </tr>\n",
        "    <tr>\n",
        "      <th>3</th>\n",
        "      <td> 6</td>\n",
        "      <td> 1</td>\n",
        "    </tr>\n",
        "  </tbody>\n",
        "</table>\n",
        "</div>"
       ],
       "metadata": {},
       "output_type": "pyout",
       "prompt_number": 152,
       "text": [
        "       a  b\n",
        "c   d      \n",
        "one 0  0  7\n",
        "    1  1  6\n",
        "    2  2  5\n",
        "two 0  3  4\n",
        "    1  4  3\n",
        "    2  5  2\n",
        "    3  6  1"
       ]
      }
     ],
     "prompt_number": 152
    },
    {
     "cell_type": "code",
     "collapsed": false,
     "input": [
      "frame.set_index(['c', 'd'], drop=False)"
     ],
     "language": "python",
     "metadata": {},
     "outputs": [
      {
       "html": [
        "<div style=\"max-height:1000px;max-width:1500px;overflow:auto;\">\n",
        "<table border=\"1\" class=\"dataframe\">\n",
        "  <thead>\n",
        "    <tr style=\"text-align: right;\">\n",
        "      <th></th>\n",
        "      <th></th>\n",
        "      <th>a</th>\n",
        "      <th>b</th>\n",
        "      <th>c</th>\n",
        "      <th>d</th>\n",
        "    </tr>\n",
        "    <tr>\n",
        "      <th>c</th>\n",
        "      <th>d</th>\n",
        "      <th></th>\n",
        "      <th></th>\n",
        "      <th></th>\n",
        "      <th></th>\n",
        "    </tr>\n",
        "  </thead>\n",
        "  <tbody>\n",
        "    <tr>\n",
        "      <th rowspan=\"3\" valign=\"top\">one</th>\n",
        "      <th>0</th>\n",
        "      <td> 0</td>\n",
        "      <td> 7</td>\n",
        "      <td> one</td>\n",
        "      <td> 0</td>\n",
        "    </tr>\n",
        "    <tr>\n",
        "      <th>1</th>\n",
        "      <td> 1</td>\n",
        "      <td> 6</td>\n",
        "      <td> one</td>\n",
        "      <td> 1</td>\n",
        "    </tr>\n",
        "    <tr>\n",
        "      <th>2</th>\n",
        "      <td> 2</td>\n",
        "      <td> 5</td>\n",
        "      <td> one</td>\n",
        "      <td> 2</td>\n",
        "    </tr>\n",
        "    <tr>\n",
        "      <th rowspan=\"4\" valign=\"top\">two</th>\n",
        "      <th>0</th>\n",
        "      <td> 3</td>\n",
        "      <td> 4</td>\n",
        "      <td> two</td>\n",
        "      <td> 0</td>\n",
        "    </tr>\n",
        "    <tr>\n",
        "      <th>1</th>\n",
        "      <td> 4</td>\n",
        "      <td> 3</td>\n",
        "      <td> two</td>\n",
        "      <td> 1</td>\n",
        "    </tr>\n",
        "    <tr>\n",
        "      <th>2</th>\n",
        "      <td> 5</td>\n",
        "      <td> 2</td>\n",
        "      <td> two</td>\n",
        "      <td> 2</td>\n",
        "    </tr>\n",
        "    <tr>\n",
        "      <th>3</th>\n",
        "      <td> 6</td>\n",
        "      <td> 1</td>\n",
        "      <td> two</td>\n",
        "      <td> 3</td>\n",
        "    </tr>\n",
        "  </tbody>\n",
        "</table>\n",
        "</div>"
       ],
       "metadata": {},
       "output_type": "pyout",
       "prompt_number": 153,
       "text": [
        "       a  b    c  d\n",
        "c   d              \n",
        "one 0  0  7  one  0\n",
        "    1  1  6  one  1\n",
        "    2  2  5  one  2\n",
        "two 0  3  4  two  0\n",
        "    1  4  3  two  1\n",
        "    2  5  2  two  2\n",
        "    3  6  1  two  3"
       ]
      }
     ],
     "prompt_number": 153
    },
    {
     "cell_type": "code",
     "collapsed": false,
     "input": [
      "frame.set_index(['c', 'd']).reset_index()"
     ],
     "language": "python",
     "metadata": {},
     "outputs": [
      {
       "html": [
        "<div style=\"max-height:1000px;max-width:1500px;overflow:auto;\">\n",
        "<table border=\"1\" class=\"dataframe\">\n",
        "  <thead>\n",
        "    <tr style=\"text-align: right;\">\n",
        "      <th></th>\n",
        "      <th>c</th>\n",
        "      <th>d</th>\n",
        "      <th>a</th>\n",
        "      <th>b</th>\n",
        "    </tr>\n",
        "  </thead>\n",
        "  <tbody>\n",
        "    <tr>\n",
        "      <th>0</th>\n",
        "      <td> one</td>\n",
        "      <td> 0</td>\n",
        "      <td> 0</td>\n",
        "      <td> 7</td>\n",
        "    </tr>\n",
        "    <tr>\n",
        "      <th>1</th>\n",
        "      <td> one</td>\n",
        "      <td> 1</td>\n",
        "      <td> 1</td>\n",
        "      <td> 6</td>\n",
        "    </tr>\n",
        "    <tr>\n",
        "      <th>2</th>\n",
        "      <td> one</td>\n",
        "      <td> 2</td>\n",
        "      <td> 2</td>\n",
        "      <td> 5</td>\n",
        "    </tr>\n",
        "    <tr>\n",
        "      <th>3</th>\n",
        "      <td> two</td>\n",
        "      <td> 0</td>\n",
        "      <td> 3</td>\n",
        "      <td> 4</td>\n",
        "    </tr>\n",
        "    <tr>\n",
        "      <th>4</th>\n",
        "      <td> two</td>\n",
        "      <td> 1</td>\n",
        "      <td> 4</td>\n",
        "      <td> 3</td>\n",
        "    </tr>\n",
        "    <tr>\n",
        "      <th>5</th>\n",
        "      <td> two</td>\n",
        "      <td> 2</td>\n",
        "      <td> 5</td>\n",
        "      <td> 2</td>\n",
        "    </tr>\n",
        "    <tr>\n",
        "      <th>6</th>\n",
        "      <td> two</td>\n",
        "      <td> 3</td>\n",
        "      <td> 6</td>\n",
        "      <td> 1</td>\n",
        "    </tr>\n",
        "  </tbody>\n",
        "</table>\n",
        "</div>"
       ],
       "metadata": {},
       "output_type": "pyout",
       "prompt_number": 154,
       "text": [
        "     c  d  a  b\n",
        "0  one  0  0  7\n",
        "1  one  1  1  6\n",
        "2  one  2  2  5\n",
        "3  two  0  3  4\n",
        "4  two  1  4  3\n",
        "5  two  2  5  2\n",
        "6  two  3  6  1"
       ]
      }
     ],
     "prompt_number": 154
    },
    {
     "cell_type": "code",
     "collapsed": false,
     "input": [
      "### Other pandas Topics\n",
      "# Integer Indexing\n",
      "ser = Series(np.arange(3.0))\n",
      "ser"
     ],
     "language": "python",
     "metadata": {},
     "outputs": [
      {
       "metadata": {},
       "output_type": "pyout",
       "prompt_number": 155,
       "text": [
        "0    0\n",
        "1    1\n",
        "2    2\n",
        "dtype: float64"
       ]
      }
     ],
     "prompt_number": 155
    },
    {
     "cell_type": "code",
     "collapsed": false,
     "input": [
      "ser[-1]"
     ],
     "language": "python",
     "metadata": {},
     "outputs": [
      {
       "ename": "KeyError",
       "evalue": "-1L",
       "output_type": "pyerr",
       "traceback": [
        "\u001b[1;31m---------------------------------------------------------------------------\u001b[0m\n\u001b[1;31mKeyError\u001b[0m                                  Traceback (most recent call last)",
        "\u001b[1;32m<ipython-input-164-3cbe0b873a9e>\u001b[0m in \u001b[0;36m<module>\u001b[1;34m()\u001b[0m\n\u001b[1;32m----> 1\u001b[1;33m \u001b[0mser\u001b[0m\u001b[1;33m[\u001b[0m\u001b[1;33m-\u001b[0m\u001b[1;36m1\u001b[0m\u001b[1;33m]\u001b[0m\u001b[1;33m\u001b[0m\u001b[0m\n\u001b[0m",
        "\u001b[1;32mC:\\Python27\\lib\\site-packages\\pandas\\core\\series.pyc\u001b[0m in \u001b[0;36m__getitem__\u001b[1;34m(self, key)\u001b[0m\n\u001b[0;32m    507\u001b[0m     \u001b[1;32mdef\u001b[0m \u001b[0m__getitem__\u001b[0m\u001b[1;33m(\u001b[0m\u001b[0mself\u001b[0m\u001b[1;33m,\u001b[0m \u001b[0mkey\u001b[0m\u001b[1;33m)\u001b[0m\u001b[1;33m:\u001b[0m\u001b[1;33m\u001b[0m\u001b[0m\n\u001b[0;32m    508\u001b[0m         \u001b[1;32mtry\u001b[0m\u001b[1;33m:\u001b[0m\u001b[1;33m\u001b[0m\u001b[0m\n\u001b[1;32m--> 509\u001b[1;33m             \u001b[0mresult\u001b[0m \u001b[1;33m=\u001b[0m \u001b[0mself\u001b[0m\u001b[1;33m.\u001b[0m\u001b[0mindex\u001b[0m\u001b[1;33m.\u001b[0m\u001b[0mget_value\u001b[0m\u001b[1;33m(\u001b[0m\u001b[0mself\u001b[0m\u001b[1;33m,\u001b[0m \u001b[0mkey\u001b[0m\u001b[1;33m)\u001b[0m\u001b[1;33m\u001b[0m\u001b[0m\n\u001b[0m\u001b[0;32m    510\u001b[0m \u001b[1;33m\u001b[0m\u001b[0m\n\u001b[0;32m    511\u001b[0m             \u001b[1;32mif\u001b[0m \u001b[1;32mnot\u001b[0m \u001b[0mnp\u001b[0m\u001b[1;33m.\u001b[0m\u001b[0misscalar\u001b[0m\u001b[1;33m(\u001b[0m\u001b[0mresult\u001b[0m\u001b[1;33m)\u001b[0m\u001b[1;33m:\u001b[0m\u001b[1;33m\u001b[0m\u001b[0m\n",
        "\u001b[1;32mC:\\Python27\\lib\\site-packages\\pandas\\core\\index.pyc\u001b[0m in \u001b[0;36mget_value\u001b[1;34m(self, series, key)\u001b[0m\n\u001b[0;32m   1415\u001b[0m \u001b[1;33m\u001b[0m\u001b[0m\n\u001b[0;32m   1416\u001b[0m         \u001b[1;32mtry\u001b[0m\u001b[1;33m:\u001b[0m\u001b[1;33m\u001b[0m\u001b[0m\n\u001b[1;32m-> 1417\u001b[1;33m             \u001b[1;32mreturn\u001b[0m \u001b[0mself\u001b[0m\u001b[1;33m.\u001b[0m\u001b[0m_engine\u001b[0m\u001b[1;33m.\u001b[0m\u001b[0mget_value\u001b[0m\u001b[1;33m(\u001b[0m\u001b[0ms\u001b[0m\u001b[1;33m,\u001b[0m \u001b[0mk\u001b[0m\u001b[1;33m)\u001b[0m\u001b[1;33m\u001b[0m\u001b[0m\n\u001b[0m\u001b[0;32m   1418\u001b[0m         \u001b[1;32mexcept\u001b[0m \u001b[0mKeyError\u001b[0m \u001b[1;32mas\u001b[0m \u001b[0me1\u001b[0m\u001b[1;33m:\u001b[0m\u001b[1;33m\u001b[0m\u001b[0m\n\u001b[0;32m   1419\u001b[0m             \u001b[1;32mif\u001b[0m \u001b[0mlen\u001b[0m\u001b[1;33m(\u001b[0m\u001b[0mself\u001b[0m\u001b[1;33m)\u001b[0m \u001b[1;33m>\u001b[0m \u001b[1;36m0\u001b[0m \u001b[1;32mand\u001b[0m \u001b[0mself\u001b[0m\u001b[1;33m.\u001b[0m\u001b[0minferred_type\u001b[0m \u001b[1;32min\u001b[0m \u001b[1;33m[\u001b[0m\u001b[1;34m'integer'\u001b[0m\u001b[1;33m,\u001b[0m\u001b[1;34m'boolean'\u001b[0m\u001b[1;33m]\u001b[0m\u001b[1;33m:\u001b[0m\u001b[1;33m\u001b[0m\u001b[0m\n",
        "\u001b[1;32mC:\\Python27\\lib\\site-packages\\pandas\\index.pyd\u001b[0m in \u001b[0;36mpandas.index.IndexEngine.get_value (pandas\\index.c:3096)\u001b[1;34m()\u001b[0m\n",
        "\u001b[1;32mC:\\Python27\\lib\\site-packages\\pandas\\index.pyd\u001b[0m in \u001b[0;36mpandas.index.IndexEngine.get_value (pandas\\index.c:2827)\u001b[1;34m()\u001b[0m\n",
        "\u001b[1;32mC:\\Python27\\lib\\site-packages\\pandas\\index.pyd\u001b[0m in \u001b[0;36mpandas.index.IndexEngine.get_loc (pandas\\index.c:3687)\u001b[1;34m()\u001b[0m\n",
        "\u001b[1;32mC:\\Python27\\lib\\site-packages\\pandas\\hashtable.pyd\u001b[0m in \u001b[0;36mpandas.hashtable.Int64HashTable.get_item (pandas\\hashtable.c:7216)\u001b[1;34m()\u001b[0m\n",
        "\u001b[1;32mC:\\Python27\\lib\\site-packages\\pandas\\hashtable.pyd\u001b[0m in \u001b[0;36mpandas.hashtable.Int64HashTable.get_item (pandas\\hashtable.c:7154)\u001b[1;34m()\u001b[0m\n",
        "\u001b[1;31mKeyError\u001b[0m: -1L"
       ]
      }
     ],
     "prompt_number": 164
    },
    {
     "cell_type": "code",
     "collapsed": false,
     "input": [
      "ser2 = Series(np.arange(3.0), index=['a', 'b', 'c'])\n",
      "ser2"
     ],
     "language": "python",
     "metadata": {},
     "outputs": [
      {
       "metadata": {},
       "output_type": "pyout",
       "prompt_number": 157,
       "text": [
        "a    0\n",
        "b    1\n",
        "c    2\n",
        "dtype: float64"
       ]
      }
     ],
     "prompt_number": 157
    },
    {
     "cell_type": "code",
     "collapsed": false,
     "input": [
      "ser2[-1]"
     ],
     "language": "python",
     "metadata": {},
     "outputs": [
      {
       "metadata": {},
       "output_type": "pyout",
       "prompt_number": 158,
       "text": [
        "2.0"
       ]
      }
     ],
     "prompt_number": 158
    },
    {
     "cell_type": "code",
     "collapsed": false,
     "input": [
      "ser.ix[:1]"
     ],
     "language": "python",
     "metadata": {},
     "outputs": [
      {
       "metadata": {},
       "output_type": "pyout",
       "prompt_number": 165,
       "text": [
        "0    0\n",
        "1    1\n",
        "dtype: float64"
       ]
      }
     ],
     "prompt_number": 165
    },
    {
     "cell_type": "code",
     "collapsed": false,
     "input": [
      "ser3 = Series(np.arange(3.0), index = [-5, 1, 3])\n",
      "ser3.iget_value(2)"
     ],
     "language": "python",
     "metadata": {},
     "outputs": [
      {
       "metadata": {},
       "output_type": "pyout",
       "prompt_number": 166,
       "text": [
        "2.0"
       ]
      }
     ],
     "prompt_number": 166
    },
    {
     "cell_type": "code",
     "collapsed": false,
     "input": [
      "frame = DataFrame(np.arange(6).reshape(3,2), index = [2,0,1])\n",
      "frame"
     ],
     "language": "python",
     "metadata": {},
     "outputs": [
      {
       "html": [
        "<div style=\"max-height:1000px;max-width:1500px;overflow:auto;\">\n",
        "<table border=\"1\" class=\"dataframe\">\n",
        "  <thead>\n",
        "    <tr style=\"text-align: right;\">\n",
        "      <th></th>\n",
        "      <th>0</th>\n",
        "      <th>1</th>\n",
        "    </tr>\n",
        "  </thead>\n",
        "  <tbody>\n",
        "    <tr>\n",
        "      <th>2</th>\n",
        "      <td> 0</td>\n",
        "      <td> 1</td>\n",
        "    </tr>\n",
        "    <tr>\n",
        "      <th>0</th>\n",
        "      <td> 2</td>\n",
        "      <td> 3</td>\n",
        "    </tr>\n",
        "    <tr>\n",
        "      <th>1</th>\n",
        "      <td> 4</td>\n",
        "      <td> 5</td>\n",
        "    </tr>\n",
        "  </tbody>\n",
        "</table>\n",
        "</div>"
       ],
       "metadata": {},
       "output_type": "pyout",
       "prompt_number": 167,
       "text": [
        "   0  1\n",
        "2  0  1\n",
        "0  2  3\n",
        "1  4  5"
       ]
      }
     ],
     "prompt_number": 167
    },
    {
     "cell_type": "code",
     "collapsed": false,
     "input": [
      "frame.irow(0)"
     ],
     "language": "python",
     "metadata": {},
     "outputs": [
      {
       "metadata": {},
       "output_type": "pyout",
       "prompt_number": 168,
       "text": [
        "0    0\n",
        "1    1\n",
        "Name: 2, dtype: int32"
       ]
      }
     ],
     "prompt_number": 168
    },
    {
     "cell_type": "code",
     "collapsed": false,
     "input": [
      "### Panel Data\n",
      "import pandas.io.data as web"
     ],
     "language": "python",
     "metadata": {},
     "outputs": [],
     "prompt_number": 169
    },
    {
     "cell_type": "code",
     "collapsed": false,
     "input": [
      "pdata = pd.Panel(dict((stk, web.get_data_yahoo(stk))\n",
      "                      for stk in ['AAPL', 'GOOG', 'MSFT', 'DELL']))\n",
      "print pdata"
     ],
     "language": "python",
     "metadata": {},
     "outputs": [
      {
       "output_type": "stream",
       "stream": "stdout",
       "text": [
        "<class 'pandas.core.panel.Panel'>\n",
        "Dimensions: 4 (items) x 1351 (major_axis) x 6 (minor_axis)\n",
        "Items axis: AAPL to MSFT\n",
        "Major_axis axis: 2010-01-04 00:00:00 to 2015-04-17 00:00:00\n",
        "Minor_axis axis: Open to Adj Close\n"
       ]
      }
     ],
     "prompt_number": 171
    },
    {
     "cell_type": "code",
     "collapsed": false,
     "input": [
      "pdata = pdata.swapaxes('items', 'minor')\n",
      "pdata"
     ],
     "language": "python",
     "metadata": {},
     "outputs": [
      {
       "metadata": {},
       "output_type": "pyout",
       "prompt_number": 172,
       "text": [
        "<class 'pandas.core.panel.Panel'>\n",
        "Dimensions: 6 (items) x 1351 (major_axis) x 4 (minor_axis)\n",
        "Items axis: Open to Adj Close\n",
        "Major_axis axis: 2010-01-04 00:00:00 to 2015-04-17 00:00:00\n",
        "Minor_axis axis: AAPL to MSFT"
       ]
      }
     ],
     "prompt_number": 172
    },
    {
     "cell_type": "code",
     "collapsed": false,
     "input": [
      "pdata['Adj Close']"
     ],
     "language": "python",
     "metadata": {},
     "outputs": [
      {
       "html": [
        "<div style=\"max-height:1000px;max-width:1500px;overflow:auto;\">\n",
        "<table border=\"1\" class=\"dataframe\">\n",
        "  <thead>\n",
        "    <tr style=\"text-align: right;\">\n",
        "      <th></th>\n",
        "      <th>AAPL</th>\n",
        "      <th>DELL</th>\n",
        "      <th>GOOG</th>\n",
        "      <th>MSFT</th>\n",
        "    </tr>\n",
        "    <tr>\n",
        "      <th>Date</th>\n",
        "      <th></th>\n",
        "      <th></th>\n",
        "      <th></th>\n",
        "      <th></th>\n",
        "    </tr>\n",
        "  </thead>\n",
        "  <tbody>\n",
        "    <tr>\n",
        "      <th>2010-01-04</th>\n",
        "      <td>  28.83805</td>\n",
        "      <td> 14.06528</td>\n",
        "      <td>       NaN</td>\n",
        "      <td> 26.94331</td>\n",
        "    </tr>\n",
        "    <tr>\n",
        "      <th>2010-01-05</th>\n",
        "      <td>  28.88790</td>\n",
        "      <td> 14.38450</td>\n",
        "      <td>       NaN</td>\n",
        "      <td> 26.95201</td>\n",
        "    </tr>\n",
        "    <tr>\n",
        "      <th>2010-01-06</th>\n",
        "      <td>  28.42840</td>\n",
        "      <td> 14.10397</td>\n",
        "      <td>       NaN</td>\n",
        "      <td> 26.78661</td>\n",
        "    </tr>\n",
        "    <tr>\n",
        "      <th>2010-01-07</th>\n",
        "      <td>  28.37585</td>\n",
        "      <td> 14.23940</td>\n",
        "      <td>       NaN</td>\n",
        "      <td> 26.50804</td>\n",
        "    </tr>\n",
        "    <tr>\n",
        "      <th>2010-01-08</th>\n",
        "      <td>  28.56450</td>\n",
        "      <td> 14.36516</td>\n",
        "      <td>       NaN</td>\n",
        "      <td> 26.69085</td>\n",
        "    </tr>\n",
        "    <tr>\n",
        "      <th>2010-01-11</th>\n",
        "      <td>  28.31251</td>\n",
        "      <td> 14.37483</td>\n",
        "      <td>       NaN</td>\n",
        "      <td> 26.35134</td>\n",
        "    </tr>\n",
        "    <tr>\n",
        "      <th>2010-01-12</th>\n",
        "      <td>  27.99047</td>\n",
        "      <td> 14.56830</td>\n",
        "      <td>       NaN</td>\n",
        "      <td> 26.17723</td>\n",
        "    </tr>\n",
        "    <tr>\n",
        "      <th>2010-01-13</th>\n",
        "      <td>  28.38528</td>\n",
        "      <td> 14.57797</td>\n",
        "      <td>       NaN</td>\n",
        "      <td> 26.42098</td>\n",
        "    </tr>\n",
        "    <tr>\n",
        "      <th>2010-01-14</th>\n",
        "      <td>  28.22088</td>\n",
        "      <td> 14.22005</td>\n",
        "      <td>       NaN</td>\n",
        "      <td> 26.95201</td>\n",
        "    </tr>\n",
        "    <tr>\n",
        "      <th>2010-01-15</th>\n",
        "      <td>  27.74926</td>\n",
        "      <td> 13.92985</td>\n",
        "      <td>       NaN</td>\n",
        "      <td> 26.86496</td>\n",
        "    </tr>\n",
        "    <tr>\n",
        "      <th>2010-01-19</th>\n",
        "      <td>  28.97684</td>\n",
        "      <td> 14.32646</td>\n",
        "      <td>       NaN</td>\n",
        "      <td> 27.07389</td>\n",
        "    </tr>\n",
        "    <tr>\n",
        "      <th>2010-01-20</th>\n",
        "      <td>  28.53081</td>\n",
        "      <td> 14.03626</td>\n",
        "      <td>       NaN</td>\n",
        "      <td> 26.62991</td>\n",
        "    </tr>\n",
        "    <tr>\n",
        "      <th>2010-01-21</th>\n",
        "      <td>  28.03763</td>\n",
        "      <td> 13.92017</td>\n",
        "      <td>       NaN</td>\n",
        "      <td> 26.12500</td>\n",
        "    </tr>\n",
        "    <tr>\n",
        "      <th>2010-01-22</th>\n",
        "      <td>  26.64700</td>\n",
        "      <td> 13.18982</td>\n",
        "      <td>       NaN</td>\n",
        "      <td> 25.21093</td>\n",
        "    </tr>\n",
        "    <tr>\n",
        "      <th>2010-01-25</th>\n",
        "      <td>  27.36387</td>\n",
        "      <td> 13.43650</td>\n",
        "      <td>       NaN</td>\n",
        "      <td> 25.52432</td>\n",
        "    </tr>\n",
        "    <tr>\n",
        "      <th>2010-01-26</th>\n",
        "      <td>  27.75061</td>\n",
        "      <td> 13.13662</td>\n",
        "      <td>       NaN</td>\n",
        "      <td> 25.68102</td>\n",
        "    </tr>\n",
        "    <tr>\n",
        "      <th>2010-01-27</th>\n",
        "      <td>  28.01202</td>\n",
        "      <td> 13.08825</td>\n",
        "      <td>       NaN</td>\n",
        "      <td> 25.82901</td>\n",
        "    </tr>\n",
        "    <tr>\n",
        "      <th>2010-01-28</th>\n",
        "      <td>  26.85451</td>\n",
        "      <td> 12.84641</td>\n",
        "      <td>       NaN</td>\n",
        "      <td> 25.38504</td>\n",
        "    </tr>\n",
        "    <tr>\n",
        "      <th>2010-01-29</th>\n",
        "      <td>  25.88026</td>\n",
        "      <td> 12.47882</td>\n",
        "      <td>       NaN</td>\n",
        "      <td> 24.53190</td>\n",
        "    </tr>\n",
        "    <tr>\n",
        "      <th>2010-02-01</th>\n",
        "      <td>  26.24005</td>\n",
        "      <td> 12.78837</td>\n",
        "      <td>       NaN</td>\n",
        "      <td> 24.73213</td>\n",
        "    </tr>\n",
        "    <tr>\n",
        "      <th>2010-02-02</th>\n",
        "      <td>  26.39232</td>\n",
        "      <td> 12.86576</td>\n",
        "      <td>       NaN</td>\n",
        "      <td> 24.77565</td>\n",
        "    </tr>\n",
        "    <tr>\n",
        "      <th>2010-02-03</th>\n",
        "      <td>  26.84643</td>\n",
        "      <td> 12.92380</td>\n",
        "      <td>       NaN</td>\n",
        "      <td> 24.92365</td>\n",
        "    </tr>\n",
        "    <tr>\n",
        "      <th>2010-02-04</th>\n",
        "      <td>  25.87891</td>\n",
        "      <td> 12.58523</td>\n",
        "      <td>       NaN</td>\n",
        "      <td> 24.23592</td>\n",
        "    </tr>\n",
        "    <tr>\n",
        "      <th>2010-02-05</th>\n",
        "      <td>  26.33842</td>\n",
        "      <td> 12.80772</td>\n",
        "      <td>       NaN</td>\n",
        "      <td> 24.39262</td>\n",
        "    </tr>\n",
        "    <tr>\n",
        "      <th>2010-02-08</th>\n",
        "      <td>  26.15785</td>\n",
        "      <td> 12.95282</td>\n",
        "      <td>       NaN</td>\n",
        "      <td> 24.13145</td>\n",
        "    </tr>\n",
        "    <tr>\n",
        "      <th>2010-02-09</th>\n",
        "      <td>  26.43678</td>\n",
        "      <td> 13.10760</td>\n",
        "      <td>       NaN</td>\n",
        "      <td> 24.38391</td>\n",
        "    </tr>\n",
        "    <tr>\n",
        "      <th>2010-02-10</th>\n",
        "      <td>  26.29261</td>\n",
        "      <td> 13.30107</td>\n",
        "      <td>       NaN</td>\n",
        "      <td> 24.36650</td>\n",
        "    </tr>\n",
        "    <tr>\n",
        "      <th>2010-02-11</th>\n",
        "      <td>  26.77097</td>\n",
        "      <td> 13.49454</td>\n",
        "      <td>       NaN</td>\n",
        "      <td> 24.47967</td>\n",
        "    </tr>\n",
        "    <tr>\n",
        "      <th>2010-02-12</th>\n",
        "      <td>  27.00139</td>\n",
        "      <td> 13.38813</td>\n",
        "      <td>       NaN</td>\n",
        "      <td> 24.31427</td>\n",
        "    </tr>\n",
        "    <tr>\n",
        "      <th>2010-02-16</th>\n",
        "      <td>  27.40834</td>\n",
        "      <td> 13.67834</td>\n",
        "      <td>       NaN</td>\n",
        "      <td> 24.79531</td>\n",
        "    </tr>\n",
        "    <tr>\n",
        "      <th>...</th>\n",
        "      <td>...</td>\n",
        "      <td>...</td>\n",
        "      <td>...</td>\n",
        "      <td>...</td>\n",
        "    </tr>\n",
        "    <tr>\n",
        "      <th>2015-03-06</th>\n",
        "      <td> 126.60000</td>\n",
        "      <td>      NaN</td>\n",
        "      <td> 567.68500</td>\n",
        "      <td> 42.36000</td>\n",
        "    </tr>\n",
        "    <tr>\n",
        "      <th>2015-03-09</th>\n",
        "      <td> 127.14000</td>\n",
        "      <td>      NaN</td>\n",
        "      <td> 568.84998</td>\n",
        "      <td> 42.85000</td>\n",
        "    </tr>\n",
        "    <tr>\n",
        "      <th>2015-03-10</th>\n",
        "      <td> 124.51000</td>\n",
        "      <td>      NaN</td>\n",
        "      <td> 555.01001</td>\n",
        "      <td> 42.03000</td>\n",
        "    </tr>\n",
        "    <tr>\n",
        "      <th>2015-03-11</th>\n",
        "      <td> 122.24000</td>\n",
        "      <td>      NaN</td>\n",
        "      <td> 551.17999</td>\n",
        "      <td> 41.98000</td>\n",
        "    </tr>\n",
        "    <tr>\n",
        "      <th>2015-03-12</th>\n",
        "      <td> 124.45000</td>\n",
        "      <td>      NaN</td>\n",
        "      <td> 555.51001</td>\n",
        "      <td> 41.02000</td>\n",
        "    </tr>\n",
        "    <tr>\n",
        "      <th>2015-03-13</th>\n",
        "      <td> 123.59000</td>\n",
        "      <td>      NaN</td>\n",
        "      <td> 547.32001</td>\n",
        "      <td> 41.38000</td>\n",
        "    </tr>\n",
        "    <tr>\n",
        "      <th>2015-03-16</th>\n",
        "      <td> 124.95000</td>\n",
        "      <td>      NaN</td>\n",
        "      <td> 554.51001</td>\n",
        "      <td> 41.56000</td>\n",
        "    </tr>\n",
        "    <tr>\n",
        "      <th>2015-03-17</th>\n",
        "      <td> 127.04000</td>\n",
        "      <td>      NaN</td>\n",
        "      <td> 550.84003</td>\n",
        "      <td> 41.70000</td>\n",
        "    </tr>\n",
        "    <tr>\n",
        "      <th>2015-03-18</th>\n",
        "      <td> 128.47000</td>\n",
        "      <td>      NaN</td>\n",
        "      <td> 559.50000</td>\n",
        "      <td> 42.50000</td>\n",
        "    </tr>\n",
        "    <tr>\n",
        "      <th>2015-03-19</th>\n",
        "      <td> 127.50000</td>\n",
        "      <td>      NaN</td>\n",
        "      <td> 557.98999</td>\n",
        "      <td> 42.29000</td>\n",
        "    </tr>\n",
        "    <tr>\n",
        "      <th>2015-03-20</th>\n",
        "      <td> 125.90000</td>\n",
        "      <td>      NaN</td>\n",
        "      <td> 560.35999</td>\n",
        "      <td> 42.88000</td>\n",
        "    </tr>\n",
        "    <tr>\n",
        "      <th>2015-03-23</th>\n",
        "      <td> 127.21000</td>\n",
        "      <td>      NaN</td>\n",
        "      <td> 558.81000</td>\n",
        "      <td> 42.86000</td>\n",
        "    </tr>\n",
        "    <tr>\n",
        "      <th>2015-03-24</th>\n",
        "      <td> 126.69000</td>\n",
        "      <td>      NaN</td>\n",
        "      <td> 570.19000</td>\n",
        "      <td> 42.90000</td>\n",
        "    </tr>\n",
        "    <tr>\n",
        "      <th>2015-03-25</th>\n",
        "      <td> 123.38000</td>\n",
        "      <td>      NaN</td>\n",
        "      <td> 558.78497</td>\n",
        "      <td> 41.46000</td>\n",
        "    </tr>\n",
        "    <tr>\n",
        "      <th>2015-03-26</th>\n",
        "      <td> 124.24000</td>\n",
        "      <td>      NaN</td>\n",
        "      <td> 555.16998</td>\n",
        "      <td> 41.21000</td>\n",
        "    </tr>\n",
        "    <tr>\n",
        "      <th>2015-03-27</th>\n",
        "      <td> 123.25000</td>\n",
        "      <td>      NaN</td>\n",
        "      <td> 548.34003</td>\n",
        "      <td> 40.97000</td>\n",
        "    </tr>\n",
        "    <tr>\n",
        "      <th>2015-03-30</th>\n",
        "      <td> 126.37000</td>\n",
        "      <td>      NaN</td>\n",
        "      <td> 552.03003</td>\n",
        "      <td> 40.96000</td>\n",
        "    </tr>\n",
        "    <tr>\n",
        "      <th>2015-03-31</th>\n",
        "      <td> 124.43000</td>\n",
        "      <td>      NaN</td>\n",
        "      <td> 548.00000</td>\n",
        "      <td> 40.66000</td>\n",
        "    </tr>\n",
        "    <tr>\n",
        "      <th>2015-04-01</th>\n",
        "      <td> 124.25000</td>\n",
        "      <td>      NaN</td>\n",
        "      <td> 542.56000</td>\n",
        "      <td> 40.72000</td>\n",
        "    </tr>\n",
        "    <tr>\n",
        "      <th>2015-04-02</th>\n",
        "      <td> 125.32000</td>\n",
        "      <td>      NaN</td>\n",
        "      <td> 535.53003</td>\n",
        "      <td> 40.29000</td>\n",
        "    </tr>\n",
        "    <tr>\n",
        "      <th>2015-04-06</th>\n",
        "      <td> 127.35000</td>\n",
        "      <td>      NaN</td>\n",
        "      <td> 536.76501</td>\n",
        "      <td> 41.55000</td>\n",
        "    </tr>\n",
        "    <tr>\n",
        "      <th>2015-04-07</th>\n",
        "      <td> 126.01000</td>\n",
        "      <td>      NaN</td>\n",
        "      <td> 537.02002</td>\n",
        "      <td> 41.53000</td>\n",
        "    </tr>\n",
        "    <tr>\n",
        "      <th>2015-04-08</th>\n",
        "      <td> 125.60000</td>\n",
        "      <td>      NaN</td>\n",
        "      <td> 541.60999</td>\n",
        "      <td> 41.42000</td>\n",
        "    </tr>\n",
        "    <tr>\n",
        "      <th>2015-04-09</th>\n",
        "      <td> 126.56000</td>\n",
        "      <td>      NaN</td>\n",
        "      <td> 540.78003</td>\n",
        "      <td> 41.48000</td>\n",
        "    </tr>\n",
        "    <tr>\n",
        "      <th>2015-04-10</th>\n",
        "      <td> 127.10000</td>\n",
        "      <td>      NaN</td>\n",
        "      <td> 540.01001</td>\n",
        "      <td> 41.72000</td>\n",
        "    </tr>\n",
        "    <tr>\n",
        "      <th>2015-04-13</th>\n",
        "      <td> 126.85000</td>\n",
        "      <td>      NaN</td>\n",
        "      <td> 539.16998</td>\n",
        "      <td> 41.76000</td>\n",
        "    </tr>\n",
        "    <tr>\n",
        "      <th>2015-04-14</th>\n",
        "      <td> 126.30000</td>\n",
        "      <td>      NaN</td>\n",
        "      <td> 530.39001</td>\n",
        "      <td> 41.65000</td>\n",
        "    </tr>\n",
        "    <tr>\n",
        "      <th>2015-04-15</th>\n",
        "      <td> 126.78000</td>\n",
        "      <td>      NaN</td>\n",
        "      <td> 532.53003</td>\n",
        "      <td> 42.26000</td>\n",
        "    </tr>\n",
        "    <tr>\n",
        "      <th>2015-04-16</th>\n",
        "      <td> 126.17000</td>\n",
        "      <td>      NaN</td>\n",
        "      <td> 533.79999</td>\n",
        "      <td> 42.16000</td>\n",
        "    </tr>\n",
        "    <tr>\n",
        "      <th>2015-04-17</th>\n",
        "      <td> 124.75000</td>\n",
        "      <td>      NaN</td>\n",
        "      <td> 524.04999</td>\n",
        "      <td> 41.62000</td>\n",
        "    </tr>\n",
        "  </tbody>\n",
        "</table>\n",
        "<p>1351 rows \u00d7 4 columns</p>\n",
        "</div>"
       ],
       "metadata": {},
       "output_type": "pyout",
       "prompt_number": 173,
       "text": [
        "                 AAPL      DELL       GOOG      MSFT\n",
        "Date                                                \n",
        "2010-01-04   28.83805  14.06528        NaN  26.94331\n",
        "2010-01-05   28.88790  14.38450        NaN  26.95201\n",
        "2010-01-06   28.42840  14.10397        NaN  26.78661\n",
        "2010-01-07   28.37585  14.23940        NaN  26.50804\n",
        "2010-01-08   28.56450  14.36516        NaN  26.69085\n",
        "2010-01-11   28.31251  14.37483        NaN  26.35134\n",
        "2010-01-12   27.99047  14.56830        NaN  26.17723\n",
        "2010-01-13   28.38528  14.57797        NaN  26.42098\n",
        "2010-01-14   28.22088  14.22005        NaN  26.95201\n",
        "2010-01-15   27.74926  13.92985        NaN  26.86496\n",
        "2010-01-19   28.97684  14.32646        NaN  27.07389\n",
        "2010-01-20   28.53081  14.03626        NaN  26.62991\n",
        "2010-01-21   28.03763  13.92017        NaN  26.12500\n",
        "2010-01-22   26.64700  13.18982        NaN  25.21093\n",
        "2010-01-25   27.36387  13.43650        NaN  25.52432\n",
        "2010-01-26   27.75061  13.13662        NaN  25.68102\n",
        "2010-01-27   28.01202  13.08825        NaN  25.82901\n",
        "2010-01-28   26.85451  12.84641        NaN  25.38504\n",
        "2010-01-29   25.88026  12.47882        NaN  24.53190\n",
        "2010-02-01   26.24005  12.78837        NaN  24.73213\n",
        "2010-02-02   26.39232  12.86576        NaN  24.77565\n",
        "2010-02-03   26.84643  12.92380        NaN  24.92365\n",
        "2010-02-04   25.87891  12.58523        NaN  24.23592\n",
        "2010-02-05   26.33842  12.80772        NaN  24.39262\n",
        "2010-02-08   26.15785  12.95282        NaN  24.13145\n",
        "2010-02-09   26.43678  13.10760        NaN  24.38391\n",
        "2010-02-10   26.29261  13.30107        NaN  24.36650\n",
        "2010-02-11   26.77097  13.49454        NaN  24.47967\n",
        "2010-02-12   27.00139  13.38813        NaN  24.31427\n",
        "2010-02-16   27.40834  13.67834        NaN  24.79531\n",
        "...               ...       ...        ...       ...\n",
        "2015-03-06  126.60000       NaN  567.68500  42.36000\n",
        "2015-03-09  127.14000       NaN  568.84998  42.85000\n",
        "2015-03-10  124.51000       NaN  555.01001  42.03000\n",
        "2015-03-11  122.24000       NaN  551.17999  41.98000\n",
        "2015-03-12  124.45000       NaN  555.51001  41.02000\n",
        "2015-03-13  123.59000       NaN  547.32001  41.38000\n",
        "2015-03-16  124.95000       NaN  554.51001  41.56000\n",
        "2015-03-17  127.04000       NaN  550.84003  41.70000\n",
        "2015-03-18  128.47000       NaN  559.50000  42.50000\n",
        "2015-03-19  127.50000       NaN  557.98999  42.29000\n",
        "2015-03-20  125.90000       NaN  560.35999  42.88000\n",
        "2015-03-23  127.21000       NaN  558.81000  42.86000\n",
        "2015-03-24  126.69000       NaN  570.19000  42.90000\n",
        "2015-03-25  123.38000       NaN  558.78497  41.46000\n",
        "2015-03-26  124.24000       NaN  555.16998  41.21000\n",
        "2015-03-27  123.25000       NaN  548.34003  40.97000\n",
        "2015-03-30  126.37000       NaN  552.03003  40.96000\n",
        "2015-03-31  124.43000       NaN  548.00000  40.66000\n",
        "2015-04-01  124.25000       NaN  542.56000  40.72000\n",
        "2015-04-02  125.32000       NaN  535.53003  40.29000\n",
        "2015-04-06  127.35000       NaN  536.76501  41.55000\n",
        "2015-04-07  126.01000       NaN  537.02002  41.53000\n",
        "2015-04-08  125.60000       NaN  541.60999  41.42000\n",
        "2015-04-09  126.56000       NaN  540.78003  41.48000\n",
        "2015-04-10  127.10000       NaN  540.01001  41.72000\n",
        "2015-04-13  126.85000       NaN  539.16998  41.76000\n",
        "2015-04-14  126.30000       NaN  530.39001  41.65000\n",
        "2015-04-15  126.78000       NaN  532.53003  42.26000\n",
        "2015-04-16  126.17000       NaN  533.79999  42.16000\n",
        "2015-04-17  124.75000       NaN  524.04999  41.62000\n",
        "\n",
        "[1351 rows x 4 columns]"
       ]
      }
     ],
     "prompt_number": 173
    },
    {
     "cell_type": "code",
     "collapsed": false,
     "input": [
      "pdata.ix[:, '6/1/2012', :]"
     ],
     "language": "python",
     "metadata": {},
     "outputs": [
      {
       "html": [
        "<div style=\"max-height:1000px;max-width:1500px;overflow:auto;\">\n",
        "<table border=\"1\" class=\"dataframe\">\n",
        "  <thead>\n",
        "    <tr style=\"text-align: right;\">\n",
        "      <th></th>\n",
        "      <th>Open</th>\n",
        "      <th>High</th>\n",
        "      <th>Low</th>\n",
        "      <th>Close</th>\n",
        "      <th>Volume</th>\n",
        "      <th>Adj Close</th>\n",
        "    </tr>\n",
        "  </thead>\n",
        "  <tbody>\n",
        "    <tr>\n",
        "      <th>AAPL</th>\n",
        "      <td> 569.15997</td>\n",
        "      <td> 572.64996</td>\n",
        "      <td> 560.52002</td>\n",
        "      <td> 560.99005</td>\n",
        "      <td> 130246900</td>\n",
        "      <td> 75.59393</td>\n",
        "    </tr>\n",
        "    <tr>\n",
        "      <th>DELL</th>\n",
        "      <td>  12.15000</td>\n",
        "      <td>  12.30000</td>\n",
        "      <td>  12.04500</td>\n",
        "      <td>  12.07000</td>\n",
        "      <td>  19397600</td>\n",
        "      <td> 11.67592</td>\n",
        "    </tr>\n",
        "    <tr>\n",
        "      <th>GOOG</th>\n",
        "      <td>       NaN</td>\n",
        "      <td>       NaN</td>\n",
        "      <td>       NaN</td>\n",
        "      <td>       NaN</td>\n",
        "      <td>       NaN</td>\n",
        "      <td>      NaN</td>\n",
        "    </tr>\n",
        "    <tr>\n",
        "      <th>MSFT</th>\n",
        "      <td>  28.76000</td>\n",
        "      <td>  28.96000</td>\n",
        "      <td>  28.44000</td>\n",
        "      <td>  28.45000</td>\n",
        "      <td>  56634300</td>\n",
        "      <td> 26.29676</td>\n",
        "    </tr>\n",
        "  </tbody>\n",
        "</table>\n",
        "</div>"
       ],
       "metadata": {},
       "output_type": "pyout",
       "prompt_number": 177,
       "text": [
        "           Open       High        Low      Close     Volume  Adj Close\n",
        "AAPL  569.15997  572.64996  560.52002  560.99005  130246900   75.59393\n",
        "DELL   12.15000   12.30000   12.04500   12.07000   19397600   11.67592\n",
        "GOOG        NaN        NaN        NaN        NaN        NaN        NaN\n",
        "MSFT   28.76000   28.96000   28.44000   28.45000   56634300   26.29676"
       ]
      }
     ],
     "prompt_number": 177
    },
    {
     "cell_type": "code",
     "collapsed": false,
     "input": [
      "pdata.ix['Adj Close', '5/22/2012':, :]"
     ],
     "language": "python",
     "metadata": {},
     "outputs": [
      {
       "html": [
        "<div style=\"max-height:1000px;max-width:1500px;overflow:auto;\">\n",
        "<table border=\"1\" class=\"dataframe\">\n",
        "  <thead>\n",
        "    <tr style=\"text-align: right;\">\n",
        "      <th></th>\n",
        "      <th>AAPL</th>\n",
        "      <th>DELL</th>\n",
        "      <th>GOOG</th>\n",
        "      <th>MSFT</th>\n",
        "    </tr>\n",
        "    <tr>\n",
        "      <th>Date</th>\n",
        "      <th></th>\n",
        "      <th></th>\n",
        "      <th></th>\n",
        "      <th></th>\n",
        "    </tr>\n",
        "  </thead>\n",
        "  <tbody>\n",
        "    <tr>\n",
        "      <th>2012-05-22</th>\n",
        "      <td>  75.05222</td>\n",
        "      <td> 14.58765</td>\n",
        "      <td>       NaN</td>\n",
        "      <td> 27.50761</td>\n",
        "    </tr>\n",
        "    <tr>\n",
        "      <th>2012-05-23</th>\n",
        "      <td>  76.88348</td>\n",
        "      <td> 12.08221</td>\n",
        "      <td>       NaN</td>\n",
        "      <td> 26.90681</td>\n",
        "    </tr>\n",
        "    <tr>\n",
        "      <th>2012-05-24</th>\n",
        "      <td>  76.17740</td>\n",
        "      <td> 12.04351</td>\n",
        "      <td>       NaN</td>\n",
        "      <td> 26.86983</td>\n",
        "    </tr>\n",
        "    <tr>\n",
        "      <th>2012-05-25</th>\n",
        "      <td>  75.76910</td>\n",
        "      <td> 12.05319</td>\n",
        "      <td>       NaN</td>\n",
        "      <td> 26.86059</td>\n",
        "    </tr>\n",
        "    <tr>\n",
        "      <th>2012-05-28</th>\n",
        "      <td>       NaN</td>\n",
        "      <td> 12.05319</td>\n",
        "      <td>       NaN</td>\n",
        "      <td>      NaN</td>\n",
        "    </tr>\n",
        "    <tr>\n",
        "      <th>2012-05-29</th>\n",
        "      <td>  77.11391</td>\n",
        "      <td> 12.24666</td>\n",
        "      <td>       NaN</td>\n",
        "      <td> 27.32275</td>\n",
        "    </tr>\n",
        "    <tr>\n",
        "      <th>2012-05-30</th>\n",
        "      <td>  78.04369</td>\n",
        "      <td> 12.14992</td>\n",
        "      <td>       NaN</td>\n",
        "      <td> 27.11940</td>\n",
        "    </tr>\n",
        "    <tr>\n",
        "      <th>2012-05-31</th>\n",
        "      <td>  77.84966</td>\n",
        "      <td> 11.92743</td>\n",
        "      <td>       NaN</td>\n",
        "      <td> 26.98075</td>\n",
        "    </tr>\n",
        "    <tr>\n",
        "      <th>2012-06-01</th>\n",
        "      <td>  75.59393</td>\n",
        "      <td> 11.67592</td>\n",
        "      <td>       NaN</td>\n",
        "      <td> 26.29676</td>\n",
        "    </tr>\n",
        "    <tr>\n",
        "      <th>2012-06-04</th>\n",
        "      <td>  76.03860</td>\n",
        "      <td> 11.60821</td>\n",
        "      <td>       NaN</td>\n",
        "      <td> 26.38919</td>\n",
        "    </tr>\n",
        "    <tr>\n",
        "      <th>2012-06-05</th>\n",
        "      <td>  75.84187</td>\n",
        "      <td> 11.76298</td>\n",
        "      <td>       NaN</td>\n",
        "      <td> 26.35222</td>\n",
        "    </tr>\n",
        "    <tr>\n",
        "      <th>2012-06-06</th>\n",
        "      <td>  77.00476</td>\n",
        "      <td> 11.81619</td>\n",
        "      <td>       NaN</td>\n",
        "      <td> 27.12864</td>\n",
        "    </tr>\n",
        "    <tr>\n",
        "      <th>2012-06-07</th>\n",
        "      <td>  77.03981</td>\n",
        "      <td> 11.73396</td>\n",
        "      <td>       NaN</td>\n",
        "      <td> 27.01772</td>\n",
        "    </tr>\n",
        "    <tr>\n",
        "      <th>2012-06-08</th>\n",
        "      <td>  78.19866</td>\n",
        "      <td> 11.72429</td>\n",
        "      <td>       NaN</td>\n",
        "      <td> 27.40594</td>\n",
        "    </tr>\n",
        "    <tr>\n",
        "      <th>2012-06-11</th>\n",
        "      <td>  76.96568</td>\n",
        "      <td> 11.47278</td>\n",
        "      <td>       NaN</td>\n",
        "      <td> 26.71270</td>\n",
        "    </tr>\n",
        "    <tr>\n",
        "      <th>2012-06-12</th>\n",
        "      <td>  77.63809</td>\n",
        "      <td> 11.57919</td>\n",
        "      <td>       NaN</td>\n",
        "      <td> 27.07318</td>\n",
        "    </tr>\n",
        "    <tr>\n",
        "      <th>2012-06-13</th>\n",
        "      <td>  77.09908</td>\n",
        "      <td> 11.87423</td>\n",
        "      <td>       NaN</td>\n",
        "      <td> 26.92529</td>\n",
        "    </tr>\n",
        "    <tr>\n",
        "      <th>2012-06-14</th>\n",
        "      <td>  77.01420</td>\n",
        "      <td> 11.93711</td>\n",
        "      <td>       NaN</td>\n",
        "      <td> 27.11940</td>\n",
        "    </tr>\n",
        "    <tr>\n",
        "      <th>2012-06-15</th>\n",
        "      <td>  77.36455</td>\n",
        "      <td> 11.89841</td>\n",
        "      <td>       NaN</td>\n",
        "      <td> 27.74793</td>\n",
        "    </tr>\n",
        "    <tr>\n",
        "      <th>2012-06-18</th>\n",
        "      <td>  78.93440</td>\n",
        "      <td> 12.01449</td>\n",
        "      <td>       NaN</td>\n",
        "      <td> 27.58156</td>\n",
        "    </tr>\n",
        "    <tr>\n",
        "      <th>2012-06-19</th>\n",
        "      <td>  79.15404</td>\n",
        "      <td> 11.78233</td>\n",
        "      <td>       NaN</td>\n",
        "      <td> 28.37647</td>\n",
        "    </tr>\n",
        "    <tr>\n",
        "      <th>2012-06-20</th>\n",
        "      <td>  78.92901</td>\n",
        "      <td> 11.89841</td>\n",
        "      <td>       NaN</td>\n",
        "      <td> 28.58906</td>\n",
        "    </tr>\n",
        "    <tr>\n",
        "      <th>2012-06-21</th>\n",
        "      <td>  77.84158</td>\n",
        "      <td> 11.60821</td>\n",
        "      <td>       NaN</td>\n",
        "      <td> 27.85885</td>\n",
        "    </tr>\n",
        "    <tr>\n",
        "      <th>2012-06-22</th>\n",
        "      <td>  78.43851</td>\n",
        "      <td> 11.80168</td>\n",
        "      <td>       NaN</td>\n",
        "      <td> 28.37647</td>\n",
        "    </tr>\n",
        "    <tr>\n",
        "      <th>2012-06-25</th>\n",
        "      <td>  76.91178</td>\n",
        "      <td> 11.55500</td>\n",
        "      <td>       NaN</td>\n",
        "      <td> 27.60929</td>\n",
        "    </tr>\n",
        "    <tr>\n",
        "      <th>2012-06-26</th>\n",
        "      <td>  77.08157</td>\n",
        "      <td> 11.53566</td>\n",
        "      <td>       NaN</td>\n",
        "      <td> 27.74793</td>\n",
        "    </tr>\n",
        "    <tr>\n",
        "      <th>2012-06-27</th>\n",
        "      <td>  77.41441</td>\n",
        "      <td> 11.92743</td>\n",
        "      <td>       NaN</td>\n",
        "      <td> 27.88658</td>\n",
        "    </tr>\n",
        "    <tr>\n",
        "      <th>2012-06-28</th>\n",
        "      <td>  76.68002</td>\n",
        "      <td> 11.55984</td>\n",
        "      <td>       NaN</td>\n",
        "      <td> 27.64626</td>\n",
        "    </tr>\n",
        "    <tr>\n",
        "      <th>2012-06-29</th>\n",
        "      <td>  78.69454</td>\n",
        "      <td> 12.10155</td>\n",
        "      <td>       NaN</td>\n",
        "      <td> 28.27479</td>\n",
        "    </tr>\n",
        "    <tr>\n",
        "      <th>2012-07-02</th>\n",
        "      <td>  79.84262</td>\n",
        "      <td> 11.98064</td>\n",
        "      <td>       NaN</td>\n",
        "      <td> 28.24706</td>\n",
        "    </tr>\n",
        "    <tr>\n",
        "      <th>...</th>\n",
        "      <td>...</td>\n",
        "      <td>...</td>\n",
        "      <td>...</td>\n",
        "      <td>...</td>\n",
        "    </tr>\n",
        "    <tr>\n",
        "      <th>2015-03-06</th>\n",
        "      <td> 126.60000</td>\n",
        "      <td>      NaN</td>\n",
        "      <td> 567.68500</td>\n",
        "      <td> 42.36000</td>\n",
        "    </tr>\n",
        "    <tr>\n",
        "      <th>2015-03-09</th>\n",
        "      <td> 127.14000</td>\n",
        "      <td>      NaN</td>\n",
        "      <td> 568.84998</td>\n",
        "      <td> 42.85000</td>\n",
        "    </tr>\n",
        "    <tr>\n",
        "      <th>2015-03-10</th>\n",
        "      <td> 124.51000</td>\n",
        "      <td>      NaN</td>\n",
        "      <td> 555.01001</td>\n",
        "      <td> 42.03000</td>\n",
        "    </tr>\n",
        "    <tr>\n",
        "      <th>2015-03-11</th>\n",
        "      <td> 122.24000</td>\n",
        "      <td>      NaN</td>\n",
        "      <td> 551.17999</td>\n",
        "      <td> 41.98000</td>\n",
        "    </tr>\n",
        "    <tr>\n",
        "      <th>2015-03-12</th>\n",
        "      <td> 124.45000</td>\n",
        "      <td>      NaN</td>\n",
        "      <td> 555.51001</td>\n",
        "      <td> 41.02000</td>\n",
        "    </tr>\n",
        "    <tr>\n",
        "      <th>2015-03-13</th>\n",
        "      <td> 123.59000</td>\n",
        "      <td>      NaN</td>\n",
        "      <td> 547.32001</td>\n",
        "      <td> 41.38000</td>\n",
        "    </tr>\n",
        "    <tr>\n",
        "      <th>2015-03-16</th>\n",
        "      <td> 124.95000</td>\n",
        "      <td>      NaN</td>\n",
        "      <td> 554.51001</td>\n",
        "      <td> 41.56000</td>\n",
        "    </tr>\n",
        "    <tr>\n",
        "      <th>2015-03-17</th>\n",
        "      <td> 127.04000</td>\n",
        "      <td>      NaN</td>\n",
        "      <td> 550.84003</td>\n",
        "      <td> 41.70000</td>\n",
        "    </tr>\n",
        "    <tr>\n",
        "      <th>2015-03-18</th>\n",
        "      <td> 128.47000</td>\n",
        "      <td>      NaN</td>\n",
        "      <td> 559.50000</td>\n",
        "      <td> 42.50000</td>\n",
        "    </tr>\n",
        "    <tr>\n",
        "      <th>2015-03-19</th>\n",
        "      <td> 127.50000</td>\n",
        "      <td>      NaN</td>\n",
        "      <td> 557.98999</td>\n",
        "      <td> 42.29000</td>\n",
        "    </tr>\n",
        "    <tr>\n",
        "      <th>2015-03-20</th>\n",
        "      <td> 125.90000</td>\n",
        "      <td>      NaN</td>\n",
        "      <td> 560.35999</td>\n",
        "      <td> 42.88000</td>\n",
        "    </tr>\n",
        "    <tr>\n",
        "      <th>2015-03-23</th>\n",
        "      <td> 127.21000</td>\n",
        "      <td>      NaN</td>\n",
        "      <td> 558.81000</td>\n",
        "      <td> 42.86000</td>\n",
        "    </tr>\n",
        "    <tr>\n",
        "      <th>2015-03-24</th>\n",
        "      <td> 126.69000</td>\n",
        "      <td>      NaN</td>\n",
        "      <td> 570.19000</td>\n",
        "      <td> 42.90000</td>\n",
        "    </tr>\n",
        "    <tr>\n",
        "      <th>2015-03-25</th>\n",
        "      <td> 123.38000</td>\n",
        "      <td>      NaN</td>\n",
        "      <td> 558.78497</td>\n",
        "      <td> 41.46000</td>\n",
        "    </tr>\n",
        "    <tr>\n",
        "      <th>2015-03-26</th>\n",
        "      <td> 124.24000</td>\n",
        "      <td>      NaN</td>\n",
        "      <td> 555.16998</td>\n",
        "      <td> 41.21000</td>\n",
        "    </tr>\n",
        "    <tr>\n",
        "      <th>2015-03-27</th>\n",
        "      <td> 123.25000</td>\n",
        "      <td>      NaN</td>\n",
        "      <td> 548.34003</td>\n",
        "      <td> 40.97000</td>\n",
        "    </tr>\n",
        "    <tr>\n",
        "      <th>2015-03-30</th>\n",
        "      <td> 126.37000</td>\n",
        "      <td>      NaN</td>\n",
        "      <td> 552.03003</td>\n",
        "      <td> 40.96000</td>\n",
        "    </tr>\n",
        "    <tr>\n",
        "      <th>2015-03-31</th>\n",
        "      <td> 124.43000</td>\n",
        "      <td>      NaN</td>\n",
        "      <td> 548.00000</td>\n",
        "      <td> 40.66000</td>\n",
        "    </tr>\n",
        "    <tr>\n",
        "      <th>2015-04-01</th>\n",
        "      <td> 124.25000</td>\n",
        "      <td>      NaN</td>\n",
        "      <td> 542.56000</td>\n",
        "      <td> 40.72000</td>\n",
        "    </tr>\n",
        "    <tr>\n",
        "      <th>2015-04-02</th>\n",
        "      <td> 125.32000</td>\n",
        "      <td>      NaN</td>\n",
        "      <td> 535.53003</td>\n",
        "      <td> 40.29000</td>\n",
        "    </tr>\n",
        "    <tr>\n",
        "      <th>2015-04-06</th>\n",
        "      <td> 127.35000</td>\n",
        "      <td>      NaN</td>\n",
        "      <td> 536.76501</td>\n",
        "      <td> 41.55000</td>\n",
        "    </tr>\n",
        "    <tr>\n",
        "      <th>2015-04-07</th>\n",
        "      <td> 126.01000</td>\n",
        "      <td>      NaN</td>\n",
        "      <td> 537.02002</td>\n",
        "      <td> 41.53000</td>\n",
        "    </tr>\n",
        "    <tr>\n",
        "      <th>2015-04-08</th>\n",
        "      <td> 125.60000</td>\n",
        "      <td>      NaN</td>\n",
        "      <td> 541.60999</td>\n",
        "      <td> 41.42000</td>\n",
        "    </tr>\n",
        "    <tr>\n",
        "      <th>2015-04-09</th>\n",
        "      <td> 126.56000</td>\n",
        "      <td>      NaN</td>\n",
        "      <td> 540.78003</td>\n",
        "      <td> 41.48000</td>\n",
        "    </tr>\n",
        "    <tr>\n",
        "      <th>2015-04-10</th>\n",
        "      <td> 127.10000</td>\n",
        "      <td>      NaN</td>\n",
        "      <td> 540.01001</td>\n",
        "      <td> 41.72000</td>\n",
        "    </tr>\n",
        "    <tr>\n",
        "      <th>2015-04-13</th>\n",
        "      <td> 126.85000</td>\n",
        "      <td>      NaN</td>\n",
        "      <td> 539.16998</td>\n",
        "      <td> 41.76000</td>\n",
        "    </tr>\n",
        "    <tr>\n",
        "      <th>2015-04-14</th>\n",
        "      <td> 126.30000</td>\n",
        "      <td>      NaN</td>\n",
        "      <td> 530.39001</td>\n",
        "      <td> 41.65000</td>\n",
        "    </tr>\n",
        "    <tr>\n",
        "      <th>2015-04-15</th>\n",
        "      <td> 126.78000</td>\n",
        "      <td>      NaN</td>\n",
        "      <td> 532.53003</td>\n",
        "      <td> 42.26000</td>\n",
        "    </tr>\n",
        "    <tr>\n",
        "      <th>2015-04-16</th>\n",
        "      <td> 126.17000</td>\n",
        "      <td>      NaN</td>\n",
        "      <td> 533.79999</td>\n",
        "      <td> 42.16000</td>\n",
        "    </tr>\n",
        "    <tr>\n",
        "      <th>2015-04-17</th>\n",
        "      <td> 124.75000</td>\n",
        "      <td>      NaN</td>\n",
        "      <td> 524.04999</td>\n",
        "      <td> 41.62000</td>\n",
        "    </tr>\n",
        "  </tbody>\n",
        "</table>\n",
        "<p>744 rows \u00d7 4 columns</p>\n",
        "</div>"
       ],
       "metadata": {},
       "output_type": "pyout",
       "prompt_number": 178,
       "text": [
        "                 AAPL      DELL       GOOG      MSFT\n",
        "Date                                                \n",
        "2012-05-22   75.05222  14.58765        NaN  27.50761\n",
        "2012-05-23   76.88348  12.08221        NaN  26.90681\n",
        "2012-05-24   76.17740  12.04351        NaN  26.86983\n",
        "2012-05-25   75.76910  12.05319        NaN  26.86059\n",
        "2012-05-28        NaN  12.05319        NaN       NaN\n",
        "2012-05-29   77.11391  12.24666        NaN  27.32275\n",
        "2012-05-30   78.04369  12.14992        NaN  27.11940\n",
        "2012-05-31   77.84966  11.92743        NaN  26.98075\n",
        "2012-06-01   75.59393  11.67592        NaN  26.29676\n",
        "2012-06-04   76.03860  11.60821        NaN  26.38919\n",
        "2012-06-05   75.84187  11.76298        NaN  26.35222\n",
        "2012-06-06   77.00476  11.81619        NaN  27.12864\n",
        "2012-06-07   77.03981  11.73396        NaN  27.01772\n",
        "2012-06-08   78.19866  11.72429        NaN  27.40594\n",
        "2012-06-11   76.96568  11.47278        NaN  26.71270\n",
        "2012-06-12   77.63809  11.57919        NaN  27.07318\n",
        "2012-06-13   77.09908  11.87423        NaN  26.92529\n",
        "2012-06-14   77.01420  11.93711        NaN  27.11940\n",
        "2012-06-15   77.36455  11.89841        NaN  27.74793\n",
        "2012-06-18   78.93440  12.01449        NaN  27.58156\n",
        "2012-06-19   79.15404  11.78233        NaN  28.37647\n",
        "2012-06-20   78.92901  11.89841        NaN  28.58906\n",
        "2012-06-21   77.84158  11.60821        NaN  27.85885\n",
        "2012-06-22   78.43851  11.80168        NaN  28.37647\n",
        "2012-06-25   76.91178  11.55500        NaN  27.60929\n",
        "2012-06-26   77.08157  11.53566        NaN  27.74793\n",
        "2012-06-27   77.41441  11.92743        NaN  27.88658\n",
        "2012-06-28   76.68002  11.55984        NaN  27.64626\n",
        "2012-06-29   78.69454  12.10155        NaN  28.27479\n",
        "2012-07-02   79.84262  11.98064        NaN  28.24706\n",
        "...               ...       ...        ...       ...\n",
        "2015-03-06  126.60000       NaN  567.68500  42.36000\n",
        "2015-03-09  127.14000       NaN  568.84998  42.85000\n",
        "2015-03-10  124.51000       NaN  555.01001  42.03000\n",
        "2015-03-11  122.24000       NaN  551.17999  41.98000\n",
        "2015-03-12  124.45000       NaN  555.51001  41.02000\n",
        "2015-03-13  123.59000       NaN  547.32001  41.38000\n",
        "2015-03-16  124.95000       NaN  554.51001  41.56000\n",
        "2015-03-17  127.04000       NaN  550.84003  41.70000\n",
        "2015-03-18  128.47000       NaN  559.50000  42.50000\n",
        "2015-03-19  127.50000       NaN  557.98999  42.29000\n",
        "2015-03-20  125.90000       NaN  560.35999  42.88000\n",
        "2015-03-23  127.21000       NaN  558.81000  42.86000\n",
        "2015-03-24  126.69000       NaN  570.19000  42.90000\n",
        "2015-03-25  123.38000       NaN  558.78497  41.46000\n",
        "2015-03-26  124.24000       NaN  555.16998  41.21000\n",
        "2015-03-27  123.25000       NaN  548.34003  40.97000\n",
        "2015-03-30  126.37000       NaN  552.03003  40.96000\n",
        "2015-03-31  124.43000       NaN  548.00000  40.66000\n",
        "2015-04-01  124.25000       NaN  542.56000  40.72000\n",
        "2015-04-02  125.32000       NaN  535.53003  40.29000\n",
        "2015-04-06  127.35000       NaN  536.76501  41.55000\n",
        "2015-04-07  126.01000       NaN  537.02002  41.53000\n",
        "2015-04-08  125.60000       NaN  541.60999  41.42000\n",
        "2015-04-09  126.56000       NaN  540.78003  41.48000\n",
        "2015-04-10  127.10000       NaN  540.01001  41.72000\n",
        "2015-04-13  126.85000       NaN  539.16998  41.76000\n",
        "2015-04-14  126.30000       NaN  530.39001  41.65000\n",
        "2015-04-15  126.78000       NaN  532.53003  42.26000\n",
        "2015-04-16  126.17000       NaN  533.79999  42.16000\n",
        "2015-04-17  124.75000       NaN  524.04999  41.62000\n",
        "\n",
        "[744 rows x 4 columns]"
       ]
      }
     ],
     "prompt_number": 178
    },
    {
     "cell_type": "code",
     "collapsed": false,
     "input": [
      "stacked = pdata.ix[:, '5/30/2012':, :].to_frame()\n",
      "stacked"
     ],
     "language": "python",
     "metadata": {},
     "outputs": [
      {
       "html": [
        "<div style=\"max-height:1000px;max-width:1500px;overflow:auto;\">\n",
        "<table border=\"1\" class=\"dataframe\">\n",
        "  <thead>\n",
        "    <tr style=\"text-align: right;\">\n",
        "      <th></th>\n",
        "      <th></th>\n",
        "      <th>Open</th>\n",
        "      <th>High</th>\n",
        "      <th>Low</th>\n",
        "      <th>Close</th>\n",
        "      <th>Volume</th>\n",
        "      <th>Adj Close</th>\n",
        "    </tr>\n",
        "    <tr>\n",
        "      <th>Date</th>\n",
        "      <th>minor</th>\n",
        "      <th></th>\n",
        "      <th></th>\n",
        "      <th></th>\n",
        "      <th></th>\n",
        "      <th></th>\n",
        "      <th></th>\n",
        "    </tr>\n",
        "  </thead>\n",
        "  <tbody>\n",
        "    <tr>\n",
        "      <th rowspan=\"3\" valign=\"top\">2012-05-30</th>\n",
        "      <th>AAPL</th>\n",
        "      <td> 569.20007</td>\n",
        "      <td> 579.98999</td>\n",
        "      <td> 566.56000</td>\n",
        "      <td> 579.16998</td>\n",
        "      <td> 132357400</td>\n",
        "      <td>  78.04369</td>\n",
        "    </tr>\n",
        "    <tr>\n",
        "      <th>DELL</th>\n",
        "      <td>  12.59000</td>\n",
        "      <td>  12.70000</td>\n",
        "      <td>  12.46000</td>\n",
        "      <td>  12.56000</td>\n",
        "      <td>  19787800</td>\n",
        "      <td>  12.14992</td>\n",
        "    </tr>\n",
        "    <tr>\n",
        "      <th>MSFT</th>\n",
        "      <td>  29.35000</td>\n",
        "      <td>  29.48000</td>\n",
        "      <td>  29.12000</td>\n",
        "      <td>  29.34000</td>\n",
        "      <td>  41585500</td>\n",
        "      <td>  27.11940</td>\n",
        "    </tr>\n",
        "    <tr>\n",
        "      <th rowspan=\"3\" valign=\"top\">2012-05-31</th>\n",
        "      <th>AAPL</th>\n",
        "      <td> 580.73999</td>\n",
        "      <td> 581.50000</td>\n",
        "      <td> 571.45996</td>\n",
        "      <td> 577.73004</td>\n",
        "      <td> 122918600</td>\n",
        "      <td>  77.84966</td>\n",
        "    </tr>\n",
        "    <tr>\n",
        "      <th>DELL</th>\n",
        "      <td>  12.53000</td>\n",
        "      <td>  12.54000</td>\n",
        "      <td>  12.33000</td>\n",
        "      <td>  12.33000</td>\n",
        "      <td>  19955600</td>\n",
        "      <td>  11.92743</td>\n",
        "    </tr>\n",
        "    <tr>\n",
        "      <th>MSFT</th>\n",
        "      <td>  29.30000</td>\n",
        "      <td>  29.42000</td>\n",
        "      <td>  28.94000</td>\n",
        "      <td>  29.19000</td>\n",
        "      <td>  39134000</td>\n",
        "      <td>  26.98075</td>\n",
        "    </tr>\n",
        "    <tr>\n",
        "      <th rowspan=\"3\" valign=\"top\">2012-06-01</th>\n",
        "      <th>AAPL</th>\n",
        "      <td> 569.15997</td>\n",
        "      <td> 572.64996</td>\n",
        "      <td> 560.52002</td>\n",
        "      <td> 560.99005</td>\n",
        "      <td> 130246900</td>\n",
        "      <td>  75.59393</td>\n",
        "    </tr>\n",
        "    <tr>\n",
        "      <th>DELL</th>\n",
        "      <td>  12.15000</td>\n",
        "      <td>  12.30000</td>\n",
        "      <td>  12.04500</td>\n",
        "      <td>  12.07000</td>\n",
        "      <td>  19397600</td>\n",
        "      <td>  11.67592</td>\n",
        "    </tr>\n",
        "    <tr>\n",
        "      <th>MSFT</th>\n",
        "      <td>  28.76000</td>\n",
        "      <td>  28.96000</td>\n",
        "      <td>  28.44000</td>\n",
        "      <td>  28.45000</td>\n",
        "      <td>  56634300</td>\n",
        "      <td>  26.29676</td>\n",
        "    </tr>\n",
        "    <tr>\n",
        "      <th rowspan=\"3\" valign=\"top\">2012-06-04</th>\n",
        "      <th>AAPL</th>\n",
        "      <td> 561.50000</td>\n",
        "      <td> 567.50000</td>\n",
        "      <td> 548.50000</td>\n",
        "      <td> 564.29004</td>\n",
        "      <td> 139248900</td>\n",
        "      <td>  76.03860</td>\n",
        "    </tr>\n",
        "    <tr>\n",
        "      <th>DELL</th>\n",
        "      <td>  12.11000</td>\n",
        "      <td>  12.11250</td>\n",
        "      <td>  11.80000</td>\n",
        "      <td>  12.00000</td>\n",
        "      <td>  17015700</td>\n",
        "      <td>  11.60821</td>\n",
        "    </tr>\n",
        "    <tr>\n",
        "      <th>MSFT</th>\n",
        "      <td>  28.62000</td>\n",
        "      <td>  28.78000</td>\n",
        "      <td>  28.32000</td>\n",
        "      <td>  28.55000</td>\n",
        "      <td>  47926300</td>\n",
        "      <td>  26.38919</td>\n",
        "    </tr>\n",
        "    <tr>\n",
        "      <th rowspan=\"3\" valign=\"top\">2012-06-05</th>\n",
        "      <th>AAPL</th>\n",
        "      <td> 561.27002</td>\n",
        "      <td> 566.47003</td>\n",
        "      <td> 558.33002</td>\n",
        "      <td> 562.83002</td>\n",
        "      <td>  97053600</td>\n",
        "      <td>  75.84187</td>\n",
        "    </tr>\n",
        "    <tr>\n",
        "      <th>DELL</th>\n",
        "      <td>  11.95000</td>\n",
        "      <td>  12.24000</td>\n",
        "      <td>  11.95000</td>\n",
        "      <td>  12.16000</td>\n",
        "      <td>  15620900</td>\n",
        "      <td>  11.76298</td>\n",
        "    </tr>\n",
        "    <tr>\n",
        "      <th>MSFT</th>\n",
        "      <td>  28.51000</td>\n",
        "      <td>  28.75000</td>\n",
        "      <td>  28.39000</td>\n",
        "      <td>  28.51000</td>\n",
        "      <td>  45715400</td>\n",
        "      <td>  26.35222</td>\n",
        "    </tr>\n",
        "    <tr>\n",
        "      <th rowspan=\"3\" valign=\"top\">2012-06-06</th>\n",
        "      <th>AAPL</th>\n",
        "      <td> 567.77002</td>\n",
        "      <td> 573.84998</td>\n",
        "      <td> 565.50000</td>\n",
        "      <td> 571.45996</td>\n",
        "      <td> 100363900</td>\n",
        "      <td>  77.00476</td>\n",
        "    </tr>\n",
        "    <tr>\n",
        "      <th>DELL</th>\n",
        "      <td>  12.21000</td>\n",
        "      <td>  12.28000</td>\n",
        "      <td>  12.09000</td>\n",
        "      <td>  12.21500</td>\n",
        "      <td>  20779900</td>\n",
        "      <td>  11.81619</td>\n",
        "    </tr>\n",
        "    <tr>\n",
        "      <th>MSFT</th>\n",
        "      <td>  28.88000</td>\n",
        "      <td>  29.37000</td>\n",
        "      <td>  28.81000</td>\n",
        "      <td>  29.35000</td>\n",
        "      <td>  46860500</td>\n",
        "      <td>  27.12864</td>\n",
        "    </tr>\n",
        "    <tr>\n",
        "      <th rowspan=\"3\" valign=\"top\">2012-06-07</th>\n",
        "      <th>AAPL</th>\n",
        "      <td> 577.29004</td>\n",
        "      <td> 577.32001</td>\n",
        "      <td> 570.50000</td>\n",
        "      <td> 571.72003</td>\n",
        "      <td>  94941700</td>\n",
        "      <td>  77.03981</td>\n",
        "    </tr>\n",
        "    <tr>\n",
        "      <th>DELL</th>\n",
        "      <td>  12.32000</td>\n",
        "      <td>  12.41000</td>\n",
        "      <td>  12.12000</td>\n",
        "      <td>  12.13000</td>\n",
        "      <td>  20074000</td>\n",
        "      <td>  11.73396</td>\n",
        "    </tr>\n",
        "    <tr>\n",
        "      <th>MSFT</th>\n",
        "      <td>  29.64000</td>\n",
        "      <td>  29.70000</td>\n",
        "      <td>  29.17000</td>\n",
        "      <td>  29.23000</td>\n",
        "      <td>  37792800</td>\n",
        "      <td>  27.01772</td>\n",
        "    </tr>\n",
        "    <tr>\n",
        "      <th rowspan=\"3\" valign=\"top\">2012-06-08</th>\n",
        "      <th>AAPL</th>\n",
        "      <td> 571.59998</td>\n",
        "      <td> 580.58002</td>\n",
        "      <td> 569.00000</td>\n",
        "      <td> 580.32007</td>\n",
        "      <td>  86879100</td>\n",
        "      <td>  78.19866</td>\n",
        "    </tr>\n",
        "    <tr>\n",
        "      <th>DELL</th>\n",
        "      <td>  12.13000</td>\n",
        "      <td>  12.22500</td>\n",
        "      <td>  12.02000</td>\n",
        "      <td>  12.12000</td>\n",
        "      <td>  18155600</td>\n",
        "      <td>  11.72429</td>\n",
        "    </tr>\n",
        "    <tr>\n",
        "      <th>MSFT</th>\n",
        "      <td>  29.21000</td>\n",
        "      <td>  29.68000</td>\n",
        "      <td>  29.05000</td>\n",
        "      <td>  29.65000</td>\n",
        "      <td>  42551100</td>\n",
        "      <td>  27.40594</td>\n",
        "    </tr>\n",
        "    <tr>\n",
        "      <th rowspan=\"3\" valign=\"top\">2012-06-11</th>\n",
        "      <th>AAPL</th>\n",
        "      <td> 587.71997</td>\n",
        "      <td> 588.50000</td>\n",
        "      <td> 570.63000</td>\n",
        "      <td> 571.16998</td>\n",
        "      <td> 147816200</td>\n",
        "      <td>  76.96568</td>\n",
        "    </tr>\n",
        "    <tr>\n",
        "      <th>DELL</th>\n",
        "      <td>  12.15000</td>\n",
        "      <td>  12.20000</td>\n",
        "      <td>  11.82000</td>\n",
        "      <td>  11.86000</td>\n",
        "      <td>  16931900</td>\n",
        "      <td>  11.47278</td>\n",
        "    </tr>\n",
        "    <tr>\n",
        "      <th>MSFT</th>\n",
        "      <td>  29.73000</td>\n",
        "      <td>  29.81000</td>\n",
        "      <td>  28.82000</td>\n",
        "      <td>  28.90000</td>\n",
        "      <td>  46361900</td>\n",
        "      <td>  26.71270</td>\n",
        "    </tr>\n",
        "    <tr>\n",
        "      <th rowspan=\"3\" valign=\"top\">2012-06-12</th>\n",
        "      <th>AAPL</th>\n",
        "      <td> 574.45996</td>\n",
        "      <td> 576.62006</td>\n",
        "      <td> 566.69995</td>\n",
        "      <td> 576.15997</td>\n",
        "      <td> 108845100</td>\n",
        "      <td>  77.63809</td>\n",
        "    </tr>\n",
        "    <tr>\n",
        "      <th>DELL</th>\n",
        "      <td>  11.91000</td>\n",
        "      <td>  12.01000</td>\n",
        "      <td>  11.68000</td>\n",
        "      <td>  11.97000</td>\n",
        "      <td>  17608100</td>\n",
        "      <td>  11.57919</td>\n",
        "    </tr>\n",
        "    <tr>\n",
        "      <th>MSFT</th>\n",
        "      <td>  29.10000</td>\n",
        "      <td>  29.30000</td>\n",
        "      <td>  28.84000</td>\n",
        "      <td>  29.29000</td>\n",
        "      <td>  35337900</td>\n",
        "      <td>  27.07318</td>\n",
        "    </tr>\n",
        "    <tr>\n",
        "      <th>...</th>\n",
        "      <th>...</th>\n",
        "      <td>...</td>\n",
        "      <td>...</td>\n",
        "      <td>...</td>\n",
        "      <td>...</td>\n",
        "      <td>...</td>\n",
        "      <td>...</td>\n",
        "    </tr>\n",
        "    <tr>\n",
        "      <th rowspan=\"3\" valign=\"top\">2015-04-06</th>\n",
        "      <th>AAPL</th>\n",
        "      <td> 124.47000</td>\n",
        "      <td> 127.51000</td>\n",
        "      <td> 124.33000</td>\n",
        "      <td> 127.35000</td>\n",
        "      <td>  37194000</td>\n",
        "      <td> 127.35000</td>\n",
        "    </tr>\n",
        "    <tr>\n",
        "      <th>GOOG</th>\n",
        "      <td> 532.21997</td>\n",
        "      <td> 538.40997</td>\n",
        "      <td> 529.57001</td>\n",
        "      <td> 536.76501</td>\n",
        "      <td>   1320800</td>\n",
        "      <td> 536.76501</td>\n",
        "    </tr>\n",
        "    <tr>\n",
        "      <th>MSFT</th>\n",
        "      <td>  40.34000</td>\n",
        "      <td>  41.78000</td>\n",
        "      <td>  40.18000</td>\n",
        "      <td>  41.55000</td>\n",
        "      <td>  39223700</td>\n",
        "      <td>  41.55000</td>\n",
        "    </tr>\n",
        "    <tr>\n",
        "      <th rowspan=\"3\" valign=\"top\">2015-04-07</th>\n",
        "      <th>AAPL</th>\n",
        "      <td> 127.64000</td>\n",
        "      <td> 128.12000</td>\n",
        "      <td> 125.98000</td>\n",
        "      <td> 126.01000</td>\n",
        "      <td>  35012300</td>\n",
        "      <td> 126.01000</td>\n",
        "    </tr>\n",
        "    <tr>\n",
        "      <th>GOOG</th>\n",
        "      <td> 538.08002</td>\n",
        "      <td> 542.69000</td>\n",
        "      <td> 536.00000</td>\n",
        "      <td> 537.02002</td>\n",
        "      <td>   1299300</td>\n",
        "      <td> 537.02002</td>\n",
        "    </tr>\n",
        "    <tr>\n",
        "      <th>MSFT</th>\n",
        "      <td>  41.61000</td>\n",
        "      <td>  41.91000</td>\n",
        "      <td>  41.31000</td>\n",
        "      <td>  41.53000</td>\n",
        "      <td>  28809400</td>\n",
        "      <td>  41.53000</td>\n",
        "    </tr>\n",
        "    <tr>\n",
        "      <th rowspan=\"3\" valign=\"top\">2015-04-08</th>\n",
        "      <th>AAPL</th>\n",
        "      <td> 125.85000</td>\n",
        "      <td> 126.40000</td>\n",
        "      <td> 124.97000</td>\n",
        "      <td> 125.60000</td>\n",
        "      <td>  37329200</td>\n",
        "      <td> 125.60000</td>\n",
        "    </tr>\n",
        "    <tr>\n",
        "      <th>GOOG</th>\n",
        "      <td> 538.38000</td>\n",
        "      <td> 543.84998</td>\n",
        "      <td> 538.38000</td>\n",
        "      <td> 541.60999</td>\n",
        "      <td>   1175300</td>\n",
        "      <td> 541.60999</td>\n",
        "    </tr>\n",
        "    <tr>\n",
        "      <th>MSFT</th>\n",
        "      <td>  41.46000</td>\n",
        "      <td>  41.69000</td>\n",
        "      <td>  41.04000</td>\n",
        "      <td>  41.42000</td>\n",
        "      <td>  24753400</td>\n",
        "      <td>  41.42000</td>\n",
        "    </tr>\n",
        "    <tr>\n",
        "      <th rowspan=\"3\" valign=\"top\">2015-04-09</th>\n",
        "      <th>AAPL</th>\n",
        "      <td> 125.85000</td>\n",
        "      <td> 126.58000</td>\n",
        "      <td> 124.66000</td>\n",
        "      <td> 126.56000</td>\n",
        "      <td>  32484000</td>\n",
        "      <td> 126.56000</td>\n",
        "    </tr>\n",
        "    <tr>\n",
        "      <th>GOOG</th>\n",
        "      <td> 541.03003</td>\n",
        "      <td> 541.95001</td>\n",
        "      <td> 535.48999</td>\n",
        "      <td> 540.78003</td>\n",
        "      <td>   1553600</td>\n",
        "      <td> 540.78003</td>\n",
        "    </tr>\n",
        "    <tr>\n",
        "      <th>MSFT</th>\n",
        "      <td>  41.25000</td>\n",
        "      <td>  41.62000</td>\n",
        "      <td>  41.25000</td>\n",
        "      <td>  41.48000</td>\n",
        "      <td>  25723900</td>\n",
        "      <td>  41.48000</td>\n",
        "    </tr>\n",
        "    <tr>\n",
        "      <th rowspan=\"3\" valign=\"top\">2015-04-10</th>\n",
        "      <th>AAPL</th>\n",
        "      <td> 125.95000</td>\n",
        "      <td> 127.21000</td>\n",
        "      <td> 125.26000</td>\n",
        "      <td> 127.10000</td>\n",
        "      <td>  40188000</td>\n",
        "      <td> 127.10000</td>\n",
        "    </tr>\n",
        "    <tr>\n",
        "      <th>GOOG</th>\n",
        "      <td> 542.28998</td>\n",
        "      <td> 542.28998</td>\n",
        "      <td> 537.31000</td>\n",
        "      <td> 540.01001</td>\n",
        "      <td>   1405600</td>\n",
        "      <td> 540.01001</td>\n",
        "    </tr>\n",
        "    <tr>\n",
        "      <th>MSFT</th>\n",
        "      <td>  41.63000</td>\n",
        "      <td>  41.95000</td>\n",
        "      <td>  41.41000</td>\n",
        "      <td>  41.72000</td>\n",
        "      <td>  28022000</td>\n",
        "      <td>  41.72000</td>\n",
        "    </tr>\n",
        "    <tr>\n",
        "      <th rowspan=\"3\" valign=\"top\">2015-04-13</th>\n",
        "      <th>AAPL</th>\n",
        "      <td> 128.37000</td>\n",
        "      <td> 128.57001</td>\n",
        "      <td> 126.61000</td>\n",
        "      <td> 126.85000</td>\n",
        "      <td>  36365100</td>\n",
        "      <td> 126.85000</td>\n",
        "    </tr>\n",
        "    <tr>\n",
        "      <th>GOOG</th>\n",
        "      <td> 538.40997</td>\n",
        "      <td> 544.06000</td>\n",
        "      <td> 537.31000</td>\n",
        "      <td> 539.16998</td>\n",
        "      <td>   1640800</td>\n",
        "      <td> 539.16998</td>\n",
        "    </tr>\n",
        "    <tr>\n",
        "      <th>MSFT</th>\n",
        "      <td>  41.40000</td>\n",
        "      <td>  42.06000</td>\n",
        "      <td>  41.39000</td>\n",
        "      <td>  41.76000</td>\n",
        "      <td>  30276700</td>\n",
        "      <td>  41.76000</td>\n",
        "    </tr>\n",
        "    <tr>\n",
        "      <th rowspan=\"3\" valign=\"top\">2015-04-14</th>\n",
        "      <th>AAPL</th>\n",
        "      <td> 127.00000</td>\n",
        "      <td> 127.29000</td>\n",
        "      <td> 125.91000</td>\n",
        "      <td> 126.30000</td>\n",
        "      <td>  25524600</td>\n",
        "      <td> 126.30000</td>\n",
        "    </tr>\n",
        "    <tr>\n",
        "      <th>GOOG</th>\n",
        "      <td> 536.25000</td>\n",
        "      <td> 537.57001</td>\n",
        "      <td> 528.09198</td>\n",
        "      <td> 530.39001</td>\n",
        "      <td>   2597000</td>\n",
        "      <td> 530.39001</td>\n",
        "    </tr>\n",
        "    <tr>\n",
        "      <th>MSFT</th>\n",
        "      <td>  41.80000</td>\n",
        "      <td>  42.03000</td>\n",
        "      <td>  41.39000</td>\n",
        "      <td>  41.65000</td>\n",
        "      <td>  24244400</td>\n",
        "      <td>  41.65000</td>\n",
        "    </tr>\n",
        "    <tr>\n",
        "      <th rowspan=\"3\" valign=\"top\">2015-04-15</th>\n",
        "      <th>AAPL</th>\n",
        "      <td> 126.41000</td>\n",
        "      <td> 127.13000</td>\n",
        "      <td> 126.01000</td>\n",
        "      <td> 126.78000</td>\n",
        "      <td>  28848900</td>\n",
        "      <td> 126.78000</td>\n",
        "    </tr>\n",
        "    <tr>\n",
        "      <th>GOOG</th>\n",
        "      <td> 528.70001</td>\n",
        "      <td> 534.72998</td>\n",
        "      <td> 523.21997</td>\n",
        "      <td> 532.53003</td>\n",
        "      <td>   2304000</td>\n",
        "      <td> 532.53003</td>\n",
        "    </tr>\n",
        "    <tr>\n",
        "      <th>MSFT</th>\n",
        "      <td>  41.76000</td>\n",
        "      <td>  42.46000</td>\n",
        "      <td>  41.68000</td>\n",
        "      <td>  42.26000</td>\n",
        "      <td>  27122700</td>\n",
        "      <td>  42.26000</td>\n",
        "    </tr>\n",
        "    <tr>\n",
        "      <th rowspan=\"3\" valign=\"top\">2015-04-16</th>\n",
        "      <th>AAPL</th>\n",
        "      <td> 126.28000</td>\n",
        "      <td> 127.10000</td>\n",
        "      <td> 126.11000</td>\n",
        "      <td> 126.17000</td>\n",
        "      <td>  27895300</td>\n",
        "      <td> 126.17000</td>\n",
        "    </tr>\n",
        "    <tr>\n",
        "      <th>GOOG</th>\n",
        "      <td> 529.90002</td>\n",
        "      <td> 535.59003</td>\n",
        "      <td> 529.60999</td>\n",
        "      <td> 533.79999</td>\n",
        "      <td>   1293100</td>\n",
        "      <td> 533.79999</td>\n",
        "    </tr>\n",
        "    <tr>\n",
        "      <th>MSFT</th>\n",
        "      <td>  41.95000</td>\n",
        "      <td>  42.34000</td>\n",
        "      <td>  41.82000</td>\n",
        "      <td>  42.16000</td>\n",
        "      <td>  22394200</td>\n",
        "      <td>  42.16000</td>\n",
        "    </tr>\n",
        "    <tr>\n",
        "      <th rowspan=\"3\" valign=\"top\">2015-04-17</th>\n",
        "      <th>AAPL</th>\n",
        "      <td> 125.55000</td>\n",
        "      <td> 126.14000</td>\n",
        "      <td> 124.46000</td>\n",
        "      <td> 124.75000</td>\n",
        "      <td>  51323900</td>\n",
        "      <td> 124.75000</td>\n",
        "    </tr>\n",
        "    <tr>\n",
        "      <th>GOOG</th>\n",
        "      <td> 528.65997</td>\n",
        "      <td> 529.84003</td>\n",
        "      <td> 521.01001</td>\n",
        "      <td> 524.04999</td>\n",
        "      <td>   2138200</td>\n",
        "      <td> 524.04999</td>\n",
        "    </tr>\n",
        "    <tr>\n",
        "      <th>MSFT</th>\n",
        "      <td>  41.67000</td>\n",
        "      <td>  41.74000</td>\n",
        "      <td>  41.16000</td>\n",
        "      <td>  41.62000</td>\n",
        "      <td>  41783500</td>\n",
        "      <td>  41.62000</td>\n",
        "    </tr>\n",
        "  </tbody>\n",
        "</table>\n",
        "<p>2087 rows \u00d7 6 columns</p>\n",
        "</div>"
       ],
       "metadata": {},
       "output_type": "pyout",
       "prompt_number": 180,
       "text": [
        "                       Open       High        Low      Close     Volume  \\\n",
        "Date       minor                                                          \n",
        "2012-05-30 AAPL   569.20007  579.98999  566.56000  579.16998  132357400   \n",
        "           DELL    12.59000   12.70000   12.46000   12.56000   19787800   \n",
        "           MSFT    29.35000   29.48000   29.12000   29.34000   41585500   \n",
        "2012-05-31 AAPL   580.73999  581.50000  571.45996  577.73004  122918600   \n",
        "           DELL    12.53000   12.54000   12.33000   12.33000   19955600   \n",
        "           MSFT    29.30000   29.42000   28.94000   29.19000   39134000   \n",
        "2012-06-01 AAPL   569.15997  572.64996  560.52002  560.99005  130246900   \n",
        "           DELL    12.15000   12.30000   12.04500   12.07000   19397600   \n",
        "           MSFT    28.76000   28.96000   28.44000   28.45000   56634300   \n",
        "2012-06-04 AAPL   561.50000  567.50000  548.50000  564.29004  139248900   \n",
        "           DELL    12.11000   12.11250   11.80000   12.00000   17015700   \n",
        "           MSFT    28.62000   28.78000   28.32000   28.55000   47926300   \n",
        "2012-06-05 AAPL   561.27002  566.47003  558.33002  562.83002   97053600   \n",
        "           DELL    11.95000   12.24000   11.95000   12.16000   15620900   \n",
        "           MSFT    28.51000   28.75000   28.39000   28.51000   45715400   \n",
        "2012-06-06 AAPL   567.77002  573.84998  565.50000  571.45996  100363900   \n",
        "           DELL    12.21000   12.28000   12.09000   12.21500   20779900   \n",
        "           MSFT    28.88000   29.37000   28.81000   29.35000   46860500   \n",
        "2012-06-07 AAPL   577.29004  577.32001  570.50000  571.72003   94941700   \n",
        "           DELL    12.32000   12.41000   12.12000   12.13000   20074000   \n",
        "           MSFT    29.64000   29.70000   29.17000   29.23000   37792800   \n",
        "2012-06-08 AAPL   571.59998  580.58002  569.00000  580.32007   86879100   \n",
        "           DELL    12.13000   12.22500   12.02000   12.12000   18155600   \n",
        "           MSFT    29.21000   29.68000   29.05000   29.65000   42551100   \n",
        "2012-06-11 AAPL   587.71997  588.50000  570.63000  571.16998  147816200   \n",
        "           DELL    12.15000   12.20000   11.82000   11.86000   16931900   \n",
        "           MSFT    29.73000   29.81000   28.82000   28.90000   46361900   \n",
        "2012-06-12 AAPL   574.45996  576.62006  566.69995  576.15997  108845100   \n",
        "           DELL    11.91000   12.01000   11.68000   11.97000   17608100   \n",
        "           MSFT    29.10000   29.30000   28.84000   29.29000   35337900   \n",
        "...                     ...        ...        ...        ...        ...   \n",
        "2015-04-06 AAPL   124.47000  127.51000  124.33000  127.35000   37194000   \n",
        "           GOOG   532.21997  538.40997  529.57001  536.76501    1320800   \n",
        "           MSFT    40.34000   41.78000   40.18000   41.55000   39223700   \n",
        "2015-04-07 AAPL   127.64000  128.12000  125.98000  126.01000   35012300   \n",
        "           GOOG   538.08002  542.69000  536.00000  537.02002    1299300   \n",
        "           MSFT    41.61000   41.91000   41.31000   41.53000   28809400   \n",
        "2015-04-08 AAPL   125.85000  126.40000  124.97000  125.60000   37329200   \n",
        "           GOOG   538.38000  543.84998  538.38000  541.60999    1175300   \n",
        "           MSFT    41.46000   41.69000   41.04000   41.42000   24753400   \n",
        "2015-04-09 AAPL   125.85000  126.58000  124.66000  126.56000   32484000   \n",
        "           GOOG   541.03003  541.95001  535.48999  540.78003    1553600   \n",
        "           MSFT    41.25000   41.62000   41.25000   41.48000   25723900   \n",
        "2015-04-10 AAPL   125.95000  127.21000  125.26000  127.10000   40188000   \n",
        "           GOOG   542.28998  542.28998  537.31000  540.01001    1405600   \n",
        "           MSFT    41.63000   41.95000   41.41000   41.72000   28022000   \n",
        "2015-04-13 AAPL   128.37000  128.57001  126.61000  126.85000   36365100   \n",
        "           GOOG   538.40997  544.06000  537.31000  539.16998    1640800   \n",
        "           MSFT    41.40000   42.06000   41.39000   41.76000   30276700   \n",
        "2015-04-14 AAPL   127.00000  127.29000  125.91000  126.30000   25524600   \n",
        "           GOOG   536.25000  537.57001  528.09198  530.39001    2597000   \n",
        "           MSFT    41.80000   42.03000   41.39000   41.65000   24244400   \n",
        "2015-04-15 AAPL   126.41000  127.13000  126.01000  126.78000   28848900   \n",
        "           GOOG   528.70001  534.72998  523.21997  532.53003    2304000   \n",
        "           MSFT    41.76000   42.46000   41.68000   42.26000   27122700   \n",
        "2015-04-16 AAPL   126.28000  127.10000  126.11000  126.17000   27895300   \n",
        "           GOOG   529.90002  535.59003  529.60999  533.79999    1293100   \n",
        "           MSFT    41.95000   42.34000   41.82000   42.16000   22394200   \n",
        "2015-04-17 AAPL   125.55000  126.14000  124.46000  124.75000   51323900   \n",
        "           GOOG   528.65997  529.84003  521.01001  524.04999    2138200   \n",
        "           MSFT    41.67000   41.74000   41.16000   41.62000   41783500   \n",
        "\n",
        "                  Adj Close  \n",
        "Date       minor             \n",
        "2012-05-30 AAPL    78.04369  \n",
        "           DELL    12.14992  \n",
        "           MSFT    27.11940  \n",
        "2012-05-31 AAPL    77.84966  \n",
        "           DELL    11.92743  \n",
        "           MSFT    26.98075  \n",
        "2012-06-01 AAPL    75.59393  \n",
        "           DELL    11.67592  \n",
        "           MSFT    26.29676  \n",
        "2012-06-04 AAPL    76.03860  \n",
        "           DELL    11.60821  \n",
        "           MSFT    26.38919  \n",
        "2012-06-05 AAPL    75.84187  \n",
        "           DELL    11.76298  \n",
        "           MSFT    26.35222  \n",
        "2012-06-06 AAPL    77.00476  \n",
        "           DELL    11.81619  \n",
        "           MSFT    27.12864  \n",
        "2012-06-07 AAPL    77.03981  \n",
        "           DELL    11.73396  \n",
        "           MSFT    27.01772  \n",
        "2012-06-08 AAPL    78.19866  \n",
        "           DELL    11.72429  \n",
        "           MSFT    27.40594  \n",
        "2012-06-11 AAPL    76.96568  \n",
        "           DELL    11.47278  \n",
        "           MSFT    26.71270  \n",
        "2012-06-12 AAPL    77.63809  \n",
        "           DELL    11.57919  \n",
        "           MSFT    27.07318  \n",
        "...                     ...  \n",
        "2015-04-06 AAPL   127.35000  \n",
        "           GOOG   536.76501  \n",
        "           MSFT    41.55000  \n",
        "2015-04-07 AAPL   126.01000  \n",
        "           GOOG   537.02002  \n",
        "           MSFT    41.53000  \n",
        "2015-04-08 AAPL   125.60000  \n",
        "           GOOG   541.60999  \n",
        "           MSFT    41.42000  \n",
        "2015-04-09 AAPL   126.56000  \n",
        "           GOOG   540.78003  \n",
        "           MSFT    41.48000  \n",
        "2015-04-10 AAPL   127.10000  \n",
        "           GOOG   540.01001  \n",
        "           MSFT    41.72000  \n",
        "2015-04-13 AAPL   126.85000  \n",
        "           GOOG   539.16998  \n",
        "           MSFT    41.76000  \n",
        "2015-04-14 AAPL   126.30000  \n",
        "           GOOG   530.39001  \n",
        "           MSFT    41.65000  \n",
        "2015-04-15 AAPL   126.78000  \n",
        "           GOOG   532.53003  \n",
        "           MSFT    42.26000  \n",
        "2015-04-16 AAPL   126.17000  \n",
        "           GOOG   533.79999  \n",
        "           MSFT    42.16000  \n",
        "2015-04-17 AAPL   124.75000  \n",
        "           GOOG   524.04999  \n",
        "           MSFT    41.62000  \n",
        "\n",
        "[2087 rows x 6 columns]"
       ]
      }
     ],
     "prompt_number": 180
    },
    {
     "cell_type": "code",
     "collapsed": false,
     "input": [
      "stacked.to_panel()"
     ],
     "language": "python",
     "metadata": {},
     "outputs": [
      {
       "metadata": {},
       "output_type": "pyout",
       "prompt_number": 181,
       "text": [
        "<class 'pandas.core.panel.Panel'>\n",
        "Dimensions: 6 (items) x 738 (major_axis) x 4 (minor_axis)\n",
        "Items axis: Open to Adj Close\n",
        "Major_axis axis: 2012-05-30 00:00:00 to 2015-04-17 00:00:00\n",
        "Minor_axis axis: AAPL to MSFT"
       ]
      }
     ],
     "prompt_number": 181
    },
    {
     "cell_type": "code",
     "collapsed": false,
     "input": [],
     "language": "python",
     "metadata": {},
     "outputs": []
    }
   ],
   "metadata": {}
  }
 ]
}
